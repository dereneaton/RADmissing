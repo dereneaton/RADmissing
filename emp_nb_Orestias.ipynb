{
 "cells": [
  {
   "cell_type": "markdown",
   "metadata": {},
   "source": [
    "## Notebook 4: \n",
    "\n",
    "This is an IPython notebook. Most of the code is composed of bash scripts, indicated by %%bash at the top of the cell, otherwise it is IPython code. This notebook includes code to download, assemble and analyze a published RADseq data set."
   ]
  },
  {
   "cell_type": "code",
   "execution_count": 34,
   "metadata": {
    "collapsed": false
   },
   "outputs": [],
   "source": [
    "### Notebook 4\n",
    "### Data set 4 (Orestias)\n",
    "### Authors: Takahashi & Moreno (2015)\n",
    "### Data Location: DDBJ DRA DRA003595"
   ]
  },
  {
   "cell_type": "markdown",
   "metadata": {},
   "source": [
    "## Download the sequence data\n",
    "Sequence data for this study are archived on the NCBI sequence read archive (SRA). Below I read in SraRunTable.txt for this project which contains all of the information we need to download the data. \n",
    "\n",
    "+ Project DRA: DRA003595\n",
    "+ Study: DRP002750\n",
    "+ Experiments: DRX033006 -- DRX033069\n",
    "+ Samples: DRS020928 -- DRS020991\n",
    "+ SRA link: http://trace.ddbj.nig.ac.jp/DRASearch/submission?acc=DRA003595\n",
    "+ Publication address: __doi:10.1016/j.ympev.2015.08.012__"
   ]
  },
  {
   "cell_type": "code",
   "execution_count": 4,
   "metadata": {
    "collapsed": true
   },
   "outputs": [],
   "source": [
    "%%bash\n",
    "## make a new directory for this analysis\n",
    "mkdir -p empirical_4/fastq/"
   ]
  },
  {
   "cell_type": "code",
   "execution_count": 16,
   "metadata": {
    "collapsed": false
   },
   "outputs": [],
   "source": [
    "import os\n",
    "\n",
    "def wget_download_ddbj(SRR, outdir):\n",
    "    \"\"\" Python function to get sra data from ncbi and write to\n",
    "    outdir with a new name using bash call wget \"\"\"\n",
    "    \n",
    "    ## create a call string \n",
    "    call = \"wget -q -r -nH --cut-dirs=9 -P \"+outdir+\" \"+\\\n",
    "           \"ftp://ftp.ddbj.nig.ac.jp/ddbj_database/dra/sra/ByExp/\"+\\\n",
    "           \"sra/DRX/DRX033/DRX033{:03d}\".format(SRR)\n",
    "    \n",
    "    ## run wget call \n",
    "    ! $call"
   ]
  },
  {
   "cell_type": "markdown",
   "metadata": {},
   "source": [
    "Here we pass the SRR number and the sample name to the `wget_download` function so that the files are saved. In this case we do not have the sample names, just their SRR IDs. "
   ]
  },
  {
   "cell_type": "code",
   "execution_count": 17,
   "metadata": {
    "collapsed": false
   },
   "outputs": [],
   "source": [
    "for ID in range(6,70):\n",
    "    wget_download_ddbj(ID, \"empirical_4/fastq/\")"
   ]
  },
  {
   "cell_type": "code",
   "execution_count": 18,
   "metadata": {
    "collapsed": false,
    "scrolled": false
   },
   "outputs": [
    {
     "name": "stdout",
     "output_type": "stream",
     "text": [
      "Read 3850280 spots for empirical_4/fastq/DRR036765.sra\n",
      "Written 3850280 spots for empirical_4/fastq/DRR036765.sra\n",
      "Read 5135835 spots for empirical_4/fastq/DRR036766.sra\n",
      "Written 5135835 spots for empirical_4/fastq/DRR036766.sra\n",
      "Read 3812927 spots for empirical_4/fastq/DRR036767.sra\n",
      "Written 3812927 spots for empirical_4/fastq/DRR036767.sra\n",
      "Read 4279789 spots for empirical_4/fastq/DRR036768.sra\n",
      "Written 4279789 spots for empirical_4/fastq/DRR036768.sra\n",
      "Read 4238415 spots for empirical_4/fastq/DRR036769.sra\n",
      "Written 4238415 spots for empirical_4/fastq/DRR036769.sra\n",
      "Read 4897736 spots for empirical_4/fastq/DRR036770.sra\n",
      "Written 4897736 spots for empirical_4/fastq/DRR036770.sra\n",
      "Read 4110217 spots for empirical_4/fastq/DRR036771.sra\n",
      "Written 4110217 spots for empirical_4/fastq/DRR036771.sra\n",
      "Read 4381798 spots for empirical_4/fastq/DRR036772.sra\n",
      "Written 4381798 spots for empirical_4/fastq/DRR036772.sra\n",
      "Read 3692455 spots for empirical_4/fastq/DRR036773.sra\n",
      "Written 3692455 spots for empirical_4/fastq/DRR036773.sra\n",
      "Read 4146148 spots for empirical_4/fastq/DRR036774.sra\n",
      "Written 4146148 spots for empirical_4/fastq/DRR036774.sra\n",
      "Read 5296764 spots for empirical_4/fastq/DRR036775.sra\n",
      "Written 5296764 spots for empirical_4/fastq/DRR036775.sra\n",
      "Read 3916368 spots for empirical_4/fastq/DRR036776.sra\n",
      "Written 3916368 spots for empirical_4/fastq/DRR036776.sra\n",
      "Read 5076822 spots for empirical_4/fastq/DRR036777.sra\n",
      "Written 5076822 spots for empirical_4/fastq/DRR036777.sra\n",
      "Read 3986174 spots for empirical_4/fastq/DRR036778.sra\n",
      "Written 3986174 spots for empirical_4/fastq/DRR036778.sra\n",
      "Read 3652015 spots for empirical_4/fastq/DRR036779.sra\n",
      "Written 3652015 spots for empirical_4/fastq/DRR036779.sra\n",
      "Read 4887011 spots for empirical_4/fastq/DRR036780.sra\n",
      "Written 4887011 spots for empirical_4/fastq/DRR036780.sra\n",
      "Read 4027193 spots for empirical_4/fastq/DRR036781.sra\n",
      "Written 4027193 spots for empirical_4/fastq/DRR036781.sra\n",
      "Read 5385172 spots for empirical_4/fastq/DRR036782.sra\n",
      "Written 5385172 spots for empirical_4/fastq/DRR036782.sra\n",
      "Read 5128952 spots for empirical_4/fastq/DRR036783.sra\n",
      "Written 5128952 spots for empirical_4/fastq/DRR036783.sra\n",
      "Read 4593914 spots for empirical_4/fastq/DRR036784.sra\n",
      "Written 4593914 spots for empirical_4/fastq/DRR036784.sra\n",
      "Read 2334669 spots for empirical_4/fastq/DRR036785.sra\n",
      "Written 2334669 spots for empirical_4/fastq/DRR036785.sra\n",
      "Read 4626890 spots for empirical_4/fastq/DRR036786.sra\n",
      "Written 4626890 spots for empirical_4/fastq/DRR036786.sra\n",
      "Read 3888993 spots for empirical_4/fastq/DRR036787.sra\n",
      "Written 3888993 spots for empirical_4/fastq/DRR036787.sra\n",
      "Read 4512205 spots for empirical_4/fastq/DRR036788.sra\n",
      "Written 4512205 spots for empirical_4/fastq/DRR036788.sra\n",
      "Read 4174220 spots for empirical_4/fastq/DRR036789.sra\n",
      "Written 4174220 spots for empirical_4/fastq/DRR036789.sra\n",
      "Read 767653 spots for empirical_4/fastq/DRR036790.sra\n",
      "Written 767653 spots for empirical_4/fastq/DRR036790.sra\n",
      "Read 4019423 spots for empirical_4/fastq/DRR036791.sra\n",
      "Written 4019423 spots for empirical_4/fastq/DRR036791.sra\n",
      "Read 3286802 spots for empirical_4/fastq/DRR036792.sra\n",
      "Written 3286802 spots for empirical_4/fastq/DRR036792.sra\n",
      "Read 4601860 spots for empirical_4/fastq/DRR036793.sra\n",
      "Written 4601860 spots for empirical_4/fastq/DRR036793.sra\n",
      "Read 5436565 spots for empirical_4/fastq/DRR036794.sra\n",
      "Written 5436565 spots for empirical_4/fastq/DRR036794.sra\n",
      "Read 4528702 spots for empirical_4/fastq/DRR036795.sra\n",
      "Written 4528702 spots for empirical_4/fastq/DRR036795.sra\n",
      "Read 4328453 spots for empirical_4/fastq/DRR036796.sra\n",
      "Written 4328453 spots for empirical_4/fastq/DRR036796.sra\n",
      "Read 4845789 spots for empirical_4/fastq/DRR036797.sra\n",
      "Written 4845789 spots for empirical_4/fastq/DRR036797.sra\n",
      "Read 4231660 spots for empirical_4/fastq/DRR036798.sra\n",
      "Written 4231660 spots for empirical_4/fastq/DRR036798.sra\n",
      "Read 4610513 spots for empirical_4/fastq/DRR036799.sra\n",
      "Written 4610513 spots for empirical_4/fastq/DRR036799.sra\n",
      "Read 5079930 spots for empirical_4/fastq/DRR036800.sra\n",
      "Written 5079930 spots for empirical_4/fastq/DRR036800.sra\n",
      "Read 4435752 spots for empirical_4/fastq/DRR036801.sra\n",
      "Written 4435752 spots for empirical_4/fastq/DRR036801.sra\n",
      "Read 3428835 spots for empirical_4/fastq/DRR036802.sra\n",
      "Written 3428835 spots for empirical_4/fastq/DRR036802.sra\n",
      "Read 1880356 spots for empirical_4/fastq/DRR036803.sra\n",
      "Written 1880356 spots for empirical_4/fastq/DRR036803.sra\n",
      "Read 5300107 spots for empirical_4/fastq/DRR036804.sra\n",
      "Written 5300107 spots for empirical_4/fastq/DRR036804.sra\n",
      "Read 2912768 spots for empirical_4/fastq/DRR036805.sra\n",
      "Written 2912768 spots for empirical_4/fastq/DRR036805.sra\n",
      "Read 4221013 spots for empirical_4/fastq/DRR036806.sra\n",
      "Written 4221013 spots for empirical_4/fastq/DRR036806.sra\n",
      "Read 4787167 spots for empirical_4/fastq/DRR036807.sra\n",
      "Written 4787167 spots for empirical_4/fastq/DRR036807.sra\n",
      "Read 4955937 spots for empirical_4/fastq/DRR036808.sra\n",
      "Written 4955937 spots for empirical_4/fastq/DRR036808.sra\n",
      "Read 4351758 spots for empirical_4/fastq/DRR036809.sra\n",
      "Written 4351758 spots for empirical_4/fastq/DRR036809.sra\n",
      "Read 2199538 spots for empirical_4/fastq/DRR036810.sra\n",
      "Written 2199538 spots for empirical_4/fastq/DRR036810.sra\n",
      "Read 4750069 spots for empirical_4/fastq/DRR036811.sra\n",
      "Written 4750069 spots for empirical_4/fastq/DRR036811.sra\n",
      "Read 4544226 spots for empirical_4/fastq/DRR036812.sra\n",
      "Written 4544226 spots for empirical_4/fastq/DRR036812.sra\n",
      "Read 4825518 spots for empirical_4/fastq/DRR036813.sra\n",
      "Written 4825518 spots for empirical_4/fastq/DRR036813.sra\n",
      "Read 5517492 spots for empirical_4/fastq/DRR036814.sra\n",
      "Written 5517492 spots for empirical_4/fastq/DRR036814.sra\n",
      "Read 3299739 spots for empirical_4/fastq/DRR036815.sra\n",
      "Written 3299739 spots for empirical_4/fastq/DRR036815.sra\n",
      "Read 4464593 spots for empirical_4/fastq/DRR036816.sra\n",
      "Written 4464593 spots for empirical_4/fastq/DRR036816.sra\n",
      "Read 4873706 spots for empirical_4/fastq/DRR036817.sra\n",
      "Written 4873706 spots for empirical_4/fastq/DRR036817.sra\n",
      "Read 3321824 spots for empirical_4/fastq/DRR036818.sra\n",
      "Written 3321824 spots for empirical_4/fastq/DRR036818.sra\n",
      "Read 3625781 spots for empirical_4/fastq/DRR036819.sra\n",
      "Written 3625781 spots for empirical_4/fastq/DRR036819.sra\n",
      "Read 3779872 spots for empirical_4/fastq/DRR036820.sra\n",
      "Written 3779872 spots for empirical_4/fastq/DRR036820.sra\n",
      "Read 5404611 spots for empirical_4/fastq/DRR036821.sra\n",
      "Written 5404611 spots for empirical_4/fastq/DRR036821.sra\n",
      "Read 5276329 spots for empirical_4/fastq/DRR036822.sra\n",
      "Written 5276329 spots for empirical_4/fastq/DRR036822.sra\n",
      "Read 3720213 spots for empirical_4/fastq/DRR036823.sra\n",
      "Written 3720213 spots for empirical_4/fastq/DRR036823.sra\n",
      "Read 4306471 spots for empirical_4/fastq/DRR036824.sra\n",
      "Written 4306471 spots for empirical_4/fastq/DRR036824.sra\n",
      "Read 4862198 spots for empirical_4/fastq/DRR036825.sra\n",
      "Written 4862198 spots for empirical_4/fastq/DRR036825.sra\n",
      "Read 4332795 spots for empirical_4/fastq/DRR036826.sra\n",
      "Written 4332795 spots for empirical_4/fastq/DRR036826.sra\n",
      "Read 4589896 spots for empirical_4/fastq/DRR036827.sra\n",
      "Written 4589896 spots for empirical_4/fastq/DRR036827.sra\n",
      "Read 4980042 spots for empirical_4/fastq/DRR036828.sra\n",
      "Written 4980042 spots for empirical_4/fastq/DRR036828.sra\n",
      "Read 272718918 spots total\n",
      "Written 272718918 spots total\n"
     ]
    }
   ],
   "source": [
    "%%bash\n",
    "## convert sra files to fastq using fastq-dump tool\n",
    "## output as gzipped into the fastq directory\n",
    "fastq-dump --gzip -O empirical_4/fastq/  empirical_4/fastq/*.sra\n",
    "\n",
    "## remove .sra files\n",
    "rm empirical_4/fastq/*.sra"
   ]
  },
  {
   "cell_type": "markdown",
   "metadata": {},
   "source": [
    "## Make a params file"
   ]
  },
  {
   "cell_type": "code",
   "execution_count": 19,
   "metadata": {
    "collapsed": false
   },
   "outputs": [
    {
     "name": "stdout",
     "output_type": "stream",
     "text": [
      "pyRAD 3.0.63\n"
     ]
    }
   ],
   "source": [
    "%%bash\n",
    "pyrad --version"
   ]
  },
  {
   "cell_type": "code",
   "execution_count": 20,
   "metadata": {
    "collapsed": false
   },
   "outputs": [
    {
     "name": "stderr",
     "output_type": "stream",
     "text": [
      "\tnew params.txt file created\n"
     ]
    }
   ],
   "source": [
    "%%bash\n",
    "## delete existing params file if it exits\n",
    "rm params.txt\n",
    "\n",
    "## create a new default params file\n",
    "pyrad -n "
   ]
  },
  {
   "cell_type": "code",
   "execution_count": 10,
   "metadata": {
    "collapsed": false
   },
   "outputs": [],
   "source": [
    "%%bash\n",
    "## substitute new parameters into file\n",
    "sed -i '/## 1. /c\\empirical_4/           ## 1. working directory ' params.txt\n",
    "sed -i '/## 6. /c\\TGCAGG                 ## 6. cutters ' params.txt\n",
    "sed -i '/## 7. /c\\30                     ## 7. N processors      ' params.txt\n",
    "sed -i '/## 9. /c\\6                      ## 9. NQual             ' params.txt\n",
    "sed -i '/## 10./c\\.85                    ## 10. clust threshold  ' params.txt\n",
    "sed -i '/## 12./c\\4                      ## 12. MinCov           ' params.txt\n",
    "sed -i '/## 13./c\\10                     ## 13. maxSH            ' params.txt\n",
    "sed -i '/## 14./c\\empirical_4_m4         ## 14. output name      ' params.txt\n",
    "sed -i '/## 18./c\\empirical_4/fastq/*.gz ## 18. data location    ' params.txt\n",
    "sed -i '/## 29./c\\2,2                    ## 29. trim overhang    ' params.txt\n",
    "sed -i '/## 30./c\\p,n,s                  ## 30. output formats   ' params.txt"
   ]
  },
  {
   "cell_type": "code",
   "execution_count": 11,
   "metadata": {
    "collapsed": false
   },
   "outputs": [
    {
     "name": "stdout",
     "output_type": "stream",
     "text": [
      "==** parameter inputs for pyRAD version 3.0.63  **======================== affected step ==\r\n",
      "empirical_4/           ## 1. working directory \r\n",
      "./*.fastq.gz              ## 2. Loc. of non-demultiplexed files (if not line 18)  (s1)\r\n",
      "./*.barcodes              ## 3. Loc. of barcode file (if not line 18)             (s1)\r\n",
      "vsearch                   ## 4. command (or path) to call vsearch (or usearch)    (s3,s6)\r\n",
      "muscle                    ## 5. command (or path) to call muscle                  (s3,s7)\r\n",
      "TGCAGG                 ## 6. cutters \r\n",
      "30                     ## 7. N processors      \r\n",
      "6                         ## 8. Mindepth: min coverage for a cluster              (s4,s5)\r\n",
      "6                      ## 9. NQual             \r\n",
      ".85                    ## 10. clust threshold  \r\n",
      "rad                       ## 11. Datatype: rad,gbs,pairgbs,pairddrad,(others:see docs)(all)\r\n",
      "4                      ## 12. MinCov           \r\n",
      "10                     ## 13. maxSH            \r\n",
      "empirical_4_m4         ## 14. output name      \r\n",
      "==== optional params below this line ===================================  affected step ==\r\n",
      "                       ## 15.opt.: select subset (prefix* only selector)            (s2-s7)\r\n",
      "                       ## 16.opt.: add-on (outgroup) taxa (list or prefix*)         (s6,s7)\r\n",
      "                       ## 17.opt.: exclude taxa (list or prefix*)                   (s7)\r\n",
      "empirical_4/fastq/*.gz ## 18. data location    \r\n",
      "                       ## 19.opt.: maxM: N mismatches in barcodes (def= 1)          (s1)\r\n",
      "                       ## 20.opt.: phred Qscore offset (def= 33)                    (s2)\r\n",
      "                       ## 21.opt.: filter: def=0=NQual 1=NQual+adapters. 2=strict   (s2)\r\n",
      "                       ## 22.opt.: a priori E,H (def= 0.001,0.01, if not estimated) (s5)\r\n",
      "                       ## 23.opt.: maxN: max Ns in a cons seq (def=5)               (s5)\r\n",
      "                       ## 24.opt.: maxH: max heterozyg. sites in cons seq (def=5)   (s5)\r\n",
      "                       ## 25.opt.: ploidy: max alleles in cons seq (def=2;see docs) (s4,s5)\r\n",
      "                       ## 26.opt.: maxSNPs: (def=100). Paired (def=100,100)         (s7)\r\n",
      "                       ## 27.opt.: maxIndels: within-clust,across-clust (def. 3,99) (s3,s7)\r\n",
      "                       ## 28.opt.: random number seed (def. 112233)              (s3,s6,s7)\r\n",
      "2,2                    ## 29. trim overhang    \r\n",
      "p,n,s                  ## 30. output formats   \r\n",
      "                       ## 31.opt.: maj. base call at depth>x<mindepth (def.x=mindepth) (s5)\r\n",
      "                       ## 32.opt.: keep trimmed reads (def=0). Enter min length.    (s2)\r\n",
      "                       ## 33.opt.: max stack size (int), def= max(500,mean+2*SD)    (s3)\r\n",
      "                       ## 34.opt.: minDerep: exclude dereps with <= N copies, def=1 (s3)\r\n",
      "                       ## 35.opt.: use hierarchical clustering (def.=0, 1=yes)      (s6)\r\n",
      "                       ## 36.opt.: repeat masking (def.=1='dust' method, 0=no)      (s3,s6)\r\n",
      "                       ## 37.opt.: vsearch max threads per job (def.=6; see docs)   (s3,s6)\r\n",
      "==== optional: list group/clade assignments below this line (see docs) ==================\r\n"
     ]
    }
   ],
   "source": [
    "cat params.txt"
   ]
  },
  {
   "cell_type": "markdown",
   "metadata": {
    "collapsed": true
   },
   "source": [
    "## Assemble in _pyrad_"
   ]
  },
  {
   "cell_type": "code",
   "execution_count": null,
   "metadata": {
    "collapsed": true
   },
   "outputs": [],
   "source": [
    "pyrad -p params.txt -s 234567 >> log.txt 2>&1  "
   ]
  },
  {
   "cell_type": "code",
   "execution_count": 16,
   "metadata": {
    "collapsed": true
   },
   "outputs": [],
   "source": [
    "%%bash\n",
    "sed -i '/## 12./c\\2                      ## 12. MinCov           ' params.txt\n",
    "sed -i '/## 14./c\\empirical_4_m2         ## 14. output name      ' params.txt"
   ]
  },
  {
   "cell_type": "code",
   "execution_count": 17,
   "metadata": {
    "collapsed": true
   },
   "outputs": [],
   "source": [
    "%%bash\n",
    "pyrad -p params.txt -s 7 >> log.txt 2>&1"
   ]
  },
  {
   "cell_type": "markdown",
   "metadata": {},
   "source": [
    "## Results\n",
    "We are interested in the relationship between the amount of input (raw) data between any two samples, the average coverage they recover when clustered together, and the phylogenetic distances separating samples.  "
   ]
  },
  {
   "cell_type": "markdown",
   "metadata": {},
   "source": [
    "#### Raw data amounts\n",
    "The average number of raw reads per sample is 1.36M."
   ]
  },
  {
   "cell_type": "code",
   "execution_count": 15,
   "metadata": {
    "collapsed": false
   },
   "outputs": [
    {
     "name": "stdout",
     "output_type": "stream",
     "text": [
      "count         64.000000\n",
      "mean     3959338.812500\n",
      "std       811579.026685\n",
      "min       731712.000000\n",
      "25%      3635737.000000\n",
      "50%      4054918.000000\n",
      "75%      4540098.750000\n",
      "max      5074496.000000\n",
      "Name: passed.total, dtype: float64\n",
      "\n",
      "most raw data in sample:\n",
      "10    DRR036775\n",
      "Name: sample , dtype: object\n"
     ]
    }
   ],
   "source": [
    "## import data frame \n",
    "import pandas as pd\n",
    "\n",
    "## read in the data\n",
    "s4dat = pd.read_table(\"empirical_4/stats/s2.rawedit.txt\", header=0, nrows=65)\n",
    "\n",
    "## print summary stats\n",
    "print s4dat[\"passed.total\"].describe()\n",
    "\n",
    "## find which sample has the most raw data\n",
    "maxraw = s4dat[\"passed.total\"].max()\n",
    "print \"\\nmost raw data in sample:\"\n",
    "print s4dat['sample '][s4dat['passed.total']==maxraw]"
   ]
  },
  {
   "cell_type": "markdown",
   "metadata": {},
   "source": [
    "### Look at distributions of coverage\n",
    "pyrad v.3.0.63 outputs depth information for each sample which I read in here and plot. First let's ask which sample has the highest depth of coverage. "
   ]
  },
  {
   "cell_type": "code",
   "execution_count": 18,
   "metadata": {
    "collapsed": false,
    "scrolled": false
   },
   "outputs": [
    {
     "name": "stdout",
     "output_type": "stream",
     "text": [
      "summary of means\n",
      "==================\n",
      "count     64.000000\n",
      "mean     106.000750\n",
      "std       17.392284\n",
      "min       40.235000\n",
      "25%       98.422750\n",
      "50%      107.650000\n",
      "75%      118.500750\n",
      "max      131.455000\n",
      "Name: dpt.me, dtype: float64\n",
      "\n",
      "summary of std\n",
      "==================\n",
      "count     64.000000\n",
      "mean     289.564375\n",
      "std      140.245059\n",
      "min       95.184000\n",
      "25%      205.293000\n",
      "50%      235.668500\n",
      "75%      325.144000\n",
      "max      757.646000\n",
      "Name: dpt.sd, dtype: float64\n",
      "\n",
      "summary of proportion lowdepth\n",
      "==================\n",
      "count    64.000000\n",
      "mean      0.053360\n",
      "std       0.010158\n",
      "min       0.038625\n",
      "25%       0.046790\n",
      "50%       0.051447\n",
      "75%       0.058441\n",
      "max       0.104888\n",
      "dtype: float64\n",
      "\n",
      "highest coverage in sample:\n",
      "10    DRR036775\n",
      "Name: taxa, dtype: object\n"
     ]
    }
   ],
   "source": [
    "## read in the s3 results\n",
    "s4dat = pd.read_table(\"empirical_4/stats/s3.clusters.txt\", header=0, nrows=65)\n",
    "\n",
    "## print summary stats\n",
    "print \"summary of means\\n==================\"\n",
    "print s4dat['dpt.me'].describe()\n",
    "\n",
    "## print summary stats\n",
    "print \"\\nsummary of std\\n==================\"\n",
    "print s4dat['dpt.sd'].describe()\n",
    "\n",
    "## print summary stats\n",
    "print \"\\nsummary of proportion lowdepth\\n==================\"\n",
    "print pd.Series(1-s4dat['d>5.tot']/s4dat[\"total\"]).describe()\n",
    "\n",
    "## find which sample has the greatest depth of retained loci\n",
    "max_hiprop = (s4dat[\"d>5.tot\"]/s4dat[\"total\"]).max()\n",
    "print \"\\nhighest coverage in sample:\"\n",
    "print s4dat['taxa'][s4dat['d>5.tot']/s4dat[\"total\"]==max_hiprop]"
   ]
  },
  {
   "cell_type": "markdown",
   "metadata": {},
   "source": [
    "#### Plot the coverage for the sample with highest mean coverage\n",
    "Green shows the loci that were discarded and orange the loci that were retained. The majority of data were discarded for being too low of coverage. "
   ]
  },
  {
   "cell_type": "code",
   "execution_count": 9,
   "metadata": {
    "collapsed": false
   },
   "outputs": [
    {
     "data": {
      "text/plain": [
       "<toyplot.mark.BarMagnitudes at 0x7ff380951310>"
      ]
     },
     "execution_count": 9,
     "metadata": {},
     "output_type": "execute_result"
    },
    {
     "data": {
      "text/html": [
       "<div align=\"center\" class=\"toyplot\" id=\"tbe2629ff006343439e7d480ea231c3bd\"><svg height=\"300.0px\" id=\"t5a7d7d56ffd743ecb29a772933037af7\" preserveAspectRatio=\"xMidyMid meet\" style=\"background-color:transparent;fill:rgb(16.1%,15.3%,14.1%);fill-opacity:1.0;font-family:helvetica;font-size:12px;opacity:1.0;stroke:rgb(16.1%,15.3%,14.1%);stroke-opacity:1.0;stroke-width:1.0\" viewBox=\"0 0 350.0 300.0\" width=\"350.0px\" xmlns=\"http://www.w3.org/2000/svg\" xmlns:toyplot=\"http://www.sandia.gov/toyplot\"><g class=\"toyplot-axes-Cartesian\" id=\"t2eb3e5749de64d10b09eec5d275f0784\"><clipPath id=\"tde6b8ba9623f44d8ab383e99931ebae2\"><rect height=\"200.0\" width=\"250.0\" x=\"50.0\" y=\"50.0\"></rect></clipPath><g class=\"toyplot-coordinate-events\" clip-path=\"url(#tde6b8ba9623f44d8ab383e99931ebae2)\" style=\"cursor:crosshair\"><rect height=\"200.0\" style=\"pointer-events:all;visibility:hidden\" width=\"250.0\" x=\"50.0\" y=\"50.0\"></rect><g class=\"toyplot-mark-BarMagnitudes\" id=\"tacecde0d99ba4f308ada3d535a7aa860\" style=\"stroke:rgb(100%,100%,100%);stroke-opacity:1.0;stroke-width:1.0\"><g class=\"toyplot-Series\"><rect class=\"toyplot-Datum\" height=\"0.0\" style=\"fill:rgb(40%,76.1%,64.7%);fill-opacity:1.0;opacity:1.0;stroke:rgb(100%,100%,100%);stroke-opacity:1.0;stroke-width:1.0\" width=\"7.6666666666666714\" x=\"60.0\" y=\"240.0\"></rect><rect class=\"toyplot-Datum\" height=\"180.0\" style=\"fill:rgb(40%,76.1%,64.7%);fill-opacity:1.0;opacity:1.0;stroke:rgb(100%,100%,100%);stroke-opacity:1.0;stroke-width:1.0\" width=\"7.6666666666666572\" x=\"67.666666666666671\" y=\"60.0\"></rect><rect class=\"toyplot-Datum\" height=\"70.604651162790702\" style=\"fill:rgb(40%,76.1%,64.7%);fill-opacity:1.0;opacity:1.0;stroke:rgb(100%,100%,100%);stroke-opacity:1.0;stroke-width:1.0\" width=\"7.6666666666666714\" x=\"75.333333333333329\" y=\"169.3953488372093\"></rect><rect class=\"toyplot-Datum\" height=\"54.418604651162781\" style=\"fill:rgb(40%,76.1%,64.7%);fill-opacity:1.0;opacity:1.0;stroke:rgb(100%,100%,100%);stroke-opacity:1.0;stroke-width:1.0\" width=\"7.6666666666666572\" x=\"83.0\" y=\"185.58139534883722\"></rect><rect class=\"toyplot-Datum\" height=\"51.348837209302332\" style=\"fill:rgb(40%,76.1%,64.7%);fill-opacity:1.0;opacity:1.0;stroke:rgb(100%,100%,100%);stroke-opacity:1.0;stroke-width:1.0\" width=\"7.6666666666666714\" x=\"90.666666666666657\" y=\"188.65116279069767\"></rect><rect class=\"toyplot-Datum\" height=\"47.720930232558146\" style=\"fill:rgb(40%,76.1%,64.7%);fill-opacity:1.0;opacity:1.0;stroke:rgb(100%,100%,100%);stroke-opacity:1.0;stroke-width:1.0\" width=\"7.6666666666666714\" x=\"98.333333333333329\" y=\"192.27906976744185\"></rect><rect class=\"toyplot-Datum\" height=\"45.488372093023258\" style=\"fill:rgb(40%,76.1%,64.7%);fill-opacity:1.0;opacity:1.0;stroke:rgb(100%,100%,100%);stroke-opacity:1.0;stroke-width:1.0\" width=\"7.6666666666666714\" x=\"106.0\" y=\"194.51162790697674\"></rect><rect class=\"toyplot-Datum\" height=\"37.116279069767444\" style=\"fill:rgb(40%,76.1%,64.7%);fill-opacity:1.0;opacity:1.0;stroke:rgb(100%,100%,100%);stroke-opacity:1.0;stroke-width:1.0\" width=\"7.6666666666666572\" x=\"113.66666666666667\" y=\"202.88372093023256\"></rect><rect class=\"toyplot-Datum\" height=\"42.418604651162781\" style=\"fill:rgb(40%,76.1%,64.7%);fill-opacity:1.0;opacity:1.0;stroke:rgb(100%,100%,100%);stroke-opacity:1.0;stroke-width:1.0\" width=\"7.6666666666666714\" x=\"121.33333333333333\" y=\"197.58139534883722\"></rect><rect class=\"toyplot-Datum\" height=\"39.906976744186068\" style=\"fill:rgb(40%,76.1%,64.7%);fill-opacity:1.0;opacity:1.0;stroke:rgb(100%,100%,100%);stroke-opacity:1.0;stroke-width:1.0\" width=\"7.6666666666666572\" x=\"129.0\" y=\"200.09302325581393\"></rect><rect class=\"toyplot-Datum\" height=\"34.32558139534882\" style=\"fill:rgb(40%,76.1%,64.7%);fill-opacity:1.0;opacity:1.0;stroke:rgb(100%,100%,100%);stroke-opacity:1.0;stroke-width:1.0\" width=\"7.6666666666666572\" x=\"136.66666666666666\" y=\"205.67441860465118\"></rect><rect class=\"toyplot-Datum\" height=\"35.441860465116264\" style=\"fill:rgb(40%,76.1%,64.7%);fill-opacity:1.0;opacity:1.0;stroke:rgb(100%,100%,100%);stroke-opacity:1.0;stroke-width:1.0\" width=\"7.6666666666666856\" x=\"144.33333333333331\" y=\"204.55813953488374\"></rect><rect class=\"toyplot-Datum\" height=\"39.906976744186068\" style=\"fill:rgb(40%,76.1%,64.7%);fill-opacity:1.0;opacity:1.0;stroke:rgb(100%,100%,100%);stroke-opacity:1.0;stroke-width:1.0\" width=\"7.6666666666666856\" x=\"152.0\" y=\"200.09302325581393\"></rect><rect class=\"toyplot-Datum\" height=\"35.441860465116264\" style=\"fill:rgb(40%,76.1%,64.7%);fill-opacity:1.0;opacity:1.0;stroke:rgb(100%,100%,100%);stroke-opacity:1.0;stroke-width:1.0\" width=\"7.6666666666666572\" x=\"159.66666666666669\" y=\"204.55813953488374\"></rect><rect class=\"toyplot-Datum\" height=\"37.116279069767444\" style=\"fill:rgb(40%,76.1%,64.7%);fill-opacity:1.0;opacity:1.0;stroke:rgb(100%,100%,100%);stroke-opacity:1.0;stroke-width:1.0\" width=\"7.6666666666666572\" x=\"167.33333333333334\" y=\"202.88372093023256\"></rect><rect class=\"toyplot-Datum\" height=\"40.186046511627922\" style=\"fill:rgb(40%,76.1%,64.7%);fill-opacity:1.0;opacity:1.0;stroke:rgb(100%,100%,100%);stroke-opacity:1.0;stroke-width:1.0\" width=\"7.6666666666666572\" x=\"175.0\" y=\"199.81395348837208\"></rect><rect class=\"toyplot-Datum\" height=\"42.697674418604663\" style=\"fill:rgb(40%,76.1%,64.7%);fill-opacity:1.0;opacity:1.0;stroke:rgb(100%,100%,100%);stroke-opacity:1.0;stroke-width:1.0\" width=\"7.6666666666666856\" x=\"182.66666666666666\" y=\"197.30232558139534\"></rect><rect class=\"toyplot-Datum\" height=\"40.186046511627922\" style=\"fill:rgb(40%,76.1%,64.7%);fill-opacity:1.0;opacity:1.0;stroke:rgb(100%,100%,100%);stroke-opacity:1.0;stroke-width:1.0\" width=\"7.6666666666666572\" x=\"190.33333333333334\" y=\"199.81395348837208\"></rect><rect class=\"toyplot-Datum\" height=\"38.232558139534888\" style=\"fill:rgb(40%,76.1%,64.7%);fill-opacity:1.0;opacity:1.0;stroke:rgb(100%,100%,100%);stroke-opacity:1.0;stroke-width:1.0\" width=\"7.6666666666666572\" x=\"198.0\" y=\"201.76744186046511\"></rect><rect class=\"toyplot-Datum\" height=\"34.32558139534882\" style=\"fill:rgb(40%,76.1%,64.7%);fill-opacity:1.0;opacity:1.0;stroke:rgb(100%,100%,100%);stroke-opacity:1.0;stroke-width:1.0\" width=\"7.6666666666666572\" x=\"205.66666666666666\" y=\"205.67441860465118\"></rect><rect class=\"toyplot-Datum\" height=\"44.651162790697668\" style=\"fill:rgb(40%,76.1%,64.7%);fill-opacity:1.0;opacity:1.0;stroke:rgb(100%,100%,100%);stroke-opacity:1.0;stroke-width:1.0\" width=\"7.6666666666666856\" x=\"213.33333333333331\" y=\"195.34883720930233\"></rect><rect class=\"toyplot-Datum\" height=\"37.953488372093034\" style=\"fill:rgb(40%,76.1%,64.7%);fill-opacity:1.0;opacity:1.0;stroke:rgb(100%,100%,100%);stroke-opacity:1.0;stroke-width:1.0\" width=\"7.6666666666666572\" x=\"221.0\" y=\"202.04651162790697\"></rect><rect class=\"toyplot-Datum\" height=\"46.046511627906966\" style=\"fill:rgb(40%,76.1%,64.7%);fill-opacity:1.0;opacity:1.0;stroke:rgb(100%,100%,100%);stroke-opacity:1.0;stroke-width:1.0\" width=\"7.6666666666666856\" x=\"228.66666666666666\" y=\"193.95348837209303\"></rect><rect class=\"toyplot-Datum\" height=\"45.488372093023258\" style=\"fill:rgb(40%,76.1%,64.7%);fill-opacity:1.0;opacity:1.0;stroke:rgb(100%,100%,100%);stroke-opacity:1.0;stroke-width:1.0\" width=\"7.6666666666666572\" x=\"236.33333333333334\" y=\"194.51162790697674\"></rect><rect class=\"toyplot-Datum\" height=\"48.0\" style=\"fill:rgb(40%,76.1%,64.7%);fill-opacity:1.0;opacity:1.0;stroke:rgb(100%,100%,100%);stroke-opacity:1.0;stroke-width:1.0\" width=\"7.6666666666666856\" x=\"244.0\" y=\"192.0\"></rect><rect class=\"toyplot-Datum\" height=\"47.162790697674438\" style=\"fill:rgb(40%,76.1%,64.7%);fill-opacity:1.0;opacity:1.0;stroke:rgb(100%,100%,100%);stroke-opacity:1.0;stroke-width:1.0\" width=\"7.6666666666666288\" x=\"251.66666666666669\" y=\"192.83720930232556\"></rect><rect class=\"toyplot-Datum\" height=\"46.32558139534882\" style=\"fill:rgb(40%,76.1%,64.7%);fill-opacity:1.0;opacity:1.0;stroke:rgb(100%,100%,100%);stroke-opacity:1.0;stroke-width:1.0\" width=\"7.6666666666666856\" x=\"259.33333333333331\" y=\"193.67441860465118\"></rect><rect class=\"toyplot-Datum\" height=\"56.930232558139522\" style=\"fill:rgb(40%,76.1%,64.7%);fill-opacity:1.0;opacity:1.0;stroke:rgb(100%,100%,100%);stroke-opacity:1.0;stroke-width:1.0\" width=\"7.6666666666666856\" x=\"267.0\" y=\"183.06976744186048\"></rect><rect class=\"toyplot-Datum\" height=\"99.627906976744185\" style=\"fill:rgb(40%,76.1%,64.7%);fill-opacity:1.0;opacity:1.0;stroke:rgb(100%,100%,100%);stroke-opacity:1.0;stroke-width:1.0\" width=\"7.6666666666666288\" x=\"274.66666666666669\" y=\"140.37209302325581\"></rect></g></g><g class=\"toyplot-mark-BarMagnitudes\" id=\"t788f81002c6d4c9c938b7a2640ee87f7\" style=\"stroke:rgb(100%,100%,100%);stroke-opacity:1.0;stroke-width:1.0\"><g class=\"toyplot-Series\"><rect class=\"toyplot-Datum\" height=\"0.0\" style=\"fill:rgb(98.8%,55.3%,38.4%);fill-opacity:1.0;opacity:1.0;stroke:rgb(100%,100%,100%);stroke-opacity:1.0;stroke-width:1.0\" width=\"7.6666666666666714\" x=\"60.0\" y=\"240.0\"></rect><rect class=\"toyplot-Datum\" height=\"0.0\" style=\"fill:rgb(98.8%,55.3%,38.4%);fill-opacity:1.0;opacity:1.0;stroke:rgb(100%,100%,100%);stroke-opacity:1.0;stroke-width:1.0\" width=\"7.6666666666666572\" x=\"67.666666666666671\" y=\"240.0\"></rect><rect class=\"toyplot-Datum\" height=\"0.0\" style=\"fill:rgb(98.8%,55.3%,38.4%);fill-opacity:1.0;opacity:1.0;stroke:rgb(100%,100%,100%);stroke-opacity:1.0;stroke-width:1.0\" width=\"7.6666666666666714\" x=\"75.333333333333329\" y=\"240.0\"></rect><rect class=\"toyplot-Datum\" height=\"0.0\" style=\"fill:rgb(98.8%,55.3%,38.4%);fill-opacity:1.0;opacity:1.0;stroke:rgb(100%,100%,100%);stroke-opacity:1.0;stroke-width:1.0\" width=\"7.6666666666666572\" x=\"83.0\" y=\"240.0\"></rect><rect class=\"toyplot-Datum\" height=\"0.0\" style=\"fill:rgb(98.8%,55.3%,38.4%);fill-opacity:1.0;opacity:1.0;stroke:rgb(100%,100%,100%);stroke-opacity:1.0;stroke-width:1.0\" width=\"7.6666666666666714\" x=\"90.666666666666657\" y=\"240.0\"></rect><rect class=\"toyplot-Datum\" height=\"0.0\" style=\"fill:rgb(98.8%,55.3%,38.4%);fill-opacity:1.0;opacity:1.0;stroke:rgb(100%,100%,100%);stroke-opacity:1.0;stroke-width:1.0\" width=\"7.6666666666666714\" x=\"98.333333333333329\" y=\"240.0\"></rect><rect class=\"toyplot-Datum\" height=\"45.488372093023258\" style=\"fill:rgb(98.8%,55.3%,38.4%);fill-opacity:1.0;opacity:1.0;stroke:rgb(100%,100%,100%);stroke-opacity:1.0;stroke-width:1.0\" width=\"7.6666666666666714\" x=\"106.0\" y=\"194.51162790697674\"></rect><rect class=\"toyplot-Datum\" height=\"37.116279069767444\" style=\"fill:rgb(98.8%,55.3%,38.4%);fill-opacity:1.0;opacity:1.0;stroke:rgb(100%,100%,100%);stroke-opacity:1.0;stroke-width:1.0\" width=\"7.6666666666666572\" x=\"113.66666666666667\" y=\"202.88372093023256\"></rect><rect class=\"toyplot-Datum\" height=\"42.418604651162781\" style=\"fill:rgb(98.8%,55.3%,38.4%);fill-opacity:1.0;opacity:1.0;stroke:rgb(100%,100%,100%);stroke-opacity:1.0;stroke-width:1.0\" width=\"7.6666666666666714\" x=\"121.33333333333333\" y=\"197.58139534883722\"></rect><rect class=\"toyplot-Datum\" height=\"39.906976744186068\" style=\"fill:rgb(98.8%,55.3%,38.4%);fill-opacity:1.0;opacity:1.0;stroke:rgb(100%,100%,100%);stroke-opacity:1.0;stroke-width:1.0\" width=\"7.6666666666666572\" x=\"129.0\" y=\"200.09302325581393\"></rect><rect class=\"toyplot-Datum\" height=\"34.32558139534882\" style=\"fill:rgb(98.8%,55.3%,38.4%);fill-opacity:1.0;opacity:1.0;stroke:rgb(100%,100%,100%);stroke-opacity:1.0;stroke-width:1.0\" width=\"7.6666666666666572\" x=\"136.66666666666666\" y=\"205.67441860465118\"></rect><rect class=\"toyplot-Datum\" height=\"35.441860465116264\" style=\"fill:rgb(98.8%,55.3%,38.4%);fill-opacity:1.0;opacity:1.0;stroke:rgb(100%,100%,100%);stroke-opacity:1.0;stroke-width:1.0\" width=\"7.6666666666666856\" x=\"144.33333333333331\" y=\"204.55813953488374\"></rect><rect class=\"toyplot-Datum\" height=\"39.906976744186068\" style=\"fill:rgb(98.8%,55.3%,38.4%);fill-opacity:1.0;opacity:1.0;stroke:rgb(100%,100%,100%);stroke-opacity:1.0;stroke-width:1.0\" width=\"7.6666666666666856\" x=\"152.0\" y=\"200.09302325581393\"></rect><rect class=\"toyplot-Datum\" height=\"35.441860465116264\" style=\"fill:rgb(98.8%,55.3%,38.4%);fill-opacity:1.0;opacity:1.0;stroke:rgb(100%,100%,100%);stroke-opacity:1.0;stroke-width:1.0\" width=\"7.6666666666666572\" x=\"159.66666666666669\" y=\"204.55813953488374\"></rect><rect class=\"toyplot-Datum\" height=\"37.116279069767444\" style=\"fill:rgb(98.8%,55.3%,38.4%);fill-opacity:1.0;opacity:1.0;stroke:rgb(100%,100%,100%);stroke-opacity:1.0;stroke-width:1.0\" width=\"7.6666666666666572\" x=\"167.33333333333334\" y=\"202.88372093023256\"></rect><rect class=\"toyplot-Datum\" height=\"40.186046511627922\" style=\"fill:rgb(98.8%,55.3%,38.4%);fill-opacity:1.0;opacity:1.0;stroke:rgb(100%,100%,100%);stroke-opacity:1.0;stroke-width:1.0\" width=\"7.6666666666666572\" x=\"175.0\" y=\"199.81395348837208\"></rect><rect class=\"toyplot-Datum\" height=\"42.697674418604663\" style=\"fill:rgb(98.8%,55.3%,38.4%);fill-opacity:1.0;opacity:1.0;stroke:rgb(100%,100%,100%);stroke-opacity:1.0;stroke-width:1.0\" width=\"7.6666666666666856\" x=\"182.66666666666666\" y=\"197.30232558139534\"></rect><rect class=\"toyplot-Datum\" height=\"40.186046511627922\" style=\"fill:rgb(98.8%,55.3%,38.4%);fill-opacity:1.0;opacity:1.0;stroke:rgb(100%,100%,100%);stroke-opacity:1.0;stroke-width:1.0\" width=\"7.6666666666666572\" x=\"190.33333333333334\" y=\"199.81395348837208\"></rect><rect class=\"toyplot-Datum\" height=\"38.232558139534888\" style=\"fill:rgb(98.8%,55.3%,38.4%);fill-opacity:1.0;opacity:1.0;stroke:rgb(100%,100%,100%);stroke-opacity:1.0;stroke-width:1.0\" width=\"7.6666666666666572\" x=\"198.0\" y=\"201.76744186046511\"></rect><rect class=\"toyplot-Datum\" height=\"34.32558139534882\" style=\"fill:rgb(98.8%,55.3%,38.4%);fill-opacity:1.0;opacity:1.0;stroke:rgb(100%,100%,100%);stroke-opacity:1.0;stroke-width:1.0\" width=\"7.6666666666666572\" x=\"205.66666666666666\" y=\"205.67441860465118\"></rect><rect class=\"toyplot-Datum\" height=\"44.651162790697668\" style=\"fill:rgb(98.8%,55.3%,38.4%);fill-opacity:1.0;opacity:1.0;stroke:rgb(100%,100%,100%);stroke-opacity:1.0;stroke-width:1.0\" width=\"7.6666666666666856\" x=\"213.33333333333331\" y=\"195.34883720930233\"></rect><rect class=\"toyplot-Datum\" height=\"37.953488372093034\" style=\"fill:rgb(98.8%,55.3%,38.4%);fill-opacity:1.0;opacity:1.0;stroke:rgb(100%,100%,100%);stroke-opacity:1.0;stroke-width:1.0\" width=\"7.6666666666666572\" x=\"221.0\" y=\"202.04651162790697\"></rect><rect class=\"toyplot-Datum\" height=\"46.046511627906966\" style=\"fill:rgb(98.8%,55.3%,38.4%);fill-opacity:1.0;opacity:1.0;stroke:rgb(100%,100%,100%);stroke-opacity:1.0;stroke-width:1.0\" width=\"7.6666666666666856\" x=\"228.66666666666666\" y=\"193.95348837209303\"></rect><rect class=\"toyplot-Datum\" height=\"45.488372093023258\" style=\"fill:rgb(98.8%,55.3%,38.4%);fill-opacity:1.0;opacity:1.0;stroke:rgb(100%,100%,100%);stroke-opacity:1.0;stroke-width:1.0\" width=\"7.6666666666666572\" x=\"236.33333333333334\" y=\"194.51162790697674\"></rect><rect class=\"toyplot-Datum\" height=\"48.0\" style=\"fill:rgb(98.8%,55.3%,38.4%);fill-opacity:1.0;opacity:1.0;stroke:rgb(100%,100%,100%);stroke-opacity:1.0;stroke-width:1.0\" width=\"7.6666666666666856\" x=\"244.0\" y=\"192.0\"></rect><rect class=\"toyplot-Datum\" height=\"47.162790697674438\" style=\"fill:rgb(98.8%,55.3%,38.4%);fill-opacity:1.0;opacity:1.0;stroke:rgb(100%,100%,100%);stroke-opacity:1.0;stroke-width:1.0\" width=\"7.6666666666666288\" x=\"251.66666666666669\" y=\"192.83720930232556\"></rect><rect class=\"toyplot-Datum\" height=\"46.32558139534882\" style=\"fill:rgb(98.8%,55.3%,38.4%);fill-opacity:1.0;opacity:1.0;stroke:rgb(100%,100%,100%);stroke-opacity:1.0;stroke-width:1.0\" width=\"7.6666666666666856\" x=\"259.33333333333331\" y=\"193.67441860465118\"></rect><rect class=\"toyplot-Datum\" height=\"56.930232558139522\" style=\"fill:rgb(98.8%,55.3%,38.4%);fill-opacity:1.0;opacity:1.0;stroke:rgb(100%,100%,100%);stroke-opacity:1.0;stroke-width:1.0\" width=\"7.6666666666666856\" x=\"267.0\" y=\"183.06976744186048\"></rect><rect class=\"toyplot-Datum\" height=\"99.627906976744185\" style=\"fill:rgb(98.8%,55.3%,38.4%);fill-opacity:1.0;opacity:1.0;stroke:rgb(100%,100%,100%);stroke-opacity:1.0;stroke-width:1.0\" width=\"7.6666666666666288\" x=\"274.66666666666669\" y=\"140.37209302325581\"></rect></g></g></g><g class=\"toyplot-coordinates\" style=\"visibility:hidden\"><rect height=\"14.0\" style=\"fill:rgb(100%,100%,100%);fill-opacity:1.0;opacity:0.75;stroke:none\" width=\"90.0\" x=\"200.0\" y=\"60.0\"></rect><text style=\"alignment-baseline:middle;font-size:10px;font-weight:normal;stroke:none;text-anchor:middle\" x=\"245.0\" y=\"67.0\"></text></g><line style=\"\" x1=\"60.0\" x2=\"282.3333333333333\" y1=\"250.0\" y2=\"250.0\"></line><g><text style=\"alignment-baseline:middle;baseline-shift:-80%;font-size:10px;font-weight:normal;stroke:none;text-anchor:middle\" x=\"60.0\" y=\"250.0\">0</text><text style=\"alignment-baseline:middle;baseline-shift:-80%;font-size:10px;font-weight:normal;stroke:none;text-anchor:middle\" x=\"136.66666666666666\" y=\"250.0\">10</text><text style=\"alignment-baseline:middle;baseline-shift:-80%;font-size:10px;font-weight:normal;stroke:none;text-anchor:middle\" x=\"213.33333333333331\" y=\"250.0\">20</text><text style=\"alignment-baseline:middle;baseline-shift:-80%;font-size:10px;font-weight:normal;stroke:none;text-anchor:middle\" x=\"290.0\" y=\"250.0\">30</text></g><text style=\"alignment-baseline:middle;baseline-shift:-200%;font-weight:bold;stroke:none;text-anchor:middle\" x=\"175.0\" y=\"250.0\">Depth of coverage (N reads)</text><line style=\"\" x1=\"50.0\" x2=\"50.0\" y1=\"60.0\" y2=\"240.0\"></line><g><text style=\"alignment-baseline:middle;baseline-shift:80%;font-size:10px;font-weight:normal;stroke:none;text-anchor:middle\" transform=\"rotate(-90, 50.0, 240.0)\" x=\"50.0\" y=\"240.0\">0</text><text style=\"alignment-baseline:middle;baseline-shift:80%;font-size:10px;font-weight:normal;stroke:none;text-anchor:middle\" transform=\"rotate(-90, 50.0, 184.18604651162792)\" x=\"50.0\" y=\"184.18604651162792\">200</text><text style=\"alignment-baseline:middle;baseline-shift:80%;font-size:10px;font-weight:normal;stroke:none;text-anchor:middle\" transform=\"rotate(-90, 50.0, 128.37209302325581)\" x=\"50.0\" y=\"128.37209302325581\">400</text><text style=\"alignment-baseline:middle;baseline-shift:80%;font-size:10px;font-weight:normal;stroke:none;text-anchor:middle\" transform=\"rotate(-90, 50.0, 72.55813953488372)\" x=\"50.0\" y=\"72.55813953488372\">600</text></g><text style=\"alignment-baseline:middle;baseline-shift:200%;font-weight:bold;stroke:none;text-anchor:middle\" transform=\"rotate(-90, 50.0, 150.0)\" x=\"50.0\" y=\"150.0\">N loci</text><text style=\"alignment-baseline:middle;baseline-shift:100%;font-size:14px;font-weight:bold;stroke:none;text-anchor:middle\" x=\"175.0\" y=\"50.0\">dataset4/sample=DRR036775</text></g></svg><div class=\"toyplot-controls\"><ul class=\"toyplot-mark-popup\" onmouseleave=\"this.style.visibility='hidden'\" style=\"background:rgba(0%,0%,0%,0.75);border:0;border-radius:6px;color:white;cursor:default;list-style:none;margin:0;padding:5px;position:fixed;visibility:hidden\"><li class=\"toyplot-mark-popup-title\" style=\"color:lightgray;cursor:default;padding:5px;list-style:none;margin:0;\"></li><li class=\"toyplot-mark-popup-save-csv\" onmouseout=\"this.style.color='white';this.style.background='steelblue'\" onmouseover=\"this.style.color='steelblue';this.style.background='white'\" style=\"border-radius:3px;padding:5px;list-style:none;margin:0;\">Save as .csv</li></ul><script>\n",
       "(function()\n",
       "{\n",
       "  if(window.CSS !== undefined && window.CSS.supports !== undefined)\n",
       "  {\n",
       "    if(!window.CSS.supports(\"alignment-baseline\", \"middle\"))\n",
       "    {\n",
       "      var re = /\\s*alignment-baseline\\s*:\\s*([^;\\s]*)\\s*/;\n",
       "      var text = document.querySelectorAll(\"#tbe2629ff006343439e7d480ea231c3bd text\");\n",
       "      for(var i = 0; i != text.length; ++i)\n",
       "      {\n",
       "        var match = re.exec(text[i].attributes.style.value);\n",
       "        if(match)\n",
       "        {\n",
       "          if(match[1] == \"middle\")\n",
       "          {\n",
       "            var style = getComputedStyle(text[i]);\n",
       "            var font_size = style.fontSize.substr(0, style.fontSize.length - 2);\n",
       "            var dy = text[i].dy.baseVal.length ? text[i].dy.baseVal[0].value : 0;\n",
       "            dy += 0.4 * font_size;\n",
       "            text[i].setAttribute(\"dy\", dy);\n",
       "          }\n",
       "        }\n",
       "      }\n",
       "    }\n",
       "    if(!window.CSS.supports(\"baseline-shift\", \"0\"))\n",
       "    {\n",
       "      var re = /\\s*baseline-shift\\s*:\\s*([^;\\s]*)\\s*/;\n",
       "      var text = document.querySelectorAll(\"#tbe2629ff006343439e7d480ea231c3bd text\");\n",
       "      for(var i = 0; i != text.length; ++i)\n",
       "      {\n",
       "        var match = re.exec(text[i].attributes.style.value);\n",
       "        if(match)\n",
       "        {\n",
       "          var style = getComputedStyle(text[i]);\n",
       "          var font_size = style.fontSize.substr(0, style.fontSize.length - 2);\n",
       "          var percent = 0.01 * match[1].substr(0, match[1].length-1);\n",
       "          var dy = text[i].dy.baseVal.length ? text[i].dy.baseVal[0].value : 0;\n",
       "          dy -= percent * font_size\n",
       "          text[i].setAttribute(\"dy\", dy);\n",
       "        }\n",
       "      }\n",
       "    }\n",
       "  }\n",
       "})();\n",
       "</script><script>\n",
       "(function()\n",
       "{\n",
       "  var data_tables = [{\"data\": [[0, 1, 2, 3, 4, 5, 6, 7, 8, 9, 10, 11, 12, 13, 14, 15, 16, 17, 18, 19, 20, 21, 22, 23, 24, 25, 26, 27, 28], [1, 2, 3, 4, 5, 6, 7, 8, 9, 10, 11, 12, 13, 14, 15, 16, 17, 18, 19, 20, 21, 22, 23, 24, 25, 26, 27, 28, 29], [0.0, 0.0, 0.0, 0.0, 0.0, 0.0, 0.0, 0.0, 0.0, 0.0, 0.0, 0.0, 0.0, 0.0, 0.0, 0.0, 0.0, 0.0, 0.0, 0.0, 0.0, 0.0, 0.0, 0.0, 0.0, 0.0, 0.0, 0.0, 0.0], [0.0, 645.0, 253.0, 195.0, 184.0, 171.0, 163.0, 133.0, 152.0, 143.0, 123.0, 127.0, 143.0, 127.0, 133.0, 144.0, 153.0, 144.0, 137.0, 123.0, 160.0, 136.0, 165.0, 163.0, 172.0, 169.0, 166.0, 204.0, 357.0]], \"title\": \"Bar Data\", \"names\": [\"left\", \"right\", \"baseline\", \"magnitude0\"], \"id\": \"tacecde0d99ba4f308ada3d535a7aa860\", \"filename\": \"toyplot\"}, {\"data\": [[0, 1, 2, 3, 4, 5, 6, 7, 8, 9, 10, 11, 12, 13, 14, 15, 16, 17, 18, 19, 20, 21, 22, 23, 24, 25, 26, 27, 28], [1, 2, 3, 4, 5, 6, 7, 8, 9, 10, 11, 12, 13, 14, 15, 16, 17, 18, 19, 20, 21, 22, 23, 24, 25, 26, 27, 28, 29], [0.0, 0.0, 0.0, 0.0, 0.0, 0.0, 0.0, 0.0, 0.0, 0.0, 0.0, 0.0, 0.0, 0.0, 0.0, 0.0, 0.0, 0.0, 0.0, 0.0, 0.0, 0.0, 0.0, 0.0, 0.0, 0.0, 0.0, 0.0, 0.0], [0.0, 0.0, 0.0, 0.0, 0.0, 0.0, 163.0, 133.0, 152.0, 143.0, 123.0, 127.0, 143.0, 127.0, 133.0, 144.0, 153.0, 144.0, 137.0, 123.0, 160.0, 136.0, 165.0, 163.0, 172.0, 169.0, 166.0, 204.0, 357.0]], \"title\": \"Bar Data\", \"names\": [\"left\", \"right\", \"baseline\", \"magnitude0\"], \"id\": \"t788f81002c6d4c9c938b7a2640ee87f7\", \"filename\": \"toyplot\"}];\n",
       "\n",
       "  function save_csv(data_table)\n",
       "  {\n",
       "    var uri = \"data:text/csv;charset=utf-8,\";\n",
       "    uri += data_table.names.join(\",\") + \"\\n\";\n",
       "    for(var i = 0; i != data_table.data[0].length; ++i)\n",
       "    {\n",
       "      for(var j = 0; j != data_table.data.length; ++j)\n",
       "      {\n",
       "        if(j)\n",
       "          uri += \",\";\n",
       "        uri += data_table.data[j][i];\n",
       "      }\n",
       "      uri += \"\\n\";\n",
       "    }\n",
       "    uri = encodeURI(uri);\n",
       "\n",
       "    var link = document.createElement(\"a\");\n",
       "    if(typeof link.download != \"undefined\")\n",
       "    {\n",
       "      link.href = uri;\n",
       "      link.style = \"visibility:hidden\";\n",
       "      link.download = data_table.filename + \".csv\";\n",
       "\n",
       "      document.body.appendChild(link);\n",
       "      link.click();\n",
       "      document.body.removeChild(link);\n",
       "    }\n",
       "    else\n",
       "    {\n",
       "      window.open(uri);\n",
       "    }\n",
       "  }\n",
       "\n",
       "  function open_popup(data_table)\n",
       "  {\n",
       "    return function(e)\n",
       "    {\n",
       "      var popup = document.querySelector(\"#tbe2629ff006343439e7d480ea231c3bd .toyplot-mark-popup\");\n",
       "      popup.querySelector(\".toyplot-mark-popup-title\").innerHTML = data_table.title;\n",
       "      popup.querySelector(\".toyplot-mark-popup-save-csv\").onclick = function() { popup.style.visibility = \"hidden\"; save_csv(data_table); }\n",
       "      popup.style.left = (e.clientX - 50) + \"px\";\n",
       "      popup.style.top = (e.clientY - 20) + \"px\";\n",
       "      popup.style.visibility = \"visible\";\n",
       "      e.stopPropagation();\n",
       "      e.preventDefault();\n",
       "    }\n",
       "\n",
       "  }\n",
       "\n",
       "  for(var i = 0; i != data_tables.length; ++i)\n",
       "  {\n",
       "    var data_table = data_tables[i];\n",
       "    var event_target = document.querySelector(\"#\" + data_table.id);\n",
       "    event_target.oncontextmenu = open_popup(data_table);\n",
       "  }\n",
       "})();\n",
       "</script><script>\n",
       "(function()\n",
       "{\n",
       "  var axes = {\"t2eb3e5749de64d10b09eec5d275f0784\": {\"x\": [{\"domain\": {\"bounds\": {\"max\": Infinity, \"min\": -Infinity}, \"max\": 30.0, \"min\": 0}, \"range\": {\"bounds\": {\"max\": Infinity, \"min\": -Infinity}, \"max\": 290.0, \"min\": 60.0}, \"scale\": \"linear\"}], \"y\": [{\"domain\": {\"bounds\": {\"max\": Infinity, \"min\": -Infinity}, \"max\": 645.0, \"min\": 0.0}, \"range\": {\"bounds\": {\"max\": -Infinity, \"min\": Infinity}, \"max\": 60.0, \"min\": 240.0}, \"scale\": \"linear\"}]}};\n",
       "\n",
       "  function sign(x)\n",
       "  {\n",
       "    return x < 0 ? -1 : x > 0 ? 1 : 0;\n",
       "  }\n",
       "\n",
       "  function _mix(a, b, amount)\n",
       "  {\n",
       "    return ((1.0 - amount) * a) + (amount * b);\n",
       "  }\n",
       "\n",
       "  function _log(x, base)\n",
       "  {\n",
       "    return Math.log(Math.abs(x)) / Math.log(base);\n",
       "  }\n",
       "\n",
       "  function _in_range(a, x, b)\n",
       "  {\n",
       "    var left = Math.min(a, b);\n",
       "    var right = Math.max(a, b);\n",
       "    return left <= x && x <= right;\n",
       "  }\n",
       "\n",
       "  function to_domain(projection, range)\n",
       "  {\n",
       "    for(var i = 0; i != projection.length; ++i)\n",
       "    {\n",
       "      var segment = projection[i];\n",
       "      if(_in_range(segment.range.bounds.min, range, segment.range.bounds.max))\n",
       "      {\n",
       "        if(segment.scale == \"linear\")\n",
       "        {\n",
       "          var amount = (range - segment.range.min) / (segment.range.max - segment.range.min);\n",
       "          return _mix(segment.domain.min, segment.domain.max, amount)\n",
       "        }\n",
       "        else if(segment.scale[0] == \"log\")\n",
       "        {\n",
       "          var amount = (range - segment.range.min) / (segment.range.max - segment.range.min);\n",
       "          var base = segment.scale[1];\n",
       "          return sign(segment.domain.min) * Math.pow(base, _mix(_log(segment.domain.min, base), _log(segment.domain.max, base), amount));\n",
       "        }\n",
       "      }\n",
       "    }\n",
       "  }\n",
       "\n",
       "  // Compute mouse coordinates relative to a DOM object, with thanks to d3js.org, where this code originated.\n",
       "  function d3_mousePoint(container, e)\n",
       "  {\n",
       "    if (e.changedTouches) e = e.changedTouches[0];\n",
       "    var svg = container.ownerSVGElement || container;\n",
       "    if (svg.createSVGPoint) {\n",
       "      var point = svg.createSVGPoint();\n",
       "      point.x = e.clientX, point.y = e.clientY;\n",
       "      point = point.matrixTransform(container.getScreenCTM().inverse());\n",
       "      return [point.x, point.y];\n",
       "    }\n",
       "    var rect = container.getBoundingClientRect();\n",
       "    return [e.clientX - rect.left - container.clientLeft, e.clientY - rect.top - container.clientTop];\n",
       "  };\n",
       "\n",
       "  function display_coordinates(e)\n",
       "  {\n",
       "    var dom_axes = e.currentTarget.parentElement;\n",
       "    var data = axes[dom_axes.id];\n",
       "\n",
       "    point = d3_mousePoint(e.target, e);\n",
       "    var x = Number(to_domain(data[\"x\"], point[0])).toFixed(2);\n",
       "    var y = Number(to_domain(data[\"y\"], point[1])).toFixed(2);\n",
       "\n",
       "    var coordinates = dom_axes.querySelectorAll(\".toyplot-coordinates\");\n",
       "    for(var i = 0; i != coordinates.length; ++i)\n",
       "    {\n",
       "      coordinates[i].style.visibility = \"visible\";\n",
       "      coordinates[i].querySelector(\"text\").textContent = \"x=\" + x + \" y=\" + y;\n",
       "    }\n",
       "  }\n",
       "\n",
       "  function clear_coordinates(e)\n",
       "  {\n",
       "    var dom_axes = e.currentTarget.parentElement;\n",
       "    var coordinates = dom_axes.querySelectorAll(\".toyplot-coordinates\");\n",
       "    for(var i = 0; i != coordinates.length; ++i)\n",
       "      coordinates[i].style.visibility = \"hidden\";\n",
       "  }\n",
       "\n",
       "  for(var axes_id in axes)\n",
       "  {\n",
       "    var event_target = document.querySelector(\"#\" + axes_id + \" .toyplot-coordinate-events\");\n",
       "    event_target.onmousemove = display_coordinates;\n",
       "    event_target.onmouseout = clear_coordinates;\n",
       "  }\n",
       "})();\n",
       "</script></div></div>"
      ],
      "text/plain": [
       "<toyplot.canvas.Canvas at 0x7ff3a41909d0>"
      ]
     },
     "metadata": {},
     "output_type": "display_data"
    }
   ],
   "source": [
    "import toyplot\n",
    "import toyplot.svg\n",
    "import numpy as np\n",
    "\n",
    "## read in the depth information for this sample\n",
    "with open(\"empirical_4/clust.85/DRR036775.depths\", 'rb') as indat:\n",
    "    depths = np.array(indat.read().strip().split(\",\"), dtype=int)\n",
    "    \n",
    "## make a barplot in Toyplot\n",
    "canvas = toyplot.Canvas(width=350, height=300)\n",
    "axes = canvas.axes(xlabel=\"Depth of coverage (N reads)\", \n",
    "                   ylabel=\"N loci\", \n",
    "                   label=\"dataset4/sample=DRR036775\")\n",
    "\n",
    "## select the loci with depth > 5 (kept)\n",
    "keeps = depths[depths>5]\n",
    "\n",
    "## plot kept and discarded loci\n",
    "edat = np.histogram(depths, range(30)) # density=True)\n",
    "kdat = np.histogram(keeps, range(30)) #, density=True)\n",
    "axes.bars(edat)\n",
    "axes.bars(kdat)\n",
    "\n",
    "#toyplot.svg.render(canvas, \"empirical_4_depthplot.svg\")"
   ]
  },
  {
   "cell_type": "markdown",
   "metadata": {},
   "source": [
    "### Print final stats table"
   ]
  },
  {
   "cell_type": "code",
   "execution_count": 30,
   "metadata": {
    "collapsed": false,
    "scrolled": false
   },
   "outputs": [
    {
     "name": "stdout",
     "output_type": "stream",
     "text": [
      "\r\n",
      "\r\n",
      "46277       ## loci with > minsp containing data\r\n",
      "42877       ## loci with > minsp containing data & paralogs removed\r\n",
      "42877       ## loci with > minsp containing data & paralogs removed & final filtering\r\n",
      "\r\n",
      "## number of loci recovered in final data set for each taxon.\r\n",
      "taxon\tnloci\r\n",
      "DRR036765\t27950\r\n",
      "DRR036766\t30223\r\n",
      "DRR036767\t29273\r\n",
      "DRR036768\t28909\r\n",
      "DRR036769\t28879\r\n",
      "DRR036770\t29524\r\n",
      "DRR036771\t28375\r\n",
      "DRR036772\t28756\r\n",
      "DRR036773\t27906\r\n",
      "DRR036774\t28927\r\n",
      "DRR036775\t31633\r\n",
      "DRR036776\t27658\r\n",
      "DRR036777\t30722\r\n",
      "DRR036778\t28349\r\n",
      "DRR036779\t27420\r\n",
      "DRR036780\t29359\r\n",
      "DRR036781\t28123\r\n",
      "DRR036782\t29928\r\n",
      "DRR036783\t29606\r\n",
      "DRR036784\t28864\r\n",
      "DRR036785\t25495\r\n",
      "DRR036786\t28829\r\n",
      "DRR036787\t29177\r\n",
      "DRR036788\t28432\r\n",
      "DRR036789\t28598\r\n",
      "DRR036790\t13855\r\n",
      "DRR036791\t28826\r\n",
      "DRR036792\t27106\r\n",
      "DRR036793\t30117\r\n",
      "DRR036794\t30466\r\n",
      "DRR036795\t29279\r\n",
      "DRR036796\t28378\r\n",
      "DRR036797\t29160\r\n",
      "DRR036798\t28070\r\n",
      "DRR036799\t29059\r\n",
      "DRR036800\t29404\r\n",
      "DRR036801\t28522\r\n",
      "DRR036802\t27407\r\n",
      "DRR036803\t22502\r\n",
      "DRR036804\t29971\r\n",
      "DRR036805\t26894\r\n",
      "DRR036806\t28787\r\n",
      "DRR036807\t30322\r\n",
      "DRR036808\t29587\r\n",
      "DRR036809\t28472\r\n",
      "DRR036810\t24144\r\n",
      "DRR036811\t29457\r\n",
      "DRR036812\t29349\r\n",
      "DRR036813\t28553\r\n",
      "DRR036814\t29899\r\n",
      "DRR036815\t27081\r\n",
      "DRR036816\t27908\r\n",
      "DRR036817\t30888\r\n",
      "DRR036818\t27955\r\n",
      "DRR036819\t28459\r\n",
      "DRR036820\t28671\r\n",
      "DRR036821\t30179\r\n",
      "DRR036822\t30425\r\n",
      "DRR036823\t28337\r\n",
      "DRR036824\t28810\r\n",
      "DRR036825\t29466\r\n",
      "DRR036826\t28469\r\n",
      "DRR036827\t28876\r\n",
      "DRR036828\t29248\r\n",
      "\r\n",
      "\r\n",
      "## nloci = number of loci with data for exactly ntaxa\r\n",
      "## ntotal = number of loci for which at least ntaxa have data\r\n",
      "ntaxa\tnloci\tsaved\tntotal\r\n",
      "1\t-\r\n",
      "2\t-\t\t-\r\n",
      "3\t-\t\t-\r\n",
      "4\t562\t*\t42877\r\n",
      "5\t496\t*\t42315\r\n",
      "6\t485\t*\t41819\r\n",
      "7\t517\t*\t41334\r\n",
      "8\t627\t*\t40817\r\n",
      "9\t910\t*\t40190\r\n",
      "10\t1361\t*\t39280\r\n",
      "11\t1620\t*\t37919\r\n",
      "12\t1031\t*\t36299\r\n",
      "13\t343\t*\t35268\r\n",
      "14\t184\t*\t34925\r\n",
      "15\t160\t*\t34741\r\n",
      "16\t171\t*\t34581\r\n",
      "17\t212\t*\t34410\r\n",
      "18\t192\t*\t34198\r\n",
      "19\t192\t*\t34006\r\n",
      "20\t200\t*\t33814\r\n",
      "21\t187\t*\t33614\r\n",
      "22\t215\t*\t33427\r\n",
      "23\t199\t*\t33212\r\n",
      "24\t221\t*\t33013\r\n",
      "25\t248\t*\t32792\r\n",
      "26\t243\t*\t32544\r\n",
      "27\t225\t*\t32301\r\n",
      "28\t276\t*\t32076\r\n",
      "29\t233\t*\t31800\r\n",
      "30\t227\t*\t31567\r\n",
      "31\t245\t*\t31340\r\n",
      "32\t295\t*\t31095\r\n",
      "33\t273\t*\t30800\r\n",
      "34\t293\t*\t30527\r\n",
      "35\t314\t*\t30234\r\n",
      "36\t254\t*\t29920\r\n",
      "37\t322\t*\t29666\r\n",
      "38\t349\t*\t29344\r\n",
      "39\t352\t*\t28995\r\n",
      "40\t373\t*\t28643\r\n",
      "41\t397\t*\t28270\r\n",
      "42\t416\t*\t27873\r\n",
      "43\t446\t*\t27457\r\n",
      "44\t521\t*\t27011\r\n",
      "45\t558\t*\t26490\r\n",
      "46\t723\t*\t25932\r\n",
      "47\t828\t*\t25209\r\n",
      "48\t875\t*\t24381\r\n",
      "49\t1021\t*\t23506\r\n",
      "50\t1062\t*\t22485\r\n",
      "51\t1072\t*\t21423\r\n",
      "52\t957\t*\t20351\r\n",
      "53\t892\t*\t19394\r\n",
      "54\t1047\t*\t18502\r\n",
      "55\t1189\t*\t17455\r\n",
      "56\t1476\t*\t16266\r\n",
      "57\t1890\t*\t14790\r\n",
      "58\t2200\t*\t12900\r\n",
      "59\t2433\t*\t10700\r\n",
      "60\t2672\t*\t8267\r\n",
      "61\t2464\t*\t5595\r\n",
      "62\t1846\t*\t3131\r\n",
      "63\t1019\t*\t1285\r\n",
      "64\t266\t*\t266\r\n",
      "\r\n",
      "\r\n",
      "## nvar = number of loci containing n variable sites (pis+autapomorphies).\r\n",
      "## sumvar = sum of variable sites (SNPs).\r\n",
      "## pis = number of loci containing n parsimony informative sites.\r\n",
      "## sumpis = sum of parsimony informative sites.\r\n",
      "\tnvar\tsumvar\tPIS\tsumPIS\r\n",
      "0\t4922\t0\t12420\t0\r\n",
      "1\t5533\t5533\t8723\t8723\r\n",
      "2\t5742\t17017\t7273\t23269\r\n",
      "3\t5663\t34006\t5269\t39076\r\n",
      "4\t5184\t54742\t3641\t53640\r\n",
      "5\t4499\t77237\t2239\t64835\r\n",
      "6\t3409\t97691\t1263\t72413\r\n",
      "7\t2451\t114848\t733\t77544\r\n",
      "8\t1691\t128376\t401\t80752\r\n",
      "9\t1177\t138969\t279\t83263\r\n",
      "10\t739\t146359\t199\t85253\r\n",
      "11\t537\t152266\t138\t86771\r\n",
      "12\t358\t156562\t88\t87827\r\n",
      "13\t263\t159981\t70\t88737\r\n",
      "14\t169\t162347\t46\t89381\r\n",
      "15\t135\t164372\t28\t89801\r\n",
      "16\t84\t165716\t24\t90185\r\n",
      "17\t86\t167178\t7\t90304\r\n",
      "18\t47\t168024\t14\t90556\r\n",
      "19\t50\t168974\t3\t90613\r\n",
      "20\t34\t169654\t2\t90653\r\n",
      "21\t23\t170137\t6\t90779\r\n",
      "22\t18\t170533\t8\t90955\r\n",
      "23\t19\t170970\t1\t90978\r\n",
      "24\t13\t171282\t1\t91002\r\n",
      "25\t8\t171482\t0\t91002\r\n",
      "26\t5\t171612\t0\t91002\r\n",
      "27\t7\t171801\t0\t91002\r\n",
      "28\t2\t171857\t0\t91002\r\n",
      "29\t1\t171886\t1\t91031\r\n",
      "30\t2\t171946\t0\t91031\r\n",
      "31\t1\t171977\t0\t91031\r\n",
      "32\t3\t172073\t0\t91031\r\n",
      "33\t0\t172073\t0\t91031\r\n",
      "34\t1\t172107\t0\t91031\r\n",
      "35\t0\t172107\t0\t91031\r\n",
      "36\t0\t172107\t0\t91031\r\n",
      "37\t0\t172107\t0\t91031\r\n",
      "38\t0\t172107\t0\t91031\r\n",
      "39\t0\t172107\t0\t91031\r\n",
      "40\t0\t172107\t0\t91031\r\n",
      "41\t0\t172107\t0\t91031\r\n",
      "42\t0\t172107\t0\t91031\r\n",
      "43\t1\t172150\t0\t91031\r\n",
      "total var= 172150\r\n",
      "total pis= 91031\r\n",
      "sampled unlinked SNPs= 37955\r\n",
      "sampled unlinked bi-allelic SNPs= -30031\r\n"
     ]
    }
   ],
   "source": [
    "cat empirical_4/stats/empirical_4_m4.stats\n"
   ]
  },
  {
   "cell_type": "code",
   "execution_count": 19,
   "metadata": {
    "collapsed": false
   },
   "outputs": [
    {
     "name": "stdout",
     "output_type": "stream",
     "text": [
      "\n",
      "\n",
      "48546       ## loci with > minsp containing data\n",
      "45146       ## loci with > minsp containing data & paralogs removed\n",
      "45146       ## loci with > minsp containing data & paralogs removed & final filtering\n",
      "\n",
      "## number of loci recovered in final data set for each taxon.\n",
      "taxon\tnloci\n",
      "DRR036765\t28070\n",
      "DRR036766\t30376\n",
      "DRR036767\t29411\n",
      "DRR036768\t29051\n",
      "DRR036769\t29022\n",
      "DRR036770\t29587\n",
      "DRR036771\t28435\n",
      "DRR036772\t28812\n",
      "DRR036773\t27965\n",
      "DRR036774\t28996\n",
      "DRR036775\t31778\n",
      "DRR036776\t27701\n"
     ]
    }
   ],
   "source": [
    "%%bash\n",
    "head -n 20 empirical_4/stats/empirical_4_m2.stats\n"
   ]
  },
  {
   "cell_type": "markdown",
   "metadata": {},
   "source": [
    "## Infer ML phylogeny in _raxml_ as an unrooted tree"
   ]
  },
  {
   "cell_type": "code",
   "execution_count": null,
   "metadata": {
    "collapsed": true
   },
   "outputs": [],
   "source": [
    "%%bash\n",
    "## raxml argumement w/ ...\n",
    "raxmlHPC-PTHREADS-AVX -f a -m GTRGAMMA -N 100 -x 12345 -p 12345 -T 20 \\\n",
    "                      -w /home/deren/Documents/RADmissing/empirical_4/ \\\n",
    "                      -n empirical_4_m4 -s empirical_4/outfiles/empirical_4_m4.phy\n",
    "                      "
   ]
  },
  {
   "cell_type": "code",
   "execution_count": null,
   "metadata": {
    "collapsed": true
   },
   "outputs": [],
   "source": [
    "%%bash\n",
    "## raxml argumement w/ ...\n",
    "raxmlHPC-PTHREADS-AVX -f a -m GTRGAMMA -N 100 -x 12345 -p 12345 -T 20 \\\n",
    "                      -w /home/deren/Documents/RADmissing/empirical_4/ \\\n",
    "                      -n empirical_4_m2 -s empirical_4/outfiles/empirical_4_m2.phy\n",
    "                      "
   ]
  },
  {
   "cell_type": "code",
   "execution_count": 2,
   "metadata": {
    "collapsed": false,
    "scrolled": false
   },
   "outputs": [
    {
     "name": "stdout",
     "output_type": "stream",
     "text": [
      "\n",
      "\n",
      "This is RAxML version 8.0.16 released by Alexandros Stamatakis on March 21 2014.\n",
      "\n",
      "With greatly appreciated code contributions by:\n",
      "Andre Aberer      (HITS)\n",
      "Simon Berger      (HITS)\n",
      "Alexey Kozlov     (HITS)\n",
      "Nick Pattengale   (Sandia)\n",
      "Wayne Pfeiffer    (SDSC)\n",
      "Akifumi S. Tanabe (NRIFS)\n",
      "David Dao         (KIT)\n",
      "Charlie Taylor    (UF)\n",
      "\n",
      "\n",
      "Alignment has 339249 distinct alignment patterns\n",
      "\n",
      "Proportion of gaps and completely undetermined characters in this alignment: 33.82%\n",
      "\n",
      "RAxML rapid bootstrapping and subsequent ML search\n",
      "\n",
      "Using 1 distinct models/data partitions with joint branch length optimization\n",
      "\n",
      "\n",
      "\n",
      "Executing 100 rapid bootstrap inferences and thereafter a thorough ML search \n",
      "\n",
      "All free model parameters will be estimated by RAxML\n",
      "GAMMA model of rate heteorgeneity, ML estimate of alpha-parameter\n",
      "\n",
      "GAMMA Model parameters will be estimated up to an accuracy of 0.1000000000 Log Likelihood units\n",
      "\n",
      "Partition: 0\n",
      "Alignment Patterns: 339249\n",
      "Name: No Name Provided\n",
      "DataType: DNA\n",
      "Substitution Matrix: GTR\n",
      "\n",
      "\n",
      "\n"
     ]
    }
   ],
   "source": [
    "%%bash\n",
    "head -n 40 empirical_4/RAxML_info.empirical_4"
   ]
  },
  {
   "cell_type": "markdown",
   "metadata": {},
   "source": [
    "### Plot the tree in R using `ape`\n",
    "The backbone of the ingroup taxa has very low support across the radiation. The same result was found in the original paper (see Fig. 4 and Supplemental Fig S1 of Takahashi et al). Below we plot the full tree and a zoomed in tree of just the ingroup taxa. "
   ]
  },
  {
   "cell_type": "code",
   "execution_count": 21,
   "metadata": {
    "collapsed": true
   },
   "outputs": [],
   "source": [
    "%load_ext rpy2.ipython"
   ]
  },
  {
   "cell_type": "code",
   "execution_count": 27,
   "metadata": {
    "collapsed": false
   },
   "outputs": [
    {
     "data": {
      "image/png": "[encoded data removed]"
     },
     "metadata": {},
     "output_type": "display_data"
    }
   ],
   "source": [
    "%%R -w 1000 -h 800\n",
    "library(ape)\n",
    "tre <- read.tree(\"empirical_4/RAxML_bipartitions.empirical_4\")\n",
    "ltre <- ladderize(tre)\n",
    "outgroups = c(\"DRR036791\", \"DRR036765\", \"DRR036790\", \"DRR036767\", \"DRR036769\",\n",
    "              \"DRR036766\", \"DRR036777\", \"DRR036793\", \"DRR036778\", \"DRR036778\", \n",
    "              \"DRR036792\", \"DRR036768\", \"DRR036775\")\n",
    "rtre <- root(ltre, outgroups)\n",
    "ingrouptre <- drop.tip(ltre, outgroups)    \n",
    "par(mfrow=c(1,2))\n",
    "\n",
    "plot(ltre, edge.width=2)\n",
    "nodelabels(ltre$node.label, cex=1)\n",
    "plot(ingrouptre, edge.width=2)\n",
    "nodelabels(ingrouptre$node.label, cex=1)"
   ]
  },
  {
   "cell_type": "code",
   "execution_count": 28,
   "metadata": {
    "collapsed": false
   },
   "outputs": [
    {
     "data": {
      "text/plain": [
       "[1] 0.009676341\n"
      ]
     },
     "metadata": {},
     "output_type": "display_data"
    }
   ],
   "source": [
    "%%R\n",
    "mean(cophenetic.phylo(ltre))"
   ]
  },
  {
   "cell_type": "markdown",
   "metadata": {},
   "source": [
    "### An ultrametric tree for plotting "
   ]
  },
  {
   "cell_type": "code",
   "execution_count": 33,
   "metadata": {
    "collapsed": false,
    "scrolled": false
   },
   "outputs": [
    {
     "data": {
      "image/png": "[encoded data removed]"
     },
     "metadata": {},
     "output_type": "display_data"
    }
   ],
   "source": [
    "%%R -h 700\n",
    "utre <- ladderize(chronopl(rtre, 0.5, resolve.root=TRUE))\n",
    "plot(utre, edge.width=2)"
   ]
  }
 ],
 "metadata": {
  "kernelspec": {
   "display_name": "Python 2",
   "language": "python",
   "name": "python2"
  },
  "language_info": {
   "codemirror_mode": {
    "name": "ipython",
    "version": 2
   },
   "file_extension": ".py",
   "mimetype": "text/x-python",
   "name": "python",
   "nbconvert_exporter": "python",
   "pygments_lexer": "ipython2",
   "version": "2.7.12"
  }
 },
 "nbformat": 4,
 "nbformat_minor": 0
}
