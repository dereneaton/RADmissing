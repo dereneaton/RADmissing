{
 "cells": [
  {
   "cell_type": "markdown",
   "metadata": {},
   "source": [
    "## Notebook 1: \n"
   ]
  },
  {
   "cell_type": "code",
   "execution_count": 1,
   "metadata": {
    "collapsed": false
   },
   "outputs": [
    {
     "name": "stdout",
     "output_type": "stream",
     "text": []
    }
   ],
   "source": [
    "### Notebook 1\n",
    "### Data set 1 (Viburnum)\n",
    "### Language: Bash\n",
    "### Data Location: NCBI SRA PRJNA299402 & PRJNA299407"
   ]
  },
  {
   "cell_type": "code",
   "execution_count": 3,
   "metadata": {
    "collapsed": false
   },
   "outputs": [
    {
     "name": "stdout",
     "output_type": "stream",
     "text": []
    }
   ],
   "source": [
    "%%bash\n",
    "## make a new directory for this analysis\n",
    "mkdir -p empirical_1/\n",
    "mkdir -p empirical_1/halfrun\n",
    "mkdir -p empirical_1/fullrun"
   ]
  },
  {
   "cell_type": "code",
   "execution_count": 87,
   "metadata": {
    "collapsed": true
   },
   "outputs": [],
   "source": [
    "## import Python libraries\n",
    "import pandas as pd\n",
    "import numpy as np\n",
    "import ipyparallel\n",
    "import urllib2\n",
    "import glob\n",
    "import os"
   ]
  },
  {
   "cell_type": "markdown",
   "metadata": {},
   "source": [
    "### Download the sequence data\n",
    "Sequence data for this study is archived on the NCBI sequence read archive (SRA). The data were run in two separate Illumina runs, but are combined under a single project id number.  \n",
    "\n",
    "+ Project SRA: SRP055977\n",
    "+ Project number: PRJNA277574\n",
    "+ Biosample numbers: SAMN03394519 -- SAMN03394561\n",
    "+ Runs: SRR1915524 -- SRR1915566  \n",
    "+ The barcodes file is in the github repository for this [project]().  \n",
    "\n",
    "The library contains 95 samples. We uploaded the two demultiplexed samples for each individual separately, so each sample has 2 files. Below we examine just the first library (the \"half\" data set) and then both libraries combined (the \"full\" data set). We analyze on 64 samples since the remaining samples are replicate individuals within species that are part of a separate project. \n",
    "\n",
    "You can download the data set using the script below:"
   ]
  },
  {
   "cell_type": "code",
   "execution_count": null,
   "metadata": {
    "collapsed": true
   },
   "outputs": [],
   "source": [
    "%%bash\n",
    "## get the data from Dryad\n",
    "for run in $(seq 24 28);\n",
    "\n",
    "  do\n",
    "wget -q -r -nH --cut-dirs=9 \\\n",
    "ftp://ftp-trace.ncbi.nlm.nih.gov/\\\n",
    "sra/sra-instant/reads/ByRun/sra/SRR/\\\n",
    "SRR191/SRR19155$run/SRR19155$run\".sra\";\n",
    "\n",
    "done"
   ]
  },
  {
   "cell_type": "code",
   "execution_count": null,
   "metadata": {
    "collapsed": true
   },
   "outputs": [],
   "source": [
    "%%bash\n",
    "## convert sra files to fastq using fastq-dump tool\n",
    "fastq-dump *.sra"
   ]
  },
  {
   "cell_type": "code",
   "execution_count": null,
   "metadata": {
    "collapsed": true
   },
   "outputs": [],
   "source": [
    "## IPython code\n",
    "\n",
    "## This reads in a table mapping sample names to SRA numbers\n",
    "## that is hosted on github\n",
    "\n",
    "## open table from github url\n",
    "url = \"https://raw.githubusercontent.com/\"+\\\n",
    "      \"dereneaton/virentes/master/SraRunTable.txt\"\n",
    "intable = urllib2.urlopen(url)\n",
    "\n",
    "## make name xfer dictionary\n",
    "DF = pd.read_table(intable, sep=\"\\t\")\n",
    "D = {DF.Run_s[i]:DF.Library_Name_s[i] for i in DF.index}\n",
    "\n",
    "## change file names and move to fastq dir/\n",
    "for fname in glob.glob(\"*.fastq\"):\n",
    "    os.rename(fname, \"analysis_pyrad/fastq/\"+\\\n",
    "                     D[fname.replace(\".fastq\",\".fq\")])"
   ]
  },
  {
   "cell_type": "markdown",
   "metadata": {},
   "source": [
    "### Create a set with reads concatenated from both technical replicates of each sample"
   ]
  },
  {
   "cell_type": "code",
   "execution_count": 1,
   "metadata": {
    "collapsed": true
   },
   "outputs": [],
   "source": [
    "%%bash\n",
    "mkdir -p fastq_combined"
   ]
  },
  {
   "cell_type": "code",
   "execution_count": 26,
   "metadata": {
    "collapsed": false
   },
   "outputs": [
    {
     "name": "stdout",
     "output_type": "stream",
     "text": [
      "cat: /home/deren/Documents/Vib_Lib1/fastq_Lib2/Lib2_lantan_combined_R1_.gz: No such file or directory\n",
      "cat: /home/deren/Documents/Vib_Lib1/fastq_Lib2/Lib2_propiinquum_combined_R1_.gz: No such file or directory\n"
     ]
    }
   ],
   "source": [
    "## IPython code that makes a bash call w/ (!)\n",
    "## get all the data from the two libraries and concatenate it\n",
    "lib1tax = glob.glob(\"/home/deren/Documents/Vib_Lib1/fastq_Lib1/*.gz\")\n",
    "lib2tax = glob.glob(\"/home/deren/Documents/Vib_Lib1/fastq_Lib2/*.gz\")\n",
    "\n",
    "## names had to be modified to match\n",
    "taxa = [i.split(\"/\")[-1].split(\"_\", 1)[1] for i in lib1tax]\n",
    "\n",
    "for tax in taxa:\n",
    "    ! cat /home/deren/Documents/Vib_Lib1/fastq_Lib1/Lib1_$tax \\\n",
    "          /home/deren/Documents/Vib_Lib1/fastq_Lib2/Lib2_$tax \\\n",
    "          > /home/deren/Documents/Vib_Lib1/fastq_combined/$tax "
   ]
  },
  {
   "cell_type": "markdown",
   "metadata": {},
   "source": [
    "## Make a params file"
   ]
  },
  {
   "cell_type": "code",
   "execution_count": 4,
   "metadata": {
    "collapsed": false
   },
   "outputs": [
    {
     "name": "stdout",
     "output_type": "stream",
     "text": [
      "pyRAD 3.0.63\r\n"
     ]
    }
   ],
   "source": [
    "%%bash\n",
    "pyrad --version"
   ]
  },
  {
   "cell_type": "code",
   "execution_count": 5,
   "metadata": {
    "collapsed": false
   },
   "outputs": [
    {
     "name": "stdout",
     "output_type": "stream",
     "text": [
      "\tnew params.txt file created\r\n"
     ]
    }
   ],
   "source": [
    "%%bash\n",
    "## create a new default params file\n",
    "rm params.txt\n",
    "pyrad -n "
   ]
  },
  {
   "cell_type": "code",
   "execution_count": 156,
   "metadata": {
    "collapsed": false
   },
   "outputs": [],
   "source": [
    "%%bash\n",
    "## substitute new parameters into file\n",
    "sed -i '/## 1. /c\\empirical_1/halfrun    ## 1. working directory ' params.txt\n",
    "sed -i '/## 6. /c\\TGCAG                  ## 6. cutters ' params.txt\n",
    "sed -i '/## 7. /c\\30                     ## 7. N processors      ' params.txt\n",
    "sed -i '/## 9. /c\\6                      ## 9. NQual             ' params.txt\n",
    "sed -i '/## 10./c\\.85                    ## 10. clust threshold  ' params.txt\n",
    "sed -i '/## 12./c\\4                      ## 12. MinCov           ' params.txt\n",
    "sed -i '/## 13./c\\10                     ## 13. maxSH            ' params.txt\n",
    "sed -i '/## 14./c\\empirical_1_half_m4    ## 14. output name      ' params.txt\n",
    "sed -i '/## 18./c\\/home/deren/Documents/Vib_Lib1/fastq_Lib1/*.fastq ## 18. data location    ' params.txt\n",
    "sed -i '/## 29./c\\2,2                    ## 29. trim overhang    ' params.txt\n",
    "sed -i '/## 30./c\\p,n,s,a                ## 30. output formats   ' params.txt"
   ]
  },
  {
   "cell_type": "code",
   "execution_count": 157,
   "metadata": {
    "collapsed": false
   },
   "outputs": [
    {
     "name": "stdout",
     "output_type": "stream",
     "text": [
      "==** parameter inputs for pyRAD version 3.0.63  **======================== affected step ==\r\n",
      "empirical_1/halfrun    ## 1. working directory \r\n",
      "./*.fastq.gz              ## 2. Loc. of non-demultiplexed files (if not line 18)  (s1)\r\n",
      "./*.barcodes              ## 3. Loc. of barcode file (if not line 18)             (s1)\r\n",
      "vsearch                   ## 4. command (or path) to call vsearch (or usearch)    (s3,s6)\r\n",
      "muscle                    ## 5. command (or path) to call muscle                  (s3,s7)\r\n",
      "TGCAG                  ## 6. cutters \r\n",
      "30                     ## 7. N processors      \r\n",
      "6                         ## 8. Mindepth: min coverage for a cluster              (s4,s5)\r\n",
      "6                      ## 9. NQual             \r\n",
      ".85                    ## 10. clust threshold  \r\n",
      "rad                       ## 11. Datatype: rad,gbs,pairgbs,pairddrad,(others:see docs)(all)\r\n",
      "4                      ## 12. MinCov           \r\n",
      "10                     ## 13. maxSH            \r\n",
      "empirical_1_half_m4    ## 14. output name      \r\n",
      "==== optional params below this line ===================================  affected step ==\r\n",
      "                       ## 15.opt.: select subset (prefix* only selector)            (s2-s7)\r\n",
      "                       ## 16.opt.: add-on (outgroup) taxa (list or prefix*)         (s6,s7)\r\n",
      "                       ## 17.opt.: exclude taxa (list or prefix*)                   (s7)\r\n",
      "/home/deren/Documents/Vib_Lib1/fastq_Lib1/*.fastq ## 18. data location    \r\n",
      "                       ## 19.opt.: maxM: N mismatches in barcodes (def= 1)          (s1)\r\n",
      "                       ## 20.opt.: phred Qscore offset (def= 33)                    (s2)\r\n",
      "                       ## 21.opt.: filter: def=0=NQual 1=NQual+adapters. 2=strict   (s2)\r\n",
      "                       ## 22.opt.: a priori E,H (def= 0.001,0.01, if not estimated) (s5)\r\n",
      "                       ## 23.opt.: maxN: max Ns in a cons seq (def=5)               (s5)\r\n",
      "                       ## 24.opt.: maxH: max heterozyg. sites in cons seq (def=5)   (s5)\r\n",
      "                       ## 25.opt.: ploidy: max alleles in cons seq (def=2;see docs) (s4,s5)\r\n",
      "                       ## 26.opt.: maxSNPs: (def=100). Paired (def=100,100)         (s7)\r\n",
      "                       ## 27.opt.: maxIndels: within-clust,across-clust (def. 3,99) (s3,s7)\r\n",
      "                       ## 28.opt.: random number seed (def. 112233)              (s3,s6,s7)\r\n",
      "2,2                    ## 29. trim overhang    \r\n",
      "p,n,s,a                ## 30. output formats   \r\n",
      "                       ## 31.opt.: maj. base call at depth>x<mindepth (def.x=mindepth) (s5)\r\n",
      "                       ## 32.opt.: keep trimmed reads (def=0). Enter min length.    (s2)\r\n",
      "                       ## 33.opt.: max stack size (int), def= max(500,mean+2*SD)    (s3)\r\n",
      "                       ## 34.opt.: minDerep: exclude dereps with <= N copies, def=1 (s3)\r\n",
      "                       ## 35.opt.: use hierarchical clustering (def.=0, 1=yes)      (s6)\r\n",
      "                       ## 36.opt.: repeat masking (def.=1='dust' method, 0=no)      (s3,s6)\r\n",
      "                       ## 37.opt.: vsearch max threads per job (def.=6; see docs)   (s3,s6)\r\n",
      "==== optional: list group/clade assignments below this line (see docs) ==================\r\n"
     ]
    }
   ],
   "source": [
    "cat params.txt"
   ]
  },
  {
   "cell_type": "code",
   "execution_count": null,
   "metadata": {
    "collapsed": true
   },
   "outputs": [],
   "source": [
    "%%bash\n",
    "pyrad -p params.txt -s 234567 >> log.txt 2>&1  "
   ]
  },
  {
   "cell_type": "code",
   "execution_count": 53,
   "metadata": {
    "collapsed": false
   },
   "outputs": [],
   "source": [
    "%%bash\n",
    "sed -i '/## 12./c\\2                         ## 12. MinCov           ' params.txt\n",
    "sed -i '/## 14./c\\empirical_1_half_m2       ## 14. output name      ' params.txt"
   ]
  },
  {
   "cell_type": "code",
   "execution_count": 35,
   "metadata": {
    "collapsed": false
   },
   "outputs": [],
   "source": [
    "%%bash\n",
    "pyrad -p params.txt -s 7 >> log.txt 2>&1  "
   ]
  },
  {
   "cell_type": "markdown",
   "metadata": {},
   "source": [
    "### Assemble the full data set\n",
    "Added the 'a' option to output formats to build an \".alleles\" file which will be used later for mrbayes/bucky analyses. "
   ]
  },
  {
   "cell_type": "code",
   "execution_count": 141,
   "metadata": {
    "collapsed": true
   },
   "outputs": [],
   "source": [
    "%%bash\n",
    "## substitute new parameters into file\n",
    "sed -i '/## 1. /c\\empirical_1/fullrun    ## 1. working directory ' params.txt\n",
    "sed -i '/## 6. /c\\TGCAG                  ## 6. cutters ' params.txt\n",
    "sed -i '/## 7. /c\\30                     ## 7. N processors      ' params.txt\n",
    "sed -i '/## 9. /c\\6                      ## 9. NQual             ' params.txt\n",
    "sed -i '/## 10./c\\.85                    ## 10. clust threshold  ' params.txt\n",
    "sed -i '/## 12./c\\4                      ## 12. MinCov           ' params.txt\n",
    "sed -i '/## 13./c\\10                     ## 13. maxSH            ' params.txt\n",
    "sed -i '/## 14./c\\empirical_1_full_m4    ## 14. output name      ' params.txt\n",
    "sed -i '/## 18./c\\/home/deren/Documents/Vib_Lib1/fastq_combined/*.fastq ## 18. data location    ' params.txt\n",
    "sed -i '/## 29./c\\2,2                    ## 29. trim overhang    ' params.txt\n",
    "sed -i '/## 30./c\\p,n,s,a                ## 30. output formats   ' params.txt"
   ]
  },
  {
   "cell_type": "code",
   "execution_count": null,
   "metadata": {
    "collapsed": true
   },
   "outputs": [],
   "source": [
    "%%bash\n",
    "pyrad -p params.txt -s 234567 >> log.txt 2>&1  "
   ]
  },
  {
   "cell_type": "code",
   "execution_count": 49,
   "metadata": {
    "collapsed": true
   },
   "outputs": [],
   "source": [
    "%%bash\n",
    "sed -i '/## 12./c\\2                         ## 12. MinCov           ' params.txt\n",
    "sed -i '/## 14./c\\empirical_1_full_m2       ## 14. output name      ' params.txt"
   ]
  },
  {
   "cell_type": "code",
   "execution_count": 142,
   "metadata": {
    "collapsed": true
   },
   "outputs": [],
   "source": [
    "%%bash\n",
    "pyrad -p params.txt -s 7 >> log.txt 2>&1  "
   ]
  },
  {
   "cell_type": "markdown",
   "metadata": {},
   "source": [
    "## Results\n",
    "We are interested in the relationship between the amount of input (raw) data between any two samples, the average coverage they recover when clustered together, and the phylogenetic distances separating samples.  "
   ]
  },
  {
   "cell_type": "markdown",
   "metadata": {},
   "source": [
    "### Raw data amounts (1 sequence lane)\n",
    "The average number of raw reads per sample is 1.37M."
   ]
  },
  {
   "cell_type": "code",
   "execution_count": 3,
   "metadata": {
    "collapsed": false
   },
   "outputs": [
    {
     "name": "stdout",
     "output_type": "stream",
     "text": [
      "count         65.000000\n",
      "mean     1372359.907692\n",
      "std       640115.353508\n",
      "min       324478.000000\n",
      "25%       961366.000000\n",
      "50%      1249609.000000\n",
      "75%      1602036.000000\n",
      "max      3113934.000000\n",
      "Name: passed.total, dtype: float64\n",
      "\n",
      "most raw data in sample:\n",
      "54    Lib1_sulcatum_D9_MEX_003\n",
      "Name: sample , dtype: object\n"
     ]
    }
   ],
   "source": [
    "## read in the data\n",
    "s2dat = pd.read_table(\"empirical_1/halfrun/stats/s2.rawedit.txt\", header=0, nrows=66)\n",
    "\n",
    "## print summary stats\n",
    "print s2dat[\"passed.total\"].describe()\n",
    "\n",
    "## find which sample has the most raw data\n",
    "maxraw = s2dat[\"passed.total\"].max()\n",
    "print \"\\nmost raw data in sample:\"\n",
    "print s2dat['sample '][s2dat['passed.total']==maxraw]"
   ]
  },
  {
   "cell_type": "markdown",
   "metadata": {},
   "source": [
    "### Raw data amounts (2 sequence lanes)\n",
    "The average nreads now is 2.74M"
   ]
  },
  {
   "cell_type": "code",
   "execution_count": 4,
   "metadata": {
    "collapsed": false
   },
   "outputs": [
    {
     "name": "stdout",
     "output_type": "stream",
     "text": [
      "count         65.000000\n",
      "mean     2736777.215385\n",
      "std      1262460.162891\n",
      "min       643550.000000\n",
      "25%      1918460.000000\n",
      "50%      2519904.000000\n",
      "75%      3215483.000000\n",
      "max      6183790.000000\n",
      "Name: passed.total, dtype: float64\n",
      "\n",
      "most raw data in sample:\n",
      "20    foetidum_D24_KFC_1942\n",
      "Name: sample , dtype: object\n"
     ]
    }
   ],
   "source": [
    "## read in the data\n",
    "s2dat = pd.read_table(\"empirical_1/fullrun/stats/s2.rawedit.txt\", header=0, nrows=66)\n",
    "\n",
    "## print summary stats\n",
    "print s2dat[\"passed.total\"].describe()\n",
    "\n",
    "## find which sample has the most raw data\n",
    "maxraw = s2dat[\"passed.total\"].max()\n",
    "print \"\\nmost raw data in sample:\"\n",
    "print s2dat['sample '][s2dat['passed.total']==maxraw]"
   ]
  },
  {
   "cell_type": "markdown",
   "metadata": {},
   "source": [
    "### Look at distributions of coverage\n",
    "pyrad v.3.0.63 outputs depth information for each sample which I read in here and plot. First let's ask which sample has the highest depth of coverage. The std here is the std in means across samples. The std of depths within individuals is much higher."
   ]
  },
  {
   "cell_type": "code",
   "execution_count": 33,
   "metadata": {
    "collapsed": false
   },
   "outputs": [
    {
     "name": "stdout",
     "output_type": "stream",
     "text": [
      "summary of means\n",
      "==================\n",
      "count    65.000000\n",
      "mean     14.869446\n",
      "std       3.033109\n",
      "min      10.008000\n",
      "25%      12.912000\n",
      "50%      14.197000\n",
      "75%      16.340000\n",
      "max      23.558000\n",
      "Name: dpt.me, dtype: float64\n",
      "\n",
      "summary of std\n",
      "==================\n",
      "count     65.000000\n",
      "mean      72.607323\n",
      "std       57.365233\n",
      "min        9.900000\n",
      "25%       29.634000\n",
      "50%       50.903000\n",
      "75%      103.118000\n",
      "max      262.167000\n",
      "Name: dpt.sd, dtype: float64\n",
      "\n",
      "summary of proportion lowdepth\n",
      "==================\n",
      "count    65.000000\n",
      "mean      0.282502\n",
      "std       0.031652\n",
      "min       0.209510\n",
      "25%       0.271586\n",
      "50%       0.283439\n",
      "75%       0.295572\n",
      "max       0.392641\n",
      "dtype: float64\n",
      "\n",
      "highest coverage in sample:\n",
      "54    Lib1_sulcatum_D9_MEX_003\n",
      "Name: taxa, dtype: object\n"
     ]
    }
   ],
   "source": [
    "## read in the s3 results\n",
    "s3dat = pd.read_table(\"empirical_1/halfrun/stats/s3.clusters.txt\", header=0, nrows=66)\n",
    "\n",
    "## print summary stats\n",
    "print \"summary of means\\n==================\"\n",
    "print s3dat['dpt.me'].describe()\n",
    "\n",
    "## print summary stats\n",
    "print \"\\nsummary of std\\n==================\"\n",
    "print s3dat['dpt.sd'].describe()\n",
    "\n",
    "## print summary stats\n",
    "print \"\\nsummary of proportion lowdepth\\n==================\"\n",
    "print pd.Series(1-s3dat['d>5.tot']/s3dat[\"total\"]).describe()\n",
    "\n",
    "## find which sample has the greatest depth of retained loci\n",
    "maxdepth = s3dat[\"d>5.tot\"].max()\n",
    "print \"\\nhighest coverage in sample:\"\n",
    "print s3dat['taxa'][s3dat['d>5.tot']==maxdepth]"
   ]
  },
  {
   "cell_type": "code",
   "execution_count": 10,
   "metadata": {
    "collapsed": false
   },
   "outputs": [
    {
     "name": "stdout",
     "output_type": "stream",
     "text": [
      "summary of means\n",
      "==================\n",
      "count    65.000000\n",
      "mean     18.535369\n",
      "std       5.564201\n",
      "min      10.011000\n",
      "25%      14.403000\n",
      "50%      17.576000\n",
      "75%      21.119000\n",
      "max      36.199000\n",
      "Name: dpt.me, dtype: float64\n",
      "\n",
      "summary of std\n",
      "==================\n",
      "count     65.000000\n",
      "mean     108.366000\n",
      "std       89.468413\n",
      "min       11.761000\n",
      "25%       43.009000\n",
      "50%       77.229000\n",
      "75%      157.560000\n",
      "max      400.431000\n",
      "Name: dpt.sd, dtype: float64\n",
      "\n",
      "summary of proportion hidepth\n",
      "==================\n",
      "count    65.000000\n",
      "mean      0.252426\n",
      "std       0.041188\n",
      "min       0.153852\n",
      "25%       0.229203\n",
      "50%       0.254315\n",
      "75%       0.278021\n",
      "max       0.371032\n",
      "dtype: float64\n",
      "\n",
      "highest coverage in sample:\n",
      "31    lantanoides_D15_Beartown_2\n",
      "Name: taxa, dtype: object\n"
     ]
    }
   ],
   "source": [
    "## read in the s3 results\n",
    "s3dat = pd.read_table(\"empirical_1/fullrun/stats/s3.clusters.txt\", header=0, nrows=66)\n",
    "\n",
    "## print summary stats\n",
    "print \"summary of means\\n==================\"\n",
    "print s3dat['dpt.me'].describe()\n",
    "\n",
    "## print summary stats\n",
    "print \"\\nsummary of std\\n==================\"\n",
    "print s3dat['dpt.sd'].describe()\n",
    "\n",
    "## print summary stats\n",
    "print \"\\nsummary of proportion hidepth\\n==================\"\n",
    "print pd.Series(1-s3dat['d>5.tot']/s3dat[\"total\"]).describe()\n",
    "\n",
    "## find which sample has the greatest depth of retained loci\n",
    "max_hiprop = (s3dat[\"d>5.tot\"]/s3dat[\"total\"]).max()\n",
    "print \"\\nhighest coverage in sample:\"\n",
    "print s3dat['taxa'][s3dat['d>5.tot']/s3dat[\"total\"]==max_hiprop]"
   ]
  },
  {
   "cell_type": "code",
   "execution_count": 13,
   "metadata": {
    "collapsed": false
   },
   "outputs": [
    {
     "name": "stdout",
     "output_type": "stream",
     "text": [
      "32.3991013699 199.423257009\n"
     ]
    }
   ],
   "source": [
    "## print mean and std of coverage for the highest coverage sample\n",
    "with open(\"empirical_1/fullrun/clust.85/lantanoides_D15_Beartown_2.depths\", 'rb') as indat:\n",
    "    depths = np.array(indat.read().strip().split(\",\"), dtype=int)\n",
    "    \n",
    "print depths.mean(), depths.std()"
   ]
  },
  {
   "cell_type": "code",
   "execution_count": 16,
   "metadata": {
    "collapsed": false
   },
   "outputs": [
    {
     "data": {
      "text/plain": [
       "<toyplot.mark.BarMagnitudes at 0x7fdc49a9d190>"
      ]
     },
     "execution_count": 16,
     "metadata": {},
     "output_type": "execute_result"
    },
    {
     "data": {
      "text/html": [
       "<div align=\"center\" class=\"toyplot\" id=\"tdebc645af773473bba05fc9c0c1067a2\"><svg height=\"300.0px\" id=\"t660a9a0f0a474f92b90fa78e45b78fcd\" preserveAspectRatio=\"xMidyMid meet\" style=\"background-color:transparent;fill:rgb(16.1%,15.3%,14.1%);fill-opacity:1.0;font-family:helvetica;font-size:12px;opacity:1.0;stroke:rgb(16.1%,15.3%,14.1%);stroke-opacity:1.0;stroke-width:1.0\" viewBox=\"0 0 350.0 300.0\" width=\"350.0px\" xmlns=\"http://www.w3.org/2000/svg\" xmlns:toyplot=\"http://www.sandia.gov/toyplot\"><g class=\"toyplot-axes-Cartesian\" id=\"t692b67ade18d46cfa809dfff6be8465c\"><clipPath id=\"td0b9409d011c484d96036eb08d9e3c1d\"><rect height=\"200.0\" width=\"250.0\" x=\"50.0\" y=\"50.0\"></rect></clipPath><g class=\"toyplot-coordinate-events\" clip-path=\"url(#td0b9409d011c484d96036eb08d9e3c1d)\" style=\"cursor:crosshair\"><rect height=\"200.0\" style=\"pointer-events:all;visibility:hidden\" width=\"250.0\" x=\"50.0\" y=\"50.0\"></rect><g class=\"toyplot-mark-BarMagnitudes\" id=\"te1ae6297ce46455080ad575f42052692\" style=\"stroke:rgb(100%,100%,100%);stroke-opacity:1.0;stroke-width:1.0\"><g class=\"toyplot-Series\"><rect class=\"toyplot-Datum\" height=\"0.0\" style=\"fill:rgb(40%,76.1%,64.7%);fill-opacity:1.0;opacity:1.0;stroke:rgb(100%,100%,100%);stroke-opacity:1.0;stroke-width:1.0\" width=\"7.6666666666666714\" x=\"60.0\" y=\"240.0\"></rect><rect class=\"toyplot-Datum\" height=\"179.56800000000001\" style=\"fill:rgb(40%,76.1%,64.7%);fill-opacity:1.0;opacity:1.0;stroke:rgb(100%,100%,100%);stroke-opacity:1.0;stroke-width:1.0\" width=\"7.6666666666666572\" x=\"67.666666666666671\" y=\"60.431999999999988\"></rect><rect class=\"toyplot-Datum\" height=\"101.08799999999999\" style=\"fill:rgb(40%,76.1%,64.7%);fill-opacity:1.0;opacity:1.0;stroke:rgb(100%,100%,100%);stroke-opacity:1.0;stroke-width:1.0\" width=\"7.6666666666666714\" x=\"75.333333333333329\" y=\"138.91200000000001\"></rect><rect class=\"toyplot-Datum\" height=\"79.127999999999986\" style=\"fill:rgb(40%,76.1%,64.7%);fill-opacity:1.0;opacity:1.0;stroke:rgb(100%,100%,100%);stroke-opacity:1.0;stroke-width:1.0\" width=\"7.6666666666666572\" x=\"83.0\" y=\"160.87200000000001\"></rect><rect class=\"toyplot-Datum\" height=\"72.036000000000001\" style=\"fill:rgb(40%,76.1%,64.7%);fill-opacity:1.0;opacity:1.0;stroke:rgb(100%,100%,100%);stroke-opacity:1.0;stroke-width:1.0\" width=\"7.6666666666666714\" x=\"90.666666666666657\" y=\"167.964\"></rect><rect class=\"toyplot-Datum\" height=\"73.584000000000032\" style=\"fill:rgb(40%,76.1%,64.7%);fill-opacity:1.0;opacity:1.0;stroke:rgb(100%,100%,100%);stroke-opacity:1.0;stroke-width:1.0\" width=\"7.6666666666666714\" x=\"98.333333333333329\" y=\"166.41599999999997\"></rect><rect class=\"toyplot-Datum\" height=\"76.536000000000001\" style=\"fill:rgb(40%,76.1%,64.7%);fill-opacity:1.0;opacity:1.0;stroke:rgb(100%,100%,100%);stroke-opacity:1.0;stroke-width:1.0\" width=\"7.6666666666666714\" x=\"106.0\" y=\"163.464\"></rect><rect class=\"toyplot-Datum\" height=\"80.136000000000024\" style=\"fill:rgb(40%,76.1%,64.7%);fill-opacity:1.0;opacity:1.0;stroke:rgb(100%,100%,100%);stroke-opacity:1.0;stroke-width:1.0\" width=\"7.6666666666666572\" x=\"113.66666666666667\" y=\"159.86399999999998\"></rect><rect class=\"toyplot-Datum\" height=\"80.532000000000011\" style=\"fill:rgb(40%,76.1%,64.7%);fill-opacity:1.0;opacity:1.0;stroke:rgb(100%,100%,100%);stroke-opacity:1.0;stroke-width:1.0\" width=\"7.6666666666666714\" x=\"121.33333333333333\" y=\"159.46799999999999\"></rect><rect class=\"toyplot-Datum\" height=\"86.72399999999999\" style=\"fill:rgb(40%,76.1%,64.7%);fill-opacity:1.0;opacity:1.0;stroke:rgb(100%,100%,100%);stroke-opacity:1.0;stroke-width:1.0\" width=\"7.6666666666666572\" x=\"129.0\" y=\"153.27600000000001\"></rect><rect class=\"toyplot-Datum\" height=\"85.608000000000004\" style=\"fill:rgb(40%,76.1%,64.7%);fill-opacity:1.0;opacity:1.0;stroke:rgb(100%,100%,100%);stroke-opacity:1.0;stroke-width:1.0\" width=\"7.6666666666666572\" x=\"136.66666666666666\" y=\"154.392\"></rect><rect class=\"toyplot-Datum\" height=\"88.056000000000012\" style=\"fill:rgb(40%,76.1%,64.7%);fill-opacity:1.0;opacity:1.0;stroke:rgb(100%,100%,100%);stroke-opacity:1.0;stroke-width:1.0\" width=\"7.6666666666666856\" x=\"144.33333333333331\" y=\"151.94399999999999\"></rect><rect class=\"toyplot-Datum\" height=\"82.079999999999984\" style=\"fill:rgb(40%,76.1%,64.7%);fill-opacity:1.0;opacity:1.0;stroke:rgb(100%,100%,100%);stroke-opacity:1.0;stroke-width:1.0\" width=\"7.6666666666666856\" x=\"152.0\" y=\"157.92000000000002\"></rect><rect class=\"toyplot-Datum\" height=\"82.079999999999984\" style=\"fill:rgb(40%,76.1%,64.7%);fill-opacity:1.0;opacity:1.0;stroke:rgb(100%,100%,100%);stroke-opacity:1.0;stroke-width:1.0\" width=\"7.6666666666666572\" x=\"159.66666666666669\" y=\"157.92000000000002\"></rect><rect class=\"toyplot-Datum\" height=\"79.127999999999986\" style=\"fill:rgb(40%,76.1%,64.7%);fill-opacity:1.0;opacity:1.0;stroke:rgb(100%,100%,100%);stroke-opacity:1.0;stroke-width:1.0\" width=\"7.6666666666666572\" x=\"167.33333333333334\" y=\"160.87200000000001\"></rect><rect class=\"toyplot-Datum\" height=\"71.532000000000011\" style=\"fill:rgb(40%,76.1%,64.7%);fill-opacity:1.0;opacity:1.0;stroke:rgb(100%,100%,100%);stroke-opacity:1.0;stroke-width:1.0\" width=\"7.6666666666666572\" x=\"175.0\" y=\"168.46799999999999\"></rect><rect class=\"toyplot-Datum\" height=\"71.460000000000008\" style=\"fill:rgb(40%,76.1%,64.7%);fill-opacity:1.0;opacity:1.0;stroke:rgb(100%,100%,100%);stroke-opacity:1.0;stroke-width:1.0\" width=\"7.6666666666666856\" x=\"182.66666666666666\" y=\"168.53999999999999\"></rect><rect class=\"toyplot-Datum\" height=\"69.948000000000008\" style=\"fill:rgb(40%,76.1%,64.7%);fill-opacity:1.0;opacity:1.0;stroke:rgb(100%,100%,100%);stroke-opacity:1.0;stroke-width:1.0\" width=\"7.6666666666666572\" x=\"190.33333333333334\" y=\"170.05199999999999\"></rect><rect class=\"toyplot-Datum\" height=\"67.068000000000012\" style=\"fill:rgb(40%,76.1%,64.7%);fill-opacity:1.0;opacity:1.0;stroke:rgb(100%,100%,100%);stroke-opacity:1.0;stroke-width:1.0\" width=\"7.6666666666666572\" x=\"198.0\" y=\"172.93199999999999\"></rect><rect class=\"toyplot-Datum\" height=\"63.539999999999992\" style=\"fill:rgb(40%,76.1%,64.7%);fill-opacity:1.0;opacity:1.0;stroke:rgb(100%,100%,100%);stroke-opacity:1.0;stroke-width:1.0\" width=\"7.6666666666666572\" x=\"205.66666666666666\" y=\"176.46000000000001\"></rect><rect class=\"toyplot-Datum\" height=\"63.756\" style=\"fill:rgb(40%,76.1%,64.7%);fill-opacity:1.0;opacity:1.0;stroke:rgb(100%,100%,100%);stroke-opacity:1.0;stroke-width:1.0\" width=\"7.6666666666666856\" x=\"213.33333333333331\" y=\"176.244\"></rect><rect class=\"toyplot-Datum\" height=\"60.984000000000009\" style=\"fill:rgb(40%,76.1%,64.7%);fill-opacity:1.0;opacity:1.0;stroke:rgb(100%,100%,100%);stroke-opacity:1.0;stroke-width:1.0\" width=\"7.6666666666666572\" x=\"221.0\" y=\"179.01599999999999\"></rect><rect class=\"toyplot-Datum\" height=\"62.244\" style=\"fill:rgb(40%,76.1%,64.7%);fill-opacity:1.0;opacity:1.0;stroke:rgb(100%,100%,100%);stroke-opacity:1.0;stroke-width:1.0\" width=\"7.6666666666666856\" x=\"228.66666666666666\" y=\"177.756\"></rect><rect class=\"toyplot-Datum\" height=\"54.143999999999977\" style=\"fill:rgb(40%,76.1%,64.7%);fill-opacity:1.0;opacity:1.0;stroke:rgb(100%,100%,100%);stroke-opacity:1.0;stroke-width:1.0\" width=\"7.6666666666666572\" x=\"236.33333333333334\" y=\"185.85600000000002\"></rect><rect class=\"toyplot-Datum\" height=\"57.312000000000012\" style=\"fill:rgb(40%,76.1%,64.7%);fill-opacity:1.0;opacity:1.0;stroke:rgb(100%,100%,100%);stroke-opacity:1.0;stroke-width:1.0\" width=\"7.6666666666666856\" x=\"244.0\" y=\"182.68799999999999\"></rect><rect class=\"toyplot-Datum\" height=\"53.964000000000027\" style=\"fill:rgb(40%,76.1%,64.7%);fill-opacity:1.0;opacity:1.0;stroke:rgb(100%,100%,100%);stroke-opacity:1.0;stroke-width:1.0\" width=\"7.6666666666666288\" x=\"251.66666666666669\" y=\"186.03599999999997\"></rect><rect class=\"toyplot-Datum\" height=\"54.072000000000003\" style=\"fill:rgb(40%,76.1%,64.7%);fill-opacity:1.0;opacity:1.0;stroke:rgb(100%,100%,100%);stroke-opacity:1.0;stroke-width:1.0\" width=\"7.6666666666666856\" x=\"259.33333333333331\" y=\"185.928\"></rect><rect class=\"toyplot-Datum\" height=\"53.532000000000011\" style=\"fill:rgb(40%,76.1%,64.7%);fill-opacity:1.0;opacity:1.0;stroke:rgb(100%,100%,100%);stroke-opacity:1.0;stroke-width:1.0\" width=\"7.6666666666666856\" x=\"267.0\" y=\"186.46799999999999\"></rect><rect class=\"toyplot-Datum\" height=\"100.15199999999999\" style=\"fill:rgb(40%,76.1%,64.7%);fill-opacity:1.0;opacity:1.0;stroke:rgb(100%,100%,100%);stroke-opacity:1.0;stroke-width:1.0\" width=\"7.6666666666666288\" x=\"274.66666666666669\" y=\"139.84800000000001\"></rect></g></g><g class=\"toyplot-mark-BarMagnitudes\" id=\"ta6944c1e5ac74d9a8a26fce72b842231\" style=\"stroke:rgb(100%,100%,100%);stroke-opacity:1.0;stroke-width:1.0\"><g class=\"toyplot-Series\"><rect class=\"toyplot-Datum\" height=\"0.0\" style=\"fill:rgb(98.8%,55.3%,38.4%);fill-opacity:1.0;opacity:1.0;stroke:rgb(100%,100%,100%);stroke-opacity:1.0;stroke-width:1.0\" width=\"7.6666666666666714\" x=\"60.0\" y=\"240.0\"></rect><rect class=\"toyplot-Datum\" height=\"0.0\" style=\"fill:rgb(98.8%,55.3%,38.4%);fill-opacity:1.0;opacity:1.0;stroke:rgb(100%,100%,100%);stroke-opacity:1.0;stroke-width:1.0\" width=\"7.6666666666666572\" x=\"67.666666666666671\" y=\"240.0\"></rect><rect class=\"toyplot-Datum\" height=\"0.0\" style=\"fill:rgb(98.8%,55.3%,38.4%);fill-opacity:1.0;opacity:1.0;stroke:rgb(100%,100%,100%);stroke-opacity:1.0;stroke-width:1.0\" width=\"7.6666666666666714\" x=\"75.333333333333329\" y=\"240.0\"></rect><rect class=\"toyplot-Datum\" height=\"0.0\" style=\"fill:rgb(98.8%,55.3%,38.4%);fill-opacity:1.0;opacity:1.0;stroke:rgb(100%,100%,100%);stroke-opacity:1.0;stroke-width:1.0\" width=\"7.6666666666666572\" x=\"83.0\" y=\"240.0\"></rect><rect class=\"toyplot-Datum\" height=\"0.0\" style=\"fill:rgb(98.8%,55.3%,38.4%);fill-opacity:1.0;opacity:1.0;stroke:rgb(100%,100%,100%);stroke-opacity:1.0;stroke-width:1.0\" width=\"7.6666666666666714\" x=\"90.666666666666657\" y=\"240.0\"></rect><rect class=\"toyplot-Datum\" height=\"0.0\" style=\"fill:rgb(98.8%,55.3%,38.4%);fill-opacity:1.0;opacity:1.0;stroke:rgb(100%,100%,100%);stroke-opacity:1.0;stroke-width:1.0\" width=\"7.6666666666666714\" x=\"98.333333333333329\" y=\"240.0\"></rect><rect class=\"toyplot-Datum\" height=\"76.536000000000001\" style=\"fill:rgb(98.8%,55.3%,38.4%);fill-opacity:1.0;opacity:1.0;stroke:rgb(100%,100%,100%);stroke-opacity:1.0;stroke-width:1.0\" width=\"7.6666666666666714\" x=\"106.0\" y=\"163.464\"></rect><rect class=\"toyplot-Datum\" height=\"80.136000000000024\" style=\"fill:rgb(98.8%,55.3%,38.4%);fill-opacity:1.0;opacity:1.0;stroke:rgb(100%,100%,100%);stroke-opacity:1.0;stroke-width:1.0\" width=\"7.6666666666666572\" x=\"113.66666666666667\" y=\"159.86399999999998\"></rect><rect class=\"toyplot-Datum\" height=\"80.532000000000011\" style=\"fill:rgb(98.8%,55.3%,38.4%);fill-opacity:1.0;opacity:1.0;stroke:rgb(100%,100%,100%);stroke-opacity:1.0;stroke-width:1.0\" width=\"7.6666666666666714\" x=\"121.33333333333333\" y=\"159.46799999999999\"></rect><rect class=\"toyplot-Datum\" height=\"86.72399999999999\" style=\"fill:rgb(98.8%,55.3%,38.4%);fill-opacity:1.0;opacity:1.0;stroke:rgb(100%,100%,100%);stroke-opacity:1.0;stroke-width:1.0\" width=\"7.6666666666666572\" x=\"129.0\" y=\"153.27600000000001\"></rect><rect class=\"toyplot-Datum\" height=\"85.608000000000004\" style=\"fill:rgb(98.8%,55.3%,38.4%);fill-opacity:1.0;opacity:1.0;stroke:rgb(100%,100%,100%);stroke-opacity:1.0;stroke-width:1.0\" width=\"7.6666666666666572\" x=\"136.66666666666666\" y=\"154.392\"></rect><rect class=\"toyplot-Datum\" height=\"88.056000000000012\" style=\"fill:rgb(98.8%,55.3%,38.4%);fill-opacity:1.0;opacity:1.0;stroke:rgb(100%,100%,100%);stroke-opacity:1.0;stroke-width:1.0\" width=\"7.6666666666666856\" x=\"144.33333333333331\" y=\"151.94399999999999\"></rect><rect class=\"toyplot-Datum\" height=\"82.079999999999984\" style=\"fill:rgb(98.8%,55.3%,38.4%);fill-opacity:1.0;opacity:1.0;stroke:rgb(100%,100%,100%);stroke-opacity:1.0;stroke-width:1.0\" width=\"7.6666666666666856\" x=\"152.0\" y=\"157.92000000000002\"></rect><rect class=\"toyplot-Datum\" height=\"82.079999999999984\" style=\"fill:rgb(98.8%,55.3%,38.4%);fill-opacity:1.0;opacity:1.0;stroke:rgb(100%,100%,100%);stroke-opacity:1.0;stroke-width:1.0\" width=\"7.6666666666666572\" x=\"159.66666666666669\" y=\"157.92000000000002\"></rect><rect class=\"toyplot-Datum\" height=\"79.127999999999986\" style=\"fill:rgb(98.8%,55.3%,38.4%);fill-opacity:1.0;opacity:1.0;stroke:rgb(100%,100%,100%);stroke-opacity:1.0;stroke-width:1.0\" width=\"7.6666666666666572\" x=\"167.33333333333334\" y=\"160.87200000000001\"></rect><rect class=\"toyplot-Datum\" height=\"71.532000000000011\" style=\"fill:rgb(98.8%,55.3%,38.4%);fill-opacity:1.0;opacity:1.0;stroke:rgb(100%,100%,100%);stroke-opacity:1.0;stroke-width:1.0\" width=\"7.6666666666666572\" x=\"175.0\" y=\"168.46799999999999\"></rect><rect class=\"toyplot-Datum\" height=\"71.460000000000008\" style=\"fill:rgb(98.8%,55.3%,38.4%);fill-opacity:1.0;opacity:1.0;stroke:rgb(100%,100%,100%);stroke-opacity:1.0;stroke-width:1.0\" width=\"7.6666666666666856\" x=\"182.66666666666666\" y=\"168.53999999999999\"></rect><rect class=\"toyplot-Datum\" height=\"69.948000000000008\" style=\"fill:rgb(98.8%,55.3%,38.4%);fill-opacity:1.0;opacity:1.0;stroke:rgb(100%,100%,100%);stroke-opacity:1.0;stroke-width:1.0\" width=\"7.6666666666666572\" x=\"190.33333333333334\" y=\"170.05199999999999\"></rect><rect class=\"toyplot-Datum\" height=\"67.068000000000012\" style=\"fill:rgb(98.8%,55.3%,38.4%);fill-opacity:1.0;opacity:1.0;stroke:rgb(100%,100%,100%);stroke-opacity:1.0;stroke-width:1.0\" width=\"7.6666666666666572\" x=\"198.0\" y=\"172.93199999999999\"></rect><rect class=\"toyplot-Datum\" height=\"63.539999999999992\" style=\"fill:rgb(98.8%,55.3%,38.4%);fill-opacity:1.0;opacity:1.0;stroke:rgb(100%,100%,100%);stroke-opacity:1.0;stroke-width:1.0\" width=\"7.6666666666666572\" x=\"205.66666666666666\" y=\"176.46000000000001\"></rect><rect class=\"toyplot-Datum\" height=\"63.756\" style=\"fill:rgb(98.8%,55.3%,38.4%);fill-opacity:1.0;opacity:1.0;stroke:rgb(100%,100%,100%);stroke-opacity:1.0;stroke-width:1.0\" width=\"7.6666666666666856\" x=\"213.33333333333331\" y=\"176.244\"></rect><rect class=\"toyplot-Datum\" height=\"60.984000000000009\" style=\"fill:rgb(98.8%,55.3%,38.4%);fill-opacity:1.0;opacity:1.0;stroke:rgb(100%,100%,100%);stroke-opacity:1.0;stroke-width:1.0\" width=\"7.6666666666666572\" x=\"221.0\" y=\"179.01599999999999\"></rect><rect class=\"toyplot-Datum\" height=\"62.244\" style=\"fill:rgb(98.8%,55.3%,38.4%);fill-opacity:1.0;opacity:1.0;stroke:rgb(100%,100%,100%);stroke-opacity:1.0;stroke-width:1.0\" width=\"7.6666666666666856\" x=\"228.66666666666666\" y=\"177.756\"></rect><rect class=\"toyplot-Datum\" height=\"54.143999999999977\" style=\"fill:rgb(98.8%,55.3%,38.4%);fill-opacity:1.0;opacity:1.0;stroke:rgb(100%,100%,100%);stroke-opacity:1.0;stroke-width:1.0\" width=\"7.6666666666666572\" x=\"236.33333333333334\" y=\"185.85600000000002\"></rect><rect class=\"toyplot-Datum\" height=\"57.312000000000012\" style=\"fill:rgb(98.8%,55.3%,38.4%);fill-opacity:1.0;opacity:1.0;stroke:rgb(100%,100%,100%);stroke-opacity:1.0;stroke-width:1.0\" width=\"7.6666666666666856\" x=\"244.0\" y=\"182.68799999999999\"></rect><rect class=\"toyplot-Datum\" height=\"53.964000000000027\" style=\"fill:rgb(98.8%,55.3%,38.4%);fill-opacity:1.0;opacity:1.0;stroke:rgb(100%,100%,100%);stroke-opacity:1.0;stroke-width:1.0\" width=\"7.6666666666666288\" x=\"251.66666666666669\" y=\"186.03599999999997\"></rect><rect class=\"toyplot-Datum\" height=\"54.072000000000003\" style=\"fill:rgb(98.8%,55.3%,38.4%);fill-opacity:1.0;opacity:1.0;stroke:rgb(100%,100%,100%);stroke-opacity:1.0;stroke-width:1.0\" width=\"7.6666666666666856\" x=\"259.33333333333331\" y=\"185.928\"></rect><rect class=\"toyplot-Datum\" height=\"53.532000000000011\" style=\"fill:rgb(98.8%,55.3%,38.4%);fill-opacity:1.0;opacity:1.0;stroke:rgb(100%,100%,100%);stroke-opacity:1.0;stroke-width:1.0\" width=\"7.6666666666666856\" x=\"267.0\" y=\"186.46799999999999\"></rect><rect class=\"toyplot-Datum\" height=\"100.15199999999999\" style=\"fill:rgb(98.8%,55.3%,38.4%);fill-opacity:1.0;opacity:1.0;stroke:rgb(100%,100%,100%);stroke-opacity:1.0;stroke-width:1.0\" width=\"7.6666666666666288\" x=\"274.66666666666669\" y=\"139.84800000000001\"></rect></g></g></g><g class=\"toyplot-coordinates\" style=\"visibility:hidden\"><rect height=\"14.0\" style=\"fill:rgb(100%,100%,100%);fill-opacity:1.0;opacity:0.75;stroke:none\" width=\"90.0\" x=\"200.0\" y=\"60.0\"></rect><text style=\"alignment-baseline:middle;font-size:10px;font-weight:normal;stroke:none;text-anchor:middle\" x=\"245.0\" y=\"67.0\"></text></g><line style=\"\" x1=\"60.0\" x2=\"282.3333333333333\" y1=\"250.0\" y2=\"250.0\"></line><g><text style=\"alignment-baseline:middle;baseline-shift:-80%;font-size:10px;font-weight:normal;stroke:none;text-anchor:middle\" x=\"60.0\" y=\"250.0\">0</text><text style=\"alignment-baseline:middle;baseline-shift:-80%;font-size:10px;font-weight:normal;stroke:none;text-anchor:middle\" x=\"136.66666666666666\" y=\"250.0\">10</text><text style=\"alignment-baseline:middle;baseline-shift:-80%;font-size:10px;font-weight:normal;stroke:none;text-anchor:middle\" x=\"213.33333333333331\" y=\"250.0\">20</text><text style=\"alignment-baseline:middle;baseline-shift:-80%;font-size:10px;font-weight:normal;stroke:none;text-anchor:middle\" x=\"290.0\" y=\"250.0\">30</text></g><text style=\"alignment-baseline:middle;baseline-shift:-200%;font-weight:bold;stroke:none;text-anchor:middle\" x=\"175.0\" y=\"250.0\">Depth of coverage (N reads)</text><line style=\"\" x1=\"50.0\" x2=\"50.0\" y1=\"60.43199999999999\" y2=\"240.0\"></line><g><text style=\"alignment-baseline:middle;baseline-shift:80%;font-size:10px;font-weight:normal;stroke:none;text-anchor:middle\" transform=\"rotate(-90, 50.0, 240.0)\" x=\"50.0\" y=\"240.0\">0</text><text style=\"alignment-baseline:middle;baseline-shift:80%;font-size:10px;font-weight:normal;stroke:none;text-anchor:middle\" transform=\"rotate(-90, 50.0, 204.0)\" x=\"50.0\" y=\"204.0\">1000</text><text style=\"alignment-baseline:middle;baseline-shift:80%;font-size:10px;font-weight:normal;stroke:none;text-anchor:middle\" transform=\"rotate(-90, 50.0, 168.0)\" x=\"50.0\" y=\"168.0\">2000</text><text style=\"alignment-baseline:middle;baseline-shift:80%;font-size:10px;font-weight:normal;stroke:none;text-anchor:middle\" transform=\"rotate(-90, 50.0, 132.0)\" x=\"50.0\" y=\"132.0\">3000</text><text style=\"alignment-baseline:middle;baseline-shift:80%;font-size:10px;font-weight:normal;stroke:none;text-anchor:middle\" transform=\"rotate(-90, 50.0, 95.99999999999999)\" x=\"50.0\" y=\"95.99999999999999\">4000</text><text style=\"alignment-baseline:middle;baseline-shift:80%;font-size:10px;font-weight:normal;stroke:none;text-anchor:middle\" transform=\"rotate(-90, 50.0, 60.0)\" x=\"50.0\" y=\"60.0\">5000</text></g><text style=\"alignment-baseline:middle;baseline-shift:200%;font-weight:bold;stroke:none;text-anchor:middle\" transform=\"rotate(-90, 50.0, 150.0)\" x=\"50.0\" y=\"150.0\">N loci</text><text style=\"alignment-baseline:middle;baseline-shift:100%;font-size:14px;font-weight:bold;stroke:none;text-anchor:middle\" x=\"175.0\" y=\"50.0\">dataset1/sample=sulcatum_D9_MEX_003</text></g></svg><div class=\"toyplot-controls\"><ul class=\"toyplot-mark-popup\" onmouseleave=\"this.style.visibility='hidden'\" style=\"background:rgba(0%,0%,0%,0.75);border:0;border-radius:6px;color:white;cursor:default;list-style:none;margin:0;padding:5px;position:fixed;visibility:hidden\"><li class=\"toyplot-mark-popup-title\" style=\"color:lightgray;cursor:default;padding:5px;list-style:none;margin:0;\"></li><li class=\"toyplot-mark-popup-save-csv\" onmouseout=\"this.style.color='white';this.style.background='steelblue'\" onmouseover=\"this.style.color='steelblue';this.style.background='white'\" style=\"border-radius:3px;padding:5px;list-style:none;margin:0;\">Save as .csv</li></ul><script>\n",
       "(function()\n",
       "{\n",
       "  if(window.CSS !== undefined && window.CSS.supports !== undefined)\n",
       "  {\n",
       "    if(!window.CSS.supports(\"alignment-baseline\", \"middle\"))\n",
       "    {\n",
       "      var re = /\\s*alignment-baseline\\s*:\\s*([^;\\s]*)\\s*/;\n",
       "      var text = document.querySelectorAll(\"#tdebc645af773473bba05fc9c0c1067a2 text\");\n",
       "      for(var i = 0; i != text.length; ++i)\n",
       "      {\n",
       "        var match = re.exec(text[i].attributes.style.value);\n",
       "        if(match)\n",
       "        {\n",
       "          if(match[1] == \"middle\")\n",
       "          {\n",
       "            var style = getComputedStyle(text[i]);\n",
       "            var font_size = style.fontSize.substr(0, style.fontSize.length - 2);\n",
       "            var dy = text[i].dy.baseVal.length ? text[i].dy.baseVal[0].value : 0;\n",
       "            dy += 0.4 * font_size;\n",
       "            text[i].setAttribute(\"dy\", dy);\n",
       "          }\n",
       "        }\n",
       "      }\n",
       "    }\n",
       "    if(!window.CSS.supports(\"baseline-shift\", \"0\"))\n",
       "    {\n",
       "      var re = /\\s*baseline-shift\\s*:\\s*([^;\\s]*)\\s*/;\n",
       "      var text = document.querySelectorAll(\"#tdebc645af773473bba05fc9c0c1067a2 text\");\n",
       "      for(var i = 0; i != text.length; ++i)\n",
       "      {\n",
       "        var match = re.exec(text[i].attributes.style.value);\n",
       "        if(match)\n",
       "        {\n",
       "          var style = getComputedStyle(text[i]);\n",
       "          var font_size = style.fontSize.substr(0, style.fontSize.length - 2);\n",
       "          var percent = 0.01 * match[1].substr(0, match[1].length-1);\n",
       "          var dy = text[i].dy.baseVal.length ? text[i].dy.baseVal[0].value : 0;\n",
       "          dy -= percent * font_size\n",
       "          text[i].setAttribute(\"dy\", dy);\n",
       "        }\n",
       "      }\n",
       "    }\n",
       "  }\n",
       "})();\n",
       "</script><script>\n",
       "(function()\n",
       "{\n",
       "  var data_tables = [{\"data\": [[0, 1, 2, 3, 4, 5, 6, 7, 8, 9, 10, 11, 12, 13, 14, 15, 16, 17, 18, 19, 20, 21, 22, 23, 24, 25, 26, 27, 28], [1, 2, 3, 4, 5, 6, 7, 8, 9, 10, 11, 12, 13, 14, 15, 16, 17, 18, 19, 20, 21, 22, 23, 24, 25, 26, 27, 28, 29], [0.0, 0.0, 0.0, 0.0, 0.0, 0.0, 0.0, 0.0, 0.0, 0.0, 0.0, 0.0, 0.0, 0.0, 0.0, 0.0, 0.0, 0.0, 0.0, 0.0, 0.0, 0.0, 0.0, 0.0, 0.0, 0.0, 0.0, 0.0, 0.0], [0.0, 4988.0, 2808.0, 2198.0, 2001.0, 2044.0, 2126.0, 2226.0, 2237.0, 2409.0, 2378.0, 2446.0, 2280.0, 2280.0, 2198.0, 1987.0, 1985.0, 1943.0, 1863.0, 1765.0, 1771.0, 1694.0, 1729.0, 1504.0, 1592.0, 1499.0, 1502.0, 1487.0, 2782.0]], \"title\": \"Bar Data\", \"names\": [\"left\", \"right\", \"baseline\", \"magnitude0\"], \"id\": \"te1ae6297ce46455080ad575f42052692\", \"filename\": \"toyplot\"}, {\"data\": [[0, 1, 2, 3, 4, 5, 6, 7, 8, 9, 10, 11, 12, 13, 14, 15, 16, 17, 18, 19, 20, 21, 22, 23, 24, 25, 26, 27, 28], [1, 2, 3, 4, 5, 6, 7, 8, 9, 10, 11, 12, 13, 14, 15, 16, 17, 18, 19, 20, 21, 22, 23, 24, 25, 26, 27, 28, 29], [0.0, 0.0, 0.0, 0.0, 0.0, 0.0, 0.0, 0.0, 0.0, 0.0, 0.0, 0.0, 0.0, 0.0, 0.0, 0.0, 0.0, 0.0, 0.0, 0.0, 0.0, 0.0, 0.0, 0.0, 0.0, 0.0, 0.0, 0.0, 0.0], [0.0, 0.0, 0.0, 0.0, 0.0, 0.0, 2126.0, 2226.0, 2237.0, 2409.0, 2378.0, 2446.0, 2280.0, 2280.0, 2198.0, 1987.0, 1985.0, 1943.0, 1863.0, 1765.0, 1771.0, 1694.0, 1729.0, 1504.0, 1592.0, 1499.0, 1502.0, 1487.0, 2782.0]], \"title\": \"Bar Data\", \"names\": [\"left\", \"right\", \"baseline\", \"magnitude0\"], \"id\": \"ta6944c1e5ac74d9a8a26fce72b842231\", \"filename\": \"toyplot\"}];\n",
       "\n",
       "  function save_csv(data_table)\n",
       "  {\n",
       "    var uri = \"data:text/csv;charset=utf-8,\";\n",
       "    uri += data_table.names.join(\",\") + \"\\n\";\n",
       "    for(var i = 0; i != data_table.data[0].length; ++i)\n",
       "    {\n",
       "      for(var j = 0; j != data_table.data.length; ++j)\n",
       "      {\n",
       "        if(j)\n",
       "          uri += \",\";\n",
       "        uri += data_table.data[j][i];\n",
       "      }\n",
       "      uri += \"\\n\";\n",
       "    }\n",
       "    uri = encodeURI(uri);\n",
       "\n",
       "    var link = document.createElement(\"a\");\n",
       "    if(typeof link.download != \"undefined\")\n",
       "    {\n",
       "      link.href = uri;\n",
       "      link.style = \"visibility:hidden\";\n",
       "      link.download = data_table.filename + \".csv\";\n",
       "\n",
       "      document.body.appendChild(link);\n",
       "      link.click();\n",
       "      document.body.removeChild(link);\n",
       "    }\n",
       "    else\n",
       "    {\n",
       "      window.open(uri);\n",
       "    }\n",
       "  }\n",
       "\n",
       "  function open_popup(data_table)\n",
       "  {\n",
       "    return function(e)\n",
       "    {\n",
       "      var popup = document.querySelector(\"#tdebc645af773473bba05fc9c0c1067a2 .toyplot-mark-popup\");\n",
       "      popup.querySelector(\".toyplot-mark-popup-title\").innerHTML = data_table.title;\n",
       "      popup.querySelector(\".toyplot-mark-popup-save-csv\").onclick = function() { popup.style.visibility = \"hidden\"; save_csv(data_table); }\n",
       "      popup.style.left = (e.clientX - 50) + \"px\";\n",
       "      popup.style.top = (e.clientY - 20) + \"px\";\n",
       "      popup.style.visibility = \"visible\";\n",
       "      e.stopPropagation();\n",
       "      e.preventDefault();\n",
       "    }\n",
       "\n",
       "  }\n",
       "\n",
       "  for(var i = 0; i != data_tables.length; ++i)\n",
       "  {\n",
       "    var data_table = data_tables[i];\n",
       "    var event_target = document.querySelector(\"#\" + data_table.id);\n",
       "    event_target.oncontextmenu = open_popup(data_table);\n",
       "  }\n",
       "})();\n",
       "</script><script>\n",
       "(function()\n",
       "{\n",
       "  var axes = {\"t692b67ade18d46cfa809dfff6be8465c\": {\"x\": [{\"domain\": {\"bounds\": {\"max\": Infinity, \"min\": -Infinity}, \"max\": 30.0, \"min\": 0}, \"range\": {\"bounds\": {\"max\": Infinity, \"min\": -Infinity}, \"max\": 290.0, \"min\": 60.0}, \"scale\": \"linear\"}], \"y\": [{\"domain\": {\"bounds\": {\"max\": Infinity, \"min\": -Infinity}, \"max\": 5000.0, \"min\": 0.0}, \"range\": {\"bounds\": {\"max\": -Infinity, \"min\": Infinity}, \"max\": 60.0, \"min\": 240.0}, \"scale\": \"linear\"}]}};\n",
       "\n",
       "  function sign(x)\n",
       "  {\n",
       "    return x < 0 ? -1 : x > 0 ? 1 : 0;\n",
       "  }\n",
       "\n",
       "  function _mix(a, b, amount)\n",
       "  {\n",
       "    return ((1.0 - amount) * a) + (amount * b);\n",
       "  }\n",
       "\n",
       "  function _log(x, base)\n",
       "  {\n",
       "    return Math.log(Math.abs(x)) / Math.log(base);\n",
       "  }\n",
       "\n",
       "  function _in_range(a, x, b)\n",
       "  {\n",
       "    var left = Math.min(a, b);\n",
       "    var right = Math.max(a, b);\n",
       "    return left <= x && x <= right;\n",
       "  }\n",
       "\n",
       "  function to_domain(projection, range)\n",
       "  {\n",
       "    for(var i = 0; i != projection.length; ++i)\n",
       "    {\n",
       "      var segment = projection[i];\n",
       "      if(_in_range(segment.range.bounds.min, range, segment.range.bounds.max))\n",
       "      {\n",
       "        if(segment.scale == \"linear\")\n",
       "        {\n",
       "          var amount = (range - segment.range.min) / (segment.range.max - segment.range.min);\n",
       "          return _mix(segment.domain.min, segment.domain.max, amount)\n",
       "        }\n",
       "        else if(segment.scale[0] == \"log\")\n",
       "        {\n",
       "          var amount = (range - segment.range.min) / (segment.range.max - segment.range.min);\n",
       "          var base = segment.scale[1];\n",
       "          return sign(segment.domain.min) * Math.pow(base, _mix(_log(segment.domain.min, base), _log(segment.domain.max, base), amount));\n",
       "        }\n",
       "      }\n",
       "    }\n",
       "  }\n",
       "\n",
       "  // Compute mouse coordinates relative to a DOM object, with thanks to d3js.org, where this code originated.\n",
       "  function d3_mousePoint(container, e)\n",
       "  {\n",
       "    if (e.changedTouches) e = e.changedTouches[0];\n",
       "    var svg = container.ownerSVGElement || container;\n",
       "    if (svg.createSVGPoint) {\n",
       "      var point = svg.createSVGPoint();\n",
       "      point.x = e.clientX, point.y = e.clientY;\n",
       "      point = point.matrixTransform(container.getScreenCTM().inverse());\n",
       "      return [point.x, point.y];\n",
       "    }\n",
       "    var rect = container.getBoundingClientRect();\n",
       "    return [e.clientX - rect.left - container.clientLeft, e.clientY - rect.top - container.clientTop];\n",
       "  };\n",
       "\n",
       "  function display_coordinates(e)\n",
       "  {\n",
       "    var dom_axes = e.currentTarget.parentElement;\n",
       "    var data = axes[dom_axes.id];\n",
       "\n",
       "    point = d3_mousePoint(e.target, e);\n",
       "    var x = Number(to_domain(data[\"x\"], point[0])).toFixed(2);\n",
       "    var y = Number(to_domain(data[\"y\"], point[1])).toFixed(2);\n",
       "\n",
       "    var coordinates = dom_axes.querySelectorAll(\".toyplot-coordinates\");\n",
       "    for(var i = 0; i != coordinates.length; ++i)\n",
       "    {\n",
       "      coordinates[i].style.visibility = \"visible\";\n",
       "      coordinates[i].querySelector(\"text\").textContent = \"x=\" + x + \" y=\" + y;\n",
       "    }\n",
       "  }\n",
       "\n",
       "  function clear_coordinates(e)\n",
       "  {\n",
       "    var dom_axes = e.currentTarget.parentElement;\n",
       "    var coordinates = dom_axes.querySelectorAll(\".toyplot-coordinates\");\n",
       "    for(var i = 0; i != coordinates.length; ++i)\n",
       "      coordinates[i].style.visibility = \"hidden\";\n",
       "  }\n",
       "\n",
       "  for(var axes_id in axes)\n",
       "  {\n",
       "    var event_target = document.querySelector(\"#\" + axes_id + \" .toyplot-coordinate-events\");\n",
       "    event_target.onmousemove = display_coordinates;\n",
       "    event_target.onmouseout = clear_coordinates;\n",
       "  }\n",
       "})();\n",
       "</script></div></div>"
      ],
      "text/plain": [
       "<toyplot.canvas.Canvas at 0x7fdc4837e9d0>"
      ]
     },
     "metadata": {},
     "output_type": "display_data"
    }
   ],
   "source": [
    "import toyplot\n",
    "import toyplot.svg\n",
    "import numpy as np\n",
    "\n",
    "## read in the depth information for this sample\n",
    "with open(\"empirical_1/fullrun/clust.85/lantanoides_D15_Beartown_2.depths\", 'rb') as indat:\n",
    "    depths = np.array(indat.read().strip().split(\",\"), dtype=int)\n",
    "    \n",
    "## make a barplot in Toyplot\n",
    "canvas = toyplot.Canvas(width=350, height=300)\n",
    "axes = canvas.axes(xlabel=\"Depth of coverage (N reads)\", \n",
    "                   ylabel=\"N loci\",\n",
    "                   label=\"dataset1/sample=sulcatum_D9_MEX_003\")\n",
    "\n",
    "## select the loci with depth > 5 (kept)\n",
    "keeps = depths[depths>5]\n",
    "\n",
    "## plot kept and discarded loci\n",
    "edat = np.histogram(depths, range(30)) # density=True)\n",
    "kdat = np.histogram(keeps, range(30)) #, density=True)\n",
    "axes.bars(edat)\n",
    "axes.bars(kdat)\n",
    "\n",
    "#toyplot.svg.render(canvas, \"empirical_1_full_depthplot.svg\")"
   ]
  },
  {
   "cell_type": "code",
   "execution_count": 83,
   "metadata": {
    "collapsed": false
   },
   "outputs": [
    {
     "name": "stdout",
     "output_type": "stream",
     "text": [
      "\r\n",
      "\r\n",
      "144161      ## loci with > minsp containing data\r\n",
      "143948      ## loci with > minsp containing data & paralogs removed\r\n",
      "143948      ## loci with > minsp containing data & paralogs removed & final filtering\r\n",
      "\r\n",
      "## number of loci recovered in final data set for each taxon.\r\n",
      "taxon\tnloci\r\n",
      "Lib1_acerfolium_ELS88          \t41968\r\n",
      "Lib1_acutifolium_DRY3_MEX_006  \t31990\r\n",
      "Lib1_amplificatum_D3_SAN_156003\t24211\r\n",
      "Lib1_anamensis_C6_PWS_2094     \t10955\r\n",
      "Lib1_beccarii_combinedX        \t26054\r\n",
      "Lib1_betulifolium              \t23739\r\n",
      "Lib1_bitchuense_combined       \t19268\r\n",
      "Lib1_carlesii_D1_BP_001        \t42273\r\n",
      "Lib1_cassinoides_ELS2          \t25549\r\n",
      "Lib1_cinnamomifolium_PWS2105X  \t29976\r\n",
      "Lib1_clemensiae_DRY6_PWS_2135  \t31519\r\n",
      "Lib1_coriaceum_combined        \t26857\r\n",
      "Lib1_cylindricum_DRY1_WC_268   \t32747\r\n",
      "Lib1_davidii_D32_WC_269        \t37651\r\n",
      "Lib1_dentatum_ELS4             \t40230\r\n",
      "Lib1_dilatatum_ELS45           \t37037\r\n",
      "Lib1_erosum_D23_MJDJP_4        \t28689\r\n",
      "Lib1_erubescens_RCW36          \t22413\r\n",
      "Lib1_farreri_RCW21             \t27313\r\n",
      "Lib1_foetens_ERAD10            \t11437\r\n",
      "Lib1_foetidum_D24_KFC_1942     \t39936\r\n",
      "Lib1_formosanum_C7_JH_2007     \t3797\r\n",
      "Lib1_furcatum_combined         \t21882\r\n",
      "Lib1_glaberrimum_D34_PWS_2323  \t27587\r\n",
      "Lib1_grandiflorum_ERAD11_Wendy \t12655\r\n",
      "Lib1_hanceanum_D4_PWS_2195     \t28252\r\n",
      "Lib1_henryi_D22_WC_272         \t16184\r\n",
      "Lib1_integrifolium_D25_KFC_1946\t34016\r\n",
      "Lib1_jamesonii_D12_PWS_1636    \t29455\r\n",
      "Lib1_japonicum_D26_WC_273      \t46474\r\n",
      "Lib1_lantana_combined          \t25166\r\n",
      "Lib1_lantanoides_D15_Beartown_2\t36966\r\n",
      "Lib1_lentago_ELS85             \t25759\r\n",
      "Lib1_lutescens_D35_PWS_2077    \t31943\r\n",
      "Lib1_luzonicum_D27_9M_2005     \t35934\r\n",
      "Lib1_macrocephalum_D2_WC_284   \t27360\r\n",
      "Lib1_muhalla_D28_WC_274        \t39682\r\n",
      "Lib1_nervosum_C4_PWS_2298      \t22191\r\n",
      "Lib1_odoratissimum_combined    \t17368\r\n",
      "Lib1_opulus_D6_WC_250          \t26534\r\n",
      "Lib1_orientale_DRY2_MJD_GEORGIA\t36299\r\n",
      "Lib1_parvifolium_D29_KFC_1953  \t46443\r\n",
      "Lib1_plicatum_C1_MJDJP_12      \t21943\r\n",
      "Lib1_propinquum_DRY4_WC_276    \t35837\r\n",
      "Lib1_prunifolium_ELS57         \t29395\r\n",
      "Lib1_punctatum_D19_PWS_2097    \t35392\r\n",
      "Lib1_recognitum_AA_1471_83B    \t27517\r\n",
      "Lib1_rhytidophyllum            \t26189\r\n",
      "Lib1_rufidulum_ELS25           \t22054\r\n",
      "Lib1_sambucina_D20_PWS_2100    \t31266\r\n",
      "Lib1_sargentii_RCW19           \t21166\r\n",
      "Lib1_sempervirens_combined     \t20609\r\n",
      "Lib1_setigerum                 \t38816\r\n",
      "Lib1_sieboldii_AA_616_6B       \t15182\r\n",
      "Lib1_sulcatum_D9_MEX_003       \t26087\r\n",
      "Lib1_suspensum_C5_MJD_111711   \t24471\r\n",
      "Lib1_sympodiale_D18_KFC_1932   \t37477\r\n",
      "Lib1_taiwanianum_TW1_KFC_1952  \t25293\r\n",
      "Lib1_tashiori_D30_TET_YAH      \t40603\r\n",
      "Lib1_tinus_D33_WC_277          \t35049\r\n",
      "Lib1_triphyllum_D13_PWS_1783   \t29055\r\n",
      "Lib1_urceolatum_MJD_Japan_8    \t18009\r\n",
      "Lib1_veitchii                  \t26094\r\n",
      "Lib1_vernicosum_D21_PWS_2123   \t31675\r\n",
      "Lib1_wrightii_D31_MJDJP_1      \t36417\r\n",
      "\r\n",
      "\r\n",
      "## nloci = number of loci with data for exactly ntaxa\r\n",
      "## ntotal = number of loci for which at least ntaxa have data\r\n",
      "ntaxa\tnloci\tsaved\tntotal\r\n",
      "1\t-\r\n",
      "2\t-\t\t-\r\n",
      "3\t-\t\t-\r\n",
      "4\t24191\t*\t143948\r\n",
      "5\t15346\t*\t119757\r\n",
      "6\t10842\t*\t104411\r\n",
      "7\t8551\t*\t93569\r\n",
      "8\t6854\t*\t85018\r\n",
      "9\t5781\t*\t78164\r\n",
      "10\t5066\t*\t72383\r\n",
      "11\t4729\t*\t67317\r\n",
      "12\t4282\t*\t62588\r\n",
      "13\t4017\t*\t58306\r\n",
      "14\t3664\t*\t54289\r\n",
      "15\t3495\t*\t50625\r\n",
      "16\t3397\t*\t47130\r\n",
      "17\t3251\t*\t43733\r\n",
      "18\t3065\t*\t40482\r\n",
      "19\t2990\t*\t37417\r\n",
      "20\t2911\t*\t34427\r\n",
      "21\t2880\t*\t31516\r\n",
      "22\t2732\t*\t28636\r\n",
      "23\t2665\t*\t25904\r\n",
      "24\t2697\t*\t23239\r\n",
      "25\t2444\t*\t20542\r\n",
      "26\t2379\t*\t18098\r\n",
      "27\t2131\t*\t15719\r\n",
      "28\t2087\t*\t13588\r\n",
      "29\t1897\t*\t11501\r\n",
      "30\t1686\t*\t9604\r\n",
      "31\t1503\t*\t7918\r\n",
      "32\t1299\t*\t6415\r\n",
      "33\t1106\t*\t5116\r\n",
      "34\t948\t*\t4010\r\n",
      "35\t748\t*\t3062\r\n",
      "36\t602\t*\t2314\r\n",
      "37\t473\t*\t1712\r\n",
      "38\t335\t*\t1239\r\n",
      "39\t242\t*\t904\r\n",
      "40\t185\t*\t662\r\n",
      "41\t122\t*\t477\r\n",
      "42\t98\t*\t355\r\n",
      "43\t52\t*\t257\r\n",
      "44\t47\t*\t205\r\n",
      "45\t30\t*\t158\r\n",
      "46\t22\t*\t128\r\n",
      "47\t15\t*\t106\r\n",
      "48\t11\t*\t91\r\n",
      "49\t9\t*\t80\r\n",
      "50\t10\t*\t71\r\n",
      "51\t7\t*\t61\r\n",
      "52\t9\t*\t54\r\n",
      "53\t6\t*\t45\r\n",
      "54\t10\t*\t39\r\n",
      "55\t5\t*\t29\r\n",
      "56\t4\t*\t24\r\n",
      "57\t4\t*\t20\r\n",
      "58\t5\t*\t16\r\n",
      "59\t3\t*\t11\r\n",
      "60\t2\t*\t8\r\n",
      "61\t3\t*\t6\r\n",
      "62\t1\t*\t3\r\n",
      "63\t0\t*\t2\r\n",
      "64\t2\t*\t2\r\n",
      "\r\n",
      "\r\n",
      "## nvar = number of loci containing n variable sites (pis+autapomorphies).\r\n",
      "## sumvar = sum of variable sites (SNPs).\r\n",
      "## pis = number of loci containing n parsimony informative sites.\r\n",
      "## sumpis = sum of parsimony informative sites.\r\n",
      "\tnvar\tsumvar\tPIS\tsumPIS\r\n",
      "0\t858\t0\t15884\t0\r\n",
      "1\t1602\t1602\t14623\t14623\r\n",
      "2\t2305\t6212\t13691\t42005\r\n",
      "3\t2953\t15071\t13104\t81317\r\n",
      "4\t3553\t29283\t12290\t130477\r\n",
      "5\t4163\t50098\t11363\t187292\r\n",
      "6\t4625\t77848\t10732\t251684\r\n",
      "7\t5057\t113247\t9733\t319815\r\n",
      "8\t5622\t158223\t8394\t386967\r\n",
      "9\t6085\t212988\t7230\t452037\r\n",
      "10\t6286\t275848\t6313\t515167\r\n",
      "11\t6314\t345302\t5023\t570420\r\n",
      "12\t6641\t424994\t4204\t620868\r\n",
      "13\t6842\t513940\t3229\t662845\r\n",
      "14\t6621\t606634\t2371\t696039\r\n",
      "15\t6566\t705124\t1787\t722844\r\n",
      "16\t6379\t807188\t1304\t743708\r\n",
      "17\t6125\t911313\t925\t759433\r\n",
      "18\t6037\t1019979\t616\t770521\r\n",
      "19\t5562\t1125657\t442\t778919\r\n",
      "20\t5251\t1230677\t250\t783919\r\n",
      "21\t4906\t1333703\t165\t787384\r\n",
      "22\t4581\t1434485\t112\t789848\r\n",
      "23\t4113\t1529084\t61\t791251\r\n",
      "24\t3708\t1618076\t49\t792427\r\n",
      "25\t3271\t1699851\t24\t793027\r\n",
      "26\t2950\t1776551\t8\t793235\r\n",
      "27\t2533\t1844942\t12\t793559\r\n",
      "28\t2263\t1908306\t2\t793615\r\n",
      "29\t1992\t1966074\t1\t793644\r\n",
      "30\t1662\t2015934\t3\t793734\r\n",
      "31\t1343\t2057567\t3\t793827\r\n",
      "32\t1144\t2094175\t0\t793827\r\n",
      "33\t935\t2125030\t0\t793827\r\n",
      "34\t731\t2149884\t0\t793827\r\n",
      "35\t556\t2169344\t0\t793827\r\n",
      "36\t502\t2187416\t0\t793827\r\n",
      "37\t347\t2200255\t0\t793827\r\n",
      "38\t295\t2211465\t0\t793827\r\n",
      "39\t208\t2219577\t0\t793827\r\n",
      "40\t128\t2224697\t0\t793827\r\n",
      "41\t98\t2228715\t0\t793827\r\n",
      "42\t64\t2231403\t0\t793827\r\n",
      "43\t53\t2233682\t0\t793827\r\n",
      "44\t46\t2235706\t0\t793827\r\n",
      "45\t21\t2236651\t0\t793827\r\n",
      "46\t16\t2237387\t0\t793827\r\n",
      "47\t10\t2237857\t0\t793827\r\n",
      "48\t12\t2238433\t0\t793827\r\n",
      "49\t9\t2238874\t0\t793827\r\n",
      "50\t0\t2238874\t0\t793827\r\n",
      "51\t2\t2238976\t0\t793827\r\n",
      "52\t2\t2239080\t0\t793827\r\n",
      "total var= 2239080\r\n",
      "total pis= 793827\r\n",
      "sampled unlinked SNPs= 143090\r\n",
      "sampled unlinked bi-allelic SNPs= 142267\r\n"
     ]
    }
   ],
   "source": [
    "cat empirical_1/halfrun/stats/empirical_1_half_m4.stats"
   ]
  },
  {
   "cell_type": "markdown",
   "metadata": {},
   "source": [
    "#### get average number of loci per sample"
   ]
  },
  {
   "cell_type": "code",
   "execution_count": 51,
   "metadata": {
    "collapsed": false
   },
   "outputs": [
    {
     "name": "stdout",
     "output_type": "stream",
     "text": [
      "28605.4615385\n",
      "8731.83305115\n"
     ]
    }
   ],
   "source": [
    "import numpy as np\n",
    "indat = open(\"empirical_1/halfrun/stats/empirical_1_half_m4.stats\").readlines()\n",
    "counts = [int(i.strip().split(\"\\t\")[1]) for i in indat[8:73]]\n",
    "print np.mean(counts)\n",
    "print np.std(counts)"
   ]
  },
  {
   "cell_type": "markdown",
   "metadata": {},
   "source": [
    "#### get average number of samples with data for a locus"
   ]
  },
  {
   "cell_type": "code",
   "execution_count": 47,
   "metadata": {
    "collapsed": false
   },
   "outputs": [
    {
     "name": "stdout",
     "output_type": "stream",
     "text": [
      "12.9168519187\n",
      "9.09974422662\n"
     ]
    }
   ],
   "source": [
    "import numpy as np\n",
    "import itertools\n",
    "indat = open(\"empirical_1/halfrun/stats/empirical_1_half_m4.stats\").readlines()\n",
    "counts = [i.strip().split(\"\\t\") for i in indat[81:142]]\n",
    "#print counts\n",
    "ntax = [int(i[0]) for i in counts]\n",
    "ncounts = [int(i[1]) for i in counts]\n",
    "tots = list(itertools.chain(*[[i]*n for i,n in zip(ntax, ncounts)]))\n",
    "print np.mean(tots)\n",
    "print np.std(tots)"
   ]
  },
  {
   "cell_type": "code",
   "execution_count": 85,
   "metadata": {
    "collapsed": false
   },
   "outputs": [
    {
     "name": "stdout",
     "output_type": "stream",
     "text": [
      "\r\n",
      "\r\n",
      "199691      ## loci with > minsp containing data\r\n",
      "199094      ## loci with > minsp containing data & paralogs removed\r\n",
      "199094      ## loci with > minsp containing data & paralogs removed & final filtering\r\n",
      "\r\n",
      "## number of loci recovered in final data set for each taxon.\r\n",
      "taxon\tnloci\r\n",
      "acerfolium_ELS88          \t59188\r\n",
      "acutifolium_DRY3_MEX_006  \t52932\r\n",
      "amplificatum_D3_SAN_156003\t38141\r\n",
      "anamensis_C6_PWS_2094     \t20597\r\n",
      "beccarii_combinedX        \t41837\r\n",
      "betulifolium              \t39533\r\n",
      "bitchuense_combined       \t34338\r\n",
      "carlesii_D1_BP_001        \t58449\r\n",
      "cassinoides_ELS2          \t40767\r\n",
      "cinnamomifolium_PWS2105X  \t47043\r\n",
      "clemensiae_DRY6_PWS_2135  \t45144\r\n",
      "coriaceum_combined        \t43822\r\n",
      "cylindricum_DRY1_WC_268   \t50762\r\n",
      "davidii_D32_WC_269        \t53023\r\n",
      "dentatum_ELS4             \t59443\r\n",
      "dilatatum_ELS45           \t57384\r\n",
      "erosum_D23_MJDJP_4        \t47927\r\n",
      "erubescens_RCW36          \t39132\r\n",
      "farreri_RCW21             \t44604\r\n",
      "foetens_ERAD10            \t21914\r\n",
      "foetidum_D24_KFC_1942     \t60151\r\n",
      "formosanum_C7_JH_2007     \t7638\r\n",
      "furcatum_combined         \t37959\r\n",
      "glaberrimum_D34_PWS_2323  \t43979\r\n",
      "grandiflorum_ERAD11_Wendy \t24058\r\n",
      "hanceanum_D4_PWS_2195     \t45482\r\n",
      "henryi_D22_WC_272         \t29692\r\n",
      "integrifolium_D25_KFC_1946\t54254\r\n",
      "jamesonii_D12_PWS_1636    \t48113\r\n",
      "japonicum_D26_WC_273      \t64083\r\n",
      "lantana_combined          \t42060\r\n",
      "lantanoides_D15_Beartown_2\t52090\r\n",
      "lentago_ELS85             \t42188\r\n",
      "lutescens_D35_PWS_2077    \t48126\r\n",
      "luzonicum_D27_9M_2005     \t54891\r\n",
      "macrocephalum_D2_WC_284   \t43983\r\n",
      "muhalla_D28_WC_274        \t57264\r\n",
      "nervosum_C4_PWS_2298      \t37230\r\n",
      "odoratissimum_combined    \t31480\r\n",
      "opulus_D6_WC_250          \t41578\r\n",
      "orientale_DRY2_MJD_GEORGIA\t54201\r\n",
      "parvifolium_D29_KFC_1953  \t67338\r\n",
      "plicatum_C1_MJDJP_12      \t37339\r\n",
      "propinquum_DRY4_WC_276    \t51434\r\n",
      "prunifolium_ELS57         \t45913\r\n",
      "punctatum_D19_PWS_2097    \t49862\r\n",
      "recognitum_AA_1471_83B    \t45155\r\n",
      "rhytidophyllum            \t43744\r\n",
      "rufidulum_ELS25           \t36741\r\n",
      "sambucina_D20_PWS_2100    \t47901\r\n",
      "sargentii_RCW19           \t34723\r\n",
      "sempervirens_combined     \t35475\r\n",
      "setigerum                 \t58325\r\n",
      "sieboldii_AA_616_6B       \t27714\r\n",
      "sulcatum_D9_MEX_003       \t45500\r\n",
      "suspensum_C5_MJD_111711   \t41110\r\n",
      "sympodiale_D18_KFC_1932   \t54400\r\n",
      "taiwanianum_TW1_KFC_1952  \t41711\r\n",
      "tashiori_D30_TET_YAH      \t58700\r\n",
      "tinus_D33_WC_277          \t50680\r\n",
      "triphyllum_D13_PWS_1783   \t47654\r\n",
      "urceolatum_MJD_Japan_8    \t31220\r\n",
      "veitchii                  \t43123\r\n",
      "vernicosum_D21_PWS_2123   \t48356\r\n",
      "wrightii_D31_MJDJP_1      \t55891\r\n",
      "\r\n",
      "\r\n",
      "## nloci = number of loci with data for exactly ntaxa\r\n",
      "## ntotal = number of loci for which at least ntaxa have data\r\n",
      "ntaxa\tnloci\tsaved\tntotal\r\n",
      "1\t-\r\n",
      "2\t-\t\t-\r\n",
      "3\t-\t\t-\r\n",
      "4\t40036\t*\t199094\r\n",
      "5\t23235\t*\t159058\r\n",
      "6\t15581\t*\t135823\r\n",
      "7\t11312\t*\t120242\r\n",
      "8\t8843\t*\t108930\r\n",
      "9\t7183\t*\t100087\r\n",
      "10\t5858\t*\t92904\r\n",
      "11\t5064\t*\t87046\r\n",
      "12\t4440\t*\t81982\r\n",
      "13\t4041\t*\t77542\r\n",
      "14\t3703\t*\t73501\r\n",
      "15\t3402\t*\t69798\r\n",
      "16\t3177\t*\t66396\r\n",
      "17\t3054\t*\t63219\r\n",
      "18\t2789\t*\t60165\r\n",
      "19\t2655\t*\t57376\r\n",
      "20\t2534\t*\t54721\r\n",
      "21\t2391\t*\t52187\r\n",
      "22\t2361\t*\t49796\r\n",
      "23\t2216\t*\t47435\r\n",
      "24\t2123\t*\t45219\r\n",
      "25\t2121\t*\t43096\r\n",
      "26\t2074\t*\t40975\r\n",
      "27\t2049\t*\t38901\r\n",
      "28\t2023\t*\t36852\r\n",
      "29\t1933\t*\t34829\r\n",
      "30\t2020\t*\t32896\r\n",
      "31\t1893\t*\t30876\r\n",
      "32\t1916\t*\t28983\r\n",
      "33\t1907\t*\t27067\r\n",
      "34\t1916\t*\t25160\r\n",
      "35\t1984\t*\t23244\r\n",
      "36\t1857\t*\t21260\r\n",
      "37\t1824\t*\t19403\r\n",
      "38\t1755\t*\t17579\r\n",
      "39\t1764\t*\t15824\r\n",
      "40\t1724\t*\t14060\r\n",
      "41\t1583\t*\t12336\r\n",
      "42\t1567\t*\t10753\r\n",
      "43\t1476\t*\t9186\r\n",
      "44\t1347\t*\t7710\r\n",
      "45\t1206\t*\t6363\r\n",
      "46\t1098\t*\t5157\r\n",
      "47\t959\t*\t4059\r\n",
      "48\t790\t*\t3100\r\n",
      "49\t683\t*\t2310\r\n",
      "50\t468\t*\t1627\r\n",
      "51\t383\t*\t1159\r\n",
      "52\t285\t*\t776\r\n",
      "53\t201\t*\t491\r\n",
      "54\t118\t*\t290\r\n",
      "55\t76\t*\t172\r\n",
      "56\t43\t*\t96\r\n",
      "57\t28\t*\t53\r\n",
      "58\t16\t*\t25\r\n",
      "59\t4\t*\t9\r\n",
      "60\t2\t*\t5\r\n",
      "61\t2\t*\t3\r\n",
      "62\t1\t*\t1\r\n",
      "\r\n",
      "\r\n",
      "## nvar = number of loci containing n variable sites (pis+autapomorphies).\r\n",
      "## sumvar = sum of variable sites (SNPs).\r\n",
      "## pis = number of loci containing n parsimony informative sites.\r\n",
      "## sumpis = sum of parsimony informative sites.\r\n",
      "\tnvar\tsumvar\tPIS\tsumPIS\r\n",
      "0\t2213\t0\t26451\t0\r\n",
      "1\t3244\t3244\t20005\t20005\r\n",
      "2\t4394\t12032\t17249\t54503\r\n",
      "3\t5198\t27626\t15381\t100646\r\n",
      "4\t5702\t50434\t14286\t157790\r\n",
      "5\t6188\t81374\t13036\t222970\r\n",
      "6\t6480\t120254\t11956\t294706\r\n",
      "7\t6940\t168834\t10930\t371216\r\n",
      "8\t7207\t226490\t10132\t452272\r\n",
      "9\t7473\t293747\t9442\t537250\r\n",
      "10\t7456\t368307\t8372\t620970\r\n",
      "11\t7756\t453623\t7508\t703558\r\n",
      "12\t7885\t548243\t6655\t783418\r\n",
      "13\t8098\t653517\t5735\t857973\r\n",
      "14\t7717\t761555\t4896\t926517\r\n",
      "15\t7699\t877040\t4029\t986952\r\n",
      "16\t7562\t998032\t3200\t1038152\r\n",
      "17\t7171\t1119939\t2719\t1084375\r\n",
      "18\t7081\t1247397\t2068\t1121599\r\n",
      "19\t6630\t1373367\t1555\t1151144\r\n",
      "20\t6291\t1499187\t1143\t1174004\r\n",
      "21\t5930\t1623717\t763\t1190027\r\n",
      "22\t5459\t1743815\t565\t1202457\r\n",
      "23\t5189\t1863162\t386\t1211335\r\n",
      "24\t4862\t1979850\t245\t1217215\r\n",
      "25\t4552\t2093650\t164\t1221315\r\n",
      "26\t4223\t2203448\t94\t1223759\r\n",
      "27\t3946\t2309990\t54\t1225217\r\n",
      "28\t3610\t2411070\t29\t1226029\r\n",
      "29\t3397\t2509583\t18\t1226551\r\n",
      "30\t3150\t2604083\t11\t1226881\r\n",
      "31\t2772\t2690015\t9\t1227160\r\n",
      "32\t2500\t2770015\t3\t1227256\r\n",
      "33\t2322\t2846641\t2\t1227322\r\n",
      "34\t2040\t2916001\t3\t1227424\r\n",
      "35\t1717\t2976096\t0\t1227424\r\n",
      "36\t1482\t3029448\t0\t1227424\r\n",
      "37\t1185\t3073293\t0\t1227424\r\n",
      "38\t997\t3111179\t0\t1227424\r\n",
      "39\t876\t3145343\t0\t1227424\r\n",
      "40\t642\t3171023\t0\t1227424\r\n",
      "41\t498\t3191441\t0\t1227424\r\n",
      "42\t394\t3207989\t0\t1227424\r\n",
      "43\t260\t3219169\t0\t1227424\r\n",
      "44\t224\t3229025\t0\t1227424\r\n",
      "45\t140\t3235325\t0\t1227424\r\n",
      "46\t124\t3241029\t0\t1227424\r\n",
      "47\t64\t3244037\t0\t1227424\r\n",
      "48\t46\t3246245\t0\t1227424\r\n",
      "49\t39\t3248156\t0\t1227424\r\n",
      "50\t28\t3249556\t0\t1227424\r\n",
      "51\t19\t3250525\t0\t1227424\r\n",
      "52\t8\t3250941\t0\t1227424\r\n",
      "53\t8\t3251365\t0\t1227424\r\n",
      "54\t2\t3251473\t0\t1227424\r\n",
      "55\t1\t3251528\t0\t1227424\r\n",
      "56\t1\t3251584\t0\t1227424\r\n",
      "57\t1\t3251641\t0\t1227424\r\n",
      "58\t1\t3251699\t0\t1227424\r\n",
      "total var= 3251699\r\n",
      "total pis= 1227424\r\n",
      "sampled unlinked SNPs= 196881\r\n",
      "sampled unlinked bi-allelic SNPs= 195117\r\n"
     ]
    }
   ],
   "source": [
    "cat empirical_1/fullrun/stats/empirical_1_full_m4.stats"
   ]
  },
  {
   "cell_type": "code",
   "execution_count": 49,
   "metadata": {
    "collapsed": false
   },
   "outputs": [
    {
     "name": "stdout",
     "output_type": "stream",
     "text": [
      "44638.7619048\n",
      "11037.958308\n"
     ]
    }
   ],
   "source": [
    "import numpy as np\n",
    "indat = open(\"empirical_1/fullrun/stats/empirical_1_full_m4.stats\").readlines()\n",
    "counts = [int(i.strip().split(\"\\t\")[1]) for i in indat[8:73]]\n",
    "print np.mean(counts)\n",
    "print np.std(counts)"
   ]
  },
  {
   "cell_type": "code",
   "execution_count": 50,
   "metadata": {
    "collapsed": false
   },
   "outputs": [
    {
     "name": "stdout",
     "output_type": "stream",
     "text": [
      "14.6488040825\n",
      "12.690632427\n"
     ]
    }
   ],
   "source": [
    "import numpy as np\n",
    "import itertools\n",
    "indat = open(\"empirical_1/fullrun/stats/empirical_1_full_m4.stats\").readlines()\n",
    "counts = [i.strip().split(\"\\t\") for i in indat[81:140]]\n",
    "#print counts\n",
    "ntax = [int(i[0]) for i in counts]\n",
    "ncounts = [int(i[1]) for i in counts]\n",
    "tots = list(itertools.chain(*[[i]*n for i,n in zip(ntax, ncounts)]))\n",
    "print np.mean(tots)\n",
    "print np.std(tots)"
   ]
  },
  {
   "cell_type": "markdown",
   "metadata": {},
   "source": [
    "## Infer an ML phylogeny"
   ]
  },
  {
   "cell_type": "code",
   "execution_count": null,
   "metadata": {
    "collapsed": true
   },
   "outputs": [],
   "source": [
    "%%bash\n",
    "## raxml argumement w/ ...\n",
    "raxmlHPC-PTHREADS-AVX -f a -m GTRGAMMA -N 100 -x 12345 -p 12345 -T 35 \\\n",
    "                      -w /home/deren/Documents/RADmissing/empirical_1/halfrun \\\n",
    "                      -n empirical_1_halfrun -s empirical_1/halfrun/outfiles/empirical_1_half_m4.phy \\\n",
    "                      -o \"Lib1_clemensiae_DRY6_PWS_2135\"\n",
    "                      "
   ]
  },
  {
   "cell_type": "code",
   "execution_count": null,
   "metadata": {
    "collapsed": true
   },
   "outputs": [],
   "source": [
    "%%bash\n",
    "raxmlHPC-PTHREADS-AVX -f a -m GTRGAMMA -N 100 -x 12345 -p 12345 -T 35 \\\n",
    "                      -w /home/deren/Documents/RADmissing/empirical_1/fullrun \\\n",
    "                      -n empirical_1_fullrun -s empirical_1/fullrun/outfiles/empirical_1_full_m4.phy \\\n",
    "                      -o \"clemensiae_DRY6_PWS_2135\""
   ]
  },
  {
   "cell_type": "code",
   "execution_count": 86,
   "metadata": {
    "collapsed": false
   },
   "outputs": [
    {
     "name": "stdout",
     "output_type": "stream",
     "text": [
      "\n",
      "\n",
      "This is RAxML version 8.0.0 released by Alexandros Stamatakis on Dec 13 2013.\n",
      "\n",
      "With greatly appreciated code contributions by:\n",
      "Andre Aberer      (HITS)\n",
      "Simon Berger      (HITS)\n",
      "Alexey Kozlov     (HITS)\n",
      "Nick Pattengale   (Sandia)\n",
      "Wayne Pfeiffer    (SDSC)\n",
      "Akifumi S. Tanabe (NRIFS)\n",
      "David Dao         (KIT)\n",
      "Charlie Taylor    (UF)\n",
      "\n",
      "\n",
      "Alignment has 1010208 distinct alignment patterns\n",
      "\n",
      "Proportion of gaps and completely undetermined characters in this alignment: 80.36%\n",
      "\n",
      "RAxML rapid bootstrapping and subsequent ML search\n"
     ]
    }
   ],
   "source": [
    "%%bash \n",
    "head -n 20 empirical_1/halfrun/RAxML_info.empirical_1_half_m4"
   ]
  },
  {
   "cell_type": "code",
   "execution_count": 88,
   "metadata": {
    "collapsed": false
   },
   "outputs": [
    {
     "name": "stdout",
     "output_type": "stream",
     "text": [
      "\n",
      "\n",
      "This is RAxML version 8.0.0 released by Alexandros Stamatakis on Dec 13 2013.\n",
      "\n",
      "With greatly appreciated code contributions by:\n",
      "Andre Aberer      (HITS)\n",
      "Simon Berger      (HITS)\n",
      "Alexey Kozlov     (HITS)\n",
      "Nick Pattengale   (Sandia)\n",
      "Wayne Pfeiffer    (SDSC)\n",
      "Akifumi S. Tanabe (NRIFS)\n",
      "David Dao         (KIT)\n",
      "Charlie Taylor    (UF)\n",
      "\n",
      "\n",
      "Alignment has 1035341 distinct alignment patterns\n",
      "\n",
      "Proportion of gaps and completely undetermined characters in this alignment: 77.64%\n",
      "\n",
      "RAxML rapid bootstrapping and subsequent ML search\n"
     ]
    }
   ],
   "source": [
    "%%bash \n",
    "head -n 20 empirical_1/fullrun/RAxML_info.empirical_1_full_m4"
   ]
  },
  {
   "cell_type": "markdown",
   "metadata": {},
   "source": [
    "### Plot the tree in R using `ape`"
   ]
  },
  {
   "cell_type": "code",
   "execution_count": 1,
   "metadata": {
    "collapsed": true
   },
   "outputs": [],
   "source": [
    "%load_ext rpy2.ipython"
   ]
  },
  {
   "cell_type": "code",
   "execution_count": 132,
   "metadata": {
    "collapsed": false
   },
   "outputs": [
    {
     "data": {
      "image/png": "[encoded data removed]"
     },
     "metadata": {},
     "output_type": "display_data"
    }
   ],
   "source": [
    "%%R -w 600 -h 1000\n",
    "library(ape)\n",
    "tre_half <- read.tree(\"empirical_1/halfrun/RAxML_bipartitions.empirical_1_halfrun\")\n",
    "#rtre <- root(tre, \"Lib1_clemensiae_DRY6_PWS_2135\", resolve.root=T)\n",
    "#rtre <- root(rtre, \"Lib1_clemensiae_DRY6_PWS_2135\", resolve.root=T)\n",
    "ltre_half <- ladderize(tre_half)\n",
    "plot(ltre_half, cex=0.8, edge.width=2)\n",
    "nodelabels(ltre_half$node.label)"
   ]
  },
  {
   "cell_type": "code",
   "execution_count": 6,
   "metadata": {
    "collapsed": false,
    "scrolled": false
   },
   "outputs": [
    {
     "data": {
      "text/plain": [
       "png \n",
       "  2 \n"
      ]
     },
     "metadata": {},
     "output_type": "display_data"
    }
   ],
   "source": [
    "%%R -w 600 -h 1000\n",
    "library(ape)\n",
    "svg(\"outtree.svg\", height=11, width=8)\n",
    "tre_full <- read.tree(\"empirical_1/fullrun/RAxML_bipartitions.empirical_1_fullrun\")\n",
    "#rtre <- root(tre, \"Lib1_clemensiae_DRY6_PWS_2135\", resolve.root=T)\n",
    "#rtre <- root(rtre, \"Lib1_clemensiae_DRY6_PWS_2135\", resolve.root=T)\n",
    "ltre_full <- ladderize(tre_full)\n",
    "plot(ltre_full, cex=0.8, edge.width=3)\n",
    "#nodelabels(ltre_full$node.label)\n",
    "dev.off()"
   ]
  },
  {
   "cell_type": "markdown",
   "metadata": {},
   "source": [
    "## BUCKY -- write mrbayes nexus blocks for each locus\n",
    "The functions `nexmake` and `subsample` are used to split the .loci file into individual nexus files for each locus within a new directory. Each nexus file is given a mrbayes command to run. Then we run the bucky tool `mbsum` to summarize the mrbayes output, and finally run `bucky` to infer concordance trees from the posterior distributions of trees across all loci. \n",
    "\n",
    "Loci are selected on the basis that they have coverage across all tips of the selected subtree and that they contain at least 1 SNP. "
   ]
  },
  {
   "cell_type": "code",
   "execution_count": 93,
   "metadata": {
    "collapsed": true
   },
   "outputs": [],
   "source": [
    "def nexmake(taxadict, loc, nexdir, trim):\n",
    "    outloc = open(nexdir+\"/\"+str(loc)+\".nex\", 'w')\n",
    "    header = \"\"\"\n",
    "#NEXUS \n",
    "begin data;\n",
    "dimensions ntax={} nchar={};\n",
    "format datatype=dna interleave=yes missing=N gap=-;\n",
    "matrix\n",
    "\n",
    "\"\"\".format(len(taxadict), len(taxadict.values()[0]))\n",
    "    outloc.write(header)\n",
    "    \n",
    "    for tax, seq in taxadict.items():\n",
    "        outloc.write(\"{}{}{}\\n\"\\\n",
    "                     .format(tax[trim:trim+9],\n",
    "                             \" \"*(10-len(tax[0:9])),\n",
    "                             \"\".join(seq)))\n",
    "    \n",
    "    mbstring = \"\"\"\n",
    "    ;\n",
    "end;\n",
    "begin mrbayes;\n",
    "set autoclose=yes nowarn=yes;\n",
    "lset nst=6 rates=gamma;\n",
    "mcmc ngen=2200000 samplefreq=2000;\n",
    "sump burnin=200000;\n",
    "sumt burnin=200000;\n",
    "end;    \n",
    "\"\"\"\n",
    "    outloc.write(mbstring)\n",
    "    outloc.close()\n",
    "    "
   ]
  },
  {
   "cell_type": "code",
   "execution_count": 102,
   "metadata": {
    "collapsed": true
   },
   "outputs": [],
   "source": [
    "def unstruct(amb):\n",
    "    \" returns bases from ambiguity code\"\n",
    "    D = {\"R\":[\"G\",\"A\"],\n",
    "         \"K\":[\"G\",\"T\"],\n",
    "         \"S\":[\"G\",\"C\"],\n",
    "         \"Y\":[\"T\",\"C\"],\n",
    "         \"W\":[\"T\",\"A\"],\n",
    "         \"M\":[\"C\",\"A\"]}\n",
    "    if amb in D:\n",
    "        return D.get(amb)\n",
    "    else:\n",
    "        return [amb,amb]\n",
    "            \n",
    "\n",
    "def resolveambig(subseq):\n",
    "    N = []\n",
    "    for col in subseq:\n",
    "        N.append([unstruct(i)[np.random.binomial(1, 0.5)] for i in col])\n",
    "    return np.array(N)\n",
    "\n",
    "    \n",
    "def newPIS(seqsamp):\n",
    "    counts = [Counter(col) for col in seqsamp.T if not (\"-\" in col or \"N\" in col)]\n",
    "    pis = [i.most_common(2)[1][1] > 1 for i in counts if len(i.most_common(2))>1]\n",
    "    if sum(pis) >= 2:\n",
    "        return sum(pis)\n",
    "    else:\n",
    "        return 0      "
   ]
  },
  {
   "cell_type": "code",
   "execution_count": 103,
   "metadata": {
    "collapsed": true
   },
   "outputs": [],
   "source": [
    "def parseloci(iloci, taxadict, nexdir, trim=0):\n",
    "    nloc = 0\n",
    "    ## create subsampled data set\n",
    "    for loc in iloci:\n",
    "        ## if all tip samples have data in this locus\n",
    "        names = [line.split()[0] for line in loc.split(\"\\n\")[:-1]]\n",
    "\n",
    "        ## check that locus has required samples for each subtree\n",
    "        if all([i in names for i in taxadict.values()]):\n",
    "            seqs = np.array([list(line.split()[1]) for line in loc.split(\"\\n\")[:-1]])\n",
    "            seqsamp = seqs[[names.index(tax) for tax in taxadict.values()]]\n",
    "            seqsamp = resolveambig(seqsamp)\n",
    "            pis = newPIS(seqsamp)\n",
    "            if pis:\n",
    "                nloc += 1\n",
    "                ## remove invariable columns given this subsampling\n",
    "                keep = []\n",
    "                for n, col in enumerate(seqsamp.T):\n",
    "                    if all([i not in [\"N\",\"-\"] for i in col]):\n",
    "                        keep.append(n)\n",
    "                subseq = seqsamp.T[keep].T\n",
    "                ## write to a nexus file\n",
    "                nexdict = dict(zip(taxadict.keys(), [i.tostring() for i in subseq]))\n",
    "                nexmake(nexdict, nloc, nexdir, trim)\n",
    "    print nloc, 'loci kept'            "
   ]
  },
  {
   "cell_type": "markdown",
   "metadata": {},
   "source": [
    "#### Modify line endings of loci string for easier parsing"
   ]
  },
  {
   "cell_type": "code",
   "execution_count": 117,
   "metadata": {
    "collapsed": false
   },
   "outputs": [
    {
     "name": "stdout",
     "output_type": "stream",
     "text": [
      "199094 loci\n",
      "143948 loci\n"
     ]
    }
   ],
   "source": [
    "def getloci(locifile):\n",
    "    ## parse the loci file by new line characters\n",
    "    locifile = open(locifile)\n",
    "    lines = locifile.readlines()\n",
    "\n",
    "    ## add \"|\" to end of lines that contain \"|\"\n",
    "    for idx in range(len(lines)):\n",
    "        if \"|\" in lines[idx]:\n",
    "            lines[idx] = lines[idx].strip()+\"|\\n\"\n",
    "        \n",
    "    ## join lines back together into one large string\n",
    "    locistr = \"\".join(lines)\n",
    "\n",
    "    ## break string into loci at the \"|\\n\" character\n",
    "    loci = locistr.split(\"|\\n\")[:-1]\n",
    "\n",
    "    ## how many loci?\n",
    "    print len(loci), \"loci\"\n",
    "    return loci\n",
    "    \n",
    "## run on both files\n",
    "loci_full = getloci(\"empirical_1/fullrun/outfiles/empirical_1_full_m4.loci\")\n",
    "loci_half = getloci(\"empirical_1/halfrun/outfiles/empirical_1_half_m4.loci\")"
   ]
  },
  {
   "cell_type": "markdown",
   "metadata": {},
   "source": [
    "### Make nexus files"
   ]
  },
  {
   "cell_type": "code",
   "execution_count": 118,
   "metadata": {
    "collapsed": false
   },
   "outputs": [
    {
     "name": "stdout",
     "output_type": "stream",
     "text": [
      "744 loci kept\n",
      "71 loci kept\n"
     ]
    }
   ],
   "source": [
    "parseloci(loci_full[:], deep_dict_f, \"deep_dict_full\", 0)\n",
    "parseloci(loci_half[:], deep_dict_h, \"deep_dict_half\", 0)\n",
    "#parseloci(loci[:], shallow_dict, \"shallow_dict\", 0)"
   ]
  },
  {
   "cell_type": "code",
   "execution_count": 119,
   "metadata": {
    "collapsed": false
   },
   "outputs": [],
   "source": [
    "## create a parallel client\n",
    "ipclient = ipyparallel.Client()\n",
    "lview = ipclient.load_balanced_view()\n",
    "\n",
    "## call function across all engines\n",
    "def mrbayes(infile):\n",
    "    import subprocess\n",
    "    cmd = \"mb %s\" % infile\n",
    "    subprocess.check_call(cmd, shell=True)"
   ]
  },
  {
   "cell_type": "code",
   "execution_count": 120,
   "metadata": {
    "collapsed": false
   },
   "outputs": [
    {
     "name": "stdout",
     "output_type": "stream",
     "text": [
      " 744/744 tasks finished after 3759 s\n",
      "done\n"
     ]
    }
   ],
   "source": [
    "## submit all nexus files to run mb\n",
    "allnex = glob.glob(\"deep_dict_full/*.nex\")\n",
    "for nex in allnex:\n",
    "    lview.apply(mrbayes, nex)\n",
    "\n",
    "ipclient.wait_interactive()"
   ]
  },
  {
   "cell_type": "markdown",
   "metadata": {},
   "source": [
    "### Summarize posteriors with `mbsum`"
   ]
  },
  {
   "cell_type": "code",
   "execution_count": 126,
   "metadata": {
    "collapsed": true
   },
   "outputs": [],
   "source": [
    "def mbsum(nexdir, nloci):     \n",
    "    import subprocess\n",
    "    ## combine trees from the two replicate runs\n",
    "    for n in range(1, nloci+1):\n",
    "        cmd = \"mbsum -n 101 -o {}{}.in {}{}.nex.run1.t {}{}.nex.run2.t\".\\\n",
    "              format(nexdir, n, nexdir, n, nexdir, n)\n",
    "        subprocess.check_call(cmd, shell=True)"
   ]
  },
  {
   "cell_type": "code",
   "execution_count": null,
   "metadata": {
    "collapsed": true
   },
   "outputs": [],
   "source": []
  },
  {
   "cell_type": "markdown",
   "metadata": {},
   "source": [
    "### Run Bucky to infer concordance factors"
   ]
  },
  {
   "cell_type": "code",
   "execution_count": 3,
   "metadata": {
    "collapsed": false
   },
   "outputs": [],
   "source": [
    "import os\n",
    "import numpy as np\n",
    "from collections import Counter\n",
    "\n",
    "\n",
    "def subsample(infile, requires, outgroup, nexdir, trim):\n",
    "    \"\"\" sample n taxa from infile to create nex file\"\"\"\n",
    "    ## counter\n",
    "    loc = 0\n",
    "    \n",
    "    ## create output directory\n",
    "    if not os.path.exists(nexdir):\n",
    "        os.mkdir(nexdir)\n",
    "    \n",
    "    ## input .alleles file\n",
    "    loci = open(infile, 'r').read().strip().split(\"//\")\n",
    "    \n",
    "    ## create a dictionary of {names:seqs}\n",
    "    for locus in xrange(len(loci)):\n",
    "        locnex = [\"\"]*len(requires)\n",
    "        for line in loci[locus].strip().split(\"\\n\"):\n",
    "            tax = line.split()[0]\n",
    "            seq = line.split()[-1]\n",
    "            if \">\" in tax:\n",
    "                if tax in requires:\n",
    "                    locnex[requires.index(tax)] = seq\n",
    "        ## if all tips\n",
    "        if len([i for i in locnex if i]) == len(requires):\n",
    "            ## if locus is variable\n",
    "            ## count how many times each char occurs in each site\n",
    "            ccs = [Counter(i) for i in np.array([list(i) for i in locnex]).T]\n",
    "            ## remove N and - characters and the first most occurring base\n",
    "            for i in ccs:\n",
    "                del i['-']\n",
    "                del i['N']\n",
    "                if i:\n",
    "                    del i[i.most_common()[0][0]]\n",
    "                \n",
    "            ## is anything left occuring more than once (minor allele=ma)?\n",
    "            ma = max([max(i.values()) if i else 0 for i in ccs])\n",
    "            if ma > 1:\n",
    "                nexmake(requires, locnex, loc, outgroup, nexdir, trim)\n",
    "                loc += 1\n",
    "    \n",
    "    return loc"
   ]
  },
  {
   "cell_type": "markdown",
   "metadata": {},
   "source": [
    "### Subtree 1 (Oreinodentinus) (full data set)\n"
   ]
  },
  {
   "cell_type": "code",
   "execution_count": 162,
   "metadata": {
    "collapsed": false
   },
   "outputs": [
    {
     "name": "stdout",
     "output_type": "stream",
     "text": [
      "3300\n"
     ]
    }
   ],
   "source": [
    "## inputs\n",
    "requires = [\">triphyllum_D13_PWS_1783_0\", \n",
    "            \">jamesonii_D12_PWS_1636_0\",\n",
    "            \">sulcatum_D9_MEX_003_0\",\n",
    "            \">acutifolium_DRY3_MEX_006_0\",\n",
    "            \">dentatum_ELS4_0\",\n",
    "            \">recognitum_AA_1471_83B_0\"]\n",
    "outgroup = \"\"\n",
    "infile = \"empirical_1/fullrun/outfiles/empirical_1_full_m4.alleles\"\n",
    "nexdir = \"nex_files1\"\n",
    "\n",
    "## run function\n",
    "nloci = subsample(infile, requires, outgroup, nexdir, trim=1)\n",
    "print nloci"
   ]
  },
  {
   "cell_type": "markdown",
   "metadata": {},
   "source": [
    "### Subtree 1 (Oreinodentinus) (half data set)\n"
   ]
  },
  {
   "cell_type": "code",
   "execution_count": 161,
   "metadata": {
    "collapsed": false
   },
   "outputs": [
    {
     "name": "stdout",
     "output_type": "stream",
     "text": [
      "364\n"
     ]
    }
   ],
   "source": [
    "## inputs\n",
    "requires = [\">Lib1_triphyllum_D13_PWS_1783_0\", \n",
    "            \">Lib1_jamesonii_D12_PWS_1636_0\",\n",
    "            \">Lib1_sulcatum_D9_MEX_003_0\",\n",
    "            \">Lib1_acutifolium_DRY3_MEX_006_0\",\n",
    "            \">Lib1_dentatum_ELS4_0\",\n",
    "            \">Lib1_recognitum_AA_1471_83B_0\"]\n",
    "outgroup = \"\"\n",
    "infile = \"empirical_1/halfrun/outfiles/empirical_1_half_m4.alleles\"\n",
    "nexdir = \"nex_files2\"\n",
    "## run function\n",
    "\n",
    "nloci = subsample(infile, requires, outgroup, nexdir, trim=6)\n",
    "print nloci"
   ]
  },
  {
   "cell_type": "markdown",
   "metadata": {},
   "source": [
    "### Subtree 2 (Urceolata) (full data set)"
   ]
  },
  {
   "cell_type": "code",
   "execution_count": 16,
   "metadata": {
    "collapsed": false
   },
   "outputs": [
    {
     "name": "stdout",
     "output_type": "stream",
     "text": [
      "1203\n"
     ]
    }
   ],
   "source": [
    "## inputs\n",
    "requires = [\">clemensiae_DRY6_PWS_2135_0\", \n",
    "            \">tinus_D33_WC_277_0\",\n",
    "            \">taiwanianum_TW1_KFC_1952_0\",\n",
    "            \">lantanoides_D15_Beartown_2_0\",\n",
    "            \">amplificatum_D3_SAN_156003_0\",\n",
    "            \">lutescens_D35_PWS_2077_0\",\n",
    "            \">lentago_ELS85_0\",\n",
    "            \">dentatum_ELS4_0\"]\n",
    "outgroup = \"\"\n",
    "infile = \"empirical_1/fullrun/outfiles/empirical_1_full_m4.alleles\"\n",
    "nexdir = \"nex_files5\"\n",
    "\n",
    "## run function\n",
    "nloci = subsample(infile, requires, outgroup, nexdir, trim=1)\n",
    "print nloci"
   ]
  },
  {
   "cell_type": "markdown",
   "metadata": {},
   "source": [
    "### Subtree 2 (Urceolata) (half data set)"
   ]
  },
  {
   "cell_type": "code",
   "execution_count": 17,
   "metadata": {
    "collapsed": false
   },
   "outputs": [
    {
     "name": "stdout",
     "output_type": "stream",
     "text": [
      "106\n"
     ]
    }
   ],
   "source": [
    "## inputs\n",
    "requires = [\">Lib1_clemensiae_DRY6_PWS_2135_0\", \n",
    "            \">Lib1_tinus_D33_WC_277_0\",\n",
    "            \">Lib1_taiwanianum_TW1_KFC_1952_0\",\n",
    "            \">Lib1_lantanoides_D15_Beartown_2_0\",\n",
    "            \">Lib1_amplificatum_D3_SAN_156003_0\",\n",
    "            \">Lib1_lutescens_D35_PWS_2077_0\",\n",
    "            \">Lib1_lentago_ELS85_0\",\n",
    "            \">Lib1_dentatum_ELS4_0\"]\n",
    "outgroup = \"\"\n",
    "infile = \"empirical_1/halfrun/outfiles/empirical_1_half_m4.alleles\"\n",
    "nexdir = \"nex_files6\"\n",
    "\n",
    "## run function\n",
    "nloci = subsample(infile, requires, outgroup, nexdir, trim=6)\n",
    "print nloci"
   ]
  },
  {
   "cell_type": "markdown",
   "metadata": {},
   "source": [
    "### Run mrbayes on all nex files"
   ]
  },
  {
   "cell_type": "code",
   "execution_count": 19,
   "metadata": {
    "collapsed": true
   },
   "outputs": [],
   "source": [
    "import ipyparallel\n",
    "import subprocess\n",
    "import glob\n",
    "\n",
    "## create a parallel client\n",
    "ipclient = ipyparallel.Client()\n",
    "lview = ipclient.load_balanced_view()\n",
    "\n",
    "## call function across all engines\n",
    "def mrbayes(infile):\n",
    "    import subprocess\n",
    "    cmd = \"mb %s\" % infile\n",
    "    subprocess.check_call(cmd, shell=True)"
   ]
  },
  {
   "cell_type": "code",
   "execution_count": 164,
   "metadata": {
    "collapsed": false
   },
   "outputs": [],
   "source": [
    "## run on the full data set\n",
    "res = lview.map_async(mrbayes, glob.glob(\"nex_files1/*\"))\n",
    "_ = res.get()\n",
    "\n",
    "## run on the half data set\n",
    "res = lview.map_async(mrbayes, glob.glob(\"nex_files2/*\"))\n",
    "_ = res.get()"
   ]
  },
  {
   "cell_type": "code",
   "execution_count": 72,
   "metadata": {
    "collapsed": false
   },
   "outputs": [],
   "source": [
    "## run on the half data set\n",
    "res = lview.map_async(mrbayes, glob.glob(\"nex_files3/*\"))\n",
    "_ = res.get()\n",
    "\n",
    "## run on the half data set\n",
    "res = lview.map_async(mrbayes, glob.glob(\"nex_files4/*\"))\n",
    "_ = res.get()"
   ]
  },
  {
   "cell_type": "code",
   "execution_count": 20,
   "metadata": {
    "collapsed": true
   },
   "outputs": [],
   "source": [
    "## run on the half data set\n",
    "res = lview.map_async(mrbayes, glob.glob(\"nex_files5/*\"))\n",
    "_ = res.get()\n",
    "\n",
    "## run on the half data set\n",
    "res = lview.map_async(mrbayes, glob.glob(\"nex_files6/*\"))\n",
    "_ = res.get()"
   ]
  },
  {
   "cell_type": "markdown",
   "metadata": {},
   "source": [
    "### Run mbsum to summarize the results"
   ]
  },
  {
   "cell_type": "code",
   "execution_count": 21,
   "metadata": {
    "collapsed": false
   },
   "outputs": [],
   "source": [
    "import os\n",
    "import subprocess\n",
    "\n",
    "def mbsum(nexdir, nloci):\n",
    "    ## create dir for bucky input files\n",
    "    insdir = os.path.join(nexdir, \"ins\")\n",
    "    if not os.path.exists(insdir):  \n",
    "        os.mkdir(insdir)\n",
    "                  \n",
    "    ## combine trees from the two replicate runs\n",
    "    for n in range(nloci):\n",
    "        cmd = \"mbsum -n 101 -o {}/{}.in {}{}.nex.run1.t {}{}.nex.run2.t\".\\\n",
    "              format(insdir, n, nexdir, n, nexdir, n)\n",
    "        subprocess.check_call(cmd, shell=True)\n",
    "                          \n",
    "#mbsum(\"nex_files1/\", 3300)\n",
    "#mbsum(\"nex_files2/\", 364)\n",
    "#mbsum(\"nex_files3/\", 1692)\n",
    "#mbsum(\"nex_files4/\", 169)\n",
    "mbsum(\"nex_files5/\", 1203)\n",
    "mbsum(\"nex_files6/\", 106)"
   ]
  },
  {
   "cell_type": "markdown",
   "metadata": {},
   "source": [
    "### Run Bucky"
   ]
  },
  {
   "cell_type": "code",
   "execution_count": 22,
   "metadata": {
    "collapsed": false
   },
   "outputs": [
    {
     "data": {
      "text/plain": [
       "['bucky --use-independence-prior -k 4 -n 500000                 -o nex_files5/ins/BUCKY.ind nex_files5/ins/*.in',\n",
       " 'bucky -a 0.1 -k 4 -n 500000 -c 4 -o nex_files5/ins/BUCKY.0.1 nex_files5/ins/*.in',\n",
       " 'bucky -a 1 -k 4 -n 500000 -c 4 -o nex_files5/ins/BUCKY.1 nex_files5/ins/*.in',\n",
       " 'bucky -a 10 -k 4 -n 500000 -c 4 -o nex_files5/ins/BUCKY.10 nex_files5/ins/*.in',\n",
       " 'bucky --use-independence-prior -k 4 -n 500000                 -o nex_files6/ins/BUCKY.ind nex_files6/ins/*.in',\n",
       " 'bucky -a 0.1 -k 4 -n 500000 -c 4 -o nex_files6/ins/BUCKY.0.1 nex_files6/ins/*.in',\n",
       " 'bucky -a 1 -k 4 -n 500000 -c 4 -o nex_files6/ins/BUCKY.1 nex_files6/ins/*.in',\n",
       " 'bucky -a 10 -k 4 -n 500000 -c 4 -o nex_files6/ins/BUCKY.10 nex_files6/ins/*.in']"
      ]
     },
     "execution_count": 22,
     "metadata": {},
     "output_type": "execute_result"
    }
   ],
   "source": [
    "args = []\n",
    "for insdir in [\"nex_files5/ins\", \"nex_files6/ins\"]:\n",
    "    ## independence test\n",
    "    args.append(\"bucky --use-independence-prior -k 4 -n 500000 \\\n",
    "                -o {}/BUCKY.ind {}/*.in\".format(insdir, insdir))   \n",
    "    ## alpha at three levels\n",
    "    for alpha in [0.1, 1, 10]:\n",
    "        args.append(\"bucky -a {} -k 4 -n 500000 -c 4 -o {}/BUCKY.{} {}/*.in\".\\\n",
    "                    format(alpha, insdir, alpha, insdir))\n",
    "        \n",
    "    \n",
    "def bucky(arg):\n",
    "    import subprocess\n",
    "    subprocess.check_call(arg, shell=True)\n",
    "    return arg\n",
    "    \n",
    "res = lview.map_async(bucky, args)\n",
    "res.get()"
   ]
  },
  {
   "cell_type": "markdown",
   "metadata": {},
   "source": [
    "#### Cleanup"
   ]
  },
  {
   "cell_type": "code",
   "execution_count": null,
   "metadata": {
    "collapsed": true
   },
   "outputs": [],
   "source": [
    "del lbview\n",
    "ipclient.close()"
   ]
  },
  {
   "cell_type": "markdown",
   "metadata": {},
   "source": [
    "### check out the results"
   ]
  },
  {
   "cell_type": "code",
   "execution_count": 1,
   "metadata": {
    "collapsed": false
   },
   "outputs": [
    {
     "name": "stderr",
     "output_type": "stream",
     "text": [
      "head: cannot open ‘nex_files1/ins/BUCKY.0.1.concordance’ for reading: No such file or directory\n"
     ]
    }
   ],
   "source": [
    "%%bash\n",
    "head -n 40 nex_files1/ins/BUCKY.0.1.concordance\n"
   ]
  },
  {
   "cell_type": "code",
   "execution_count": 186,
   "metadata": {
    "collapsed": false
   },
   "outputs": [
    {
     "name": "stdout",
     "output_type": "stream",
     "text": [
      "translate\n",
      " 1 triphyllu,\n",
      " 2 jamesonii,\n",
      " 3 sulcatum_,\n",
      " 4 acutifoli,\n",
      " 5 dentatum_,\n",
      " 6 recognitu;\n",
      "\n",
      "Population Tree:\n",
      "(((1,2),(3,4)),5,6);\n",
      "\n",
      "Primary Concordance Tree Topology:\n",
      "(((1,2),(3,4)),5,6);\n",
      "\n",
      "Population Tree, With Branch Lengths In Estimated Coalescent Units:\n",
      "(((1:10.000,2:10.000):0.478,(3:10.000,4:10.000):0.156):0.840,5:10.000,6:10.000);\n",
      "\n",
      "Primary Concordance Tree with Sample Concordance Factors:\n",
      "(((1:1.000,2:1.000):0.562,(3:1.000,4:1.000):0.351):0.591,5:1.000,6:1.000);\n",
      "\n",
      "Four-way partitions in the Population Tree: sample-wide CF, coalescent units and Ties(if present)\n",
      "{1; 2|3,4; 5,6}\t0.586, 0.478,  \n",
      "{1,2; 5,6|3; 4}\t0.429, 0.156,  \n",
      "{1,2; 3,4|5; 6}\t0.712, 0.840,  \n",
      "\n",
      "Splits in the Primary Concordance Tree: sample-wide and genome-wide mean CF (95% credibility), SD of mean sample-wide CF across runs\n",
      "{1,2,3,4|5,6} 0.591(0.562,0.621) 0.591(0.557,0.625)\t0.001\n",
      "{1,2|3,4,5,6} 0.562(0.533,0.586) 0.562(0.529,0.592)\t0.001\n",
      "{1,2,5,6|3,4} 0.351(0.320,0.383) 0.351(0.316,0.387)\t0.001\n",
      "\n",
      "Splits NOT in the Primary Concordance Tree but with estimated CF > 0.050:\n",
      "{1,2,4|3,5,6} 0.131(0.108,0.156) 0.131(0.105,0.159)\t0.001\n",
      "{1,2,3|4,5,6} 0.126(0.104,0.148) 0.126(0.101,0.151)\t0.000\n",
      "{1,4,5,6|2,3} 0.123(0.105,0.144) 0.123(0.102,0.147)\t0.000\n",
      "{1,3|2,4,5,6} 0.119(0.100,0.143) 0.119(0.097,0.145)\t0.002\n",
      "{1,3,5,6|2,4} 0.111(0.092,0.129) 0.111(0.090,0.132)\t0.001\n",
      "{1,4|2,3,5,6} 0.107(0.085,0.127) 0.107(0.083,0.130)\t0.000\n",
      "{1,5,6|2,3,4} 0.098(0.079,0.115) 0.098(0.077,0.118)\t0.001\n",
      "{1,3,4|2,5,6} 0.086(0.069,0.104) 0.086(0.067,0.107)\t0.000\n",
      "{1,2,4,5|3,6} 0.062(0.047,0.079) 0.063(0.045,0.082)\t0.001\n"
     ]
    }
   ],
   "source": [
    "%%bash\n",
    "head -n 40 nex_files1/ins/BUCKY.1.concordance\n"
   ]
  },
  {
   "cell_type": "code",
   "execution_count": 185,
   "metadata": {
    "collapsed": false
   },
   "outputs": [
    {
     "name": "stdout",
     "output_type": "stream",
     "text": [
      "translate\n",
      " 1 _triphyll,\n",
      " 2 _jamesoni,\n",
      " 3 _sulcatum,\n",
      " 4 _acutifol,\n",
      " 5 _dentatum,\n",
      " 6 _recognit;\n",
      "\n",
      "Population Tree:\n",
      "((((1,2),3),4),5,6);\n",
      "\n",
      "Primary Concordance Tree Topology:\n",
      "(((1,2),(3,4)),5,6);\n",
      "\n",
      "Population Tree, With Branch Lengths In Estimated Coalescent Units:\n",
      "((((1:10.000,2:10.000):0.315,3:10.000):0.080,4:10.000):0.540,5:10.000,6:10.000);\n",
      "\n",
      "Primary Concordance Tree with Sample Concordance Factors:\n",
      "(((1:1.000,2:1.000):0.389,(3:1.000,4:1.000):0.293):0.378,5:1.000,6:1.000);\n",
      "\n",
      "Four-way partitions in the Population Tree: sample-wide CF, coalescent units and Ties(if present)\n",
      "{1; 2|3; 4,5,6}\t0.513, 0.315,  \n",
      "{1,2,3; 4|5; 6}\t0.612, 0.540,  \n",
      "{1,2; 3|4; 5,6}\t0.385, 0.080,  \n",
      "\n",
      "Splits in the Primary Concordance Tree: sample-wide and genome-wide mean CF (95% credibility), SD of mean sample-wide CF across runs\n",
      "{1,2|3,4,5,6} 0.389(0.308,0.470) 0.389(0.295,0.484)\t0.003\n",
      "{1,2,3,4|5,6} 0.378(0.294,0.467) 0.377(0.280,0.480)\t0.002\n",
      "{1,2,5,6|3,4} 0.293(0.206,0.393) 0.292(0.196,0.402)\t0.006\n",
      "\n",
      "Splits NOT in the Primary Concordance Tree but with estimated CF > 0.050:\n",
      "{1,2,3|4,5,6} 0.192(0.107,0.277) 0.191(0.101,0.289)\t0.005\n",
      "{1,4,5,6|2,3} 0.188(0.129,0.253) 0.188(0.120,0.267)\t0.004\n",
      "{1,3,5,6|2,4} 0.137(0.082,0.198) 0.137(0.074,0.208)\t0.002\n",
      "{1,3|2,4,5,6} 0.121(0.066,0.203) 0.122(0.059,0.211)\t0.002\n",
      "{1,5,6|2,3,4} 0.117(0.066,0.181) 0.117(0.059,0.190)\t0.003\n",
      "{1,4|2,3,5,6} 0.109(0.060,0.165) 0.109(0.053,0.175)\t0.002\n",
      "{1,2,4|3,5,6} 0.109(0.058,0.181) 0.109(0.051,0.189)\t0.003\n",
      "{1,3,4|2,5,6} 0.101(0.055,0.162) 0.101(0.048,0.172)\t0.002\n",
      "{1,5|2,3,4,6} 0.089(0.047,0.137) 0.089(0.040,0.148)\t0.001\n"
     ]
    }
   ],
   "source": [
    "%%bash\n",
    "head -n 40 nex_files2/ins/BUCKY.1.concordance\n"
   ]
  },
  {
   "cell_type": "code",
   "execution_count": 2,
   "metadata": {
    "collapsed": false
   },
   "outputs": [
    {
     "name": "stdout",
     "output_type": "stream",
     "text": [
      "translate\r\n",
      " 1 clemensia,\r\n",
      " 2 davidii_D,\r\n",
      " 3 taiwanian,\r\n",
      " 4 lantanoid,\r\n",
      " 5 amplifica,\r\n",
      " 6 lutescens,\r\n",
      " 7 carlesii_,\r\n",
      " 8 dentatum_;\r\n",
      "\r\n",
      "Population Tree:\r\n",
      "((1,(3,(4,((5,6),7)))),2,8);\r\n",
      "\r\n",
      "Primary Concordance Tree Topology:\r\n",
      "((1,((3,4),((5,6),7))),2,8);\r\n",
      "\r\n",
      "Population Tree, With Branch Lengths In Estimated Coalescent Units:\r\n",
      "((1:10.000,(3:10.000,(4:10.000,((5:10.000,6:10.000):0.968,7:10.000):0.092):0.029):0.134):2.022,2:10.000,8:10.000);\r\n",
      "\r\n",
      "Primary Concordance Tree with Sample Concordance Factors:\r\n",
      "((1:1.000,((3:1.000,4:1.000):0.201,((5:1.000,6:1.000):0.660,7:1.000):0.175):0.181):0.877,2:1.000,8:1.000);\r\n",
      "\r\n",
      "Four-way partitions in the Population Tree: sample-wide CF, coalescent units and Ties(if present)\r\n",
      "{1,2,3,4,8; 7|5; 6}\t0.747, 0.968,  \r\n",
      "{1; 3,4,5,6,7|2; 8}\t0.912, 2.022,  \r\n",
      "{1; 2,8|3; 4,5,6,7}\t0.417, 0.134,  \r\n",
      "{1,2,3,8; 4|5,6; 7}\t0.392, 0.092,  \r\n",
      "{1,2,8; 3|4; 5,6,7}\t0.353, 0.029,  \r\n",
      "\r\n",
      "Splits in the Primary Concordance Tree: sample-wide and genome-wide mean CF (95% credibility), SD of mean sample-wide CF across runs\r\n",
      "{1,3,4,5,6,7|2,8} 0.877(0.847,0.904) 0.877(0.842,0.908)\t0.010\r\n",
      "{1,2,3,4,7,8|5,6} 0.660(0.593,0.710) 0.660(0.590,0.715)\t0.022\r\n",
      "{1,2,5,6,7,8|3,4} 0.201(0.149,0.250) 0.201(0.146,0.255)\t0.008\r\n",
      "{1,2,8|3,4,5,6,7} 0.181(0.140,0.240) 0.181(0.136,0.244)\t0.015\r\n",
      "{1,2,3,4,8|5,6,7} 0.175(0.111,0.230) 0.175(0.109,0.233)\t0.014\r\n",
      "\r\n",
      "Splits NOT in the Primary Concordance Tree but with estimated CF > 0.050:\r\n",
      "{1,2,4,5,6,8|3,7} 0.140(0.096,0.205) 0.140(0.094,0.207)\t0.024\r\n",
      "{1,7|2,3,4,5,6,8} 0.137(0.067,0.194) 0.137(0.065,0.197)\t0.019\r\n",
      "{1,2,3,8|4,5,6,7} 0.136(0.088,0.184) 0.136(0.086,0.187)\t0.012\r\n",
      "{1,4|2,3,5,6,7,8} 0.132(0.089,0.181) 0.132(0.086,0.185)\t0.019\r\n",
      "{1,3,4,5,6|2,7,8} 0.131(0.061,0.194) 0.131(0.060,0.198)\t0.031\r\n",
      "{1,2,3,7,8|4,5,6} 0.124(0.053,0.175) 0.124(0.051,0.178)\t0.013\r\n",
      "{1,3|2,4,5,6,7,8} 0.122(0.082,0.183) 0.122(0.079,0.186)\t0.018\r\n",
      "{1,3,4|2,5,6,7,8} 0.120(0.046,0.196) 0.120(0.045,0.199)\t0.041\r\n"
     ]
    }
   ],
   "source": [
    "! head -n 45 nex_files3/ins/BUCKY.0.1.concordance\n"
   ]
  },
  {
   "cell_type": "markdown",
   "metadata": {},
   "source": [
    "### FINAL BUCKY RESULTS (DEEP_SCALE)"
   ]
  },
  {
   "cell_type": "code",
   "execution_count": 3,
   "metadata": {
    "collapsed": false
   },
   "outputs": [
    {
     "name": "stdout",
     "output_type": "stream",
     "text": [
      "translate\r\n",
      " 1 clemensia,\r\n",
      " 2 davidii_D,\r\n",
      " 3 taiwanian,\r\n",
      " 4 lantanoid,\r\n",
      " 5 amplifica,\r\n",
      " 6 lutescens,\r\n",
      " 7 carlesii_,\r\n",
      " 8 dentatum_;\r\n",
      "\r\n",
      "Population Tree:\r\n",
      "((1,(3,((4,(5,6)),7))),2,8);\r\n",
      "\r\n",
      "Primary Concordance Tree Topology:\r\n",
      "((1,((3,(4,(5,6))),7)),2,8);\r\n",
      "\r\n",
      "Population Tree, With Branch Lengths In Estimated Coalescent Units:\r\n",
      "((1:10.000,(3:10.000,((4:10.000,(5:10.000,6:10.000):0.946):0.054,7:10.000):0.057):0.220):1.283,2:10.000,8:10.000);\r\n",
      "\r\n",
      "Primary Concordance Tree with Sample Concordance Factors:\r\n",
      "((1:1.000,((3:1.000,(4:1.000,(5:1.000,6:1.000):0.660):0.180):0.171,7:1.000):0.270):0.744,2:1.000,8:1.000);\r\n",
      "\r\n",
      "Four-way partitions in the Population Tree: sample-wide CF, coalescent units and Ties(if present)\r\n",
      "{1,2,3,7,8; 4|5; 6}\t0.741, 0.946,  \r\n",
      "{1; 3,4,5,6,7|2; 8}\t0.815, 1.283,  \r\n",
      "{1; 2,8|3; 4,5,6,7}\t0.465, 0.220,  \r\n",
      "{1,2,3,8; 7|4; 5,6}\t0.368, 0.054,  \r\n",
      "{1,2,8; 3|4,5,6; 7}\t0.370, 0.057,  \r\n",
      "\r\n",
      "Splits in the Primary Concordance Tree: sample-wide and genome-wide mean CF (95% credibility), SD of mean sample-wide CF across runs\r\n",
      "{1,3,4,5,6,7|2,8} 0.744(0.621,0.834) 0.744(0.595,0.856)\t0.058\r\n",
      "{1,2,3,4,7,8|5,6} 0.660(0.485,0.805) 0.660(0.463,0.818)\t0.092\r\n",
      "{1,2,8|3,4,5,6,7} 0.270(0.160,0.402) 0.270(0.142,0.425)\t0.062\r\n",
      "{1,2,3,7,8|4,5,6} 0.180(0.083,0.325) 0.180(0.069,0.344)\t0.065\r\n",
      "{1,2,7,8|3,4,5,6} 0.171(0.065,0.320) 0.171(0.053,0.340)\t0.070\r\n",
      "\r\n",
      "Splits NOT in the Primary Concordance Tree but with estimated CF > 0.050:\r\n",
      "{1,4,5,6,7|2,3,8} 0.180(0.089,0.278) 0.180(0.077,0.297)\t0.031\r\n",
      "{1,4|2,3,5,6,7,8} 0.164(0.101,0.225) 0.164(0.083,0.252)\t0.010\r\n",
      "{1,4,7|2,3,5,6,8} 0.160(0.089,0.225) 0.159(0.076,0.249)\t0.013\r\n",
      "{1,3,4,5,6|2,7,8} 0.134(0.018,0.237) 0.134(0.018,0.257)\t0.053\r\n",
      "{1,2,3,4,8|5,6,7} 0.121(0.000,0.260) 0.121(0.000,0.271)\t0.068\r\n",
      "{1,2,3,8|4,5,6,7} 0.110(0.000,0.195) 0.110(0.000,0.212)\t0.033\r\n",
      "{1,3,4|2,5,6,7,8} 0.106(0.000,0.213) 0.106(0.000,0.234)\t0.071\r\n",
      "{1,2,3,4,6,8|5,7} 0.103(0.000,0.201) 0.103(0.000,0.220)\t0.024\r\n"
     ]
    }
   ],
   "source": [
    "! head -n 45 nex_files4/ins/BUCKY.0.1.concordance\n"
   ]
  },
  {
   "cell_type": "code",
   "execution_count": 23,
   "metadata": {
    "collapsed": false
   },
   "outputs": [
    {
     "name": "stdout",
     "output_type": "stream",
     "text": [
      "translate\r\n",
      " 1 clemensia,\r\n",
      " 2 tinus_D33,\r\n",
      " 3 taiwanian,\r\n",
      " 4 lantanoid,\r\n",
      " 5 amplifica,\r\n",
      " 6 lutescens,\r\n",
      " 7 lentago_E,\r\n",
      " 8 dentatum_;\r\n",
      "\r\n",
      "Population Tree:\r\n",
      "((1,((3,4),((5,6),7))),2,8);\r\n",
      "\r\n",
      "Primary Concordance Tree Topology:\r\n",
      "((1,((3,4),((5,6),7))),2,8);\r\n",
      "\r\n",
      "Population Tree, With Branch Lengths In Estimated Coalescent Units:\r\n",
      "((1:10.000,((3:10.000,4:10.000):0.067,((5:10.000,6:10.000):0.776,7:10.000):0.158):0.199):1.736,2:10.000,8:10.000);\r\n",
      "\r\n",
      "Primary Concordance Tree with Sample Concordance Factors:\r\n",
      "((1:1.000,((3:1.000,4:1.000):0.186,((5:1.000,6:1.000):0.619,7:1.000):0.181):0.228):0.844,2:1.000,8:1.000);\r\n",
      "\r\n",
      "Four-way partitions in the Population Tree: sample-wide CF, coalescent units and Ties(if present)\r\n",
      "{1; 3,4,5,6,7|2; 8}\t0.883, 1.736,  \r\n",
      "{1,2,3,4,8; 7|5; 6}\t0.693, 0.776,  \r\n",
      "{1; 2,8|3,4; 5,6,7}\t0.454, 0.199,  \r\n",
      "{1,2,8; 3,4|5,6; 7}\t0.431, 0.158,  \r\n",
      "{1,2,8; 5,6,7|3; 4}\t0.377, 0.067,  \r\n",
      "\r\n",
      "Splits in the Primary Concordance Tree: sample-wide and genome-wide mean CF (95% credibility), SD of mean sample-wide CF across runs\r\n",
      "{1,3,4,5,6,7|2,8} 0.844(0.806,0.869) 0.844(0.801,0.877)\t0.007\r\n",
      "{1,2,3,4,7,8|5,6} 0.619(0.524,0.712) 0.619(0.518,0.719)\t0.056\r\n",
      "{1,2,8|3,4,5,6,7} 0.228(0.188,0.271) 0.228(0.182,0.278)\t0.012\r\n",
      "{1,2,5,6,7,8|3,4} 0.186(0.145,0.234) 0.186(0.140,0.240)\t0.011\r\n",
      "{1,2,3,4,8|5,6,7} 0.181(0.112,0.267) 0.181(0.108,0.272)\t0.047\r\n",
      "\r\n",
      "Splits NOT in the Primary Concordance Tree but with estimated CF > 0.050:\r\n",
      "{1,2,3,5,6,8|4,7} 0.166(0.111,0.220) 0.166(0.107,0.225)\t0.028\r\n",
      "{1,3|2,4,5,6,7,8} 0.165(0.113,0.229) 0.165(0.108,0.234)\t0.031\r\n",
      "{1,2,4,7,8|3,5,6} 0.128(0.076,0.186) 0.128(0.074,0.190)\t0.017\r\n",
      "{1,4|2,3,5,6,7,8} 0.124(0.062,0.180) 0.124(0.059,0.185)\t0.033\r\n",
      "{1,3,4,5,6|2,7,8} 0.121(0.076,0.171) 0.121(0.072,0.176)\t0.027\r\n",
      "{1,2,3,8|4,5,6,7} 0.119(0.082,0.171) 0.119(0.078,0.174)\t0.015\r\n",
      "{1,2,4,5,6,8|3,7} 0.112(0.072,0.162) 0.112(0.070,0.166)\t0.019\r\n",
      "{1,3,4,7|2,5,6,8} 0.088(0.055,0.141) 0.088(0.052,0.144)\t0.010\r\n"
     ]
    }
   ],
   "source": [
    "! head -n 45 nex_files5/ins/BUCKY.0.1.concordance\n"
   ]
  },
  {
   "cell_type": "code",
   "execution_count": 24,
   "metadata": {
    "collapsed": false
   },
   "outputs": [
    {
     "name": "stdout",
     "output_type": "stream",
     "text": [
      "translate\r\n",
      " 1 clemensia,\r\n",
      " 2 tinus_D33,\r\n",
      " 3 taiwanian,\r\n",
      " 4 lantanoid,\r\n",
      " 5 amplifica,\r\n",
      " 6 lutescens,\r\n",
      " 7 lentago_E,\r\n",
      " 8 dentatum_;\r\n",
      "\r\n",
      "Population Tree:\r\n",
      "((1,((3,4),((5,6),7))),2,8);\r\n",
      "\r\n",
      "Primary Concordance Tree Topology:\r\n",
      "((1,((3,4),((5,6),7))),2,8);\r\n",
      "\r\n",
      "Population Tree, With Branch Lengths In Estimated Coalescent Units:\r\n",
      "((1:10.000,((3:10.000,4:10.000):0.060,((5:10.000,6:10.000):0.654,7:10.000):0.279):0.385):1.135,2:10.000,8:10.000);\r\n",
      "\r\n",
      "Primary Concordance Tree with Sample Concordance Factors:\r\n",
      "((1:1.000,((3:1.000,4:1.000):0.164,((5:1.000,6:1.000):0.564,7:1.000):0.327):0.288):0.706,2:1.000,8:1.000);\r\n",
      "\r\n",
      "Four-way partitions in the Population Tree: sample-wide CF, coalescent units and Ties(if present)\r\n",
      "{1,2,3,4,8; 7|5; 6}\t0.653, 0.654,  \r\n",
      "{1; 3,4,5,6,7|2; 8}\t0.786, 1.135,  \r\n",
      "{1,2,8; 3,4|5,6; 7}\t0.496, 0.279,  \r\n",
      "{1; 2,8|3,4; 5,6,7}\t0.547, 0.385,  \r\n",
      "{1,2,8; 5,6,7|3; 4}\t0.372, 0.060,  \r\n",
      "\r\n",
      "Splits in the Primary Concordance Tree: sample-wide and genome-wide mean CF (95% credibility), SD of mean sample-wide CF across runs\r\n",
      "{1,3,4,5,6,7|2,8} 0.706(0.594,0.849) 0.705(0.553,0.867)\t0.032\r\n",
      "{1,2,3,4,7,8|5,6} 0.564(0.434,0.708) 0.564(0.403,0.729)\t0.040\r\n",
      "{1,2,3,4,8|5,6,7} 0.327(0.170,0.481) 0.327(0.151,0.504)\t0.012\r\n",
      "{1,2,8|3,4,5,6,7} 0.288(0.104,0.453) 0.288(0.092,0.483)\t0.068\r\n",
      "{1,2,5,6,7,8|3,4} 0.164(0.000,0.321) 0.164(0.000,0.350)\t0.039\r\n",
      "\r\n",
      "Splits NOT in the Primary Concordance Tree but with estimated CF > 0.050:\r\n",
      "{1,4,5,6,7|2,3,8} 0.195(0.066,0.321) 0.195(0.054,0.353)\t0.037\r\n",
      "{1,2,3,7,8|4,5,6} 0.140(0.000,0.321) 0.139(0.000,0.343)\t0.041\r\n",
      "{1,2|3,4,5,6,7,8} 0.137(0.057,0.274) 0.137(0.038,0.285)\t0.032\r\n",
      "{1,2,4,8|3,5,6,7} 0.124(0.000,0.358) 0.124(0.000,0.367)\t0.088\r\n",
      "{1,2,3,4,5,8|6,7} 0.123(0.000,0.255) 0.123(0.000,0.273)\t0.036\r\n",
      "{1,2,3,4,6,8|5,7} 0.120(0.000,0.208) 0.120(0.000,0.239)\t0.038\r\n",
      "{1,2,3,5,6,8|4,7} 0.114(0.000,0.283) 0.114(0.000,0.298)\t0.054\r\n",
      "{1,4|2,3,5,6,7,8} 0.104(0.000,0.245) 0.104(0.000,0.269)\t0.036\r\n"
     ]
    }
   ],
   "source": [
    "! head -n 45 nex_files6/ins/BUCKY.0.1.concordance\n"
   ]
  },
  {
   "cell_type": "markdown",
   "metadata": {},
   "source": [
    "### Get missing data percentatge for m2 data sets \n",
    "For this I start raxml to get the info and then quit. Kind of lazy but simpler than calculating it myself."
   ]
  },
  {
   "cell_type": "code",
   "execution_count": null,
   "metadata": {
    "collapsed": true
   },
   "outputs": [],
   "source": [
    "%%bash\n",
    "## raxml argumement w/ ...\n",
    "raxmlHPC-PTHREADS-AVX -f a -m GTRGAMMA -N 100 -x 12345 -p 12345 -T 20 \\\n",
    "                      -w /home/deren/Documents/RADmissing/empirical_1/fullrun \\\n",
    "                      -n empirical_1_full_m2 -s empirical_1/fullrun/outfiles/empirical_1_m2.phy\n",
    "                      "
   ]
  },
  {
   "cell_type": "code",
   "execution_count": 27,
   "metadata": {
    "collapsed": false
   },
   "outputs": [
    {
     "name": "stdout",
     "output_type": "stream",
     "text": [
      "\n",
      "\n",
      "This is RAxML version 8.0.16 released by Alexandros Stamatakis on March 21 2014.\n",
      "\n",
      "With greatly appreciated code contributions by:\n",
      "Andre Aberer      (HITS)\n",
      "Simon Berger      (HITS)\n",
      "Alexey Kozlov     (HITS)\n",
      "Nick Pattengale   (Sandia)\n",
      "Wayne Pfeiffer    (SDSC)\n",
      "Akifumi S. Tanabe (NRIFS)\n",
      "David Dao         (KIT)\n",
      "Charlie Taylor    (UF)\n",
      "\n",
      "\n",
      "Alignment has 502491 distinct alignment patterns\n",
      "\n",
      "Proportion of gaps and completely undetermined characters in this alignment: 88.66%\n",
      "\n",
      "RAxML rapid bootstrapping and subsequent ML search\n"
     ]
    }
   ],
   "source": [
    "%%bash \n",
    "head -n 20 empirical_1/fullrun/RAxML_info.empirical_1_full_m2"
   ]
  },
  {
   "cell_type": "markdown",
   "metadata": {},
   "source": [
    "### Get average phylo dist (GTRgamma dist)"
   ]
  },
  {
   "cell_type": "code",
   "execution_count": 37,
   "metadata": {
    "collapsed": false
   },
   "outputs": [
    {
     "data": {
      "text/plain": [
       "[1] 0.06114884\n"
      ]
     },
     "metadata": {},
     "output_type": "display_data"
    }
   ],
   "source": [
    "%%R\n",
    "mean(cophenetic.phylo(ltre))"
   ]
  }
 ],
 "metadata": {
  "kernelspec": {
   "display_name": "Python 2",
   "language": "python",
   "name": "python2"
  },
  "language_info": {
   "codemirror_mode": {
    "name": "ipython",
    "version": 2
   },
   "file_extension": ".py",
   "mimetype": "text/x-python",
   "name": "python",
   "nbconvert_exporter": "python",
   "pygments_lexer": "ipython2",
   "version": "2.7.12"
  }
 },
 "nbformat": 4,
 "nbformat_minor": 0
}
