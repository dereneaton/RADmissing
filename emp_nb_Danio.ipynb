{
 "cells": [
  {
   "cell_type": "markdown",
   "metadata": {},
   "source": [
    "## Notebook 7: \n",
    "\n",
    "This is an IPython notebook. Most of the code is composed of bash scripts, indicated by %%bash at the top of the cell, otherwise it is IPython code. This notebook includes code to download, assemble and analyze a published RADseq data set."
   ]
  },
  {
   "cell_type": "code",
   "execution_count": 2,
   "metadata": {
    "collapsed": false
   },
   "outputs": [
    {
     "name": "stdout",
     "output_type": "stream",
     "text": []
    }
   ],
   "source": [
    "### Notebook 7\n",
    "### Data set 7 (Danio)\n",
    "### Authors: McCluskey (20xx)\n",
    "### Data Location: SRP065811 "
   ]
  },
  {
   "cell_type": "markdown",
   "metadata": {},
   "source": [
    "## Download the sequence data\n",
    "Sequence data for this study are archived on the NCBI sequence read archive (SRA). Below I read in SraRunTable.txt for this project which contains all of the information we need to download the data. \n",
    "\n",
    "+ Project SRA: SRP065811 \n",
    "+ BioProject ID: PRJNA299298\n",
    "+ SRA link: http://trace.ncbi.nlm.nih.gov/Traces/study/?acc=SRP065811"
   ]
  },
  {
   "cell_type": "code",
   "execution_count": 1,
   "metadata": {
    "collapsed": true
   },
   "outputs": [],
   "source": [
    "%%bash\n",
    "## make a new directory for this analysis\n",
    "mkdir -p empirical_7/fastq/"
   ]
  },
  {
   "cell_type": "markdown",
   "metadata": {},
   "source": [
    "#### For each ERS (individuals) get all of the ERR (sequence file accessions)."
   ]
  },
  {
   "cell_type": "code",
   "execution_count": 4,
   "metadata": {
    "collapsed": false,
    "scrolled": false
   },
   "outputs": [
    {
     "name": "stdout",
     "output_type": "stream",
     "text": [
      "    BioSample_s Experiment_s Library_Name_s  MBases_l  MBytes_l  \\\n",
      "0  SAMN04233193   SRX1425835         Daes_f       304       264   \n",
      "1  SAMN04233194   SRX1425836         Daes_m       350       303   \n",
      "2  SAMN04233195   SRX1425837         Dalb_f       422       364   \n",
      "3  SAMN04233196   SRX1425838         Dalb_m       675       577   \n",
      "4  SAMN04233197   SRX1425839         Dcho_f       269       234   \n",
      "\n",
      "           Organism_s       Run_s SRA_Sample_s Sample_Name_s   sex_s  \\\n",
      "0    Danio aesculapii  SRR2912269   SRS1152558        Daes_f  female   \n",
      "1    Danio aesculapii  SRR2912270   SRS1158108        Daes_m    male   \n",
      "2  Danio albolineatus  SRR2912271   SRS1158107        Dalb_f  female   \n",
      "3  Danio albolineatus  SRR2912272   SRS1158106        Dalb_m    male   \n",
      "4       Danio choprai  SRR2912273   SRS1158105        Dcho_f  female   \n",
      "\n",
      "      ...        LoadDate_s Platform_s ReleaseDate_s SRA_Study_s    age_s  \\\n",
      "0     ...      Nov 10, 2015   ILLUMINA  Nov 11, 2015   SRP065811  Unknown   \n",
      "1     ...      Nov 10, 2015   ILLUMINA  Nov 11, 2015   SRP065811  Unknown   \n",
      "2     ...      Nov 10, 2015   ILLUMINA  Nov 11, 2015   SRP065811  Unknown   \n",
      "3     ...      Nov 10, 2015   ILLUMINA  Nov 11, 2015   SRP065811  Unknown   \n",
      "4     ...      Nov 10, 2015   ILLUMINA  Nov 11, 2015   SRP065811  Unknown   \n",
      "\n",
      "  dev_stage_s g1k_analysis_group_s  g1k_pop_code_s        source_s    tissue_s  \n",
      "0       Adult       <not provided>  <not provided>  <not provided>  Caudal Fin  \n",
      "1       Adult       <not provided>  <not provided>  <not provided>  Caudal Fin  \n",
      "2       Adult       <not provided>  <not provided>  <not provided>  Caudal Fin  \n",
      "3       Adult       <not provided>  <not provided>  <not provided>  Caudal Fin  \n",
      "4       Adult       <not provided>  <not provided>  <not provided>  Caudal Fin  \n",
      "\n",
      "[5 rows x 31 columns]\n"
     ]
    }
   ],
   "source": [
    "## IPython code\n",
    "import pandas as pd\n",
    "import numpy as np\n",
    "import urllib2\n",
    "import os\n",
    "\n",
    "## open the SRA run table from github url\n",
    "url = \"https://raw.githubusercontent.com/\"+\\\n",
    "      \"dereneaton/RADmissing/master/empirical_7_SraRunTable.txt\"\n",
    "intable = urllib2.urlopen(url)\n",
    "indata = pd.read_table(intable, sep=\"\\t\")\n",
    "\n",
    "## print first few rows\n",
    "print indata.head()"
   ]
  },
  {
   "cell_type": "code",
   "execution_count": 10,
   "metadata": {
    "collapsed": false
   },
   "outputs": [],
   "source": [
    "def wget_download(SRR, outdir, outname):\n",
    "    \"\"\" Python function to get sra data from ncbi and write to\n",
    "    outdir with a new name using bash call wget \"\"\"\n",
    "    \n",
    "    ## get output name\n",
    "    output = os.path.join(outdir, outname+\".sra\")\n",
    "    \n",
    "    ## create a call string \n",
    "    call = \"wget -q -r -nH --cut-dirs=9 -O \"+output+\" \"+\\\n",
    "           \"ftp://ftp-trace.ncbi.nlm.nih.gov/\"+\\\n",
    "           \"sra/sra-instant/reads/ByRun/sra/SRR/\"+\\\n",
    "           \"{}/{}/{}.sra;\".format(SRR[:6], SRR, SRR)\n",
    "        \n",
    "    ## call bash script\n",
    "    ! $call "
   ]
  },
  {
   "cell_type": "markdown",
   "metadata": {},
   "source": [
    "Here we pass the SRR number and the sample name to the `wget_download` function so that the files are saved with their sample names. "
   ]
  },
  {
   "cell_type": "code",
   "execution_count": 11,
   "metadata": {
    "collapsed": false
   },
   "outputs": [],
   "source": [
    "for ID, SRR in zip(indata.Library_Name_s, indata.Run_s):\n",
    "    wget_download(SRR, \"empirical_7/fastq/\", ID)"
   ]
  },
  {
   "cell_type": "code",
   "execution_count": 12,
   "metadata": {
    "collapsed": false
   },
   "outputs": [
    {
     "name": "stdout",
     "output_type": "stream",
     "text": [
      "Read 3393736 spots for empirical_7/fastq/Daes_f.sra\n",
      "Written 3393736 spots for empirical_7/fastq/Daes_f.sra\n",
      "Read 3914873 spots for empirical_7/fastq/Daes_m.sra\n",
      "Written 3914873 spots for empirical_7/fastq/Daes_m.sra\n",
      "Read 4716788 spots for empirical_7/fastq/Dalb_f.sra\n",
      "Written 4716788 spots for empirical_7/fastq/Dalb_f.sra\n",
      "Read 7536118 spots for empirical_7/fastq/Dalb_m.sra\n",
      "Written 7536118 spots for empirical_7/fastq/Dalb_m.sra\n",
      "Read 3007245 spots for empirical_7/fastq/Dcho_f.sra\n",
      "Written 3007245 spots for empirical_7/fastq/Dcho_f.sra\n",
      "Read 3324604 spots for empirical_7/fastq/Dcho_m.sra\n",
      "Written 3324604 spots for empirical_7/fastq/Dcho_m.sra\n",
      "Read 2452542 spots for empirical_7/fastq/Ddan_f.sra\n",
      "Written 2452542 spots for empirical_7/fastq/Ddan_f.sra\n",
      "Read 2554787 spots for empirical_7/fastq/Ddan_m.sra\n",
      "Written 2554787 spots for empirical_7/fastq/Ddan_m.sra\n",
      "Read 2955278 spots for empirical_7/fastq/Dery_f.sra\n",
      "Written 2955278 spots for empirical_7/fastq/Dery_f.sra\n",
      "Read 2392295 spots for empirical_7/fastq/Dery_m.sra\n",
      "Written 2392295 spots for empirical_7/fastq/Dery_m.sra\n",
      "Read 2155308 spots for empirical_7/fastq/DEVaeq_f.sra\n",
      "Written 2155308 spots for empirical_7/fastq/DEVaeq_f.sra\n",
      "Read 2279049 spots for empirical_7/fastq/DEVpat_f.sra\n",
      "Written 2279049 spots for empirical_7/fastq/DEVpat_f.sra\n",
      "Read 2550979 spots for empirical_7/fastq/DEVpat_m.sra\n",
      "Written 2550979 spots for empirical_7/fastq/DEVpat_m.sra\n",
      "Read 2167284 spots for empirical_7/fastq/Dfee_f.sra\n",
      "Written 2167284 spots for empirical_7/fastq/Dfee_f.sra\n",
      "Read 2595766 spots for empirical_7/fastq/Dfee_m.sra\n",
      "Written 2595766 spots for empirical_7/fastq/Dfee_m.sra\n",
      "Read 3067399 spots for empirical_7/fastq/Dker_f.sra\n",
      "Written 3067399 spots for empirical_7/fastq/Dker_f.sra\n",
      "Read 3245930 spots for empirical_7/fastq/Dker_m.sra\n",
      "Written 3245930 spots for empirical_7/fastq/Dker_m.sra\n",
      "Read 3289341 spots for empirical_7/fastq/Dkya_spo_f.sra\n",
      "Written 3289341 spots for empirical_7/fastq/Dkya_spo_f.sra\n",
      "Read 2356896 spots for empirical_7/fastq/Dkya_spo_m.sra\n",
      "Written 2356896 spots for empirical_7/fastq/Dkya_spo_m.sra\n",
      "Read 3046337 spots for empirical_7/fastq/Dkya_str_f.sra\n",
      "Written 3046337 spots for empirical_7/fastq/Dkya_str_f.sra\n",
      "Read 2789707 spots for empirical_7/fastq/Dkya_str_m.sra\n",
      "Written 2789707 spots for empirical_7/fastq/Dkya_str_m.sra\n",
      "Read 3258046 spots for empirical_7/fastq/DLAtra_f.sra\n",
      "Written 3258046 spots for empirical_7/fastq/DLAtra_f.sra\n",
      "Read 2413543 spots for empirical_7/fastq/DLAtra_m.sra\n",
      "Written 2413543 spots for empirical_7/fastq/DLAtra_m.sra\n",
      "Read 2979603 spots for empirical_7/fastq/Dmar_f.sra\n",
      "Written 2979603 spots for empirical_7/fastq/Dmar_f.sra\n",
      "Read 3081140 spots for empirical_7/fastq/Dmar_m.sra\n",
      "Written 3081140 spots for empirical_7/fastq/Dmar_m.sra\n",
      "Read 2590870 spots for empirical_7/fastq/Dnig_f.sra\n",
      "Written 2590870 spots for empirical_7/fastq/Dnig_f.sra\n",
      "Read 2212789 spots for empirical_7/fastq/Dnig_m.sra\n",
      "Written 2212789 spots for empirical_7/fastq/Dnig_m.sra\n",
      "Read 2552323 spots for empirical_7/fastq/Drer_AB_f.sra\n",
      "Written 2552323 spots for empirical_7/fastq/Drer_AB_f.sra\n",
      "Read 8486922 spots for empirical_7/fastq/Drer_AB_m.sra\n",
      "Written 8486922 spots for empirical_7/fastq/Drer_AB_m.sra\n",
      "Read 2724440 spots for empirical_7/fastq/Drer_Nad_f.sra\n",
      "Written 2724440 spots for empirical_7/fastq/Drer_Nad_f.sra\n",
      "Read 2645661 spots for empirical_7/fastq/Drer_Tub_f.sra\n",
      "Written 2645661 spots for empirical_7/fastq/Drer_Tub_f.sra\n",
      "Read 1993302 spots for empirical_7/fastq/Drer_Tub_m.sra\n",
      "Written 1993302 spots for empirical_7/fastq/Drer_Tub_m.sra\n",
      "Read 2893129 spots for empirical_7/fastq/Drer_WIK_f.sra\n",
      "Written 2893129 spots for empirical_7/fastq/Drer_WIK_f.sra\n",
      "Read 3045508 spots for empirical_7/fastq/Drer_WIK_m.sra\n",
      "Written 3045508 spots for empirical_7/fastq/Drer_WIK_m.sra\n",
      "Read 7006758 spots for empirical_7/fastq/Dtin_q.sra\n",
      "Written 7006758 spots for empirical_7/fastq/Dtin_q.sra\n",
      "Read 2260219 spots for empirical_7/fastq/MICkub_f.sra\n",
      "Written 2260219 spots for empirical_7/fastq/MICkub_f.sra\n",
      "Read 2122160 spots for empirical_7/fastq/MICkub_m.sra\n",
      "Written 2122160 spots for empirical_7/fastq/MICkub_m.sra\n",
      "Read 3222355 spots for empirical_7/fastq/RASesp_q.sra\n",
      "Written 3222355 spots for empirical_7/fastq/RASesp_q.sra\n",
      "Read 2961701 spots for empirical_7/fastq/RASmac_q.sra\n",
      "Written 2961701 spots for empirical_7/fastq/RASmac_q.sra\n",
      "Read 3000803 spots for empirical_7/fastq/SUNaxe_f.sra\n",
      "Written 3000803 spots for empirical_7/fastq/SUNaxe_f.sra\n",
      "Read 3893761 spots for empirical_7/fastq/SUNaxe_m.sra\n",
      "Written 3893761 spots for empirical_7/fastq/SUNaxe_m.sra\n",
      "Read 131137295 spots total\n",
      "Written 131137295 spots total\n"
     ]
    }
   ],
   "source": [
    "%%bash\n",
    "## convert sra files to fastq using fastq-dump tool\n",
    "## output as gzipped into the fastq directory\n",
    "fastq-dump --gzip -O empirical_7/fastq/ empirical_7/fastq/*.sra\n",
    "\n",
    "## remove .sra files\n",
    "rm empirical_7/fastq/*.sra"
   ]
  },
  {
   "cell_type": "code",
   "execution_count": 14,
   "metadata": {
    "collapsed": false
   },
   "outputs": [
    {
     "name": "stdout",
     "output_type": "stream",
     "text": [
      "total 11G\n",
      "-rw-rw-r-- 1 deren deren 261M Nov 23 17:02 Daes_f.fastq.gz\n",
      "-rw-rw-r-- 1 deren deren 299M Nov 23 17:02 Daes_m.fastq.gz\n",
      "-rw-rw-r-- 1 deren deren 382M Nov 23 17:02 Dalb_f.fastq.gz\n",
      "-rw-rw-r-- 1 deren deren 606M Nov 23 17:02 Dalb_m.fastq.gz\n",
      "-rw-rw-r-- 1 deren deren 240M Nov 23 17:02 Dcho_f.fastq.gz\n",
      "-rw-rw-r-- 1 deren deren 264M Nov 23 17:02 Dcho_m.fastq.gz\n",
      "-rw-rw-r-- 1 deren deren 206M Nov 23 17:02 Ddan_f.fastq.gz\n",
      "-rw-rw-r-- 1 deren deren 212M Nov 23 17:02 Ddan_m.fastq.gz\n",
      "-rw-rw-r-- 1 deren deren 242M Nov 23 17:02 Dery_f.fastq.gz\n",
      "-rw-rw-r-- 1 deren deren 198M Nov 23 17:02 Dery_m.fastq.gz\n",
      "-rw-rw-r-- 1 deren deren 179M Nov 23 17:02 DEVaeq_f.fastq.gz\n",
      "-rw-rw-r-- 1 deren deren 189M Nov 23 17:02 DEVpat_f.fastq.gz\n",
      "-rw-rw-r-- 1 deren deren 210M Nov 23 17:02 DEVpat_m.fastq.gz\n",
      "-rw-rw-r-- 1 deren deren 178M Nov 23 17:02 Dfee_f.fastq.gz\n",
      "-rw-rw-r-- 1 deren deren 214M Nov 23 17:02 Dfee_m.fastq.gz\n",
      "-rw-rw-r-- 1 deren deren 241M Nov 23 17:02 Dker_f.fastq.gz\n",
      "-rw-rw-r-- 1 deren deren 239M Nov 23 17:02 Dker_m.fastq.gz\n",
      "-rw-rw-r-- 1 deren deren 261M Nov 23 17:02 Dkya_spo_f.fastq.gz\n",
      "-rw-rw-r-- 1 deren deren 192M Nov 23 17:02 Dkya_spo_m.fastq.gz\n",
      "-rw-rw-r-- 1 deren deren 243M Nov 23 17:02 Dkya_str_f.fastq.gz\n",
      "-rw-rw-r-- 1 deren deren 222M Nov 23 17:02 Dkya_str_m.fastq.gz\n",
      "-rw-rw-r-- 1 deren deren 274M Nov 23 17:02 DLAtra_f.fastq.gz\n",
      "-rw-rw-r-- 1 deren deren 202M Nov 23 17:02 DLAtra_m.fastq.gz\n",
      "-rw-rw-r-- 1 deren deren 244M Nov 23 17:02 Dmar_f.fastq.gz\n",
      "-rw-rw-r-- 1 deren deren 254M Nov 23 17:02 Dmar_m.fastq.gz\n",
      "-rw-rw-r-- 1 deren deren 209M Nov 23 17:02 Dnig_f.fastq.gz\n",
      "-rw-rw-r-- 1 deren deren 180M Nov 23 17:02 Dnig_m.fastq.gz\n",
      "-rw-rw-r-- 1 deren deren 210M Nov 23 17:02 Drer_AB_f.fastq.gz\n",
      "-rw-rw-r-- 1 deren deren 694M Nov 23 17:02 Drer_AB_m.fastq.gz\n",
      "-rw-rw-r-- 1 deren deren 224M Nov 23 17:02 Drer_Nad_f.fastq.gz\n",
      "-rw-rw-r-- 1 deren deren 214M Nov 23 17:02 Drer_Tub_f.fastq.gz\n",
      "-rw-rw-r-- 1 deren deren 164M Nov 23 17:02 Drer_Tub_m.fastq.gz\n",
      "-rw-rw-r-- 1 deren deren 240M Nov 23 17:02 Drer_WIK_f.fastq.gz\n",
      "-rw-rw-r-- 1 deren deren 252M Nov 23 17:02 Drer_WIK_m.fastq.gz\n",
      "-rw-rw-r-- 1 deren deren 475M Nov 23 17:02 Dtin_q.fastq.gz\n",
      "-rw-rw-r-- 1 deren deren 189M Nov 23 17:02 MICkub_f.fastq.gz\n",
      "-rw-rw-r-- 1 deren deren 177M Nov 23 17:02 MICkub_m.fastq.gz\n",
      "-rw-rw-r-- 1 deren deren 255M Nov 23 17:02 RASesp_q.fastq.gz\n",
      "-rw-rw-r-- 1 deren deren 237M Nov 23 17:02 RASmac_q.fastq.gz\n",
      "-rw-rw-r-- 1 deren deren 252M Nov 23 17:02 SUNaxe_f.fastq.gz\n",
      "-rw-rw-r-- 1 deren deren 325M Nov 23 17:02 SUNaxe_m.fastq.gz\n"
     ]
    }
   ],
   "source": [
    "%%bash\n",
    "ls -lh empirical_7/fastq/"
   ]
  },
  {
   "cell_type": "markdown",
   "metadata": {},
   "source": [
    "## Make a params file"
   ]
  },
  {
   "cell_type": "code",
   "execution_count": 17,
   "metadata": {
    "collapsed": false
   },
   "outputs": [
    {
     "name": "stdout",
     "output_type": "stream",
     "text": [
      "pyRAD 3.0.63\n"
     ]
    }
   ],
   "source": [
    "%%bash\n",
    "pyrad --version"
   ]
  },
  {
   "cell_type": "code",
   "execution_count": 18,
   "metadata": {
    "collapsed": false
   },
   "outputs": [
    {
     "name": "stderr",
     "output_type": "stream",
     "text": [
      "\tnew params.txt file created\n"
     ]
    }
   ],
   "source": [
    "%%bash\n",
    "## remove old params file if it exists\n",
    "rm params.txt \n",
    "\n",
    "## create a new default params file\n",
    "pyrad -n "
   ]
  },
  {
   "cell_type": "markdown",
   "metadata": {},
   "source": [
    "#### Note: \n",
    "The data here are from Illumina Casava <1.8, so the phred scores are offset by 64 instead of 33, so we use that in the params file below."
   ]
  },
  {
   "cell_type": "code",
   "execution_count": 19,
   "metadata": {
    "collapsed": false
   },
   "outputs": [],
   "source": [
    "%%bash\n",
    "## substitute new parameters into file\n",
    "sed -i '/## 1. /c\\empirical_7/           ## 1. working directory ' params.txt\n",
    "sed -i '/## 6. /c\\TGCAGG                 ## 6. cutters ' params.txt\n",
    "sed -i '/## 7. /c\\20                     ## 7. N processors      ' params.txt\n",
    "sed -i '/## 9. /c\\6                      ## 9. NQual             ' params.txt\n",
    "sed -i '/## 10./c\\.85                    ## 10. clust threshold  ' params.txt\n",
    "sed -i '/## 12./c\\4                      ## 12. MinCov           ' params.txt\n",
    "sed -i '/## 13./c\\10                     ## 13. maxSH            ' params.txt\n",
    "sed -i '/## 14./c\\empirical_7_m4          ## 14. output name      ' params.txt\n",
    "sed -i '/## 18./c\\empirical_7/fastq/*.gz ## 18. data location    ' params.txt\n",
    "sed -i '/## 29./c\\2,2                    ## 29. trim overhang    ' params.txt\n",
    "sed -i '/## 30./c\\p,n,s                  ## 30. output formats   ' params.txt"
   ]
  },
  {
   "cell_type": "code",
   "execution_count": 20,
   "metadata": {
    "collapsed": false
   },
   "outputs": [
    {
     "name": "stdout",
     "output_type": "stream",
     "text": [
      "==** parameter inputs for pyRAD version 3.0.63  **======================== affected step ==\r\n",
      "empirical_7/           ## 1. working directory \r\n",
      "./*.fastq.gz              ## 2. Loc. of non-demultiplexed files (if not line 18)  (s1)\r\n",
      "./*.barcodes              ## 3. Loc. of barcode file (if not line 18)             (s1)\r\n",
      "vsearch                   ## 4. command (or path) to call vsearch (or usearch)    (s3,s6)\r\n",
      "muscle                    ## 5. command (or path) to call muscle                  (s3,s7)\r\n",
      "TGCAGG                 ## 6. cutters \r\n",
      "20                     ## 7. N processors      \r\n",
      "6                         ## 8. Mindepth: min coverage for a cluster              (s4,s5)\r\n",
      "6                      ## 9. NQual             \r\n",
      ".85                    ## 10. clust threshold  \r\n",
      "rad                       ## 11. Datatype: rad,gbs,pairgbs,pairddrad,(others:see docs)(all)\r\n",
      "4                      ## 12. MinCov           \r\n",
      "10                     ## 13. maxSH            \r\n",
      "empirical_7_m4          ## 14. output name      \r\n",
      "==== optional params below this line ===================================  affected step ==\r\n",
      "                       ## 15.opt.: select subset (prefix* only selector)            (s2-s7)\r\n",
      "                       ## 16.opt.: add-on (outgroup) taxa (list or prefix*)         (s6,s7)\r\n",
      "                       ## 17.opt.: exclude taxa (list or prefix*)                   (s7)\r\n",
      "empirical_7/fastq/*.gz ## 18. data location    \r\n",
      "                       ## 19.opt.: maxM: N mismatches in barcodes (def= 1)          (s1)\r\n",
      "                       ## 20.opt.: phred Qscore offset (def= 33)                    (s2)\r\n",
      "                       ## 21.opt.: filter: def=0=NQual 1=NQual+adapters. 2=strict   (s2)\r\n",
      "                       ## 22.opt.: a priori E,H (def= 0.001,0.01, if not estimated) (s5)\r\n",
      "                       ## 23.opt.: maxN: max Ns in a cons seq (def=5)               (s5)\r\n",
      "                       ## 24.opt.: maxH: max heterozyg. sites in cons seq (def=5)   (s5)\r\n",
      "                       ## 25.opt.: ploidy: max alleles in cons seq (def=2;see docs) (s4,s5)\r\n",
      "                       ## 26.opt.: maxSNPs: (def=100). Paired (def=100,100)         (s7)\r\n",
      "                       ## 27.opt.: maxIndels: within-clust,across-clust (def. 3,99) (s3,s7)\r\n",
      "                       ## 28.opt.: random number seed (def. 112233)              (s3,s6,s7)\r\n",
      "2,2                    ## 29. trim overhang    \r\n",
      "p,n,s                  ## 30. output formats   \r\n",
      "                       ## 31.opt.: maj. base call at depth>x<mindepth (def.x=mindepth) (s5)\r\n",
      "                       ## 32.opt.: keep trimmed reads (def=0). Enter min length.    (s2)\r\n",
      "                       ## 33.opt.: max stack size (int), def= max(500,mean+2*SD)    (s3)\r\n",
      "                       ## 34.opt.: minDerep: exclude dereps with <= N copies, def=1 (s3)\r\n",
      "                       ## 35.opt.: use hierarchical clustering (def.=0, 1=yes)      (s6)\r\n",
      "                       ## 36.opt.: repeat masking (def.=1='dust' method, 0=no)      (s3,s6)\r\n",
      "                       ## 37.opt.: vsearch max threads per job (def.=6; see docs)   (s3,s6)\r\n",
      "==== optional: list group/clade assignments below this line (see docs) ==================\r\n"
     ]
    }
   ],
   "source": [
    "cat params.txt"
   ]
  },
  {
   "cell_type": "markdown",
   "metadata": {
    "collapsed": true
   },
   "source": [
    "## Assemble in _pyrad_\n"
   ]
  },
  {
   "cell_type": "code",
   "execution_count": null,
   "metadata": {
    "collapsed": true
   },
   "outputs": [],
   "source": [
    "%%bash\n",
    "pyrad -p params.txt -s 234567 >> log.txt 2>&1  "
   ]
  },
  {
   "cell_type": "code",
   "execution_count": 46,
   "metadata": {
    "collapsed": true
   },
   "outputs": [],
   "source": [
    "%%bash\n",
    "sed -i '/## 12./c\\2                    ## 12. MinCov           ' params.txt\n",
    "sed -i '/## 14./c\\empirical_7_m2       ## 14. output name      ' params.txt"
   ]
  },
  {
   "cell_type": "code",
   "execution_count": 47,
   "metadata": {
    "collapsed": false
   },
   "outputs": [],
   "source": [
    "%%bash\n",
    "pyrad -p params.txt -s 7 >> log.txt 2>&1  "
   ]
  },
  {
   "cell_type": "markdown",
   "metadata": {},
   "source": [
    "## Results\n",
    "We are interested in the relationship between the amount of input (raw) data between any two samples, the average coverage they recover when clustered together, and the phylogenetic distances separating samples.  "
   ]
  },
  {
   "cell_type": "markdown",
   "metadata": {},
   "source": [
    "#### Raw data amounts\n",
    "The average number of raw reads per sample is 1.36M."
   ]
  },
  {
   "cell_type": "code",
   "execution_count": 2,
   "metadata": {
    "collapsed": false
   },
   "outputs": [
    {
     "name": "stdout",
     "output_type": "stream",
     "text": [
      "count         41.000000\n",
      "mean     2580577.512195\n",
      "std      1077277.486750\n",
      "min      1642714.000000\n",
      "25%      2023614.000000\n",
      "50%      2376762.000000\n",
      "75%      2606402.000000\n",
      "max      6688350.000000\n",
      "Name: passed.total, dtype: float64\n",
      "\n",
      "most raw data in sample:\n",
      "28    Drer_AB_m\n",
      "Name: sample , dtype: object\n"
     ]
    }
   ],
   "source": [
    "import pandas as pd\n",
    "## read in the data\n",
    "s2dat = pd.read_table(\"empirical_7/stats/s2.rawedit.txt\", header=0, nrows=42)\n",
    "\n",
    "## print summary stats\n",
    "print s2dat[\"passed.total\"].describe()\n",
    "\n",
    "## find which sample has the most raw data\n",
    "maxraw = s2dat[\"passed.total\"].max()\n",
    "print \"\\nmost raw data in sample:\"\n",
    "print s2dat['sample '][s2dat['passed.total']==maxraw]"
   ]
  },
  {
   "cell_type": "markdown",
   "metadata": {},
   "source": [
    "### Look at distributions of coverage\n",
    "pyrad v.3.0.63 outputs depth information for each sample which I read in here and plot. First let's ask which sample has the highest depth of coverage. The std of coverages is pretty low in this data set compared to several others. "
   ]
  },
  {
   "cell_type": "code",
   "execution_count": 3,
   "metadata": {
    "collapsed": false
   },
   "outputs": [
    {
     "name": "stdout",
     "output_type": "stream",
     "text": [
      "summary of means\n",
      "==================\n",
      "count    41.000000\n",
      "mean     25.884244\n",
      "std      12.744481\n",
      "min       9.680000\n",
      "25%      17.092000\n",
      "50%      24.239000\n",
      "75%      29.341000\n",
      "max      81.859000\n",
      "Name: dpt.me, dtype: float64\n",
      "\n",
      "summary of std\n",
      "==================\n",
      "count     41.000000\n",
      "mean     132.552317\n",
      "std      122.184771\n",
      "min       31.936000\n",
      "25%       66.362000\n",
      "50%       97.199000\n",
      "75%      142.280000\n",
      "max      753.950000\n",
      "Name: dpt.sd, dtype: float64\n",
      "\n",
      "summary of proportion lowdepth\n",
      "==================\n",
      "count    41.000000\n",
      "mean      0.523154\n",
      "std       0.144493\n",
      "min       0.250822\n",
      "25%       0.431551\n",
      "50%       0.534468\n",
      "75%       0.620010\n",
      "max       0.774101\n",
      "dtype: float64\n",
      "\n",
      "highest coverage in sample:\n",
      "22    Dkya_str_m\n",
      "Name: taxa, dtype: object\n"
     ]
    }
   ],
   "source": [
    "## read in the s3 results\n",
    "s7dat = pd.read_table(\"empirical_7/stats/s3.clusters.txt\", header=0, nrows=42)\n",
    "\n",
    "## print summary stats\n",
    "print \"summary of means\\n==================\"\n",
    "print s7dat['dpt.me'].describe()\n",
    "\n",
    "## print summary stats\n",
    "print \"\\nsummary of std\\n==================\"\n",
    "print s7dat['dpt.sd'].describe()\n",
    "\n",
    "## print summary stats\n",
    "print \"\\nsummary of proportion lowdepth\\n==================\"\n",
    "print pd.Series(1-s7dat['d>5.tot']/s7dat[\"total\"]).describe()\n",
    "\n",
    "## find which sample has the greatest depth of retained loci\n",
    "max_hiprop = (s7dat[\"d>5.tot\"]/s7dat[\"total\"]).max()\n",
    "print \"\\nhighest coverage in sample:\"\n",
    "print s7dat['taxa'][s7dat['d>5.tot']/s7dat[\"total\"]==max_hiprop]"
   ]
  },
  {
   "cell_type": "code",
   "execution_count": 5,
   "metadata": {
    "collapsed": false
   },
   "outputs": [
    {
     "name": "stdout",
     "output_type": "stream",
     "text": [
      "\n",
      "highest prop coverage in sample:\n",
      "22    Dkya_str_m\n",
      "Name: taxa, dtype: object\n"
     ]
    }
   ],
   "source": [
    "maxprop =(s7dat['d>5.tot']/s7dat['total']).max()\n",
    "print \"\\nhighest prop coverage in sample:\"\n",
    "print s7dat['taxa'][s7dat['d>5.tot']/s7dat['total']==maxprop]"
   ]
  },
  {
   "cell_type": "code",
   "execution_count": 8,
   "metadata": {
    "collapsed": false
   },
   "outputs": [
    {
     "name": "stdout",
     "output_type": "stream",
     "text": [
      "Means for sample Dkya_str_m\n",
      "28.3187303687 285.768862979\n",
      "37.1304859511 329.688443322\n"
     ]
    }
   ],
   "source": [
    "import numpy as np\n",
    "## print mean and std of coverage for the highest coverage sample\n",
    "with open(\"empirical_7/clust.85/Dkya_str_m.depths\", 'rb') as indat:\n",
    "    depths = np.array(indat.read().strip().split(\",\"), dtype=int)\n",
    "    \n",
    "print \"Means for sample Dkya_str_m\"\n",
    "print depths.mean(), depths.std()\n",
    "print depths[depths>5].mean(), depths[depths>5].std()"
   ]
  },
  {
   "cell_type": "markdown",
   "metadata": {},
   "source": [
    "#### Plot the coverage for the sample with highest mean coverage\n",
    "Green shows the loci that were discarded and orange the loci that were retained. The majority of data were discarded for being too low of coverage. "
   ]
  },
  {
   "cell_type": "code",
   "execution_count": 30,
   "metadata": {
    "collapsed": false
   },
   "outputs": [
    {
     "data": {
      "text/plain": [
       "<toyplot.mark.BarMagnitudes at 0x7f4d2ce88410>"
      ]
     },
     "execution_count": 30,
     "metadata": {},
     "output_type": "execute_result"
    },
    {
     "data": {
      "text/html": [
       "<div align=\"center\" class=\"toyplot\" id=\"t2fc994a5b3d147acbe330bde223c37cb\"><svg height=\"300.0px\" id=\"t1f60dc47beef456fae8a6c1e8692afaa\" preserveAspectRatio=\"xMidyMid meet\" style=\"background-color:transparent;fill:rgb(16.1%,15.3%,14.1%);fill-opacity:1.0;font-family:helvetica;font-size:12px;opacity:1.0;stroke:rgb(16.1%,15.3%,14.1%);stroke-opacity:1.0;stroke-width:1.0\" viewBox=\"0 0 350.0 300.0\" width=\"350.0px\" xmlns=\"http://www.w3.org/2000/svg\" xmlns:toyplot=\"http://www.sandia.gov/toyplot\"><g class=\"toyplot-axes-Cartesian\" id=\"t27e7fddd207d429b8bb4a190fd2e2cbd\"><clipPath id=\"t0b6b4c6b9e7b415dad46eab626b50e0e\"><rect height=\"200.0\" width=\"250.0\" x=\"50.0\" y=\"50.0\"></rect></clipPath><g class=\"toyplot-coordinate-events\" clip-path=\"url(#t0b6b4c6b9e7b415dad46eab626b50e0e)\" style=\"cursor:crosshair\"><rect height=\"200.0\" style=\"pointer-events:all;visibility:hidden\" width=\"250.0\" x=\"50.0\" y=\"50.0\"></rect><g class=\"toyplot-mark-BarMagnitudes\" id=\"t3f381401b22b4e91aa135b39ccf66ac9\" style=\"stroke:rgb(100%,100%,100%);stroke-opacity:1.0;stroke-width:1.0\"><g class=\"toyplot-Series\"><rect class=\"toyplot-Datum\" height=\"0.0\" style=\"fill:rgb(40%,76.1%,64.7%);fill-opacity:1.0;opacity:1.0;stroke:rgb(100%,100%,100%);stroke-opacity:1.0;stroke-width:1.0\" width=\"7.6666666666666714\" x=\"60.0\" y=\"240.0\"></rect><rect class=\"toyplot-Datum\" height=\"168.57599999999999\" style=\"fill:rgb(40%,76.1%,64.7%);fill-opacity:1.0;opacity:1.0;stroke:rgb(100%,100%,100%);stroke-opacity:1.0;stroke-width:1.0\" width=\"7.6666666666666572\" x=\"67.666666666666671\" y=\"71.424000000000007\"></rect><rect class=\"toyplot-Datum\" height=\"67.872000000000014\" style=\"fill:rgb(40%,76.1%,64.7%);fill-opacity:1.0;opacity:1.0;stroke:rgb(100%,100%,100%);stroke-opacity:1.0;stroke-width:1.0\" width=\"7.6666666666666714\" x=\"75.333333333333329\" y=\"172.12799999999999\"></rect><rect class=\"toyplot-Datum\" height=\"39.0\" style=\"fill:rgb(40%,76.1%,64.7%);fill-opacity:1.0;opacity:1.0;stroke:rgb(100%,100%,100%);stroke-opacity:1.0;stroke-width:1.0\" width=\"7.6666666666666572\" x=\"83.0\" y=\"201.0\"></rect><rect class=\"toyplot-Datum\" height=\"27.575999999999993\" style=\"fill:rgb(40%,76.1%,64.7%);fill-opacity:1.0;opacity:1.0;stroke:rgb(100%,100%,100%);stroke-opacity:1.0;stroke-width:1.0\" width=\"7.6666666666666714\" x=\"90.666666666666657\" y=\"212.42400000000001\"></rect><rect class=\"toyplot-Datum\" height=\"24.695999999999998\" style=\"fill:rgb(40%,76.1%,64.7%);fill-opacity:1.0;opacity:1.0;stroke:rgb(100%,100%,100%);stroke-opacity:1.0;stroke-width:1.0\" width=\"7.6666666666666714\" x=\"98.333333333333329\" y=\"215.304\"></rect><rect class=\"toyplot-Datum\" height=\"22.992000000000019\" style=\"fill:rgb(40%,76.1%,64.7%);fill-opacity:1.0;opacity:1.0;stroke:rgb(100%,100%,100%);stroke-opacity:1.0;stroke-width:1.0\" width=\"7.6666666666666714\" x=\"106.0\" y=\"217.00799999999998\"></rect><rect class=\"toyplot-Datum\" height=\"23.496000000000009\" style=\"fill:rgb(40%,76.1%,64.7%);fill-opacity:1.0;opacity:1.0;stroke:rgb(100%,100%,100%);stroke-opacity:1.0;stroke-width:1.0\" width=\"7.6666666666666572\" x=\"113.66666666666667\" y=\"216.50399999999999\"></rect><rect class=\"toyplot-Datum\" height=\"23.087999999999994\" style=\"fill:rgb(40%,76.1%,64.7%);fill-opacity:1.0;opacity:1.0;stroke:rgb(100%,100%,100%);stroke-opacity:1.0;stroke-width:1.0\" width=\"7.6666666666666714\" x=\"121.33333333333333\" y=\"216.91200000000001\"></rect><rect class=\"toyplot-Datum\" height=\"24.192000000000007\" style=\"fill:rgb(40%,76.1%,64.7%);fill-opacity:1.0;opacity:1.0;stroke:rgb(100%,100%,100%);stroke-opacity:1.0;stroke-width:1.0\" width=\"7.6666666666666572\" x=\"129.0\" y=\"215.80799999999999\"></rect><rect class=\"toyplot-Datum\" height=\"23.280000000000001\" style=\"fill:rgb(40%,76.1%,64.7%);fill-opacity:1.0;opacity:1.0;stroke:rgb(100%,100%,100%);stroke-opacity:1.0;stroke-width:1.0\" width=\"7.6666666666666572\" x=\"136.66666666666666\" y=\"216.72\"></rect><rect class=\"toyplot-Datum\" height=\"22.536000000000001\" style=\"fill:rgb(40%,76.1%,64.7%);fill-opacity:1.0;opacity:1.0;stroke:rgb(100%,100%,100%);stroke-opacity:1.0;stroke-width:1.0\" width=\"7.6666666666666856\" x=\"144.33333333333331\" y=\"217.464\"></rect><rect class=\"toyplot-Datum\" height=\"22.992000000000019\" style=\"fill:rgb(40%,76.1%,64.7%);fill-opacity:1.0;opacity:1.0;stroke:rgb(100%,100%,100%);stroke-opacity:1.0;stroke-width:1.0\" width=\"7.6666666666666856\" x=\"152.0\" y=\"217.00799999999998\"></rect><rect class=\"toyplot-Datum\" height=\"25.079999999999984\" style=\"fill:rgb(40%,76.1%,64.7%);fill-opacity:1.0;opacity:1.0;stroke:rgb(100%,100%,100%);stroke-opacity:1.0;stroke-width:1.0\" width=\"7.6666666666666572\" x=\"159.66666666666669\" y=\"214.92000000000002\"></rect><rect class=\"toyplot-Datum\" height=\"25.343999999999994\" style=\"fill:rgb(40%,76.1%,64.7%);fill-opacity:1.0;opacity:1.0;stroke:rgb(100%,100%,100%);stroke-opacity:1.0;stroke-width:1.0\" width=\"7.6666666666666572\" x=\"167.33333333333334\" y=\"214.65600000000001\"></rect><rect class=\"toyplot-Datum\" height=\"24.216000000000008\" style=\"fill:rgb(40%,76.1%,64.7%);fill-opacity:1.0;opacity:1.0;stroke:rgb(100%,100%,100%);stroke-opacity:1.0;stroke-width:1.0\" width=\"7.6666666666666572\" x=\"175.0\" y=\"215.78399999999999\"></rect><rect class=\"toyplot-Datum\" height=\"24.503999999999991\" style=\"fill:rgb(40%,76.1%,64.7%);fill-opacity:1.0;opacity:1.0;stroke:rgb(100%,100%,100%);stroke-opacity:1.0;stroke-width:1.0\" width=\"7.6666666666666856\" x=\"182.66666666666666\" y=\"215.49600000000001\"></rect><rect class=\"toyplot-Datum\" height=\"25.079999999999984\" style=\"fill:rgb(40%,76.1%,64.7%);fill-opacity:1.0;opacity:1.0;stroke:rgb(100%,100%,100%);stroke-opacity:1.0;stroke-width:1.0\" width=\"7.6666666666666572\" x=\"190.33333333333334\" y=\"214.92000000000002\"></rect><rect class=\"toyplot-Datum\" height=\"23.568000000000012\" style=\"fill:rgb(40%,76.1%,64.7%);fill-opacity:1.0;opacity:1.0;stroke:rgb(100%,100%,100%);stroke-opacity:1.0;stroke-width:1.0\" width=\"7.6666666666666572\" x=\"198.0\" y=\"216.43199999999999\"></rect><rect class=\"toyplot-Datum\" height=\"23.975999999999999\" style=\"fill:rgb(40%,76.1%,64.7%);fill-opacity:1.0;opacity:1.0;stroke:rgb(100%,100%,100%);stroke-opacity:1.0;stroke-width:1.0\" width=\"7.6666666666666572\" x=\"205.66666666666666\" y=\"216.024\"></rect><rect class=\"toyplot-Datum\" height=\"22.703999999999979\" style=\"fill:rgb(40%,76.1%,64.7%);fill-opacity:1.0;opacity:1.0;stroke:rgb(100%,100%,100%);stroke-opacity:1.0;stroke-width:1.0\" width=\"7.6666666666666856\" x=\"213.33333333333331\" y=\"217.29600000000002\"></rect><rect class=\"toyplot-Datum\" height=\"22.75200000000001\" style=\"fill:rgb(40%,76.1%,64.7%);fill-opacity:1.0;opacity:1.0;stroke:rgb(100%,100%,100%);stroke-opacity:1.0;stroke-width:1.0\" width=\"7.6666666666666572\" x=\"221.0\" y=\"217.24799999999999\"></rect><rect class=\"toyplot-Datum\" height=\"22.488\" style=\"fill:rgb(40%,76.1%,64.7%);fill-opacity:1.0;opacity:1.0;stroke:rgb(100%,100%,100%);stroke-opacity:1.0;stroke-width:1.0\" width=\"7.6666666666666856\" x=\"228.66666666666666\" y=\"217.512\"></rect><rect class=\"toyplot-Datum\" height=\"22.343999999999994\" style=\"fill:rgb(40%,76.1%,64.7%);fill-opacity:1.0;opacity:1.0;stroke:rgb(100%,100%,100%);stroke-opacity:1.0;stroke-width:1.0\" width=\"7.6666666666666572\" x=\"236.33333333333334\" y=\"217.65600000000001\"></rect><rect class=\"toyplot-Datum\" height=\"21.744000000000028\" style=\"fill:rgb(40%,76.1%,64.7%);fill-opacity:1.0;opacity:1.0;stroke:rgb(100%,100%,100%);stroke-opacity:1.0;stroke-width:1.0\" width=\"7.6666666666666856\" x=\"244.0\" y=\"218.25599999999997\"></rect><rect class=\"toyplot-Datum\" height=\"20.615999999999985\" style=\"fill:rgb(40%,76.1%,64.7%);fill-opacity:1.0;opacity:1.0;stroke:rgb(100%,100%,100%);stroke-opacity:1.0;stroke-width:1.0\" width=\"7.6666666666666288\" x=\"251.66666666666669\" y=\"219.38400000000001\"></rect><rect class=\"toyplot-Datum\" height=\"20.039999999999992\" style=\"fill:rgb(40%,76.1%,64.7%);fill-opacity:1.0;opacity:1.0;stroke:rgb(100%,100%,100%);stroke-opacity:1.0;stroke-width:1.0\" width=\"7.6666666666666856\" x=\"259.33333333333331\" y=\"219.96000000000001\"></rect><rect class=\"toyplot-Datum\" height=\"21.192000000000007\" style=\"fill:rgb(40%,76.1%,64.7%);fill-opacity:1.0;opacity:1.0;stroke:rgb(100%,100%,100%);stroke-opacity:1.0;stroke-width:1.0\" width=\"7.6666666666666856\" x=\"267.0\" y=\"218.80799999999999\"></rect><rect class=\"toyplot-Datum\" height=\"38.615999999999985\" style=\"fill:rgb(40%,76.1%,64.7%);fill-opacity:1.0;opacity:1.0;stroke:rgb(100%,100%,100%);stroke-opacity:1.0;stroke-width:1.0\" width=\"7.6666666666666288\" x=\"274.66666666666669\" y=\"201.38400000000001\"></rect></g></g><g class=\"toyplot-mark-BarMagnitudes\" id=\"tb070b864304a4b8b82b2dd660dc80d79\" style=\"stroke:rgb(100%,100%,100%);stroke-opacity:1.0;stroke-width:1.0\"><g class=\"toyplot-Series\"><rect class=\"toyplot-Datum\" height=\"0.0\" style=\"fill:rgb(98.8%,55.3%,38.4%);fill-opacity:1.0;opacity:1.0;stroke:rgb(100%,100%,100%);stroke-opacity:1.0;stroke-width:1.0\" width=\"7.6666666666666714\" x=\"60.0\" y=\"240.0\"></rect><rect class=\"toyplot-Datum\" height=\"0.0\" style=\"fill:rgb(98.8%,55.3%,38.4%);fill-opacity:1.0;opacity:1.0;stroke:rgb(100%,100%,100%);stroke-opacity:1.0;stroke-width:1.0\" width=\"7.6666666666666572\" x=\"67.666666666666671\" y=\"240.0\"></rect><rect class=\"toyplot-Datum\" height=\"0.0\" style=\"fill:rgb(98.8%,55.3%,38.4%);fill-opacity:1.0;opacity:1.0;stroke:rgb(100%,100%,100%);stroke-opacity:1.0;stroke-width:1.0\" width=\"7.6666666666666714\" x=\"75.333333333333329\" y=\"240.0\"></rect><rect class=\"toyplot-Datum\" height=\"0.0\" style=\"fill:rgb(98.8%,55.3%,38.4%);fill-opacity:1.0;opacity:1.0;stroke:rgb(100%,100%,100%);stroke-opacity:1.0;stroke-width:1.0\" width=\"7.6666666666666572\" x=\"83.0\" y=\"240.0\"></rect><rect class=\"toyplot-Datum\" height=\"0.0\" style=\"fill:rgb(98.8%,55.3%,38.4%);fill-opacity:1.0;opacity:1.0;stroke:rgb(100%,100%,100%);stroke-opacity:1.0;stroke-width:1.0\" width=\"7.6666666666666714\" x=\"90.666666666666657\" y=\"240.0\"></rect><rect class=\"toyplot-Datum\" height=\"0.0\" style=\"fill:rgb(98.8%,55.3%,38.4%);fill-opacity:1.0;opacity:1.0;stroke:rgb(100%,100%,100%);stroke-opacity:1.0;stroke-width:1.0\" width=\"7.6666666666666714\" x=\"98.333333333333329\" y=\"240.0\"></rect><rect class=\"toyplot-Datum\" height=\"22.992000000000019\" style=\"fill:rgb(98.8%,55.3%,38.4%);fill-opacity:1.0;opacity:1.0;stroke:rgb(100%,100%,100%);stroke-opacity:1.0;stroke-width:1.0\" width=\"7.6666666666666714\" x=\"106.0\" y=\"217.00799999999998\"></rect><rect class=\"toyplot-Datum\" height=\"23.496000000000009\" style=\"fill:rgb(98.8%,55.3%,38.4%);fill-opacity:1.0;opacity:1.0;stroke:rgb(100%,100%,100%);stroke-opacity:1.0;stroke-width:1.0\" width=\"7.6666666666666572\" x=\"113.66666666666667\" y=\"216.50399999999999\"></rect><rect class=\"toyplot-Datum\" height=\"23.087999999999994\" style=\"fill:rgb(98.8%,55.3%,38.4%);fill-opacity:1.0;opacity:1.0;stroke:rgb(100%,100%,100%);stroke-opacity:1.0;stroke-width:1.0\" width=\"7.6666666666666714\" x=\"121.33333333333333\" y=\"216.91200000000001\"></rect><rect class=\"toyplot-Datum\" height=\"24.192000000000007\" style=\"fill:rgb(98.8%,55.3%,38.4%);fill-opacity:1.0;opacity:1.0;stroke:rgb(100%,100%,100%);stroke-opacity:1.0;stroke-width:1.0\" width=\"7.6666666666666572\" x=\"129.0\" y=\"215.80799999999999\"></rect><rect class=\"toyplot-Datum\" height=\"23.280000000000001\" style=\"fill:rgb(98.8%,55.3%,38.4%);fill-opacity:1.0;opacity:1.0;stroke:rgb(100%,100%,100%);stroke-opacity:1.0;stroke-width:1.0\" width=\"7.6666666666666572\" x=\"136.66666666666666\" y=\"216.72\"></rect><rect class=\"toyplot-Datum\" height=\"22.536000000000001\" style=\"fill:rgb(98.8%,55.3%,38.4%);fill-opacity:1.0;opacity:1.0;stroke:rgb(100%,100%,100%);stroke-opacity:1.0;stroke-width:1.0\" width=\"7.6666666666666856\" x=\"144.33333333333331\" y=\"217.464\"></rect><rect class=\"toyplot-Datum\" height=\"22.992000000000019\" style=\"fill:rgb(98.8%,55.3%,38.4%);fill-opacity:1.0;opacity:1.0;stroke:rgb(100%,100%,100%);stroke-opacity:1.0;stroke-width:1.0\" width=\"7.6666666666666856\" x=\"152.0\" y=\"217.00799999999998\"></rect><rect class=\"toyplot-Datum\" height=\"25.079999999999984\" style=\"fill:rgb(98.8%,55.3%,38.4%);fill-opacity:1.0;opacity:1.0;stroke:rgb(100%,100%,100%);stroke-opacity:1.0;stroke-width:1.0\" width=\"7.6666666666666572\" x=\"159.66666666666669\" y=\"214.92000000000002\"></rect><rect class=\"toyplot-Datum\" height=\"25.343999999999994\" style=\"fill:rgb(98.8%,55.3%,38.4%);fill-opacity:1.0;opacity:1.0;stroke:rgb(100%,100%,100%);stroke-opacity:1.0;stroke-width:1.0\" width=\"7.6666666666666572\" x=\"167.33333333333334\" y=\"214.65600000000001\"></rect><rect class=\"toyplot-Datum\" height=\"24.216000000000008\" style=\"fill:rgb(98.8%,55.3%,38.4%);fill-opacity:1.0;opacity:1.0;stroke:rgb(100%,100%,100%);stroke-opacity:1.0;stroke-width:1.0\" width=\"7.6666666666666572\" x=\"175.0\" y=\"215.78399999999999\"></rect><rect class=\"toyplot-Datum\" height=\"24.503999999999991\" style=\"fill:rgb(98.8%,55.3%,38.4%);fill-opacity:1.0;opacity:1.0;stroke:rgb(100%,100%,100%);stroke-opacity:1.0;stroke-width:1.0\" width=\"7.6666666666666856\" x=\"182.66666666666666\" y=\"215.49600000000001\"></rect><rect class=\"toyplot-Datum\" height=\"25.079999999999984\" style=\"fill:rgb(98.8%,55.3%,38.4%);fill-opacity:1.0;opacity:1.0;stroke:rgb(100%,100%,100%);stroke-opacity:1.0;stroke-width:1.0\" width=\"7.6666666666666572\" x=\"190.33333333333334\" y=\"214.92000000000002\"></rect><rect class=\"toyplot-Datum\" height=\"23.568000000000012\" style=\"fill:rgb(98.8%,55.3%,38.4%);fill-opacity:1.0;opacity:1.0;stroke:rgb(100%,100%,100%);stroke-opacity:1.0;stroke-width:1.0\" width=\"7.6666666666666572\" x=\"198.0\" y=\"216.43199999999999\"></rect><rect class=\"toyplot-Datum\" height=\"23.975999999999999\" style=\"fill:rgb(98.8%,55.3%,38.4%);fill-opacity:1.0;opacity:1.0;stroke:rgb(100%,100%,100%);stroke-opacity:1.0;stroke-width:1.0\" width=\"7.6666666666666572\" x=\"205.66666666666666\" y=\"216.024\"></rect><rect class=\"toyplot-Datum\" height=\"22.703999999999979\" style=\"fill:rgb(98.8%,55.3%,38.4%);fill-opacity:1.0;opacity:1.0;stroke:rgb(100%,100%,100%);stroke-opacity:1.0;stroke-width:1.0\" width=\"7.6666666666666856\" x=\"213.33333333333331\" y=\"217.29600000000002\"></rect><rect class=\"toyplot-Datum\" height=\"22.75200000000001\" style=\"fill:rgb(98.8%,55.3%,38.4%);fill-opacity:1.0;opacity:1.0;stroke:rgb(100%,100%,100%);stroke-opacity:1.0;stroke-width:1.0\" width=\"7.6666666666666572\" x=\"221.0\" y=\"217.24799999999999\"></rect><rect class=\"toyplot-Datum\" height=\"22.488\" style=\"fill:rgb(98.8%,55.3%,38.4%);fill-opacity:1.0;opacity:1.0;stroke:rgb(100%,100%,100%);stroke-opacity:1.0;stroke-width:1.0\" width=\"7.6666666666666856\" x=\"228.66666666666666\" y=\"217.512\"></rect><rect class=\"toyplot-Datum\" height=\"22.343999999999994\" style=\"fill:rgb(98.8%,55.3%,38.4%);fill-opacity:1.0;opacity:1.0;stroke:rgb(100%,100%,100%);stroke-opacity:1.0;stroke-width:1.0\" width=\"7.6666666666666572\" x=\"236.33333333333334\" y=\"217.65600000000001\"></rect><rect class=\"toyplot-Datum\" height=\"21.744000000000028\" style=\"fill:rgb(98.8%,55.3%,38.4%);fill-opacity:1.0;opacity:1.0;stroke:rgb(100%,100%,100%);stroke-opacity:1.0;stroke-width:1.0\" width=\"7.6666666666666856\" x=\"244.0\" y=\"218.25599999999997\"></rect><rect class=\"toyplot-Datum\" height=\"20.615999999999985\" style=\"fill:rgb(98.8%,55.3%,38.4%);fill-opacity:1.0;opacity:1.0;stroke:rgb(100%,100%,100%);stroke-opacity:1.0;stroke-width:1.0\" width=\"7.6666666666666288\" x=\"251.66666666666669\" y=\"219.38400000000001\"></rect><rect class=\"toyplot-Datum\" height=\"20.039999999999992\" style=\"fill:rgb(98.8%,55.3%,38.4%);fill-opacity:1.0;opacity:1.0;stroke:rgb(100%,100%,100%);stroke-opacity:1.0;stroke-width:1.0\" width=\"7.6666666666666856\" x=\"259.33333333333331\" y=\"219.96000000000001\"></rect><rect class=\"toyplot-Datum\" height=\"21.192000000000007\" style=\"fill:rgb(98.8%,55.3%,38.4%);fill-opacity:1.0;opacity:1.0;stroke:rgb(100%,100%,100%);stroke-opacity:1.0;stroke-width:1.0\" width=\"7.6666666666666856\" x=\"267.0\" y=\"218.80799999999999\"></rect><rect class=\"toyplot-Datum\" height=\"38.615999999999985\" style=\"fill:rgb(98.8%,55.3%,38.4%);fill-opacity:1.0;opacity:1.0;stroke:rgb(100%,100%,100%);stroke-opacity:1.0;stroke-width:1.0\" width=\"7.6666666666666288\" x=\"274.66666666666669\" y=\"201.38400000000001\"></rect></g></g></g><g class=\"toyplot-coordinates\" style=\"visibility:hidden\"><rect height=\"14.0\" style=\"fill:rgb(100%,100%,100%);fill-opacity:1.0;opacity:0.75;stroke:none\" width=\"90.0\" x=\"200.0\" y=\"60.0\"></rect><text style=\"alignment-baseline:middle;font-size:10px;font-weight:normal;stroke:none;text-anchor:middle\" x=\"245.0\" y=\"67.0\"></text></g><line style=\"\" x1=\"60.0\" x2=\"282.3333333333333\" y1=\"250.0\" y2=\"250.0\"></line><g><text style=\"alignment-baseline:middle;baseline-shift:-80%;font-size:10px;font-weight:normal;stroke:none;text-anchor:middle\" x=\"60.0\" y=\"250.0\">0</text><text style=\"alignment-baseline:middle;baseline-shift:-80%;font-size:10px;font-weight:normal;stroke:none;text-anchor:middle\" x=\"136.66666666666666\" y=\"250.0\">10</text><text style=\"alignment-baseline:middle;baseline-shift:-80%;font-size:10px;font-weight:normal;stroke:none;text-anchor:middle\" x=\"213.33333333333331\" y=\"250.0\">20</text><text style=\"alignment-baseline:middle;baseline-shift:-80%;font-size:10px;font-weight:normal;stroke:none;text-anchor:middle\" x=\"290.0\" y=\"250.0\">30</text></g><text style=\"alignment-baseline:middle;baseline-shift:-200%;font-weight:bold;stroke:none;text-anchor:middle\" x=\"175.0\" y=\"250.0\">Depth of coverage (N reads)</text><line style=\"\" x1=\"50.0\" x2=\"50.0\" y1=\"71.424\" y2=\"240.0\"></line><g><text style=\"alignment-baseline:middle;baseline-shift:80%;font-size:10px;font-weight:normal;stroke:none;text-anchor:middle\" transform=\"rotate(-90, 50.0, 240.0)\" x=\"50.0\" y=\"240.0\">0</text><text style=\"alignment-baseline:middle;baseline-shift:80%;font-size:10px;font-weight:normal;stroke:none;text-anchor:middle\" transform=\"rotate(-90, 50.0, 180.00000000000003)\" x=\"50.0\" y=\"180.00000000000003\">2500</text><text style=\"alignment-baseline:middle;baseline-shift:80%;font-size:10px;font-weight:normal;stroke:none;text-anchor:middle\" transform=\"rotate(-90, 50.0, 120.00000000000001)\" x=\"50.0\" y=\"120.00000000000001\">5000</text><text style=\"alignment-baseline:middle;baseline-shift:80%;font-size:10px;font-weight:normal;stroke:none;text-anchor:middle\" transform=\"rotate(-90, 50.0, 60.0)\" x=\"50.0\" y=\"60.0\">7500</text></g><text style=\"alignment-baseline:middle;baseline-shift:200%;font-weight:bold;stroke:none;text-anchor:middle\" transform=\"rotate(-90, 50.0, 150.0)\" x=\"50.0\" y=\"150.0\">N loci</text><text style=\"alignment-baseline:middle;baseline-shift:100%;font-size:14px;font-weight:bold;stroke:none;text-anchor:middle\" x=\"175.0\" y=\"50.0\">dataset7/sample=Dkya_str_m</text></g></svg><div class=\"toyplot-controls\"><ul class=\"toyplot-mark-popup\" onmouseleave=\"this.style.visibility='hidden'\" style=\"background:rgba(0%,0%,0%,0.75);border:0;border-radius:6px;color:white;cursor:default;list-style:none;margin:0;padding:5px;position:fixed;visibility:hidden\"><li class=\"toyplot-mark-popup-title\" style=\"color:lightgray;cursor:default;padding:5px;list-style:none;margin:0;\"></li><li class=\"toyplot-mark-popup-save-csv\" onmouseout=\"this.style.color='white';this.style.background='steelblue'\" onmouseover=\"this.style.color='steelblue';this.style.background='white'\" style=\"border-radius:3px;padding:5px;list-style:none;margin:0;\">Save as .csv</li></ul><script>\n",
       "(function()\n",
       "{\n",
       "  if(window.CSS !== undefined && window.CSS.supports !== undefined)\n",
       "  {\n",
       "    if(!window.CSS.supports(\"alignment-baseline\", \"middle\"))\n",
       "    {\n",
       "      var re = /\\s*alignment-baseline\\s*:\\s*([^;\\s]*)\\s*/;\n",
       "      var text = document.querySelectorAll(\"#t2fc994a5b3d147acbe330bde223c37cb text\");\n",
       "      for(var i = 0; i != text.length; ++i)\n",
       "      {\n",
       "        var match = re.exec(text[i].attributes.style.value);\n",
       "        if(match)\n",
       "        {\n",
       "          if(match[1] == \"middle\")\n",
       "          {\n",
       "            var style = getComputedStyle(text[i]);\n",
       "            var font_size = style.fontSize.substr(0, style.fontSize.length - 2);\n",
       "            var dy = text[i].dy.baseVal.length ? text[i].dy.baseVal[0].value : 0;\n",
       "            dy += 0.4 * font_size;\n",
       "            text[i].setAttribute(\"dy\", dy);\n",
       "          }\n",
       "        }\n",
       "      }\n",
       "    }\n",
       "    if(!window.CSS.supports(\"baseline-shift\", \"0\"))\n",
       "    {\n",
       "      var re = /\\s*baseline-shift\\s*:\\s*([^;\\s]*)\\s*/;\n",
       "      var text = document.querySelectorAll(\"#t2fc994a5b3d147acbe330bde223c37cb text\");\n",
       "      for(var i = 0; i != text.length; ++i)\n",
       "      {\n",
       "        var match = re.exec(text[i].attributes.style.value);\n",
       "        if(match)\n",
       "        {\n",
       "          var style = getComputedStyle(text[i]);\n",
       "          var font_size = style.fontSize.substr(0, style.fontSize.length - 2);\n",
       "          var percent = 0.01 * match[1].substr(0, match[1].length-1);\n",
       "          var dy = text[i].dy.baseVal.length ? text[i].dy.baseVal[0].value : 0;\n",
       "          dy -= percent * font_size\n",
       "          text[i].setAttribute(\"dy\", dy);\n",
       "        }\n",
       "      }\n",
       "    }\n",
       "  }\n",
       "})();\n",
       "</script><script>\n",
       "(function()\n",
       "{\n",
       "  var data_tables = [{\"data\": [[0, 1, 2, 3, 4, 5, 6, 7, 8, 9, 10, 11, 12, 13, 14, 15, 16, 17, 18, 19, 20, 21, 22, 23, 24, 25, 26, 27, 28], [1, 2, 3, 4, 5, 6, 7, 8, 9, 10, 11, 12, 13, 14, 15, 16, 17, 18, 19, 20, 21, 22, 23, 24, 25, 26, 27, 28, 29], [0.0, 0.0, 0.0, 0.0, 0.0, 0.0, 0.0, 0.0, 0.0, 0.0, 0.0, 0.0, 0.0, 0.0, 0.0, 0.0, 0.0, 0.0, 0.0, 0.0, 0.0, 0.0, 0.0, 0.0, 0.0, 0.0, 0.0, 0.0, 0.0], [0.0, 7024.0, 2828.0, 1625.0, 1149.0, 1029.0, 958.0, 979.0, 962.0, 1008.0, 970.0, 939.0, 958.0, 1045.0, 1056.0, 1009.0, 1021.0, 1045.0, 982.0, 999.0, 946.0, 948.0, 937.0, 931.0, 906.0, 859.0, 835.0, 883.0, 1609.0]], \"title\": \"Bar Data\", \"names\": [\"left\", \"right\", \"baseline\", \"magnitude0\"], \"id\": \"t3f381401b22b4e91aa135b39ccf66ac9\", \"filename\": \"toyplot\"}, {\"data\": [[0, 1, 2, 3, 4, 5, 6, 7, 8, 9, 10, 11, 12, 13, 14, 15, 16, 17, 18, 19, 20, 21, 22, 23, 24, 25, 26, 27, 28], [1, 2, 3, 4, 5, 6, 7, 8, 9, 10, 11, 12, 13, 14, 15, 16, 17, 18, 19, 20, 21, 22, 23, 24, 25, 26, 27, 28, 29], [0.0, 0.0, 0.0, 0.0, 0.0, 0.0, 0.0, 0.0, 0.0, 0.0, 0.0, 0.0, 0.0, 0.0, 0.0, 0.0, 0.0, 0.0, 0.0, 0.0, 0.0, 0.0, 0.0, 0.0, 0.0, 0.0, 0.0, 0.0, 0.0], [0.0, 0.0, 0.0, 0.0, 0.0, 0.0, 958.0, 979.0, 962.0, 1008.0, 970.0, 939.0, 958.0, 1045.0, 1056.0, 1009.0, 1021.0, 1045.0, 982.0, 999.0, 946.0, 948.0, 937.0, 931.0, 906.0, 859.0, 835.0, 883.0, 1609.0]], \"title\": \"Bar Data\", \"names\": [\"left\", \"right\", \"baseline\", \"magnitude0\"], \"id\": \"tb070b864304a4b8b82b2dd660dc80d79\", \"filename\": \"toyplot\"}];\n",
       "\n",
       "  function save_csv(data_table)\n",
       "  {\n",
       "    var uri = \"data:text/csv;charset=utf-8,\";\n",
       "    uri += data_table.names.join(\",\") + \"\\n\";\n",
       "    for(var i = 0; i != data_table.data[0].length; ++i)\n",
       "    {\n",
       "      for(var j = 0; j != data_table.data.length; ++j)\n",
       "      {\n",
       "        if(j)\n",
       "          uri += \",\";\n",
       "        uri += data_table.data[j][i];\n",
       "      }\n",
       "      uri += \"\\n\";\n",
       "    }\n",
       "    uri = encodeURI(uri);\n",
       "\n",
       "    var link = document.createElement(\"a\");\n",
       "    if(typeof link.download != \"undefined\")\n",
       "    {\n",
       "      link.href = uri;\n",
       "      link.style = \"visibility:hidden\";\n",
       "      link.download = data_table.filename + \".csv\";\n",
       "\n",
       "      document.body.appendChild(link);\n",
       "      link.click();\n",
       "      document.body.removeChild(link);\n",
       "    }\n",
       "    else\n",
       "    {\n",
       "      window.open(uri);\n",
       "    }\n",
       "  }\n",
       "\n",
       "  function open_popup(data_table)\n",
       "  {\n",
       "    return function(e)\n",
       "    {\n",
       "      var popup = document.querySelector(\"#t2fc994a5b3d147acbe330bde223c37cb .toyplot-mark-popup\");\n",
       "      popup.querySelector(\".toyplot-mark-popup-title\").innerHTML = data_table.title;\n",
       "      popup.querySelector(\".toyplot-mark-popup-save-csv\").onclick = function() { popup.style.visibility = \"hidden\"; save_csv(data_table); }\n",
       "      popup.style.left = (e.clientX - 50) + \"px\";\n",
       "      popup.style.top = (e.clientY - 20) + \"px\";\n",
       "      popup.style.visibility = \"visible\";\n",
       "      e.stopPropagation();\n",
       "      e.preventDefault();\n",
       "    }\n",
       "\n",
       "  }\n",
       "\n",
       "  for(var i = 0; i != data_tables.length; ++i)\n",
       "  {\n",
       "    var data_table = data_tables[i];\n",
       "    var event_target = document.querySelector(\"#\" + data_table.id);\n",
       "    event_target.oncontextmenu = open_popup(data_table);\n",
       "  }\n",
       "})();\n",
       "</script><script>\n",
       "(function()\n",
       "{\n",
       "  var axes = {\"t27e7fddd207d429b8bb4a190fd2e2cbd\": {\"x\": [{\"domain\": {\"bounds\": {\"max\": Infinity, \"min\": -Infinity}, \"max\": 30.0, \"min\": 0}, \"range\": {\"bounds\": {\"max\": Infinity, \"min\": -Infinity}, \"max\": 290.0, \"min\": 60.0}, \"scale\": \"linear\"}], \"y\": [{\"domain\": {\"bounds\": {\"max\": Infinity, \"min\": -Infinity}, \"max\": 7500.0, \"min\": 0.0}, \"range\": {\"bounds\": {\"max\": -Infinity, \"min\": Infinity}, \"max\": 60.0, \"min\": 240.0}, \"scale\": \"linear\"}]}};\n",
       "\n",
       "  function sign(x)\n",
       "  {\n",
       "    return x < 0 ? -1 : x > 0 ? 1 : 0;\n",
       "  }\n",
       "\n",
       "  function _mix(a, b, amount)\n",
       "  {\n",
       "    return ((1.0 - amount) * a) + (amount * b);\n",
       "  }\n",
       "\n",
       "  function _log(x, base)\n",
       "  {\n",
       "    return Math.log(Math.abs(x)) / Math.log(base);\n",
       "  }\n",
       "\n",
       "  function _in_range(a, x, b)\n",
       "  {\n",
       "    var left = Math.min(a, b);\n",
       "    var right = Math.max(a, b);\n",
       "    return left <= x && x <= right;\n",
       "  }\n",
       "\n",
       "  function to_domain(projection, range)\n",
       "  {\n",
       "    for(var i = 0; i != projection.length; ++i)\n",
       "    {\n",
       "      var segment = projection[i];\n",
       "      if(_in_range(segment.range.bounds.min, range, segment.range.bounds.max))\n",
       "      {\n",
       "        if(segment.scale == \"linear\")\n",
       "        {\n",
       "          var amount = (range - segment.range.min) / (segment.range.max - segment.range.min);\n",
       "          return _mix(segment.domain.min, segment.domain.max, amount)\n",
       "        }\n",
       "        else if(segment.scale[0] == \"log\")\n",
       "        {\n",
       "          var amount = (range - segment.range.min) / (segment.range.max - segment.range.min);\n",
       "          var base = segment.scale[1];\n",
       "          return sign(segment.domain.min) * Math.pow(base, _mix(_log(segment.domain.min, base), _log(segment.domain.max, base), amount));\n",
       "        }\n",
       "      }\n",
       "    }\n",
       "  }\n",
       "\n",
       "  // Compute mouse coordinates relative to a DOM object, with thanks to d3js.org, where this code originated.\n",
       "  function d3_mousePoint(container, e)\n",
       "  {\n",
       "    if (e.changedTouches) e = e.changedTouches[0];\n",
       "    var svg = container.ownerSVGElement || container;\n",
       "    if (svg.createSVGPoint) {\n",
       "      var point = svg.createSVGPoint();\n",
       "      point.x = e.clientX, point.y = e.clientY;\n",
       "      point = point.matrixTransform(container.getScreenCTM().inverse());\n",
       "      return [point.x, point.y];\n",
       "    }\n",
       "    var rect = container.getBoundingClientRect();\n",
       "    return [e.clientX - rect.left - container.clientLeft, e.clientY - rect.top - container.clientTop];\n",
       "  };\n",
       "\n",
       "  function display_coordinates(e)\n",
       "  {\n",
       "    var dom_axes = e.currentTarget.parentElement;\n",
       "    var data = axes[dom_axes.id];\n",
       "\n",
       "    point = d3_mousePoint(e.target, e);\n",
       "    var x = Number(to_domain(data[\"x\"], point[0])).toFixed(2);\n",
       "    var y = Number(to_domain(data[\"y\"], point[1])).toFixed(2);\n",
       "\n",
       "    var coordinates = dom_axes.querySelectorAll(\".toyplot-coordinates\");\n",
       "    for(var i = 0; i != coordinates.length; ++i)\n",
       "    {\n",
       "      coordinates[i].style.visibility = \"visible\";\n",
       "      coordinates[i].querySelector(\"text\").textContent = \"x=\" + x + \" y=\" + y;\n",
       "    }\n",
       "  }\n",
       "\n",
       "  function clear_coordinates(e)\n",
       "  {\n",
       "    var dom_axes = e.currentTarget.parentElement;\n",
       "    var coordinates = dom_axes.querySelectorAll(\".toyplot-coordinates\");\n",
       "    for(var i = 0; i != coordinates.length; ++i)\n",
       "      coordinates[i].style.visibility = \"hidden\";\n",
       "  }\n",
       "\n",
       "  for(var axes_id in axes)\n",
       "  {\n",
       "    var event_target = document.querySelector(\"#\" + axes_id + \" .toyplot-coordinate-events\");\n",
       "    event_target.onmousemove = display_coordinates;\n",
       "    event_target.onmouseout = clear_coordinates;\n",
       "  }\n",
       "})();\n",
       "</script></div></div>"
      ],
      "text/plain": [
       "<toyplot.canvas.Canvas at 0x7f4d2ce88ad0>"
      ]
     },
     "metadata": {},
     "output_type": "display_data"
    }
   ],
   "source": [
    "import toyplot\n",
    "import toyplot.svg\n",
    "import numpy as np\n",
    "\n",
    "## read in the depth information for this sample\n",
    "with open(\"empirical_7/clust.85/Dkya_str_m.depths\", 'rb') as indat:\n",
    "    depths = np.array(indat.read().strip().split(\",\"), dtype=int)\n",
    "    \n",
    "## make a barplot in Toyplot\n",
    "canvas = toyplot.Canvas(width=350, height=300)\n",
    "axes = canvas.axes(xlabel=\"Depth of coverage (N reads)\", \n",
    "                   ylabel=\"N loci\", \n",
    "                   label=\"dataset7/sample=Dkya_str_m\")\n",
    "\n",
    "## select the loci with depth > 5 (kept)\n",
    "keeps = depths[depths>5]\n",
    "\n",
    "## plot kept and discarded loci\n",
    "edat = np.histogram(depths, range(30)) # density=True)\n",
    "kdat = np.histogram(keeps, range(30)) #, density=True)\n",
    "axes.bars(edat)\n",
    "axes.bars(kdat)\n",
    "\n",
    "#toyplot.svg.render(canvas, \"empirical_7_depthplot.svg\")"
   ]
  },
  {
   "cell_type": "markdown",
   "metadata": {},
   "source": [
    "### Print final stats table"
   ]
  },
  {
   "cell_type": "code",
   "execution_count": 42,
   "metadata": {
    "collapsed": false,
    "scrolled": false
   },
   "outputs": [
    {
     "name": "stdout",
     "output_type": "stream",
     "text": [
      "\r\n",
      "\r\n",
      "72242       ## loci with > minsp containing data\r\n",
      "72237       ## loci with > minsp containing data & paralogs removed\r\n",
      "72237       ## loci with > minsp containing data & paralogs removed & final filtering\r\n",
      "\r\n",
      "## number of loci recovered in final data set for each taxon.\r\n",
      "taxon\tnloci\r\n",
      "DEVaeq_f  \t10284\r\n",
      "DEVpat_f  \t10346\r\n",
      "DEVpat_m  \t10354\r\n",
      "DLAtra_f  \t1402\r\n",
      "DLAtra_m  \t1359\r\n",
      "Daes_f    \t20428\r\n",
      "Daes_m    \t20213\r\n",
      "Dalb_f    \t20711\r\n",
      "Dalb_m    \t20820\r\n",
      "Dcho_f    \t18797\r\n",
      "Dcho_m    \t18956\r\n",
      "Ddan_f    \t17321\r\n",
      "Ddan_m    \t17176\r\n",
      "Dery_f    \t19550\r\n",
      "Dery_m    \t19507\r\n",
      "Dfee_f    \t15899\r\n",
      "Dfee_m    \t16021\r\n",
      "Dker_f    \t20710\r\n",
      "Dker_m    \t16169\r\n",
      "Dkya_spo_f\t26544\r\n",
      "Dkya_spo_m\t26226\r\n",
      "Dkya_str_f\t26747\r\n",
      "Dkya_str_m\t26585\r\n",
      "Dmar_f    \t19731\r\n",
      "Dmar_m    \t19591\r\n",
      "Dnig_f    \t20045\r\n",
      "Dnig_m    \t19661\r\n",
      "Drer_AB_f \t35168\r\n",
      "Drer_AB_m \t28870\r\n",
      "Drer_Nad_f\t34552\r\n",
      "Drer_Tub_f\t34949\r\n",
      "Drer_Tub_m\t34654\r\n",
      "Drer_WIK_f\t34854\r\n",
      "Drer_WIK_m\t34480\r\n",
      "Dtin_q    \t16640\r\n",
      "MICkub_f  \t8475\r\n",
      "MICkub_m  \t8483\r\n",
      "RASesp_q  \t4605\r\n",
      "RASmac_q  \t4131\r\n",
      "SUNaxe_f  \t3049\r\n",
      "SUNaxe_m  \t3021\r\n",
      "\r\n",
      "\r\n",
      "## nloci = number of loci with data for exactly ntaxa\r\n",
      "## ntotal = number of loci for which at least ntaxa have data\r\n",
      "ntaxa\tnloci\tsaved\tntotal\r\n",
      "1\t-\r\n",
      "2\t-\t\t-\r\n",
      "3\t-\t\t-\r\n",
      "4\t18509\t*\t72237\r\n",
      "5\t9311\t*\t53728\r\n",
      "6\t8184\t*\t44417\r\n",
      "7\t9610\t*\t36233\r\n",
      "8\t2515\t*\t26623\r\n",
      "9\t1933\t*\t24108\r\n",
      "10\t1442\t*\t22175\r\n",
      "11\t1226\t*\t20733\r\n",
      "12\t1054\t*\t19507\r\n",
      "13\t995\t*\t18453\r\n",
      "14\t812\t*\t17458\r\n",
      "15\t803\t*\t16646\r\n",
      "16\t705\t*\t15843\r\n",
      "17\t702\t*\t15138\r\n",
      "18\t727\t*\t14436\r\n",
      "19\t674\t*\t13709\r\n",
      "20\t731\t*\t13035\r\n",
      "21\t666\t*\t12304\r\n",
      "22\t760\t*\t11638\r\n",
      "23\t756\t*\t10878\r\n",
      "24\t796\t*\t10122\r\n",
      "25\t744\t*\t9326\r\n",
      "26\t920\t*\t8582\r\n",
      "27\t831\t*\t7662\r\n",
      "28\t999\t*\t6831\r\n",
      "29\t826\t*\t5832\r\n",
      "30\t979\t*\t5006\r\n",
      "31\t603\t*\t4027\r\n",
      "32\t552\t*\t3424\r\n",
      "33\t600\t*\t2872\r\n",
      "34\t485\t*\t2272\r\n",
      "35\t563\t*\t1787\r\n",
      "36\t315\t*\t1224\r\n",
      "37\t343\t*\t909\r\n",
      "38\t210\t*\t566\r\n",
      "39\t183\t*\t356\r\n",
      "40\t70\t*\t173\r\n",
      "41\t103\t*\t103\r\n",
      "\r\n",
      "\r\n",
      "## nvar = number of loci containing n variable sites (pis+autapomorphies).\r\n",
      "## sumvar = sum of variable sites (SNPs).\r\n",
      "## pis = number of loci containing n parsimony informative sites.\r\n",
      "## sumpis = sum of parsimony informative sites.\r\n",
      "\tnvar\tsumvar\tPIS\tsumPIS\r\n",
      "0\t4492\t0\t9550\t0\r\n",
      "1\t3988\t3988\t6242\t6242\r\n",
      "2\t3949\t11886\t5251\t16744\r\n",
      "3\t3730\t23076\t4368\t29848\r\n",
      "4\t3397\t36664\t3819\t45124\r\n",
      "5\t3362\t53474\t3637\t63309\r\n",
      "6\t3096\t72050\t3445\t83979\r\n",
      "7\t2893\t92301\t3218\t106505\r\n",
      "8\t2764\t114413\t3253\t132529\r\n",
      "9\t2863\t140180\t3178\t161131\r\n",
      "10\t2876\t168940\t3146\t192591\r\n",
      "11\t2946\t201346\t2954\t225085\r\n",
      "12\t2815\t235126\t2791\t258577\r\n",
      "13\t2886\t272644\t2558\t291831\r\n",
      "14\t2681\t310178\t2228\t323023\r\n",
      "15\t2631\t349643\t1866\t351013\r\n",
      "16\t2373\t387611\t1626\t377029\r\n",
      "17\t2198\t424977\t1567\t403668\r\n",
      "18\t2067\t462183\t1350\t427968\r\n",
      "19\t1917\t498606\t1210\t450958\r\n",
      "20\t1757\t533746\t1071\t472378\r\n",
      "21\t1595\t567241\t834\t489892\r\n",
      "22\t1438\t598877\t725\t505842\r\n",
      "23\t1257\t627788\t589\t519389\r\n",
      "24\t1216\t656972\t469\t530645\r\n",
      "25\t991\t681747\t347\t539320\r\n",
      "26\t832\t703379\t266\t546236\r\n",
      "27\t693\t722090\t211\t551933\r\n",
      "28\t563\t737854\t151\t556161\r\n",
      "29\t495\t752209\t115\t559496\r\n",
      "30\t399\t764179\t55\t561146\r\n",
      "31\t285\t773014\t50\t562696\r\n",
      "32\t208\t779670\t37\t563880\r\n",
      "33\t154\t784752\t25\t564705\r\n",
      "34\t112\t788560\t14\t565181\r\n",
      "35\t100\t792060\t8\t565461\r\n",
      "36\t60\t794220\t6\t565677\r\n",
      "37\t50\t796070\t3\t565788\r\n",
      "38\t45\t797780\t1\t565826\r\n",
      "39\t21\t798599\t2\t565904\r\n",
      "40\t19\t799359\t0\t565904\r\n",
      "41\t9\t799728\t1\t565945\r\n",
      "42\t8\t800064\t0\t565945\r\n",
      "43\t3\t800193\t0\t565945\r\n",
      "44\t0\t800193\t0\t565945\r\n",
      "45\t2\t800283\t0\t565945\r\n",
      "46\t0\t800283\t0\t565945\r\n",
      "47\t1\t800330\t0\t565945\r\n",
      "total var= 800330\r\n",
      "total pis= 565945\r\n",
      "sampled unlinked SNPs= 67745\r\n",
      "sampled unlinked bi-allelic SNPs= 53426\r\n"
     ]
    }
   ],
   "source": [
    "cat empirical_7/stats/empirical_7_m4.stats\n"
   ]
  },
  {
   "cell_type": "code",
   "execution_count": 19,
   "metadata": {
    "collapsed": false
   },
   "outputs": [
    {
     "name": "stdout",
     "output_type": "stream",
     "text": [
      "\n",
      "\n",
      "259987      ## loci with > minsp containing data\n",
      "259982      ## loci with > minsp containing data & paralogs removed\n",
      "259982      ## loci with > minsp containing data & paralogs removed & final filtering\n",
      "\n",
      "## number of loci recovered in final data set for each taxon.\n",
      "taxon\tnloci\n",
      "DEVaeq_f  \t23749\n",
      "DEVpat_f  \t28185\n",
      "DEVpat_m  \t28253\n",
      "DLAtra_f  \t21558\n",
      "DLAtra_m  \t21476\n",
      "Daes_f    \t32254\n",
      "Daes_m    \t32133\n",
      "Dalb_f    \t36694\n",
      "Dalb_m    \t37014\n",
      "Dcho_f    \t27912\n",
      "Dcho_m    \t28217\n",
      "Ddan_f    \t27530\n"
     ]
    }
   ],
   "source": [
    "%%bash\n",
    "head -n 20 empirical_7/stats/empirical_7_m2.stats"
   ]
  },
  {
   "cell_type": "markdown",
   "metadata": {},
   "source": [
    "## Infer ML phylogeny in _raxml_ as an unrooted tree"
   ]
  },
  {
   "cell_type": "code",
   "execution_count": null,
   "metadata": {
    "collapsed": true
   },
   "outputs": [],
   "source": [
    "%%bash\n",
    "## raxml argumement w/ ...\n",
    "raxmlHPC-PTHREADS-AVX -f a -m GTRGAMMA -N 100 -x 12345 -p 12345 -T 20 \\\n",
    "                      -w /home/deren/Documents/RADmissing/empirical_7/ \\\n",
    "                      -n empirical_7_m4 -s empirical_7/outfiles/empirical_7_m4.phy\n",
    "                      "
   ]
  },
  {
   "cell_type": "code",
   "execution_count": null,
   "metadata": {
    "collapsed": true
   },
   "outputs": [],
   "source": [
    "%%bash\n",
    "## raxml argumement w/ ...\n",
    "raxmlHPC-PTHREADS-AVX -f a -m GTRGAMMA -N 100 -x 12345 -p 12345 -T 20 \\\n",
    "                      -w /home/deren/Documents/RADmissing/empirical_7/ \\\n",
    "                      -n empirical_7_m2 -s empirical_7/outfiles/empirical_7_m2.phy\n",
    "                      "
   ]
  },
  {
   "cell_type": "code",
   "execution_count": 49,
   "metadata": {
    "collapsed": false
   },
   "outputs": [
    {
     "name": "stdout",
     "output_type": "stream",
     "text": [
      "\n",
      "\n",
      "This is RAxML version 8.0.16 released by Alexandros Stamatakis on March 21 2014.\n",
      "\n",
      "With greatly appreciated code contributions by:\n",
      "Andre Aberer      (HITS)\n",
      "Simon Berger      (HITS)\n",
      "Alexey Kozlov     (HITS)\n",
      "Nick Pattengale   (Sandia)\n",
      "Wayne Pfeiffer    (SDSC)\n",
      "Akifumi S. Tanabe (NRIFS)\n",
      "David Dao         (KIT)\n",
      "Charlie Taylor    (UF)\n",
      "\n",
      "\n",
      "Alignment has 470695 distinct alignment patterns\n",
      "\n",
      "Proportion of gaps and completely undetermined characters in this alignment: 74.34%\n",
      "\n",
      "RAxML rapid bootstrapping and subsequent ML search\n"
     ]
    }
   ],
   "source": [
    "%%bash \n",
    "head -n 20 empirical_7/RAxML_info.empirical_7_m4"
   ]
  },
  {
   "cell_type": "code",
   "execution_count": 12,
   "metadata": {
    "collapsed": false
   },
   "outputs": [
    {
     "name": "stdout",
     "output_type": "stream",
     "text": [
      "\n",
      "\n",
      "This is RAxML version 8.0.16 released by Alexandros Stamatakis on March 21 2014.\n",
      "\n",
      "With greatly appreciated code contributions by:\n",
      "Andre Aberer      (HITS)\n",
      "Simon Berger      (HITS)\n",
      "Alexey Kozlov     (HITS)\n",
      "Nick Pattengale   (Sandia)\n",
      "Wayne Pfeiffer    (SDSC)\n",
      "Akifumi S. Tanabe (NRIFS)\n",
      "David Dao         (KIT)\n",
      "Charlie Taylor    (UF)\n",
      "\n",
      "\n",
      "Alignment has 163567 distinct alignment patterns\n",
      "\n",
      "Proportion of gaps and completely undetermined characters in this alignment: 88.91%\n",
      "\n",
      "RAxML rapid bootstrapping and subsequent ML search\n"
     ]
    }
   ],
   "source": [
    "%%bash \n",
    "head -n 20 empirical_7/RAxML_info.empirical_7_m2"
   ]
  },
  {
   "cell_type": "markdown",
   "metadata": {},
   "source": [
    "### Plot the tree in R using `ape`\n"
   ]
  },
  {
   "cell_type": "code",
   "execution_count": 13,
   "metadata": {
    "collapsed": true
   },
   "outputs": [],
   "source": [
    "%load_ext rpy2.ipython"
   ]
  },
  {
   "cell_type": "code",
   "execution_count": 18,
   "metadata": {
    "collapsed": false
   },
   "outputs": [
    {
     "data": {
      "image/png": "[encoded data removed]"
     },
     "metadata": {},
     "output_type": "display_data"
    }
   ],
   "source": [
    "%%R -h 800 -w 800\n",
    "library(ape)\n",
    "tre <- read.tree(\"empirical_7/RAxML_bipartitions.empirical_7_m4\")\n",
    "ltre <- ladderize(tre)\n",
    "\n",
    "par(mfrow=c(1,2))\n",
    "plot(ltre, use.edge.length=F)\n",
    "nodelabels(ltre$node.label)\n",
    "\n",
    "plot(ltre, type='u')"
   ]
  },
  {
   "cell_type": "markdown",
   "metadata": {},
   "source": [
    "### Get phylo distances (GTRgamma dist)"
   ]
  },
  {
   "cell_type": "code",
   "execution_count": 16,
   "metadata": {
    "collapsed": false
   },
   "outputs": [
    {
     "data": {
      "text/plain": [
       "[1] 0.1124247\n"
      ]
     },
     "metadata": {},
     "output_type": "display_data"
    }
   ],
   "source": [
    "%%R\n",
    "mean(cophenetic.phylo(ltre))"
   ]
  }
 ],
 "metadata": {
  "kernelspec": {
   "display_name": "Python 2",
   "language": "python",
   "name": "python2"
  },
  "language_info": {
   "codemirror_mode": {
    "name": "ipython",
    "version": 2
   },
   "file_extension": ".py",
   "mimetype": "text/x-python",
   "name": "python",
   "nbconvert_exporter": "python",
   "pygments_lexer": "ipython2",
   "version": "2.7.12"
  }
 },
 "nbformat": 4,
 "nbformat_minor": 0
}
