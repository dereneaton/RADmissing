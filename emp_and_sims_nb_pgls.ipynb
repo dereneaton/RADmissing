{
 "cells": [
  {
   "cell_type": "markdown",
   "metadata": {},
   "source": [
    "## Phylogenetic generalized least squares model fit for quartet data\n",
    "\n",
    "--------------------------\n",
    "\n",
    "```\n",
    "Manuscript: \"Misconceptions on Missing Data in RAD-seq Phylogenetics\"\n",
    "Notebook author: Deren Eaton \n",
    "Contact: deren.eaton@yale.edu\n",
    "Date: 8/16/2016\n",
    "```\n",
    "\n",
    "------------------------\n",
    "\n",
    "This analysis is similar to a standard phylogenetic generalized least squares model fit in that we are trying to perform a regression on data for which there is a lot of non-independence of the data points. If we were comparing species the phylogeny would provide an estimate of the covariance structure where shared branch lengths among species represent their shared history. Here we are not comparing species as our data points but rather quartets of species. Our covariance structure is thus the length of shared branch lengths among sets of four taxa. The code below sets up a framework for doing this. Although the model is not perfect it provides a first step in the right direction and we show it performs better than when we do not account for the non-independence among quartets at all when analyzing them. Below you will find the following: \n",
    "\n",
    "--------------------\n",
    "\n",
    "1. A test of pgls in R using a simulated tree and data.\n",
    "2. Code for measuring a covariance matrix from quartet data.\n",
    "3. Code for building a large data set of variables for our quartet regressions from pyrad outputs.\n",
    "4. A test of our pgls quartet regression code on simulated RAD data.\n",
    "5. Fits of our pgls quartet regression code on 10 empirical data sets. \n",
    "\n",
    "____________________________"
   ]
  },
  {
   "cell_type": "markdown",
   "metadata": {},
   "source": [
    "### Import Python libraries"
   ]
  },
  {
   "cell_type": "code",
   "execution_count": 1,
   "metadata": {
    "collapsed": false
   },
   "outputs": [],
   "source": [
    "## import Python libraries\n",
    "from scipy.optimize import fminbound\n",
    "import numpy as np\n",
    "import pandas as pd\n",
    "import itertools\n",
    "import ete3\n",
    "import rpy2\n",
    "import copy\n",
    "import glob\n",
    "import gzip\n",
    "import os"
   ]
  },
  {
   "cell_type": "markdown",
   "metadata": {},
   "source": [
    "### We're gonna be running R code as well, so we need the following:\n",
    "\n",
    "The R code is run using 'rmagic' commands in IPython, so to copy this code it would be easiest if you also ran it in a Jupyter/IPython notebook. "
   ]
  },
  {
   "cell_type": "code",
   "execution_count": 2,
   "metadata": {
    "collapsed": false
   },
   "outputs": [],
   "source": [
    "## requires rpy2\n",
    "%load_ext rpy2.ipython"
   ]
  },
  {
   "cell_type": "code",
   "execution_count": 3,
   "metadata": {
    "collapsed": true
   },
   "outputs": [],
   "source": [
    "%%R\n",
    "\n",
    "## load a few R libraries\n",
    "library(ape)\n",
    "library(ade4)\n",
    "library(nlme)"
   ]
  },
  {
   "cell_type": "markdown",
   "metadata": {},
   "source": [
    "### To run parallel Python code using ipyparallel\n",
    "In a separate terminal run the command below to start N engines for doing parallel computing. This requires the Python package 'ipyparallel'. \n",
    "\n",
    "```\n",
    "ipcluster start --n 20\n",
    "```"
   ]
  },
  {
   "cell_type": "markdown",
   "metadata": {},
   "source": [
    "### Then we connect to these Engines and populate the namespace with our libraries"
   ]
  },
  {
   "cell_type": "code",
   "execution_count": 5,
   "metadata": {
    "collapsed": false
   },
   "outputs": [
    {
     "data": {
      "text/plain": [
       "<AsyncResult: execute>"
      ]
     },
     "execution_count": 5,
     "metadata": {},
     "output_type": "execute_result"
    }
   ],
   "source": [
    "## import ipyparallel\n",
    "import ipyparallel as ipp\n",
    "\n",
    "## start a parallel client\n",
    "ipyclient = ipp.Client()\n",
    "\n",
    "## create a loadbalanced view to distribute jobs\n",
    "lbview = ipyclient.load_balanced_view()\n",
    "\n",
    "## import Python and R packages into parallel namespace\n",
    "ipyclient[:].execute(\"\"\"\n",
    "\n",
    "from scipy.optimize import fminbound\n",
    "import numpy as np\n",
    "import pandas as pd\n",
    "import itertools\n",
    "import ete3\n",
    "import rpy2\n",
    "import copy\n",
    "import os\n",
    "\n",
    "%load_ext rpy2.ipython\n",
    "\n",
    "%R library(ape)\n",
    "%R library(nlme)\n",
    "\n",
    "\"\"\")"
   ]
  },
  {
   "cell_type": "markdown",
   "metadata": {},
   "source": [
    "## 1. An example pgls fit for simulated data. \n",
    "The code to fit a phylogenetic generalized least squares model is adapted from http://www.mpcm-evolution.org/OPM/Chapter5_OPM/OPM_chap5.pdf. Below we first fit a model for simulated data to see how large of data matrices this method can handle. Then we will run on our real data, which is a more complex case. We'll get to that."
   ]
  },
  {
   "cell_type": "markdown",
   "metadata": {},
   "source": [
    "#### Generate some data and plot it\n",
    "This cell is an example of R code (notice the %%R header). Google \"R in Jupyter notebooks\" for more info. "
   ]
  },
  {
   "cell_type": "code",
   "execution_count": 5,
   "metadata": {
    "collapsed": false
   },
   "outputs": [
    {
     "data": {
      "image/png": "[encoded data removed]"
     },
     "metadata": {},
     "output_type": "display_data"
    },
    {
     "data": {
      "image/png": "[encoded data removed]"
     },
     "metadata": {},
     "output_type": "display_data"
    }
   ],
   "source": [
    "%%R -w 400 -h 400\n",
    "\n",
    "## matrix size (can it handle big data?)\n",
    "n = 500\n",
    "\n",
    "## simulate random data, log-transformed large values\n",
    "set.seed(54321999)\n",
    "simdata = data.frame('nloci'=log(rnorm(n, 50000, 10000)), \n",
    "                     'pdist'=rnorm(n, 1, 0.2), \n",
    "                     'inputreads'=log(abs(rnorm(n, 500000, 100000))))\n",
    "\n",
    "## simulate a tree of same size\n",
    "simtree = rtree(n)\n",
    "\n",
    "## match names of tree to simdata idxs\n",
    "simtree$tip.label = 1:n\n",
    "\n",
    "## plot the data\n",
    "plot(simtree)\n",
    "plot(simdata)"
   ]
  },
  {
   "cell_type": "markdown",
   "metadata": {},
   "source": [
    "### Pass objects between R and Python "
   ]
  },
  {
   "cell_type": "code",
   "execution_count": 6,
   "metadata": {
    "collapsed": false
   },
   "outputs": [
    {
     "name": "stdout",
     "output_type": "stream",
     "text": [
      "       nloci     pdist  inputreads\n",
      "1  10.812131  0.854690   13.181553\n",
      "2  10.809799  1.223541   13.216016\n",
      "3  10.955710  0.836004   13.191727\n",
      "4  11.088318  1.047190   13.310152\n",
      "5  10.630199  1.131851   13.390310\n"
     ]
    }
   ],
   "source": [
    "## as an example of what we'll be doing with the real data (Python objects)\n",
    "## let's export them (-o) from R back to Python objects\n",
    "%R newick <- write.tree(simtree)\n",
    "%R -o newick\n",
    "%R -o simdata\n",
    "\n",
    "## Now we have the tree from R as a string in Python\n",
    "## and the data frame from R as a pandas data frame in Python\n",
    "newick = newick.tostring()\n",
    "simdata = simdata\n",
    "\n",
    "print simdata.head()"
   ]
  },
  {
   "cell_type": "markdown",
   "metadata": {},
   "source": [
    "### Model fitting functions\n",
    "I know this is a bit convoluted, but these are _Python_ functions which call mostly _R_ code to do model fitting. This is because I couldn't find a Python library capable of doing pgls. The funtions take in Python objects, convert them to R objects, compute results, and return values as Python objects. The lines with \"%R\" execute as R code in IPython. The function rModelFitPhy uses a phylogeny to estimate a covariance matrix and perform model fitting using GLS. "
   ]
  },
  {
   "cell_type": "code",
   "execution_count": 7,
   "metadata": {
    "collapsed": false
   },
   "outputs": [],
   "source": [
    "def rModelFit(pydat, covmat=np.zeros(0), newick=\"\"):\n",
    "    \"\"\" \n",
    "    send PyObjects to R and runs pgls using either an \n",
    "    input covariance matrix or an input tree. Returns\n",
    "    the model fit as a dataframe, and the Log likelhiood\n",
    "    \"\"\"\n",
    "    \n",
    "    ## reconstitute Python data frame as R data frame\n",
    "    %R -i pydat\n",
    "    %R data <- data.frame(pydat)\n",
    "    \n",
    "    ## which model to use...\n",
    "    if (not np.any(covmat)) and (not newick):\n",
    "        %R fit <- gls(nloci ~ inputreads + pdist, data=data)\n",
    "        \n",
    "    else:\n",
    "        ## get covariance (correlation) matrix from tree\n",
    "        if newick:\n",
    "            %R -i newick\n",
    "            %R tre <- read.tree(text=newick)\n",
    "            %R simmat <- vcv(tre, corr=TRUE)\n",
    "\n",
    "        ## get covariance matrix from input\n",
    "        else:\n",
    "            %R -i covmat\n",
    "            %R simmat <- cov2cor(covmat)\n",
    "        \n",
    "        ## fit the model\n",
    "        %R tip.heights <- diag(simmat)  \n",
    "        %R fit <- gls(nloci ~ inputreads + pdist, data=data, \\\n",
    "                      correlation=corSymm(simmat[lower.tri(simmat)], fixed=TRUE), \\\n",
    "                      weights=varFixed(~tip.heights))\n",
    "\n",
    "    ## return results as data frame\n",
    "    %R df <- as.data.frame(summary(fit)$tTable)\n",
    "    %R LL <- fit$logLik\n",
    "    %R -o df,LL\n",
    "    \n",
    "    return df, LL"
   ]
  },
  {
   "cell_type": "code",
   "execution_count": 8,
   "metadata": {
    "collapsed": true
   },
   "outputs": [],
   "source": [
    "def rModelFit2(pydat, covmat=np.zeros(0), newick=\"\"):\n",
    "    \"\"\" \n",
    "    Send PyObjects to R and run pgls with covariance mat. \n",
    "    In contrast to the model above this one only fits the\n",
    "    model to inputreads, not pdist. We use the likelihood\n",
    "    fit of this model to estimate estimate lamda by using\n",
    "    maximum likelihood in the func estimate_lambda. \n",
    "    \"\"\"\n",
    "    \n",
    "    ## reconstitute Python data frame as R data frame\n",
    "    %R -i pydat\n",
    "    %R data <- data.frame(pydat)\n",
    "    \n",
    "    ## which model to use...\n",
    "    if (not np.any(covmat)) and (not newick):\n",
    "        %R fit <- gls(nloci ~ inputreads, data=data)\n",
    "        \n",
    "    else:\n",
    "        ## get covariance (correlation) matrix from tree\n",
    "        if newick:\n",
    "            %R -i newick\n",
    "            %R tre <- read.tree(text=newick)\n",
    "            %R simmat <- vcv(tre, corr=TRUE)\n",
    "\n",
    "        ## get covariance matrix from input\n",
    "        else:\n",
    "            %R -i covmat\n",
    "            %R simmat <- cov2cor(covmat)\n",
    "        \n",
    "        ## fit the model\n",
    "        %R tip.heights <- diag(simmat)  \n",
    "        %R fit <- gls(nloci ~ inputreads, data=data, \\\n",
    "                      correlation=corSymm(simmat[lower.tri(simmat)], fixed=TRUE), \\\n",
    "                      weights=varFixed(~tip.heights))\n",
    "\n",
    "    ## return results as data frame\n",
    "    %R df <- as.data.frame(summary(fit)$tTable)\n",
    "    %R LL <- fit$logLik\n",
    "    %R -o df,LL\n",
    "    \n",
    "    return df, LL"
   ]
  },
  {
   "cell_type": "markdown",
   "metadata": {},
   "source": [
    "### Model fits to random data\n",
    "Here we did four different model fits to check that our covariacne structure is working correctly. We expect that in all model fits the two variables (inputreads and pdist) will be poor predictors of nloci, since all values were randomly generated. In the first model fit we use no covariance structure and the LL=158. In the second we enforce a covariance structure by getting a VCV from the phylogeny. This gives a much worse fit to the data, as we might expect since the data were not generated with any regard to the phylogeny. The third test checks that when we input a VCV directly we get the same answer as when we put in a tree. We do. This is good since in our quartet analysis below we will be entering just the VCV. Finally, We fit a model that includes a VCV, but where all off-diagonal elements are zero (no covariance). This is equivalent to tranforming the tree by Pagel's lambda = 0. It is encouraging that when we remove the covariance structure in this way we get the same LL=158 as when no covariance structure is present at all. This means that in our real data set we can try to estimate Pagel's lambda for our covariance matrices computed from quartet data and if the covariance structure we create does not fit our data at all then a zero lambda will be estimated and the effect of our covariance structure will be removed. "
   ]
  },
  {
   "cell_type": "code",
   "execution_count": 9,
   "metadata": {
    "collapsed": false
   },
   "outputs": [
    {
     "name": "stdout",
     "output_type": "stream",
     "text": [
      "\n",
      "no VCV\n",
      "                Value  Std.Error    t-value       p-value\n",
      "(Intercept)  9.922016   0.533357  18.602940  5.166341e-59\n",
      "inputreads   0.068718   0.040775   1.685281  9.256210e-02\n",
      "pdist       -0.023346   0.046925  -0.497514  6.190467e-01\n",
      "log-likelihood [ 76.13063426]\n",
      "------------------------------------------------------------\n",
      "\n",
      "VCV from tree -- entered as tree\n",
      "                Value  Std.Error    t-value       p-value\n",
      "(Intercept)  9.989510   0.530265  18.838714  3.853246e-60\n",
      "inputreads   0.058181   0.039488   1.473389  1.412792e-01\n",
      "pdist       -0.004097   0.044443  -0.092186  9.265878e-01\n",
      "log-likelihood [-43.82137587]\n",
      "------------------------------------------------------------\n",
      "\n",
      "VCV from tree -- entered as VCV\n",
      "                Value  Std.Error    t-value       p-value\n",
      "(Intercept)  9.989510   0.530265  18.838714  3.853246e-60\n",
      "inputreads   0.058181   0.039488   1.473389  1.412792e-01\n",
      "pdist       -0.004097   0.044443  -0.092186  9.265878e-01\n",
      "log-likelihood [-43.82137587]\n",
      "------------------------------------------------------------\n",
      "\n",
      "VCV from tree -- entered as VCV -- transformed so no VCV structure\n",
      "                Value  Std.Error    t-value       p-value\n",
      "(Intercept)  9.922016   0.533357  18.602940  5.166341e-59\n",
      "inputreads   0.068718   0.040775   1.685281  9.256210e-02\n",
      "pdist       -0.023346   0.046925  -0.497514  6.190467e-01\n",
      "log-likelihood [ 76.13063426]\n",
      "------------------------------------------------------------\n"
     ]
    }
   ],
   "source": [
    "print \"\\nno VCV\"\n",
    "df, LL = rModelFit(simdata)\n",
    "print df\n",
    "print \"log-likelihood\", LL\n",
    "print \"---\"*20\n",
    "\n",
    "\n",
    "print \"\\nVCV from tree -- entered as tree\"\n",
    "df, LL = rModelFit(simdata, newick=newick)\n",
    "print df\n",
    "print \"log-likelihood\", LL\n",
    "print \"---\"*20\n",
    "\n",
    "\n",
    "print \"\\nVCV from tree -- entered as VCV\"\n",
    "%R -o simmat\n",
    "df, LL = rModelFit(simdata, covmat=simmat)  ## <- uses the simmat from the tree\n",
    "print df\n",
    "print \"log-likelihood\", LL\n",
    "print \"---\"*20\n",
    "\n",
    "\n",
    "print \"\\nVCV from tree -- entered as VCV -- transformed so no VCV structure\"\n",
    "df, LL = rModelFit(simdata, covmat=np.eye(simdata.shape[0]))  ## <- no covar == lambda=0\n",
    "print df\n",
    "print \"log-likelihood\", LL\n",
    "print \"---\"*20\n"
   ]
  },
  {
   "cell_type": "markdown",
   "metadata": {},
   "source": [
    "### A function to optimize lambda\n",
    "On this simulated data there is little power to detect any covariance structure (lambda fit) in the data because the data is basically just noise. But you'll see below on our simulated data that it fits very well. "
   ]
  },
  {
   "cell_type": "code",
   "execution_count": 10,
   "metadata": {
    "collapsed": false
   },
   "outputs": [],
   "source": [
    "def get_lik_lambda(lam, data, covmat):\n",
    "    \"\"\" a function that can be optimized with ML to find lambda\"\"\"\n",
    "    tmat = covmat*lam\n",
    "    np.fill_diagonal(tmat, 1.0)\n",
    "    _, LL = rModelFit2(data, covmat=tmat)\n",
    "    ## return as the NEGATIVE LL to minimze func\n",
    "    return -1*LL\n",
    "\n",
    "\n",
    "def estimate_lambda(data, covmat):\n",
    "    \"\"\" uses fminbound to estimate lambda in [0, 1]\"\"\"\n",
    "    return fminbound(get_lik_lambda, \n",
    "                     0, 1, \n",
    "                     args=(data, covmat), \n",
    "                     xtol=0.001, maxfun=25)"
   ]
  },
  {
   "cell_type": "markdown",
   "metadata": {},
   "source": [
    "### Fit with lambda\n",
    "When we fit the model using our estimated lambda, which in this case is \n",
    "zero since the data were simulated random (no respect to phylogeny) the \n",
    "model fit is the same as above when there is no covariance structure. \n",
    "This is good news. We will penalize this model for the extra parameter\n",
    "using AIC when comparing models. "
   ]
  },
  {
   "cell_type": "code",
   "execution_count": 11,
   "metadata": {
    "collapsed": false
   },
   "outputs": [
    {
     "name": "stdout",
     "output_type": "stream",
     "text": [
      "\n",
      "VCV from tree -- entered as VCV -- transformed by estimated lambda\n",
      "                Value  Std.Error    t-value       p-value\n",
      "(Intercept)  9.922079   0.533376  18.602408  5.196621e-59\n",
      "inputreads   0.068709   0.040777   1.685011  9.261411e-02\n",
      "pdist       -0.023326   0.046924  -0.497104  6.193356e-01\n",
      "lambda 0.00039980409165\n",
      "log-likelihood [ 76.12267266]\n",
      "------------------------------------------------------------\n"
     ]
    }
   ],
   "source": [
    "print \"\\nVCV from tree -- entered as VCV -- transformed by estimated lambda\"\n",
    "lam = estimate_lambda(simdata, simmat)\n",
    "mat = simmat * lam\n",
    "np.fill_diagonal(mat, 1.0)\n",
    "\n",
    "df, LL = rModelFit(simdata, covmat=mat)\n",
    "print df\n",
    "print \"lambda\", lam\n",
    "print \"log-likelihood\", LL\n",
    "print \"---\"*20\n"
   ]
  },
  {
   "cell_type": "markdown",
   "metadata": {},
   "source": [
    "## 2. Write functions to get stats info from pyrad outputs\n",
    "\n",
    "Here we build a large data frame that will store how many loci are shared among all sets of quartets, what the phylogenetic distance spanned by each quartet is (pdist), and how much input data each quartet sample had (inputreads). "
   ]
  },
  {
   "cell_type": "markdown",
   "metadata": {},
   "source": [
    "### Parse nloci (shared) from pyrad output "
   ]
  },
  {
   "cell_type": "code",
   "execution_count": 14,
   "metadata": {
    "collapsed": false
   },
   "outputs": [],
   "source": [
    "def getarray(locifile, treefile):\n",
    "    \"\"\" get presence/absence matrix from .loci file \n",
    "    (pyrad v3 format) ordered by tips on the tree\"\"\"\n",
    "    \n",
    "    ## parse the loci file\n",
    "    infile = open(locifile)\n",
    "    loci = infile.read().split(\"\\n//\")[:-1]\n",
    "    \n",
    "    ## order (ladderize) the tree\n",
    "    tree = ete3.Tree(treefile, format=3)\n",
    "    tree.ladderize()\n",
    "    \n",
    "    ## assign numbers to internal nodes\n",
    "    nodes = tree.iter_descendants()\n",
    "    nodenum = 0\n",
    "    for node in nodes:\n",
    "        if not node.is_leaf():\n",
    "            node.name = nodenum\n",
    "            nodenum += 1\n",
    "    \n",
    "    ## get tip names\n",
    "    names = tree.get_leaf_names()\n",
    "    \n",
    "    ## make empty matrix\n",
    "    lxs = np.zeros((len(names), len(loci)), dtype=np.uint32)\n",
    "    \n",
    "    ## fill the matrix\n",
    "    for loc in xrange(len(loci)):\n",
    "        for seq in loci[loc].split(\"\\n\"):\n",
    "            if \">\" in seq:\n",
    "                ## drop _0 from sim names if present\n",
    "                seq = seq.rsplit(\"_0 \", 1)[0]\n",
    "                lxs[names.index(seq.split()[0][1:]),loc] += 1\n",
    "    infile.close()\n",
    "    \n",
    "    return lxs, tree"
   ]
  },
  {
   "cell_type": "markdown",
   "metadata": {},
   "source": [
    "### Get pdist and median inputreads for all(!) quartets"
   ]
  },
  {
   "cell_type": "code",
   "execution_count": 6,
   "metadata": {
    "collapsed": true
   },
   "outputs": [],
   "source": [
    "def build_df4_parallel(tree, lxs, s2file, lbview):\n",
    "    \"\"\" \n",
    "    Builds a data frame for quartets in parallel. A less generalized \n",
    "    form of the 'buildarray' function, and much faster. Returns a \n",
    "    data frame with n-shared-loci, median-input-reads, phylo-dist. \n",
    "    \"\"\"\n",
    "    \n",
    "    ## get number of taxa\n",
    "    names = tree.get_leaf_names()\n",
    "      \n",
    "    ## read in step2 stats to get inputreads info, correct _0 in names for simdata\n",
    "    res2 = pd.read_table(s2file, header=0, index_col=0, nrows=len(names))\n",
    "    res2.index = [i[:-2] if i.endswith(\"_0\") else i for i in res2.index]\n",
    "    inputdat = res2[\"passed.total\"].reindex(tree.get_leaf_names())\n",
    "    \n",
    "    ## create empty array of nquart rows and 7 columns\n",
    "    nsets = sum(1 for _ in itertools.combinations(xrange(len(names)), 4))\n",
    "    taxonset = itertools.combinations(xrange(len(names)), 4) \n",
    "    arr = np.zeros((nsets, 7), dtype=np.float32)\n",
    "    \n",
    "    ## iterate over sampled sets and fill array. \n",
    "    asyncs = {}\n",
    "    sub = 0\n",
    "    while 1:\n",
    "        ## grab 100 rows\n",
    "        hund = np.array(list(itertools.islice(taxonset, 100)))\n",
    "        \n",
    "        ## submit to engine\n",
    "        if np.any(hund):\n",
    "            asyncs[sub] = lbview.apply(fillrows, *[tree, names, inputdat, hund, lxs])\n",
    "            sub += 100\n",
    "        else:\n",
    "            break\n",
    "\n",
    "    ## wait for jobs to finish and enter into the results array\n",
    "    lbview.wait()\n",
    "    taxonset = itertools.combinations(xrange(len(names)), 4) \n",
    "    for idx in xrange(nsets):\n",
    "        arr[idx, :4] = taxonset.next()\n",
    "    for idx in xrange(0, sub, 100):\n",
    "        arr[idx:idx+100, 4:] = asyncs[idx].get()     \n",
    "        \n",
    "    ## dress up the array as a dataframe\n",
    "    columns=[\"p1\", \"p2\", \"p3\", \"p4\", \"nloci\", \"inputreads\", \"pdist\"]\n",
    "    df = pd.DataFrame(arr, columns=columns)\n",
    "   \n",
    "    ## convert quartet indices to ints for prettier printing\n",
    "    df[[\"p1\", \"p2\", \"p3\", \"p4\"]] = df[[\"p1\", \"p2\", \"p3\", \"p4\"]].astype(int)\n",
    "\n",
    "    return df"
   ]
  },
  {
   "cell_type": "code",
   "execution_count": 15,
   "metadata": {
    "collapsed": true
   },
   "outputs": [],
   "source": [
    "def fillrows(tree, names, inputdat, tsets, lxs):\n",
    "    \"\"\" takes 100 row elements in build df4 \"\"\"\n",
    "    \n",
    "    ## output array \n",
    "    arr = np.zeros((tsets.shape[0], 3), dtype=np.float64)\n",
    "    \n",
    "    ## get number of loci shared by the set\n",
    "    for ridx in xrange(tsets.shape[0]):   \n",
    "        tset = tsets[ridx]\n",
    "        colsums = lxs[tset, :].sum(axis=0)\n",
    "        lshare = np.sum(colsums==4)\n",
    "        \n",
    "        ## get total tree length separating these four taxa\n",
    "        t = copy.deepcopy(tree)\n",
    "        t.prune([names[i] for i in tset], preserve_branch_length=True)\n",
    "        pdist = sum([i.dist for i in t])\n",
    "        \n",
    "        ## get min input reads \n",
    "        inputreads = np.median([inputdat[i] for i in tset])\n",
    "        \n",
    "        ## fill arr (+1 ensures no log(0) = -inf)\n",
    "        arr[ridx] = [np.log(lshare+1), np.log(inputreads+1), pdist]\n",
    "        \n",
    "    ## return array with 100 values\n",
    "    return arr"
   ]
  },
  {
   "cell_type": "markdown",
   "metadata": {},
   "source": [
    "### A simple Class object to store our results in "
   ]
  },
  {
   "cell_type": "code",
   "execution_count": 8,
   "metadata": {
    "collapsed": true
   },
   "outputs": [],
   "source": [
    "## define a class object to store data in\n",
    "class dataset():\n",
    "    def __init__(self, name):\n",
    "        self.name = name\n",
    "        self.files = fileset()\n",
    "        \n",
    "        \n",
    "## define a class object to store file locations\n",
    "class fileset(dict):\n",
    "    \"\"\" checks that data handles exist and stores them\"\"\"\n",
    "    def __getattr__(self, name):\n",
    "        if name in self:\n",
    "            return self[name]\n",
    "        else:\n",
    "            raise AttributeError(\"No such attribute: \" + name)\n",
    "\n",
    "    def __setattr__(self, name, value):\n",
    "        if os.path.exists(value):\n",
    "            self[name] = value\n",
    "        else:\n",
    "            raise AttributeError(\"bad file name \" + value)\n",
    "        \n",
    " "
   ]
  },
  {
   "cell_type": "markdown",
   "metadata": {},
   "source": [
    "### Calculate a covariance matrix from shared edges among quartets\n",
    "This is of course different from the VCV we inferred from a tree structure in the example at the beginning of this notebook. Here our data points are not tips of a tree but rather quartets. And we create a covariance matrix that measures the amount of shared edges among sampled quartets. "
   ]
  },
  {
   "cell_type": "code",
   "execution_count": 16,
   "metadata": {
    "collapsed": true
   },
   "outputs": [],
   "source": [
    "def get_path(node, mrca):\n",
    "    \"\"\" get branch length path from tip to chosen node (mrca)\"\"\"\n",
    "    path = set()\n",
    "    while 1:\n",
    "        ## check that tips have not coalesced\n",
    "        if not node == mrca:\n",
    "            path.add((node, node.up))\n",
    "            node = node.up\n",
    "        else:\n",
    "            return path\n",
    "        "
   ]
  },
  {
   "cell_type": "code",
   "execution_count": 17,
   "metadata": {
    "collapsed": true
   },
   "outputs": [],
   "source": [
    "def calculate_covariance(intree, maxarr=1000):\n",
    "    \"\"\"\n",
    "    get covariance matrix measuring shared branch lengths among quartets, \n",
    "    if total number of quartets for a tree is >1000 then randomly sample\n",
    "    1000 quartets instead. \n",
    "    \"\"\"\n",
    "    ## tree copy\n",
    "    tree = copy.deepcopy(intree)\n",
    "    tree.unroot()\n",
    "    \n",
    "    ## create a large empty matrix\n",
    "    tt = tree.get_leaves()\n",
    "    nsets = sum(1 for _ in itertools.combinations(range(len(tt)), 4))\n",
    "    \n",
    "    ## we're not gonna worry about memory for now, and so make a list\n",
    "    ## otherwise we would work with iterators\n",
    "    fullcombs = list(itertools.combinations(range(len(tt)), 4))\n",
    "                     \n",
    "    ## either sample all quarets or a random maxarr\n",
    "    if nsets <= maxarr:\n",
    "        quarts = np.zeros((nsets, 4), dtype=np.uint16)\n",
    "        arr = np.zeros((nsets, nsets), dtype=np.float64)\n",
    "        ridx = np.arange(nsets)\n",
    "        for i in xrange(nsets):\n",
    "            quarts[i] = fullcombs[i]\n",
    "        arrsize = nsets\n",
    "            \n",
    "    else:\n",
    "        quarts = np.zeros((maxarr, 4), dtype=np.uint16)\n",
    "        arr = np.zeros((maxarr, maxarr), dtype=np.float64)\n",
    "        ## randomly sample 1000 indices within maxarr\n",
    "        ridx = np.random.choice(nsets, maxarr)\n",
    "        for i in xrange(maxarr):\n",
    "            quarts[i] = fullcombs[ridx[i]]\n",
    "        arrsize = maxarr\n",
    "    \n",
    "    ## iterate over each comb to compare\n",
    "    for idx in xrange(arrsize):\n",
    "        \n",
    "        ## get path to quartet tips\n",
    "        set1 = [tt[i] for i in quarts[idx]]  \n",
    "        mrca1 = set1[0].get_common_ancestor(set1)\n",
    "        edges1 = [get_path(node, mrca1) for node in set1]\n",
    "                \n",
    "        for cdx in xrange(idx, arrsize):         \n",
    "            ## get path to quartet tips\n",
    "            set2 = [tt[i] for i in quarts[cdx]]  \n",
    "            mrca2 = set2[0].get_common_ancestor(set2)\n",
    "            edges2 = [get_path(node, mrca2) for node in set2]\n",
    "                    \n",
    "            ## which edges are shared\n",
    "            a = set([tuple(i) for i in itertools.chain(*edges1)])\n",
    "            b = set([tuple(i) for i in itertools.chain(*edges2)])\n",
    "            shared = set.intersection(a, b)\n",
    "            \n",
    "            ## save the branch lengths\n",
    "            sumshare = sum([tree.get_distance(edg[0], edg[1]) for edg in shared])\n",
    "            arr[idx, cdx] = sumshare\n",
    "        #print idx,\n",
    "            \n",
    "    return arr, ridx\n",
    "                         "
   ]
  },
  {
   "cell_type": "code",
   "execution_count": 18,
   "metadata": {
    "collapsed": false
   },
   "outputs": [],
   "source": [
    "def check_covariance(covar):\n",
    "    \"\"\" tests covariance matrix for positive definite\"\"\"\n",
    "\n",
    "    ## fill the lower triangle of matrix symmetrically\n",
    "    mat = np.array(covar)\n",
    "    upidx = np.triu_indices_from(covar)\n",
    "    mat[(upidx[1], upidx[0])] = covar[upidx]\n",
    "\n",
    "    ## is the matrix symmetric?\n",
    "    assert np.allclose(mat, mat.T), \"matrix is not symmetric\"\n",
    "    \n",
    "    ## is it positive definite?\n",
    "    test = 0\n",
    "    while 1:\n",
    "        if not np.all(np.linalg.eigvals(mat) > 0):\n",
    "            didx = np.diag_indices_from(mat)\n",
    "            mat[didx] = np.diag(mat) *1.1\n",
    "            test += 1\n",
    "        elif test > 20:\n",
    "            assert np.all(np.linalg.eigvals(mat) > 0), \"matrix is not positive definite\"\n",
    "        else:\n",
    "            break\n",
    "    assert np.all(np.linalg.eigvals(mat) > 0), \"matrix is not positive definite\"\n",
    "            \n",
    "    return mat        \n",
    "    "
   ]
  },
  {
   "cell_type": "markdown",
   "metadata": {},
   "source": [
    "### Function to run model functions together\n",
    "This allows us to make one call to run jobs in parallel"
   ]
  },
  {
   "cell_type": "code",
   "execution_count": 19,
   "metadata": {
    "collapsed": true
   },
   "outputs": [],
   "source": [
    "def fitmodels(tree, df4, nsamples):\n",
    "    \"\"\" \n",
    "    Calculates covar, checks matrix, fits models, \n",
    "    and return arrays for with and without covar\n",
    "    \"\"\"\n",
    "    ## calculate covariance of (nsamples) random data points\n",
    "    covar, ridx = calculate_covariance(tree, nsamples)\n",
    "\n",
    "    ## get symmetric matrix and test for positive definite\n",
    "    mat = check_covariance(covar)\n",
    "    \n",
    "    ## subsample a reasonable number of data points\n",
    "    subdf4 = df4.loc[ridx, :]\n",
    "    \n",
    "    ## estimate lambda to be used in model fits\n",
    "    ## I'm using R to convert cov2cor\n",
    "    %R -i mat\n",
    "    %R mm <-cov2cor(mat)\n",
    "    %R -o mm\n",
    "    lam = estimate_lambda(subdf4, mm)\n",
    "\n",
    "    ## transform corr matrix with lambda\n",
    "    mat = mm*lam\n",
    "    np.fill_diagonal(mat, 1.0)    \n",
    "    \n",
    "    ## fit models with covar\n",
    "    ndf, nLL = rModelFit(subdf4)\n",
    "    wdf, wLL = rModelFit(subdf4, covmat=mat)\n",
    "    \n",
    "    ## return two arrays\n",
    "    return wdf, wLL, nLL, lam #ndf, nLL, wdf, wLL"
   ]
  },
  {
   "cell_type": "markdown",
   "metadata": {},
   "source": [
    "\n",
    "## 3. Testing on a simulated RAD data set \n",
    "In this case we know what the source of missing data is, either mutation (drop) or random (rand). \n",
    "\n",
    "For a large tree like this (64) tips this takes quite a while to run (~20 minutes). This is the case even when we only randomly sample 200 quartets out of the possible ~650K. Our solution will be to do many repetitions of subsampling and to parallelize this to get a good estimate quickly. Fortunately our largest empirical data set is about the same size as these simulated data sets, so this gives us a good idea for run times (still pretty long). To repeat this analysis you will have to change the file paths. The files are created in the simulation notebook. "
   ]
  },
  {
   "cell_type": "markdown",
   "metadata": {},
   "source": [
    "#### Simulate a new data set variable missing data\n",
    "I'm simulating a new data set for this since the 'random' missing data sets we made in the sim notebook all have very similar amounts of input data. To get signal from the data we need the input data to vary more significantly among samples. So I simulate some new data here with greater variance. \n",
    "\n",
    "More specifically, I will take data from the 'fullcov' data sets which had no missing data\n",
    "and randomly remove some DIFFERENT proportion of data from each sample. This is different\n",
    "from our low coverage simulations in which we removed the same proportion of data from \n",
    "each sample, but it was randomly missing from different loci. "
   ]
  },
  {
   "cell_type": "markdown",
   "metadata": {},
   "source": [
    "#### New balanced tree data set"
   ]
  },
  {
   "cell_type": "code",
   "execution_count": 582,
   "metadata": {
    "collapsed": false
   },
   "outputs": [
    {
     "name": "stdout",
     "output_type": "stream",
     "text": [
      "s109_0_R1.fq.gz sampled at p=0.63 kept 12740 reads\n",
      "s89_0_R1.fq.gz sampled at p=0.53 kept 10523 reads\n",
      "s77_0_R1.fq.gz sampled at p=0.47 kept 9367 reads\n",
      "s71_0_R1.fq.gz sampled at p=0.54 kept 10833 reads\n",
      "s83_0_R1.fq.gz sampled at p=0.83 kept 16676 reads\n",
      "s78_0_R1.fq.gz sampled at p=0.75 kept 15139 reads\n",
      "s116_0_R1.fq.gz sampled at p=0.67 kept 13577 reads\n",
      "s70_0_R1.fq.gz sampled at p=0.61 kept 12380 reads\n",
      "s98_0_R1.fq.gz sampled at p=0.12 kept 2451 reads\n",
      "s120_0_R1.fq.gz sampled at p=0.86 kept 17273 reads\n",
      "s101_0_R1.fq.gz sampled at p=0.68 kept 13807 reads\n",
      "s92_0_R1.fq.gz sampled at p=0.24 kept 4640 reads\n",
      "s108_0_R1.fq.gz sampled at p=0.88 kept 17540 reads\n",
      "s86_0_R1.fq.gz sampled at p=0.18 kept 3619 reads\n",
      "s91_0_R1.fq.gz sampled at p=0.66 kept 13325 reads\n",
      "s125_0_R1.fq.gz sampled at p=0.50 kept 10001 reads\n",
      "s124_0_R1.fq.gz sampled at p=0.90 kept 17931 reads\n",
      "s95_0_R1.fq.gz sampled at p=0.43 kept 8791 reads\n",
      "s105_0_R1.fq.gz sampled at p=0.81 kept 16275 reads\n",
      "s102_0_R1.fq.gz sampled at p=0.22 kept 4335 reads\n",
      "s115_0_R1.fq.gz sampled at p=0.32 kept 6523 reads\n",
      "s93_0_R1.fq.gz sampled at p=0.19 kept 3659 reads\n",
      "s88_0_R1.fq.gz sampled at p=0.78 kept 15741 reads\n",
      "s100_0_R1.fq.gz sampled at p=0.24 kept 4800 reads\n",
      "s113_0_R1.fq.gz sampled at p=0.31 kept 6312 reads\n",
      "s65_0_R1.fq.gz sampled at p=0.69 kept 13891 reads\n",
      "s97_0_R1.fq.gz sampled at p=0.53 kept 10559 reads\n",
      "s82_0_R1.fq.gz sampled at p=0.67 kept 13317 reads\n",
      "s106_0_R1.fq.gz sampled at p=0.36 kept 7176 reads\n",
      "s117_0_R1.fq.gz sampled at p=0.38 kept 7756 reads\n",
      "s111_0_R1.fq.gz sampled at p=0.16 kept 3098 reads\n",
      "s104_0_R1.fq.gz sampled at p=0.22 kept 4463 reads\n",
      "s87_0_R1.fq.gz sampled at p=0.70 kept 13952 reads\n",
      "s69_0_R1.fq.gz sampled at p=0.56 kept 11282 reads\n",
      "s85_0_R1.fq.gz sampled at p=0.50 kept 10059 reads\n",
      "s73_0_R1.fq.gz sampled at p=0.72 kept 14355 reads\n",
      "s80_0_R1.fq.gz sampled at p=0.86 kept 17152 reads\n",
      "s79_0_R1.fq.gz sampled at p=0.66 kept 13153 reads\n",
      "s74_0_R1.fq.gz sampled at p=0.46 kept 9285 reads\n",
      "s90_0_R1.fq.gz sampled at p=0.79 kept 15678 reads\n",
      "s66_0_R1.fq.gz sampled at p=0.21 kept 4111 reads\n",
      "s114_0_R1.fq.gz sampled at p=0.68 kept 13643 reads\n",
      "s112_0_R1.fq.gz sampled at p=0.12 kept 2430 reads\n",
      "s99_0_R1.fq.gz sampled at p=0.83 kept 16547 reads\n",
      "s84_0_R1.fq.gz sampled at p=0.21 kept 4166 reads\n",
      "s96_0_R1.fq.gz sampled at p=0.13 kept 2473 reads\n",
      "s81_0_R1.fq.gz sampled at p=0.63 kept 12531 reads\n",
      "s72_0_R1.fq.gz sampled at p=0.43 kept 8472 reads\n",
      "s67_0_R1.fq.gz sampled at p=0.24 kept 4781 reads\n",
      "s63_0_R1.fq.gz sampled at p=0.25 kept 4957 reads\n",
      "s75_0_R1.fq.gz sampled at p=0.21 kept 4323 reads\n",
      "s122_0_R1.fq.gz sampled at p=0.53 kept 10407 reads\n",
      "s68_0_R1.fq.gz sampled at p=0.79 kept 15859 reads\n",
      "s76_0_R1.fq.gz sampled at p=0.46 kept 9036 reads\n",
      "s94_0_R1.fq.gz sampled at p=0.12 kept 2483 reads\n",
      "s64_0_R1.fq.gz sampled at p=0.21 kept 4174 reads\n",
      "s121_0_R1.fq.gz sampled at p=0.48 kept 9485 reads\n",
      "s118_0_R1.fq.gz sampled at p=0.85 kept 16924 reads\n",
      "s103_0_R1.fq.gz sampled at p=0.56 kept 11128 reads\n",
      "s126_0_R1.fq.gz sampled at p=0.58 kept 11479 reads\n",
      "s110_0_R1.fq.gz sampled at p=0.16 kept 3193 reads\n",
      "s119_0_R1.fq.gz sampled at p=0.23 kept 4595 reads\n",
      "s123_0_R1.fq.gz sampled at p=0.12 kept 2462 reads\n",
      "s107_0_R1.fq.gz sampled at p=0.40 kept 8048 reads\n"
     ]
    }
   ],
   "source": [
    "## make a new directory for the subsampled fastqs\n",
    "! mkdir -p /home/deren/Documents/RADsims/Tbal_rad_varcov/fastq/\n",
    "\n",
    "## grab the no-missing fastqs\n",
    "fastqs = glob.glob(\"/home/deren/Documents/RADsims/Tbal_rad_covfull/fastq/s*\")\n",
    "for fastq in fastqs:\n",
    "    ## create a new output file\n",
    "    _, handle = os.path.split(fastq)\n",
    "    outfile = gzip.open(\n",
    "                os.path.join(\n",
    "                    \"/home/deren/Documents/RADsims/Tbal_rad_varcov/fastq\",\n",
    "                    handle), 'w')\n",
    "    ## grab a random proportion of reads from this data set (0-100%)\n",
    "    p = np.random.uniform(0.1, 0.9)\n",
    "    ## iterate over file 4-lines at a time. \n",
    "    infile = gzip.open(fastq, 'r')\n",
    "    qiter = itertools.izip(*[iter(infile)]*4)\n",
    "    ## sample read with probability p\n",
    "    kept = 0\n",
    "    while 1:\n",
    "        try:\n",
    "            if np.random.binomial(1, p):\n",
    "                outfile.write(\"\".join(qiter.next()))\n",
    "                kept += 1\n",
    "            else:\n",
    "                _ = qiter.next()\n",
    "        except StopIteration:\n",
    "            break\n",
    "    print '{} sampled at p={:.2f} kept {} reads'.format(handle, p, kept)\n",
    "    infile.close()\n",
    "    outfile.close()\n",
    "                                             "
   ]
  },
  {
   "cell_type": "code",
   "execution_count": 583,
   "metadata": {
    "collapsed": true
   },
   "outputs": [],
   "source": [
    "%%bash\n",
    "## assemble the data set in pyrad\n",
    "rm params.txt \n",
    "pyrad -n >> log.txt 2>&1  \n",
    "sed -i '/## 1. /c\\Tbal_rad_varcov       ## 1. working dir ' params.txt\n",
    "sed -i '/## 2. /c\\                      ## 2. data loc ' params.txt\n",
    "sed -i '/## 3. /c\\                      ## 3. Bcode ' params.txt\n",
    "sed -i '/## 6. /c\\TGCAG               ## 6. cutters ' params.txt\n",
    "sed -i '/## 7. /c\\20                  ## 7. Nproc ' params.txt\n",
    "sed -i '/## 10. /c\\.82                ## 10. clust thresh' params.txt\n",
    "sed -i '/## 11. /c\\rad                ## 11. datatype ' params.txt\n",
    "sed -i '/## 12. /c\\2                  ## 12. minCov ' params.txt\n",
    "sed -i '/## 13. /c\\10                 ## 13. maxSH' params.txt\n",
    "sed -i '/## 14. /c\\Tbal               ## 14. outname' params.txt\n",
    "sed -i '/## 18./c\\Tbal_rad_varcov/fastq/*.gz   ## sorted data ' params.txt\n",
    "sed -i '/## 24./c\\99                  ## 24. maxH' params.txt\n",
    "sed -i '/## 30./c\\n,p,s               ## 30. out format' params.txt\n",
    "pyrad -p params.txt -s 234567 >> log.txt 2>&1  "
   ]
  },
  {
   "cell_type": "code",
   "execution_count": 20,
   "metadata": {
    "collapsed": false
   },
   "outputs": [],
   "source": [
    "## load the data files\n",
    "Tbalvarcov = dataset(\"Tbalvarcov\")\n",
    "Tbalvarcov.files.loci4 = \"/home/deren/Documents/RADsims/Tbal_rad_varcov/outfiles/Tbal.loci\"\n",
    "Tbalvarcov.files.tree = \"/home/deren/Documents/RADsims/Tbal.tre\"\n",
    "Tbalvarcov.files.s2 = \"/home/deren/Documents/RADsims/Tbal_rad_varcov/stats/s2.rawedit.txt\""
   ]
  },
  {
   "cell_type": "markdown",
   "metadata": {},
   "source": [
    "#### For the mutation-disruption data set we can re-use the sim data from notebook 1"
   ]
  },
  {
   "cell_type": "code",
   "execution_count": 21,
   "metadata": {
    "collapsed": false
   },
   "outputs": [],
   "source": [
    "## balanced tree with only phylo missing data. \n",
    "Tbaldrop = dataset(\"Tbaldrop\")\n",
    "Tbaldrop.files.loci4 = \"/home/deren/Documents/RADsims/Tbal_rad_drop/outfiles/Tbal.loci\"\n",
    "Tbaldrop.files.tree = \"/home/deren/Documents/RADsims/Tbal.tre\"\n",
    "Tbaldrop.files.s2 = \"/home/deren/Documents/RADsims/Tbal_rad_drop/stats/s2.rawedit.txt\""
   ]
  },
  {
   "cell_type": "markdown",
   "metadata": {},
   "source": [
    "#### New Imbalanced tree data set"
   ]
  },
  {
   "cell_type": "code",
   "execution_count": 587,
   "metadata": {
    "collapsed": false
   },
   "outputs": [
    {
     "name": "stdout",
     "output_type": "stream",
     "text": [
      "s109_0_R1.fq.gz sampled at p=0.29 kept 5642 reads\n",
      "s89_0_R1.fq.gz sampled at p=0.72 kept 14463 reads\n",
      "s77_0_R1.fq.gz sampled at p=0.78 kept 15533 reads\n",
      "s7_0_R1.fq.gz sampled at p=0.39 kept 7707 reads\n",
      "s71_0_R1.fq.gz sampled at p=0.68 kept 13722 reads\n",
      "s1_0_R1.fq.gz sampled at p=0.36 kept 7219 reads\n",
      "s83_0_R1.fq.gz sampled at p=0.70 kept 13935 reads\n",
      "s13_0_R1.fq.gz sampled at p=0.90 kept 17865 reads\n",
      "s25_0_R1.fq.gz sampled at p=0.13 kept 2582 reads\n",
      "s53_0_R1.fq.gz sampled at p=0.89 kept 17799 reads\n",
      "s101_0_R1.fq.gz sampled at p=0.44 kept 8844 reads\n",
      "s91_0_R1.fq.gz sampled at p=0.43 kept 8623 reads\n",
      "s125_0_R1.fq.gz sampled at p=0.11 kept 2075 reads\n",
      "s39_0_R1.fq.gz sampled at p=0.31 kept 6213 reads\n",
      "s41_0_R1.fq.gz sampled at p=0.50 kept 10181 reads\n",
      "s95_0_R1.fq.gz sampled at p=0.73 kept 14769 reads\n",
      "s105_0_R1.fq.gz sampled at p=0.76 kept 15280 reads\n",
      "s9_0_R1.fq.gz sampled at p=0.39 kept 7662 reads\n",
      "s31_0_R1.fq.gz sampled at p=0.42 kept 8500 reads\n",
      "s115_0_R1.fq.gz sampled at p=0.74 kept 14700 reads\n",
      "s27_0_R1.fq.gz sampled at p=0.21 kept 4197 reads\n",
      "s93_0_R1.fq.gz sampled at p=0.65 kept 13037 reads\n",
      "s113_0_R1.fq.gz sampled at p=0.77 kept 15406 reads\n",
      "s65_0_R1.fq.gz sampled at p=0.17 kept 3414 reads\n",
      "s17_0_R1.fq.gz sampled at p=0.78 kept 15667 reads\n",
      "s5_0_R1.fq.gz sampled at p=0.90 kept 17993 reads\n",
      "s57_0_R1.fq.gz sampled at p=0.72 kept 14391 reads\n",
      "s97_0_R1.fq.gz sampled at p=0.90 kept 17933 reads\n",
      "s59_0_R1.fq.gz sampled at p=0.30 kept 6011 reads\n",
      "s117_0_R1.fq.gz sampled at p=0.68 kept 13651 reads\n",
      "s3_0_R1.fq.gz sampled at p=0.47 kept 9403 reads\n",
      "s111_0_R1.fq.gz sampled at p=0.66 kept 13268 reads\n",
      "s61_0_R1.fq.gz sampled at p=0.68 kept 13601 reads\n",
      "s87_0_R1.fq.gz sampled at p=0.56 kept 11276 reads\n",
      "s69_0_R1.fq.gz sampled at p=0.87 kept 17432 reads\n",
      "s85_0_R1.fq.gz sampled at p=0.46 kept 9227 reads\n",
      "s73_0_R1.fq.gz sampled at p=0.55 kept 10982 reads\n",
      "s79_0_R1.fq.gz sampled at p=0.53 kept 10657 reads\n",
      "s15_0_R1.fq.gz sampled at p=0.28 kept 5732 reads\n",
      "s33_0_R1.fq.gz sampled at p=0.71 kept 14277 reads\n",
      "s49_0_R1.fq.gz sampled at p=0.69 kept 13753 reads\n",
      "s19_0_R1.fq.gz sampled at p=0.60 kept 12072 reads\n",
      "s43_0_R1.fq.gz sampled at p=0.81 kept 16299 reads\n",
      "s99_0_R1.fq.gz sampled at p=0.39 kept 7724 reads\n",
      "s29_0_R1.fq.gz sampled at p=0.22 kept 4333 reads\n",
      "s81_0_R1.fq.gz sampled at p=0.24 kept 4795 reads\n",
      "s67_0_R1.fq.gz sampled at p=0.24 kept 4746 reads\n",
      "s63_0_R1.fq.gz sampled at p=0.66 kept 13150 reads\n",
      "s75_0_R1.fq.gz sampled at p=0.25 kept 5027 reads\n",
      "s47_0_R1.fq.gz sampled at p=0.35 kept 6961 reads\n",
      "s51_0_R1.fq.gz sampled at p=0.58 kept 11464 reads\n",
      "s37_0_R1.fq.gz sampled at p=0.28 kept 5651 reads\n",
      "s55_0_R1.fq.gz sampled at p=0.49 kept 9696 reads\n",
      "s11_0_R1.fq.gz sampled at p=0.80 kept 15942 reads\n",
      "s23_0_R1.fq.gz sampled at p=0.77 kept 15395 reads\n",
      "s121_0_R1.fq.gz sampled at p=0.13 kept 2581 reads\n",
      "s21_0_R1.fq.gz sampled at p=0.71 kept 14161 reads\n",
      "s103_0_R1.fq.gz sampled at p=0.38 kept 7731 reads\n",
      "s35_0_R1.fq.gz sampled at p=0.83 kept 16519 reads\n",
      "s126_0_R1.fq.gz sampled at p=0.17 kept 3490 reads\n",
      "s119_0_R1.fq.gz sampled at p=0.44 kept 8727 reads\n",
      "s123_0_R1.fq.gz sampled at p=0.29 kept 5866 reads\n",
      "s107_0_R1.fq.gz sampled at p=0.52 kept 10382 reads\n",
      "s45_0_R1.fq.gz sampled at p=0.35 kept 7079 reads\n"
     ]
    }
   ],
   "source": [
    "## make a new directory for the subsampled fastqs\n",
    "! mkdir -p /home/deren/Documents/RADsims/Timb_rad_varcov/fastq/\n",
    "\n",
    "## grab the no-missing fastqs\n",
    "fastqs = glob.glob(\"/home/deren/Documents/RADsims/Timb_rad_covfull/fastq/s*\")\n",
    "for fastq in fastqs:\n",
    "    ## create a new output file\n",
    "    _, handle = os.path.split(fastq)\n",
    "    outfile = gzip.open(\n",
    "                os.path.join(\n",
    "                    \"/home/deren/Documents/RADsims/Timb_rad_varcov/fastq\",\n",
    "                    handle), 'w')\n",
    "    ## grab a random proportion of reads from this data set (0-100%)\n",
    "    p = np.random.uniform(0.1, 0.9)\n",
    "    ## iterate over file 4-lines at a time. \n",
    "    infile = gzip.open(fastq, 'r')\n",
    "    qiter = itertools.izip(*[iter(infile)]*4)\n",
    "    ## sample read with probability p\n",
    "    kept = 0\n",
    "    while 1:\n",
    "        try:\n",
    "            if np.random.binomial(1, p):\n",
    "                outfile.write(\"\".join(qiter.next()))\n",
    "                kept += 1\n",
    "            else:\n",
    "                _ = qiter.next()\n",
    "        except StopIteration:\n",
    "            break\n",
    "    print '{} sampled at p={:.2f} kept {} reads'.format(handle, p, kept)\n",
    "    infile.close()\n",
    "    outfile.close()\n",
    "                                                     "
   ]
  },
  {
   "cell_type": "code",
   "execution_count": 588,
   "metadata": {
    "collapsed": true
   },
   "outputs": [],
   "source": [
    "%%bash\n",
    "## assemble the data set in pyrad\n",
    "rm params.txt\n",
    "pyrad -n >> log.txt 2>&1  \n",
    "sed -i '/## 1. /c\\Timb_rad_varcov       ## 1. working dir ' params.txt\n",
    "sed -i '/## 2. /c\\                      ## 2. data loc ' params.txt\n",
    "sed -i '/## 3. /c\\                      ## 3. Bcode ' params.txt\n",
    "sed -i '/## 6. /c\\TGCAG               ## 6. cutters ' params.txt\n",
    "sed -i '/## 7. /c\\20                  ## 7. Nproc ' params.txt\n",
    "sed -i '/## 10. /c\\.82                ## 10. clust thresh' params.txt\n",
    "sed -i '/## 11. /c\\rad                ## 11. datatype ' params.txt\n",
    "sed -i '/## 12. /c\\2                  ## 12. minCov ' params.txt\n",
    "sed -i '/## 13. /c\\10                 ## 13. maxSH' params.txt\n",
    "sed -i '/## 14. /c\\Timb               ## 14. outname' params.txt\n",
    "sed -i '/## 18./c\\Timb_rad_varcov/fastq/*.gz   ## sorted data ' params.txt\n",
    "sed -i '/## 24./c\\99                  ## 24. maxH' params.txt\n",
    "sed -i '/## 30./c\\n,p,s               ## 30. out format' params.txt\n",
    "pyrad -p params.txt -s 234567 >> log.txt 2>&1  "
   ]
  },
  {
   "cell_type": "code",
   "execution_count": 22,
   "metadata": {
    "collapsed": false
   },
   "outputs": [],
   "source": [
    "## imbalanced tree with only phylo missind data. \n",
    "Timbvarcov = dataset(\"Timbvarcov\")\n",
    "Timbvarcov.files.loci4 = \"/home/deren/Documents/RADsims/Timb_rad_varcov/outfiles/Timb.loci\"\n",
    "Timbvarcov.files.tree = \"/home/deren/Documents/RADsims/Timb.tre\"\n",
    "Timbvarcov.files.s2 = \"/home/deren/Documents/RADsims/Timb_rad_varcov/stats/s2.rawedit.txt\""
   ]
  },
  {
   "cell_type": "markdown",
   "metadata": {},
   "source": [
    "#### Imbalanced tree"
   ]
  },
  {
   "cell_type": "code",
   "execution_count": 23,
   "metadata": {
    "collapsed": true
   },
   "outputs": [],
   "source": [
    "## balanced tree with only phylo missind data. \n",
    "Timbdrop = dataset(\"Timbdrop\")\n",
    "Timbdrop.files.loci4 = \"/home/deren/Documents/RADsims/Timb_rad_drop/outfiles/Timb.loci\"\n",
    "Timbdrop.files.tree = \"/home/deren/Documents/RADsims/Timb.tre\"\n",
    "Timbdrop.files.s2 = \"/home/deren/Documents/RADsims/Timb_rad_drop/stats/s2.rawedit.txt\""
   ]
  },
  {
   "cell_type": "code",
   "execution_count": 24,
   "metadata": {
    "collapsed": false
   },
   "outputs": [],
   "source": [
    "## list of dsets\n",
    "dsets = [Tbaldrop, Timbdrop, Tbalvarcov, Timbvarcov]"
   ]
  },
  {
   "cell_type": "markdown",
   "metadata": {},
   "source": [
    "### Get array of shared loci for each data set"
   ]
  },
  {
   "cell_type": "code",
   "execution_count": 25,
   "metadata": {
    "collapsed": false
   },
   "outputs": [
    {
     "name": "stdout",
     "output_type": "stream",
     "text": [
      "Tbaldrop \n",
      "[[1 1 1 ..., 1 1 1]\n",
      " [1 1 1 ..., 1 1 1]\n",
      " [1 0 1 ..., 1 1 1]\n",
      " ..., \n",
      " [0 1 1 ..., 1 1 1]\n",
      " [0 1 1 ..., 1 1 1]\n",
      " [0 1 1 ..., 1 1 1]] \n",
      "\n",
      "Timbdrop \n",
      "[[1 1 1 ..., 1 0 1]\n",
      " [1 1 1 ..., 1 1 1]\n",
      " [1 1 1 ..., 1 0 1]\n",
      " ..., \n",
      " [1 1 1 ..., 1 1 1]\n",
      " [1 1 1 ..., 1 1 1]\n",
      " [1 1 1 ..., 1 1 1]] \n",
      "\n",
      "Tbalvarcov \n",
      "[[0 0 0 ..., 0 1 1]\n",
      " [1 0 0 ..., 0 1 1]\n",
      " [1 1 1 ..., 1 1 1]\n",
      " ..., \n",
      " [1 1 1 ..., 1 1 1]\n",
      " [1 1 1 ..., 1 1 1]\n",
      " [1 1 1 ..., 1 1 1]] \n",
      "\n",
      "Timbvarcov \n",
      "[[1 1 0 ..., 1 1 1]\n",
      " [1 1 1 ..., 1 1 1]\n",
      " [1 1 1 ..., 1 1 1]\n",
      " ..., \n",
      " [1 1 1 ..., 0 0 1]\n",
      " [0 0 0 ..., 0 0 0]\n",
      " [0 0 0 ..., 0 0 0]] \n",
      "\n"
     ]
    }
   ],
   "source": [
    "## submit parallel [getarray] jobs\n",
    "asyncs = {}\n",
    "for dset in dsets:\n",
    "    asyncs[dset.name] = lbview.apply(getarray, *[dset.files.loci4, dset.files.tree])\n",
    "    \n",
    "## collect results\n",
    "ipyclient.wait()\n",
    "for dset in dsets:\n",
    "    dset.lxs4, dset.tree = asyncs[dset.name].get()\n",
    "    print dset.name, \"\\n\", dset.lxs4, \"\\n\""
   ]
  },
  {
   "cell_type": "markdown",
   "metadata": {},
   "source": [
    "### Build array of model stats for each data set\n",
    "This takes a few minutes depending on how many CPUs you're running in parallel. One of the arguments to 'build_df4_parallel' is 'lbview', our load_balanced_view of the parallel processors. "
   ]
  },
  {
   "cell_type": "code",
   "execution_count": 157,
   "metadata": {
    "collapsed": false
   },
   "outputs": [
    {
     "name": "stdout",
     "output_type": "stream",
     "text": [
      "   p1  p2  p3  p4     nloci  inputreads      pdist\n",
      "0   0   1   2   3  6.498282    9.054388  23.523808\n",
      "1   0   1   2   4  6.453625    9.051755  23.523806\n",
      "2   0   1   2   5  6.643790    9.447268  23.523804\n",
      "3   0   1   2   6  6.643790    9.520395  23.523802\n",
      "4   0   1   2   7  6.025866    9.025455  23.523800\n"
     ]
    }
   ],
   "source": [
    "## submit parallel [buildarray] jobs\n",
    "for dset in dsets:\n",
    "     dset.df4 = build_df4_parallel(dset.tree, dset.lxs4, dset.files.s2, lbview)\n",
    "\n",
    "## peek at one of the data sets\n",
    "print dsets[3].df4.head()"
   ]
  },
  {
   "cell_type": "markdown",
   "metadata": {},
   "source": [
    "### Mean standardize the arrays"
   ]
  },
  {
   "cell_type": "code",
   "execution_count": 159,
   "metadata": {
    "collapsed": false
   },
   "outputs": [
    {
     "name": "stdout",
     "output_type": "stream",
     "text": [
      "   p1  p2  p3  p4     nloci  inputreads     pdist\n",
      "0   0   1   2   3  0.759856   -0.598282  2.647565\n",
      "1   0   1   2   4  0.731862   -0.607247  2.647564\n",
      "2   0   1   2   5  0.851071    0.739461  2.647563\n",
      "3   0   1   2   6  0.851071    0.988455  2.647563\n",
      "4   0   1   2   7  0.463710   -0.696796  2.647563\n"
     ]
    }
   ],
   "source": [
    "for dset in dsets:\n",
    "    for var in [\"nloci\", \"inputreads\", \"pdist\"]:\n",
    "        dset.df4[var] = (dset.df4[var] - dset.df4[var].mean()) / dset.df4[var].std()\n",
    "    \n",
    "## peek again\n",
    "print dsets[3].df4.head()"
   ]
  },
  {
   "cell_type": "markdown",
   "metadata": {},
   "source": [
    "### To parallelize the next step we need to send our functions to the remote namespace\n",
    "A much cleaner way to do this would have been to collect all the functions into a Python module and then just import that. Since I'm writing everything out in this notebook to be more didactic, though, we need to perform this step instead. "
   ]
  },
  {
   "cell_type": "code",
   "execution_count": 267,
   "metadata": {
    "collapsed": false
   },
   "outputs": [
    {
     "data": {
      "text/plain": [
       "<AsyncResult: _push>"
      ]
     },
     "execution_count": 267,
     "metadata": {},
     "output_type": "execute_result"
    }
   ],
   "source": [
    "ipyclient[:].push(\n",
    "    dict(\n",
    "        calculate_covariance=calculate_covariance, \n",
    "        check_covariance=check_covariance,\n",
    "        get_path=get_path,\n",
    "        rModelFit=rModelFit,\n",
    "        rModelFit2=rModelFit2,\n",
    "        estimate_lambda=estimate_lambda,\n",
    "        get_lik_lambda=get_lik_lambda\n",
    "        )\n",
    "    )"
   ]
  },
  {
   "cell_type": "markdown",
   "metadata": {},
   "source": [
    "### Plot sim data set with a random 1000 quartets sampled"
   ]
  },
  {
   "cell_type": "code",
   "execution_count": 161,
   "metadata": {
    "collapsed": false
   },
   "outputs": [],
   "source": [
    "## pass objects into R\n",
    "rdf0 = dsets[0].df4.loc[np.random.choice(range(630000), 1000), :]\n",
    "rdf1 = dsets[1].df4.loc[np.random.choice(range(630000), 1000), :]\n",
    "rdf2 = dsets[2].df4.loc[np.random.choice(range(630000), 1000), :]\n",
    "rdf3 = dsets[3].df4.loc[np.random.choice(range(630000), 1000), :]\n",
    "\n",
    "baltre = dsets[0].tree.write()\n",
    "imbtre = dsets[1].tree.write()\n",
    "%R -i rdf0,rdf1,rdf2,rdf3,baltre,imbtre"
   ]
  },
  {
   "cell_type": "code",
   "execution_count": 177,
   "metadata": {
    "collapsed": false
   },
   "outputs": [
    {
     "data": {
      "image/png": "[encoded data removed]"
     },
     "metadata": {},
     "output_type": "display_data"
    },
    {
     "data": {
      "image/png": "[encoded data removed]"
     },
     "metadata": {},
     "output_type": "display_data"
    },
    {
     "data": {
      "image/png": "[encoded data removed]"
     },
     "metadata": {},
     "output_type": "display_data"
    },
    {
     "data": {
      "image/png": "[encoded data removed]"
     },
     "metadata": {},
     "output_type": "display_data"
    },
    {
     "data": {
      "image/png": "[encoded data removed]"
     },
     "metadata": {},
     "output_type": "display_data"
    },
    {
     "data": {
      "image/png": "[encoded data removed]"
     },
     "metadata": {},
     "output_type": "display_data"
    }
   ],
   "source": [
    "%%R -w 400 -h 400\n",
    "## make tree and plot data\n",
    "#pdf(\"simulation_model_fits.pdf\")\n",
    "tre <- read.tree(text=baltre)\n",
    "plot(tre, 'u', no.margin=TRUE)\n",
    "plot(rdf0[,c(5,6,7)], main=\"Balanced tree - phylo missing\")\n",
    "plot(rdf2[,c(5,6,7)], main=\"Balanced tree - low-cov missing\")\n",
    "\n",
    "tre <- read.tree(text=imbtre)\n",
    "plot(tre, 'u', no.margin=TRUE)\n",
    "plot(rdf1[,c(5,6,7)], main=\"Imbalanced tree - phylo missing\")\n",
    "plot(rdf3[,c(5,6,7)], main=\"Imbalanced tree - low-cov missing\")\n",
    "#dev.off()"
   ]
  },
  {
   "cell_type": "code",
   "execution_count": 163,
   "metadata": {
    "collapsed": false
   },
   "outputs": [
    {
     "name": "stdout",
     "output_type": "stream",
     "text": [
      "Tbaldrop\n"
     ]
    },
    {
     "data": {
      "text/plain": [
       "(                Value  Std.Error    t-value       p-value\n",
       " (Intercept)  1.316493   0.325814   4.040626  7.638131e-05\n",
       " inputreads   0.108283   0.049725   2.177644  3.062066e-02\n",
       " pdist       -0.723854   0.035767 -20.238321  5.347518e-50,\n",
       " array([-86.29341942]),\n",
       " array([-98.23571647]),\n",
       " 0.99960021071899874)"
      ]
     },
     "execution_count": 163,
     "metadata": {},
     "output_type": "execute_result"
    }
   ],
   "source": [
    "dset = dsets[0]\n",
    "print dset.name\n",
    "fitmodels(dset.tree, dset.df4, nsamples=200)"
   ]
  },
  {
   "cell_type": "code",
   "execution_count": 164,
   "metadata": {
    "collapsed": false
   },
   "outputs": [
    {
     "name": "stdout",
     "output_type": "stream",
     "text": [
      "Timbdrop\n"
     ]
    },
    {
     "data": {
      "text/plain": [
       "(                Value  Std.Error    t-value       p-value\n",
       " (Intercept)  0.357928   0.118206   3.027992  2.791243e-03\n",
       " inputreads   0.077981   0.029384   2.653831  8.608192e-03\n",
       " pdist       -0.775967   0.033450 -23.197634  3.084181e-58,\n",
       " array([ 6.62460087]),\n",
       " array([-41.82783388]),\n",
       " 0.99960021071899874)"
      ]
     },
     "execution_count": 164,
     "metadata": {},
     "output_type": "execute_result"
    }
   ],
   "source": [
    "dset = dsets[1]\n",
    "print dset.name\n",
    "fitmodels(dset.tree, dset.df4, nsamples=200)"
   ]
  },
  {
   "cell_type": "code",
   "execution_count": 165,
   "metadata": {
    "collapsed": false
   },
   "outputs": [
    {
     "name": "stdout",
     "output_type": "stream",
     "text": [
      "Tbalvarcov\n"
     ]
    },
    {
     "data": {
      "text/plain": [
       "(                Value  Std.Error   t-value       p-value\n",
       " (Intercept) -0.005006   0.378422 -0.013229  9.894588e-01\n",
       " inputreads   0.438420   0.050747  8.639289  1.932216e-15\n",
       " pdist        0.022305   0.039779  0.560736  5.756146e-01,\n",
       " array([-115.62919649]),\n",
       " array([-218.92689998]),\n",
       " 0.99960021071899874)"
      ]
     },
     "execution_count": 165,
     "metadata": {},
     "output_type": "execute_result"
    }
   ],
   "source": [
    "dset = dsets[2]\n",
    "print dset.name\n",
    "fitmodels(dset.tree, dset.df4, nsamples=200)"
   ]
  },
  {
   "cell_type": "code",
   "execution_count": 166,
   "metadata": {
    "collapsed": false
   },
   "outputs": [
    {
     "name": "stdout",
     "output_type": "stream",
     "text": [
      "Timbvarcov\n"
     ]
    },
    {
     "data": {
      "text/plain": [
       "(                Value  Std.Error   t-value   p-value\n",
       " (Intercept)  0.292225   0.296549  0.985420  0.325626\n",
       " inputreads   0.278069   0.066178  4.201821  0.000040\n",
       " pdist        0.015019   0.083815  0.179189  0.857973,\n",
       " array([-169.63423911]),\n",
       " array([-250.95969846]),\n",
       " 0.99960021071899874)"
      ]
     },
     "execution_count": 166,
     "metadata": {},
     "output_type": "execute_result"
    }
   ],
   "source": [
    "dset = dsets[3]\n",
    "print dset.name\n",
    "fitmodels(dset.tree, dset.df4, nsamples=200)"
   ]
  },
  {
   "cell_type": "code",
   "execution_count": 871,
   "metadata": {
    "collapsed": false
   },
   "outputs": [],
   "source": [
    "def AICc(LL, k, n):\n",
    "    return (-2*LL) + 2*k + ((2*k * (k+1))/float(n-k-1))"
   ]
  },
  {
   "cell_type": "markdown",
   "metadata": {},
   "source": [
    "### Run 100 replicate subsample models for each data set"
   ]
  },
  {
   "cell_type": "code",
   "execution_count": 167,
   "metadata": {
    "collapsed": false
   },
   "outputs": [],
   "source": [
    "## store results in this array\n",
    "ntests = 100\n",
    "nsamples = 200\n",
    "\n",
    "## for each test\n",
    "for dset in dsets:\n",
    "    \n",
    "    ## create output storage arrays\n",
    "    dset.tab = np.zeros((ntests, 3, 4), dtype=np.float64)\n",
    "    dset.LL = np.zeros((2, ntests), dtype=np.float64)\n",
    "    dset.lam = np.zeros(ntests, dtype=np.float64)\n",
    "    dset.asyncs = {}\n",
    "\n",
    "    ## send jobs to get results in parallel\n",
    "    for tidx in xrange(ntests):\n",
    "        dset.asyncs[tidx] = lbview.apply(fitmodels, *[dset.tree, dset.df4, nsamples])\n",
    "    "
   ]
  },
  {
   "cell_type": "code",
   "execution_count": 168,
   "metadata": {
    "collapsed": false
   },
   "outputs": [
    {
     "name": "stdout",
     "output_type": "stream",
     "text": [
      " 400/400 tasks finished after 2532 s\n",
      "done\n"
     ]
    }
   ],
   "source": [
    "## check progress on running jobs\n",
    "ipyclient.wait_interactive()"
   ]
  },
  {
   "cell_type": "code",
   "execution_count": 190,
   "metadata": {
    "collapsed": false
   },
   "outputs": [],
   "source": [
    "## enter results into results array when finished\n",
    "for dset in dsets:\n",
    "    ## create empty results arrays\n",
    "    dset.tab = np.zeros((ntests, 3, 4), dtype=np.float64)\n",
    "    dset.LL = np.zeros((ntests, 2), dtype=np.float64)\n",
    "    dset.lam = np.zeros(ntests, dtype=np.float64)\n",
    "    \n",
    "    for tidx in range(ntests):\n",
    "        if dset.asyncs[tidx].ready():\n",
    "            res = dset.asyncs[tidx].get()\n",
    "            dset.tab[tidx] = res[0]\n",
    "            dset.LL[tidx] = res[1], res[2]\n",
    "            dset.lam[tidx] = res[3]\n",
    "        else:\n",
    "            print \"job: [{}, {}] is still running\".format(dset.name, tidx)"
   ]
  },
  {
   "cell_type": "markdown",
   "metadata": {},
   "source": [
    "### Simulated data sets results\n",
    "In all of the data sets the phylo corrected model was a better fit to the data by 30-90 AIC points. When data was missing from low sequence coverage it was best predicted by the inputreads, and when data was missing from mutation-disruption it was best explained by phylo distances. "
   ]
  },
  {
   "cell_type": "code",
   "execution_count": 10,
   "metadata": {
    "collapsed": true
   },
   "outputs": [],
   "source": [
    "def results_table(dset):\n",
    "    \n",
    "    tdat = dset.tab.mean(axis=0)\n",
    "    \n",
    "    df = pd.DataFrame(\n",
    "            index=[\"fit\"],\n",
    "            data=[\n",
    "             pd.Series([np.mean(dset.LL[:, 0] - dset.LL[:, 1]),\n",
    "                        dset.lam.mean(),\n",
    "                        tdat[1, 0],\n",
    "                        tdat[1, 3],\n",
    "                        tdat[2, 0], \n",
    "                        tdat[2, 3]],\n",
    "                        index=[\"deltaAIC\", \"lambda\", \n",
    "                               \"raw_coeff\", \"raw_P\",\n",
    "                               \"phy_coeff\", \"phy_P\"\n",
    "                               ]), \n",
    "            ])\n",
    "    return df"
   ]
  },
  {
   "cell_type": "code",
   "execution_count": null,
   "metadata": {
    "collapsed": false
   },
   "outputs": [],
   "source": [
    "for dset in dsets:\n",
    "    print dset.name, \"---\"*23\n",
    "    print results_table(dset)\n",
    "    print \"---\"*27, \"\\n\""
   ]
  },
  {
   "cell_type": "markdown",
   "metadata": {},
   "source": [
    "## confidence intervals\n",
    "The fit for this data set yields a negative AIC both with and without a covariance matrix. This shows that the amount of input data (raw) is a better predictor of shared data bewteen samples than is their phylogenetic distance. See the plot below. "
   ]
  },
  {
   "cell_type": "code",
   "execution_count": 11,
   "metadata": {
    "collapsed": true
   },
   "outputs": [],
   "source": [
    "## get a stats module\n",
    "import scipy.stats as st\n",
    "\n",
    "\n",
    "def get_CI(a):\n",
    "    mean = np.mean(a)\n",
    "    interval = st.t.interval(0.95, len(a)-1, loc=np.mean(a), scale=st.sem(a))\n",
    "    return mean, interval[0], interval[1]\n"
   ]
  },
  {
   "cell_type": "code",
   "execution_count": 211,
   "metadata": {
    "collapsed": false
   },
   "outputs": [
    {
     "name": "stdout",
     "output_type": "stream",
     "text": [
      "Tbaldrop\n",
      "LL  (23.856759534274129, 21.829749489780468, 25.88376957876779)\n",
      "lambda (0.99960021071899863, 0.99960021071899863, 0.99960021071899863)\n",
      "raw_coeff (0.13568239558264156, 0.12812141652035028, 0.14324337464493284)\n",
      "raw_P (0.024666691324290207, 0.014585128766543148, 0.034748253882037269)\n",
      "phy_coeff (-0.6769798951303041, -0.68335711359863527, -0.67060267666197293)\n",
      "phy_P (2.5749563846554715e-40, -2.1841376927471948e-40, 7.3340504620581375e-40)\n",
      "\n",
      "Timbdrop\n",
      "LL  (65.677319469030465, 63.130619443668124, 68.224019494392806)\n",
      "lambda (0.99960021071899863, 0.99960021071899863, 0.99960021071899863)\n",
      "raw_coeff (0.057643349844981484, 0.052702255250656013, 0.062584444439306955)\n",
      "raw_P (0.078935644079727127, 0.05246785465072315, 0.1054034335087311)\n",
      "phy_coeff (-0.77709373560218054, -0.78286652717051897, -0.7713209440338421)\n",
      "phy_P (2.1047686953953927e-59, -4.7643012141171706e-60, 4.6859675122025025e-59)\n",
      "\n",
      "Tbalvarcov\n",
      "LL  (78.160889279028424, 76.068056338898998, 80.253722219157851)\n",
      "lambda (0.99960021071899863, 0.99960021071899863, 0.99960021071899863)\n",
      "raw_coeff (0.35128825560093851, 0.34082473460307039, 0.36175177659880664)\n",
      "raw_P (1.3183899732423276e-07, -5.5784128110233774e-08, 3.1946212275869927e-07)\n",
      "phy_coeff (-0.00612831649171527, -0.012117164720679634, -0.00013946826275090547)\n",
      "phy_P (0.60362763190802926, 0.55326502361874741, 0.65399024019731111)\n",
      "\n",
      "Timbvarcov\n",
      "LL  (76.682759432397859, 74.920532620064662, 78.444986244731055)\n",
      "lambda (0.99960021071899863, 0.99960021071899863, 0.99960021071899863)\n",
      "raw_coeff (0.34023863918167563, 0.32905835388085114, 0.35141892448250012)\n",
      "raw_P (7.3272761061072709e-05, -1.6711962605099048e-05, 0.00016325748472724447)\n",
      "phy_coeff (0.052547183798245793, 0.038303516368061272, 0.066790851228430315)\n",
      "phy_P (0.4136614928394971, 0.35713627283852079, 0.47018671284047342)\n",
      "\n"
     ]
    }
   ],
   "source": [
    "for dset in dsets:\n",
    "    print dset.name\n",
    "    print \"LL \", get_CI(dset.LL[:,0]-dset.LL[:,1])\n",
    "    print \"lambda\", get_CI(dset.lam)\n",
    "    print \"raw_coeff\", get_CI(dset.tab[:, 1, 0])\n",
    "    print \"raw_P\", get_CI(dset.tab[:, 1, 3])\n",
    "    print \"phy_coeff\", get_CI(dset.tab[:, 2, 0])\n",
    "    print \"phy_P\", get_CI(dset.tab[:, 2, 3])\n",
    "    print \"\""
   ]
  },
  {
   "cell_type": "markdown",
   "metadata": {},
   "source": [
    "### How to deal with large matrices (absurd run times)\n",
    "OK, so in our test example it takes about 10 minutes to compute a matrix with only 4000 elements, meaning we can expect that a matrix of several hundred thousand elements will pretty much never finish. One work around for this is to take a sub-sampling approach. The full matrix for 13 taxa is ~700 induced quartets, while the full data set for 65 taxa is ~700K. For the latter we will subsample 100 matrices composed of 1000 random quartets. Then we will compute the covariance matrix of the sampled quartets and fit a regression model. Finally, the results over all 100 subsampled replicates will be reported as a 95% confidence interval. "
   ]
  },
  {
   "cell_type": "markdown",
   "metadata": {},
   "source": [
    "### Get all 10 empirical data sets"
   ]
  },
  {
   "cell_type": "code",
   "execution_count": 16,
   "metadata": {
    "collapsed": false
   },
   "outputs": [],
   "source": [
    "## data set 1 (Viburnum)\n",
    "data1 = dataset(\"data1\")\n",
    "data1.files.loci4 = \"/home/deren/Documents/RADmissing/empirical_1/fullrun/outfiles/empirical_1_full_m4.loci\"\n",
    "data1.files.tree = \"/home/deren/Documents/RADmissing/empirical_1/fullrun/RAxML_bipartitions.empirical_1_full_m4\"\n",
    "data1.files.s2 = \"/home/deren/Documents/RADmissing/empirical_1/fullrun/stats/s2.rawedit.txt\"\n",
    "\n",
    "## data set 2 (Phrynosomatidae)\n",
    "data2 = dataset(\"data2\")\n",
    "data2.files.loci4 = \"/home/deren/Documents/RADmissing/empirical_2/outfiles/empirical_2_m4.loci\"\n",
    "data2.files.tree = \"/home/deren/Documents/RADmissing/empirical_2/RAxML_bipartitions.empirical_2\"\n",
    "data2.files.s2 = \"/home/deren/Documents/RADmissing/empirical_2/stats/s2.rawedit.txt\"\n",
    "\n",
    "## data set 3 (Quercus)\n",
    "data3 = dataset(\"data3\")\n",
    "data3.files.loci4 = \"/home/deren/Documents/RADmissing/empirical_3/outfiles/empirical_3_m4.loci\"\n",
    "data3.files.tree = \"/home/deren/Documents/RADmissing/empirical_3/RAxML_bipartitions.empirical_3\"\n",
    "data3.files.s2 = \"/home/deren/Documents/RADmissing/empirical_3/stats/s2.rawedit.txt\"\n",
    "\n",
    "## data set 4 (Orestias)\n",
    "data4 = dataset(\"data4\")\n",
    "data4.files.loci4 = \"/home/deren/Documents/RADmissing/empirical_4/outfiles/empirical_4_m4.loci\"\n",
    "data4.files.tree = \"/home/deren/Documents/RADmissing/empirical_4/RAxML_bipartitions.empirical_4\"\n",
    "data4.files.s2 = \"/home/deren/Documents/RADmissing/empirical_4/stats/s2.rawedit.txt\"\n",
    "\n",
    "## data set 5 (Heliconius)\n",
    "data5 = dataset(\"data5\")\n",
    "data5.files.loci4 = \"/home/deren/Documents/RADmissing/empirical_5/outfiles/empirical_5_m4.loci\"\n",
    "data5.files.tree = \"/home/deren/Documents/RADmissing/empirical_5/RAxML_bipartitions.empirical_5\"\n",
    "data5.files.s2 = \"/home/deren/Documents/RADmissing/empirical_5/stats/s2.rawedit.txt\"\n",
    "\n",
    "## data set 6 (Finches)\n",
    "data6 = dataset(\"data6\")\n",
    "data6.files.loci4 = \"/home/deren/Documents/RADmissing/empirical_6/outfiles/empirical_6_m4.loci\"\n",
    "data6.files.tree = \"/home/deren/Documents/RADmissing/empirical_6/RAxML_bipartitions.empirical_6\"\n",
    "data6.files.s2 = \"/home/deren/Documents/RADmissing/empirical_6/stats/s2.rawedit.txt\"\n",
    "\n",
    "## data set 7 (Danio)\n",
    "data7 = dataset(\"data7\")\n",
    "data7.files.loci4 = \"/home/deren/Documents/RADmissing/empirical_7/outfiles/empirical_7_m4.loci\"\n",
    "data7.files.tree = \"/home/deren/Documents/RADmissing/empirical_7/RAxML_bipartitions.empirical_7\"\n",
    "data7.files.s2 = \"/home/deren/Documents/RADmissing/empirical_7/stats/s2.rawedit.txt\"\n",
    "\n",
    "## data set 8 (Barnacles)\n",
    "data8 = dataset(\"data8\")\n",
    "data8.files.loci4 = \"/home/deren/Documents/RADmissing/empirical_8/outfiles/empirical_8_m4.loci\"\n",
    "data8.files.tree = \"/home/deren/Documents/RADmissing/empirical_8/RAxML_bipartitions.empirical_8\"\n",
    "data8.files.s2 = \"/home/deren/Documents/RADmissing/empirical_8/stats/s2.rawedit.txt\"\n",
    "\n",
    "## data set 9 (Ohomopterus)\n",
    "data9 = dataset(\"data9\")\n",
    "data9.files.loci4 = \"/home/deren/Documents/RADmissing/empirical_9/outfiles/empirical_9_m4.loci\"\n",
    "data9.files.tree = \"/home/deren/Documents/RADmissing/empirical_9/RAxML_bipartitions.empirical_9\"\n",
    "data9.files.s2 = \"/home/deren/Documents/RADmissing/empirical_9/stats/s2.rawedit.txt\"\n",
    "\n",
    "## data set 10 (Pedicularis)\n",
    "data10 = dataset(\"data10\")\n",
    "data10.files.loci4 = \"/home/deren/Documents/RADmissing/empirical_10/outfiles/empirical_10_m4.loci\"\n",
    "data10.files.tree = \"/home/deren/Documents/RADmissing/empirical_10/RAxML_bipartitions.empirical_10_m4\"\n",
    "data10.files.s2 = \"/home/deren/Documents/RADmissing/empirical_10/stats/s2.rawedit.txt\"\n",
    "\n",
    "## put all in a list\n",
    "datasets = [data1, data2, data3, data4, data5,\n",
    "            data6, data7, data8, data9, data10]"
   ]
  },
  {
   "cell_type": "markdown",
   "metadata": {},
   "source": [
    "### Create large data frames for each data set\n"
   ]
  },
  {
   "cell_type": "code",
   "execution_count": 17,
   "metadata": {
    "collapsed": false
   },
   "outputs": [
    {
     "name": "stdout",
     "output_type": "stream",
     "text": [
      "data1 \n",
      "[[0 0 0 ..., 0 0 0]\n",
      " [0 1 0 ..., 1 1 0]\n",
      " [0 1 0 ..., 1 0 0]\n",
      " ..., \n",
      " [0 1 0 ..., 1 0 0]\n",
      " [0 0 0 ..., 0 0 1]\n",
      " [0 0 0 ..., 1 0 0]] \n",
      "\n",
      "data2 \n",
      "[[0 1 0 ..., 0 0 0]\n",
      " [0 0 1 ..., 0 0 0]\n",
      " [0 0 0 ..., 0 0 0]\n",
      " ..., \n",
      " [1 1 0 ..., 0 0 0]\n",
      " [0 0 0 ..., 0 1 0]\n",
      " [1 0 0 ..., 0 1 0]] \n",
      "\n",
      "data3 \n",
      "[[0 0 1 ..., 1 1 1]\n",
      " [1 1 0 ..., 1 1 0]\n",
      " [1 1 1 ..., 1 1 1]\n",
      " ..., \n",
      " [1 0 0 ..., 1 1 1]\n",
      " [1 1 1 ..., 0 1 1]\n",
      " [1 0 1 ..., 1 1 1]] \n",
      "\n",
      "data4 \n",
      "[[1 1 0 ..., 1 1 0]\n",
      " [0 1 0 ..., 1 1 0]\n",
      " [0 1 0 ..., 0 1 0]\n",
      " ..., \n",
      " [0 0 0 ..., 1 1 1]\n",
      " [1 0 1 ..., 1 1 0]\n",
      " [1 0 1 ..., 1 1 0]] \n",
      "\n",
      "data5 \n",
      "[[1 0 0 ..., 0 0 0]\n",
      " [1 0 0 ..., 1 0 0]\n",
      " [1 0 0 ..., 1 0 0]\n",
      " ..., \n",
      " [0 0 0 ..., 0 0 0]\n",
      " [0 0 0 ..., 0 0 0]\n",
      " [0 0 0 ..., 0 0 0]] \n",
      "\n",
      "data6 \n",
      "[[1 0 1 ..., 1 0 0]\n",
      " [1 0 1 ..., 1 0 0]\n",
      " [1 0 1 ..., 1 0 0]\n",
      " ..., \n",
      " [0 0 0 ..., 0 0 0]\n",
      " [0 0 0 ..., 0 0 0]\n",
      " [0 0 0 ..., 0 0 0]] \n",
      "\n",
      "data7 \n",
      "[[0 0 0 ..., 0 0 0]\n",
      " [0 0 0 ..., 0 0 0]\n",
      " [0 0 0 ..., 0 0 0]\n",
      " ..., \n",
      " [0 0 1 ..., 0 0 0]\n",
      " [0 0 1 ..., 1 0 1]\n",
      " [0 0 1 ..., 1 0 0]] \n",
      "\n",
      "data8 \n",
      "[[1 0 0 ..., 0 0 1]\n",
      " [0 0 1 ..., 0 0 0]\n",
      " [1 1 1 ..., 0 1 1]\n",
      " ..., \n",
      " [0 0 1 ..., 1 0 1]\n",
      " [1 0 0 ..., 1 0 0]\n",
      " [0 0 0 ..., 0 0 0]] \n",
      "\n",
      "data9 \n",
      "[[0 0 0 ..., 0 0 0]\n",
      " [0 0 0 ..., 0 0 0]\n",
      " [0 0 0 ..., 1 0 0]\n",
      " ..., \n",
      " [0 0 0 ..., 0 0 0]\n",
      " [0 1 0 ..., 0 1 0]\n",
      " [0 0 0 ..., 0 0 0]] \n",
      "\n",
      "data10 \n",
      "[[1 0 1 ..., 0 1 0]\n",
      " [1 0 0 ..., 0 1 1]\n",
      " [1 1 0 ..., 0 1 1]\n",
      " ..., \n",
      " [1 0 1 ..., 0 1 1]\n",
      " [1 0 1 ..., 1 1 1]\n",
      " [1 0 1 ..., 1 1 1]] \n",
      "\n"
     ]
    }
   ],
   "source": [
    "## submit parallel [getarray] jobs\n",
    "asyncs = {}\n",
    "for dset in datasets:\n",
    "    asyncs[dset.name] = lbview.apply(getarray, *[dset.files.loci4, dset.files.tree])\n",
    "    \n",
    "## collect results\n",
    "ipyclient.wait()\n",
    "for dset in datasets:\n",
    "    dset.lxs4, dset.tree = asyncs[dset.name].get()\n",
    "    print dset.name, \"\\n\", dset.lxs4, \"\\n\""
   ]
  },
  {
   "cell_type": "code",
   "execution_count": 18,
   "metadata": {
    "collapsed": false
   },
   "outputs": [
    {
     "name": "stdout",
     "output_type": "stream",
     "text": [
      "   p1  p2  p3  p4     nloci  inputreads     pdist\n",
      "0   0   1   2   3  9.480062   14.934133  0.032760\n",
      "1   0   1   2   4  9.824553   14.934133  0.031800\n",
      "2   0   1   2   5  9.613269   15.142473  0.046649\n",
      "3   0   1   2   6  9.850772   15.052855  0.045819\n",
      "4   0   1   2   7  9.711237   14.934133  0.045416\n"
     ]
    }
   ],
   "source": [
    "## submit parallel [buildarray] jobs\n",
    "for dset in datasets:\n",
    "    dset.df4 = build_df4_parallel(dset.tree, dset.lxs4, dset.files.s2, lbview)\n",
    "\n",
    "## peek at one of the data sets\n",
    "print datasets[0].df4.head()"
   ]
  },
  {
   "cell_type": "code",
   "execution_count": 19,
   "metadata": {
    "collapsed": false
   },
   "outputs": [
    {
     "name": "stdout",
     "output_type": "stream",
     "text": [
      "   p1  p2  p3  p4     nloci  inputreads     pdist\n",
      "0   0   1   2   3  1.741054    0.721897 -3.258168\n",
      "1   0   1   2   4  2.278262    0.721897 -3.306778\n",
      "2   0   1   2   5  1.948780    1.565089 -2.555040\n",
      "3   0   1   2   6  2.319149    1.202390 -2.597063\n",
      "4   0   1   2   7  2.101554    0.721897 -2.617438\n"
     ]
    }
   ],
   "source": [
    "for dset in datasets:\n",
    "    for var in [\"nloci\", \"inputreads\", \"pdist\"]:\n",
    "        dset.df4[var] = (dset.df4[var] - dset.df4[var].mean()) / dset.df4[var].std()\n",
    "    \n",
    "## peek again\n",
    "print datasets[0].df4.head()"
   ]
  },
  {
   "cell_type": "code",
   "execution_count": 283,
   "metadata": {
    "collapsed": true
   },
   "outputs": [],
   "source": [
    "## pass objects into R\n",
    "rdf0 = datasets[0].df4.loc[np.random.choice(range(630000), 1000), :]\n",
    "\n",
    "rdftre = datasets[0].tree.write()\n",
    "%R -i rdf0,rdftre"
   ]
  },
  {
   "cell_type": "code",
   "execution_count": 284,
   "metadata": {
    "collapsed": false
   },
   "outputs": [
    {
     "data": {
      "image/png": "[encoded data removed]"
     },
     "metadata": {},
     "output_type": "display_data"
    },
    {
     "data": {
      "image/png": "[encoded data removed]"
     },
     "metadata": {},
     "output_type": "display_data"
    }
   ],
   "source": [
    "%%R -w 400 -h 400\n",
    "## make tree and plot data\n",
    "#pdf(\"simulation_model_fits.pdf\")\n",
    "tre <- read.tree(text=rdftre)\n",
    "plot(tre, 'u', no.margin=TRUE, show.tip.label=FALSE)\n",
    "plot(rdf0[,c(5,6,7)], main=\"Viburnum tree -- empirical\")"
   ]
  },
  {
   "cell_type": "code",
   "execution_count": 285,
   "metadata": {
    "collapsed": true
   },
   "outputs": [],
   "source": [
    "## store results in this array\n",
    "ntests = 100\n",
    "nsamples = 200\n",
    "\n",
    "## for each test\n",
    "for dset in datasets:\n",
    "    \n",
    "    ## create output storage arrays\n",
    "    dset.tab = np.zeros((ntests, 3, 4), dtype=np.float64)\n",
    "    dset.LL = np.zeros((2, ntests), dtype=np.float64)\n",
    "    dset.lam = np.zeros(ntests, dtype=np.float64)\n",
    "    dset.asyncs = {}\n",
    "\n",
    "    ## send jobs to get results in parallel\n",
    "    for tidx in xrange(ntests):\n",
    "        dset.asyncs[tidx] = lbview.apply(fitmodels, *[dset.tree, dset.df4, nsamples])\n",
    "    "
   ]
  },
  {
   "cell_type": "code",
   "execution_count": 286,
   "metadata": {
    "collapsed": false
   },
   "outputs": [
    {
     "name": "stdout",
     "output_type": "stream",
     "text": [
      "1000/1000 tasks finished after 3106 s\n",
      "done\n"
     ]
    }
   ],
   "source": [
    "ipyclient.wait_interactive()"
   ]
  },
  {
   "cell_type": "markdown",
   "metadata": {},
   "source": [
    "### Collect the results"
   ]
  },
  {
   "cell_type": "code",
   "execution_count": 287,
   "metadata": {
    "collapsed": true
   },
   "outputs": [],
   "source": [
    "## enter results into results array when finished\n",
    "for dset in datasets:\n",
    "    ## create empty results arrays\n",
    "    dset.tab = np.zeros((ntests, 3, 4), dtype=np.float64)\n",
    "    dset.LL = np.zeros((ntests, 2), dtype=np.float64)\n",
    "    dset.lam = np.zeros(ntests, dtype=np.float64)\n",
    "    \n",
    "    for tidx in range(ntests):\n",
    "        if dset.asyncs[tidx].ready():\n",
    "            res = dset.asyncs[tidx].get()\n",
    "            dset.tab[tidx] = res[0]\n",
    "            dset.LL[tidx] = res[1], res[2]\n",
    "            dset.lam[tidx] = res[3]\n",
    "        else:\n",
    "            print \"job: [{}, {}] is still running\".format(dset.name, tidx)"
   ]
  },
  {
   "cell_type": "markdown",
   "metadata": {},
   "source": [
    "### Print results means"
   ]
  },
  {
   "cell_type": "code",
   "execution_count": 288,
   "metadata": {
    "collapsed": false
   },
   "outputs": [
    {
     "name": "stdout",
     "output_type": "stream",
     "text": [
      "data1 ---------------------------------------------------------------------\n",
      "       deltaAIC  lambda  raw_coeff         raw_P  phy_coeff     phy_P\n",
      "fit  130.698514  0.9996   0.308544  2.284103e-08  -0.101696  0.026328\n",
      "--------------------------------------------------------------------------------- \n",
      "\n",
      "data2 ---------------------------------------------------------------------\n",
      "       deltaAIC  lambda  raw_coeff     raw_P  phy_coeff         phy_P\n",
      "fit  139.766655  0.9996   0.171828  0.000001  -0.437113  7.029035e-15\n",
      "--------------------------------------------------------------------------------- \n",
      "\n",
      "data3 ---------------------------------------------------------------------\n",
      "       deltaAIC  lambda  raw_coeff     raw_P  phy_coeff     phy_P\n",
      "fit  196.594784  0.9996   0.147195  0.006394  -0.126762  0.104418\n",
      "--------------------------------------------------------------------------------- \n",
      "\n",
      "data4 ---------------------------------------------------------------------\n",
      "       deltaAIC  lambda  raw_coeff         raw_P  phy_coeff    phy_P\n",
      "fit  135.528055  0.9996    0.26352  3.206787e-07  -0.038706  0.37362\n",
      "--------------------------------------------------------------------------------- \n",
      "\n",
      "data5 ---------------------------------------------------------------------\n",
      "       deltaAIC  lambda  raw_coeff     raw_P  phy_coeff     phy_P\n",
      "fit  206.681699  0.9996   0.041942  0.035345  -0.131127  0.000046\n",
      "--------------------------------------------------------------------------------- \n",
      "\n",
      "data6 ---------------------------------------------------------------------\n",
      "       deltaAIC  lambda  raw_coeff     raw_P  phy_coeff    phy_P\n",
      "fit  262.789548  0.9996  -0.065005  0.057379   0.071715  0.01649\n",
      "--------------------------------------------------------------------------------- \n",
      "\n",
      "data7 ---------------------------------------------------------------------\n",
      "       deltaAIC  lambda  raw_coeff     raw_P  phy_coeff         phy_P\n",
      "fit  310.781023  0.9996  -0.009397  0.451061  -0.211941  1.866769e-18\n",
      "--------------------------------------------------------------------------------- \n",
      "\n",
      "data8 ---------------------------------------------------------------------\n",
      "       deltaAIC  lambda  raw_coeff         raw_P  phy_coeff     phy_P\n",
      "fit  126.584662  0.9996   0.209495  4.947476e-07  -0.275779  0.005751\n",
      "--------------------------------------------------------------------------------- \n",
      "\n",
      "data9 ---------------------------------------------------------------------\n",
      "       deltaAIC  lambda  raw_coeff     raw_P  phy_coeff     phy_P\n",
      "fit  195.862972  0.9996   0.085873  0.036113  -0.099374  0.017746\n",
      "--------------------------------------------------------------------------------- \n",
      "\n",
      "data10 ---------------------------------------------------------------------\n",
      "       deltaAIC  lambda  raw_coeff         raw_P  phy_coeff     phy_P\n",
      "fit  234.039394  0.9996   0.239064  7.795647e-13  -0.073352  0.041957\n",
      "--------------------------------------------------------------------------------- \n",
      "\n"
     ]
    }
   ],
   "source": [
    "for dset in datasets:\n",
    "    print dset.name, \"---\"*23\n",
    "    print results_table(dset)\n",
    "    print \"---\"*27, \"\\n\""
   ]
  },
  {
   "cell_type": "markdown",
   "metadata": {},
   "source": [
    "### So, for example, why is this one a poor fit for pdist?\n",
    "There are three clouds of points corresponding to comparisons within and between the major clades. Some with little phylo distance between them have tons of data, while some with tons of data between them have very few data. It comes down to whether those data points include the same few samples or not. When we control for their non-independence, those clouds of points represent much less information, and in essence the pattern disappears. "
   ]
  },
  {
   "cell_type": "code",
   "execution_count": 298,
   "metadata": {
    "collapsed": false
   },
   "outputs": [],
   "source": [
    "## pass objects into R\n",
    "rdf0 = datasets[5].df4.loc[np.random.choice(range(10000), 1000), :]\n",
    "rdftre = datasets[5].tree.write()\n",
    "%R -i rdf0,rdftre"
   ]
  },
  {
   "cell_type": "code",
   "execution_count": 299,
   "metadata": {
    "collapsed": false
   },
   "outputs": [
    {
     "data": {
      "image/png": "[encoded data removed]"
     },
     "metadata": {},
     "output_type": "display_data"
    },
    {
     "data": {
      "image/png": "[encoded data removed]"
     },
     "metadata": {},
     "output_type": "display_data"
    }
   ],
   "source": [
    "%%R -w 400 -h 400\n",
    "## make tree and plot data\n",
    "#pdf(\"simulation_model_fits.pdf\")\n",
    "tre <- read.tree(text=rdftre)\n",
    "plot(tre, 'u', no.margin=TRUE, show.tip.label=FALSE)\n",
    "plot(rdf0[,c(5,6,7)], main=\"Finch tree -- empirical\")"
   ]
  },
  {
   "cell_type": "markdown",
   "metadata": {},
   "source": [
    "## Confidence intervals "
   ]
  },
  {
   "cell_type": "code",
   "execution_count": 300,
   "metadata": {
    "collapsed": false
   },
   "outputs": [
    {
     "name": "stdout",
     "output_type": "stream",
     "text": [
      "data1\n",
      "LL  (130.69851434371012, 128.12865718594313, 133.26837150147711)\n",
      "lambda (0.99960021071899863, 0.99960021071899863, 0.99960021071899863)\n",
      "raw_coeff (0.30854365419893531, 0.30269096411409419, 0.31439634428377644)\n",
      "raw_P (2.2841026613240539e-08, 5.1787065617999179e-09, 4.050334666468116e-08)\n",
      "phy_coeff (-0.10169604278335902, -0.10569554280416416, -0.097696542762553878)\n",
      "phy_P (0.026328111852941694, 0.019620024893717718, 0.033036198812165671)\n",
      "\n",
      "data2\n",
      "LL  (139.76665526389243, 137.16253099018172, 142.37077953760314)\n",
      "lambda (0.99960021071899863, 0.99960021071899863, 0.99960021071899863)\n",
      "raw_coeff (0.1718278777600889, 0.16635506033100297, 0.17730069518917482)\n",
      "raw_P (1.0950423602466082e-06, -1.3680492412632838e-07, 2.3268896446195447e-06)\n",
      "phy_coeff (-0.43711285751896845, -0.44358870600769951, -0.43063700903023738)\n",
      "phy_P (7.0290350999570793e-15, -6.4202800228952231e-16, 1.4700098202203681e-14)\n",
      "\n",
      "data3\n",
      "LL  (196.59478360519438, 194.66975703591095, 198.51981017447781)\n",
      "lambda (0.99960021071899863, 0.99960021071899863, 0.99960021071899863)\n",
      "raw_coeff (0.14719506453520051, 0.14028677047834764, 0.15410335859205337)\n",
      "raw_P (0.0063935572171347557, 0.0036684884902602865, 0.009118625944009225)\n",
      "phy_coeff (-0.12676238705894194, -0.13719789743782845, -0.11632687668005542)\n",
      "phy_P (0.10441833760088796, 0.073900276473389051, 0.13493639872838686)\n",
      "\n",
      "data4\n",
      "LL  (135.52805468003675, 132.67624437123467, 138.37986498883882)\n",
      "lambda (0.99960021071899863, 0.99960021071899863, 0.99960021071899863)\n",
      "raw_coeff (0.26351986100513658, 0.25728172262366594, 0.26975799938660722)\n",
      "raw_P (3.2067865675438907e-07, -2.1990739295284825e-09, 6.4355638743830667e-07)\n",
      "phy_coeff (-0.03870593530451398, -0.055583095172031929, -0.021828775436996028)\n",
      "phy_P (0.37361999871579521, 0.31809628380959681, 0.42914371362199361)\n",
      "\n",
      "data5\n",
      "LL  (206.68169885465852, 201.01657316843801, 212.34682454087903)\n",
      "lambda (0.99960021071899863, 0.99960021071899863, 0.99960021071899863)\n",
      "raw_coeff (0.041942499113223945, 0.039909247897479877, 0.043975750328968014)\n",
      "raw_P (0.03534488855256359, 0.023335990347855898, 0.047353786757271282)\n",
      "phy_coeff (-0.13112695471720004, -0.13754131524753868, -0.1247125941868614)\n",
      "phy_P (4.6392639014248775e-05, 5.3599213896538041e-06, 8.7425356638843753e-05)\n",
      "\n",
      "data6\n",
      "LL  (262.7895477377449, 260.35762250508805, 265.22147297040175)\n",
      "lambda (0.99960021071899863, 0.99960021071899863, 0.99960021071899863)\n",
      "raw_coeff (-0.065005132598861023, -0.067689178891608345, -0.062321086306113695)\n",
      "raw_P (0.057378601069832239, 0.044727990466165699, 0.070029211673498779)\n",
      "phy_coeff (0.071714773239201848, 0.068207978646457904, 0.075221567831945793)\n",
      "phy_P (0.016489653303115658, -0.0026715439419844368, 0.035650850548215748)\n",
      "\n",
      "data7\n",
      "LL  (310.78102326794919, 308.6602926482326, 312.90175388766579)\n",
      "lambda (0.99960021071899863, 0.99960021071899863, 0.99960021071899863)\n",
      "raw_coeff (-0.0093974359164832617, -0.010722344879289978, -0.0080725269536765457)\n",
      "raw_P (0.45106129377420656, 0.39970571751418538, 0.50241687003422775)\n",
      "phy_coeff (-0.21194119911559028, -0.21774941789933386, -0.20613298033184671)\n",
      "phy_P (1.8667686042943388e-18, -1.1380494220794838e-19, 3.847342150796626e-18)\n",
      "\n",
      "data8\n",
      "LL  (126.5846616914564, 124.78518046742393, 128.38414291548887)\n",
      "lambda (0.99960021071899863, 0.99960021071899863, 0.99960021071899863)\n",
      "raw_coeff (0.20949452219050829, 0.20407068105651655, 0.21491836332450004)\n",
      "raw_P (4.947475888155329e-07, -1.2778890822446486e-07, 1.1172840858555307e-06)\n",
      "phy_coeff (-0.27577900649771864, -0.28547720748731853, -0.26608080550811875)\n",
      "phy_P (0.005750858194484643, 0.0039643420687927181, 0.0075373743201765679)\n",
      "\n",
      "data9\n",
      "LL  (195.86297214326871, 194.14778727715162, 197.57815700938579)\n",
      "lambda (0.99960021071899863, 0.99960021071899863, 0.99960021071899863)\n",
      "raw_coeff (0.085872822908420993, 0.080099509284979276, 0.09164613653186271)\n",
      "raw_P (0.036113227639180609, 0.021862046685472765, 0.050364408592888453)\n",
      "phy_coeff (-0.099374460281192831, -0.10352087258740293, -0.09522804797498273)\n",
      "phy_P (0.017745757128756447, 0.012845123520333958, 0.022646390737178938)\n",
      "\n",
      "data10\n",
      "LL  (234.03939402349206, 231.89340956837788, 236.18537847860625)\n",
      "lambda (0.99960021071899863, 0.99960021071899863, 0.99960021071899863)\n",
      "raw_coeff (0.23906407694948115, 0.23492930914565108, 0.24319884475331122)\n",
      "raw_P (7.7956469838770013e-13, -3.853505698290987e-13, 1.9444799666044991e-12)\n",
      "phy_coeff (-0.073351588882280938, -0.07606481681668574, -0.070638360947876136)\n",
      "phy_P (0.041956727259696083, 0.032847918489072245, 0.051065536030319922)\n",
      "\n"
     ]
    }
   ],
   "source": [
    "for dset in datasets:\n",
    "    print dset.name\n",
    "    print \"LL \", get_CI(dset.LL[:,0]-dset.LL[:,1])\n",
    "    print \"lambda\", get_CI(dset.lam)\n",
    "    print \"raw_coeff\", get_CI(dset.tab[:, 1, 0])\n",
    "    print \"raw_P\", get_CI(dset.tab[:, 1, 3])\n",
    "    print \"phy_coeff\", get_CI(dset.tab[:, 2, 0])\n",
    "    print \"phy_P\", get_CI(dset.tab[:, 2, 3])\n",
    "    print \"\""
   ]
  },
  {
   "cell_type": "markdown",
   "metadata": {},
   "source": [
    "### Make all plots for supp fig 4"
   ]
  },
  {
   "cell_type": "code",
   "execution_count": 68,
   "metadata": {
    "collapsed": false
   },
   "outputs": [],
   "source": [
    "## pass objects into R\n",
    "dset = datasets[0]\n",
    "rdf = dset.df4.loc[np.random.choice(dset.df4.shape[0], 1000), :]\n",
    "%R -i rdf"
   ]
  },
  {
   "cell_type": "code",
   "execution_count": 69,
   "metadata": {
    "collapsed": false
   },
   "outputs": [
    {
     "data": {
      "text/plain": [
       "PNG \n",
       "  2 \n"
      ]
     },
     "metadata": {},
     "output_type": "display_data"
    }
   ],
   "source": [
    "%%R -w 400 -h 400\n",
    "## make tree and plot data\n",
    "pdf(\"empscatter_Vib.pdf\", height=5, width=5)\n",
    "plot(rdf[,c(5,6,7)], main=\"Viburnum\")\n",
    "dev.off()"
   ]
  },
  {
   "cell_type": "code",
   "execution_count": 72,
   "metadata": {
    "collapsed": true
   },
   "outputs": [],
   "source": [
    "dset = datasets[1]\n",
    "rdf = dset.df4.loc[np.random.choice(dset.df4.shape[0], 1000), :]\n",
    "%R -i rdf"
   ]
  },
  {
   "cell_type": "code",
   "execution_count": 73,
   "metadata": {
    "collapsed": false
   },
   "outputs": [
    {
     "data": {
      "text/plain": [
       "PNG \n",
       "  2 \n"
      ]
     },
     "metadata": {},
     "output_type": "display_data"
    }
   ],
   "source": [
    "%%R -w 400 -h 400\n",
    "## make tree and plot data\n",
    "pdf(\"empscatter_Phryn.pdf\", height=5, width=5)\n",
    "plot(rdf[,c(5,6,7)], main=\"Phrynosomatidae\")\n",
    "dev.off()"
   ]
  },
  {
   "cell_type": "code",
   "execution_count": 75,
   "metadata": {
    "collapsed": true
   },
   "outputs": [],
   "source": [
    "dset = datasets[2]\n",
    "rdf = dset.df4.loc[np.random.choice(dset.df4.shape[0], 1000), :]\n",
    "%R -i rdf"
   ]
  },
  {
   "cell_type": "code",
   "execution_count": 76,
   "metadata": {
    "collapsed": false
   },
   "outputs": [
    {
     "data": {
      "text/plain": [
       "PNG \n",
       "  2 \n"
      ]
     },
     "metadata": {},
     "output_type": "display_data"
    }
   ],
   "source": [
    "%%R -w 400 -h 400\n",
    "## make tree and plot data\n",
    "pdf(\"empscatter_Quer.pdf\", height=5, width=5)\n",
    "plot(rdf[,c(5,6,7)], main=\"Quercus\")\n",
    "dev.off()"
   ]
  },
  {
   "cell_type": "code",
   "execution_count": 77,
   "metadata": {
    "collapsed": false
   },
   "outputs": [],
   "source": [
    "dset = datasets[3]\n",
    "rdf = dset.df4.loc[np.random.choice(dset.df4.shape[0], 1000), :]\n",
    "%R -i rdf"
   ]
  },
  {
   "cell_type": "code",
   "execution_count": 78,
   "metadata": {
    "collapsed": false
   },
   "outputs": [
    {
     "data": {
      "text/plain": [
       "PNG \n",
       "  2 \n"
      ]
     },
     "metadata": {},
     "output_type": "display_data"
    }
   ],
   "source": [
    "%%R -w 400 -h 400\n",
    "## make tree and plot data\n",
    "pdf(\"empscatter_Orest.pdf\", height=5, width=5)\n",
    "plot(rdf[,c(5,6,7)], main=\"Orestias\")\n",
    "dev.off()"
   ]
  },
  {
   "cell_type": "code",
   "execution_count": 79,
   "metadata": {
    "collapsed": true
   },
   "outputs": [],
   "source": [
    "dset = datasets[4]\n",
    "rdf = dset.df4.loc[np.random.choice(dset.df4.shape[0], 1000), :]\n",
    "%R -i rdf"
   ]
  },
  {
   "cell_type": "code",
   "execution_count": 80,
   "metadata": {
    "collapsed": false
   },
   "outputs": [
    {
     "data": {
      "text/plain": [
       "PNG \n",
       "  2 \n"
      ]
     },
     "metadata": {},
     "output_type": "display_data"
    }
   ],
   "source": [
    "%%R -w 400 -h 400\n",
    "## make tree and plot data\n",
    "pdf(\"empscatter_Helic.pdf\", height=5, width=5)\n",
    "plot(rdf[,c(5,6,7)], main=\"Heliconius\")\n",
    "dev.off()"
   ]
  },
  {
   "cell_type": "code",
   "execution_count": 83,
   "metadata": {
    "collapsed": true
   },
   "outputs": [],
   "source": [
    "dset = datasets[5]\n",
    "rdf = dset.df4.loc[np.random.choice(dset.df4.shape[0], 1000), :]\n",
    "%R -i rdf"
   ]
  },
  {
   "cell_type": "code",
   "execution_count": 84,
   "metadata": {
    "collapsed": false
   },
   "outputs": [
    {
     "data": {
      "text/plain": [
       "PNG \n",
       "  2 \n"
      ]
     },
     "metadata": {},
     "output_type": "display_data"
    }
   ],
   "source": [
    "%%R -w 400 -h 400\n",
    "## make tree and plot data\n",
    "pdf(\"empscatter_Finch.pdf\", height=5, width=5)\n",
    "plot(rdf[,c(5,6,7)], main=\"Finches\")\n",
    "dev.off()"
   ]
  },
  {
   "cell_type": "code",
   "execution_count": 85,
   "metadata": {
    "collapsed": true
   },
   "outputs": [],
   "source": [
    "dset = datasets[6]\n",
    "rdf = dset.df4.loc[np.random.choice(dset.df4.shape[0], 1000), :]\n",
    "%R -i rdf"
   ]
  },
  {
   "cell_type": "code",
   "execution_count": 86,
   "metadata": {
    "collapsed": false
   },
   "outputs": [
    {
     "data": {
      "text/plain": [
       "PNG \n",
       "  2 \n"
      ]
     },
     "metadata": {},
     "output_type": "display_data"
    }
   ],
   "source": [
    "%%R -w 400 -h 400\n",
    "## make tree and plot data\n",
    "pdf(\"empscatter_Danio.pdf\", height=5, width=5)\n",
    "plot(rdf[,c(5,6,7)], main=\"Danio\")\n",
    "dev.off()"
   ]
  },
  {
   "cell_type": "code",
   "execution_count": 87,
   "metadata": {
    "collapsed": true
   },
   "outputs": [],
   "source": [
    "dset = datasets[7]\n",
    "rdf = dset.df4.loc[np.random.choice(dset.df4.shape[0], 1000), :]\n",
    "%R -i rdf"
   ]
  },
  {
   "cell_type": "code",
   "execution_count": 88,
   "metadata": {
    "collapsed": false
   },
   "outputs": [
    {
     "data": {
      "text/plain": [
       "PNG \n",
       "  2 \n"
      ]
     },
     "metadata": {},
     "output_type": "display_data"
    }
   ],
   "source": [
    "%%R -w 400 -h 400\n",
    "## make tree and plot data\n",
    "pdf(\"empscatter_Barnacles.pdf\", height=5, width=5)\n",
    "plot(rdf[,c(5,6,7)], main=\"Barnacles\")\n",
    "dev.off()"
   ]
  },
  {
   "cell_type": "code",
   "execution_count": 89,
   "metadata": {
    "collapsed": true
   },
   "outputs": [],
   "source": [
    "dset = datasets[8]\n",
    "rdf = dset.df4.loc[np.random.choice(dset.df4.shape[0], 1000), :]\n",
    "%R -i rdf"
   ]
  },
  {
   "cell_type": "code",
   "execution_count": 90,
   "metadata": {
    "collapsed": false
   },
   "outputs": [
    {
     "data": {
      "text/plain": [
       "PNG \n",
       "  2 \n"
      ]
     },
     "metadata": {},
     "output_type": "display_data"
    }
   ],
   "source": [
    "%%R -w 400 -h 400\n",
    "## make tree and plot data\n",
    "pdf(\"empscatter_Ohomo.pdf\", height=5, width=5)\n",
    "plot(rdf[,c(5,6,7)], main=\"Ohomopterus\")\n",
    "dev.off()"
   ]
  },
  {
   "cell_type": "code",
   "execution_count": 91,
   "metadata": {
    "collapsed": true
   },
   "outputs": [],
   "source": [
    "dset = datasets[9]\n",
    "rdf = dset.df4.loc[np.random.choice(dset.df4.shape[0], 1000), :]\n",
    "%R -i rdf"
   ]
  },
  {
   "cell_type": "code",
   "execution_count": 92,
   "metadata": {
    "collapsed": false
   },
   "outputs": [
    {
     "data": {
      "text/plain": [
       "PNG \n",
       "  2 \n"
      ]
     },
     "metadata": {},
     "output_type": "display_data"
    }
   ],
   "source": [
    "%%R -w 400 -h 400\n",
    "## make tree and plot data\n",
    "pdf(\"empscatter_Pedi.pdf\", height=5, width=5)\n",
    "plot(rdf[,c(5,6,7)], main=\"Pedicularis\")\n",
    "dev.off()"
   ]
  },
  {
   "cell_type": "code",
   "execution_count": null,
   "metadata": {
    "collapsed": true
   },
   "outputs": [],
   "source": []
  }
 ],
 "metadata": {
  "kernelspec": {
   "display_name": "Python 2",
   "language": "python",
   "name": "python2"
  },
  "language_info": {
   "codemirror_mode": {
    "name": "ipython",
    "version": 2
   },
   "file_extension": ".py",
   "mimetype": "text/x-python",
   "name": "python",
   "nbconvert_exporter": "python",
   "pygments_lexer": "ipython2",
   "version": "2.7.12"
  }
 },
 "nbformat": 4,
 "nbformat_minor": 0
}
