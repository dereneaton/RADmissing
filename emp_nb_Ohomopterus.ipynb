{
 "cells": [
  {
   "cell_type": "markdown",
   "metadata": {},
   "source": [
    "## Notebook 9: \n",
    "\n",
    "This is an IPython notebook. Most of the code is composed of bash scripts, indicated by %%bash at the top of the cell, otherwise it is IPython code. This notebook includes code to download, assemble and analyze a published RADseq data set."
   ]
  },
  {
   "cell_type": "code",
   "execution_count": 14,
   "metadata": {
    "collapsed": false
   },
   "outputs": [],
   "source": [
    "### Notebook 9\n",
    "### Data set 9 (Ohomopterus)\n",
    "### Authors: Takahashi et al. 2014\n",
    "### Data Location: DRP001067"
   ]
  },
  {
   "cell_type": "markdown",
   "metadata": {},
   "source": [
    "\n",
    "## Download the sequence data\n",
    "Sequence data for this study are archived on the NCBI sequence read archive (SRA). Below I read in SraRunTable.txt for this project which contains all of the information we need to download the data. \n",
    "\n",
    "+ Project DRA: DRA001025\n",
    "+ Study: DRP001067\n",
    "+ SRA link: http://trace.ddbj.nig.ac.jp/DRASearch/study?acc=DRP001067"
   ]
  },
  {
   "cell_type": "code",
   "execution_count": 15,
   "metadata": {
    "collapsed": true
   },
   "outputs": [],
   "source": [
    "%%bash\n",
    "## make a new directory for this analysis\n",
    "mkdir -p empirical_9/fastq/"
   ]
  },
  {
   "cell_type": "markdown",
   "metadata": {},
   "source": [
    "#### For each ERS (individuals) get all of the ERR (sequence file accessions)."
   ]
  },
  {
   "cell_type": "code",
   "execution_count": 19,
   "metadata": {
    "collapsed": false,
    "scrolled": false
   },
   "outputs": [],
   "source": [
    "import os\n",
    "\n",
    "def wget_download_ddbj(SRR, outdir):\n",
    "    \"\"\" Python function to get sra data from ncbi and write to\n",
    "    outdir with a new name using bash call wget \"\"\"\n",
    "    \n",
    "    ## create a call string \n",
    "    call = \"wget -q -r -nH --cut-dirs=9 -P \"+outdir+\" \"+\\\n",
    "           \"ftp://ftp.ddbj.nig.ac.jp/ddbj_database/dra/sra/ByExp/\"+\\\n",
    "           \"sra/DRX/DRX011/DRX011{:03d}\".format(SRR)\n",
    "    \n",
    "    ## run wget call \n",
    "    ! $call"
   ]
  },
  {
   "cell_type": "code",
   "execution_count": 20,
   "metadata": {
    "collapsed": false
   },
   "outputs": [],
   "source": [
    "for ID in range(602,634):\n",
    "    wget_download_ddbj(ID, \"empirical_9/fastq/\")"
   ]
  },
  {
   "cell_type": "markdown",
   "metadata": {},
   "source": [
    "Here we pass the SRR number and the sample name to the `wget_download` function so that the files are saved with their sample names. "
   ]
  },
  {
   "cell_type": "code",
   "execution_count": 21,
   "metadata": {
    "collapsed": false
   },
   "outputs": [
    {
     "name": "stdout",
     "output_type": "stream",
     "text": [
      "Read 10248198 spots for empirical_9/fastq/DRR021959.sra\n",
      "Written 10248198 spots for empirical_9/fastq/DRR021959.sra\n",
      "Read 7839034 spots for empirical_9/fastq/DRR021960.sra\n",
      "Written 7839034 spots for empirical_9/fastq/DRR021960.sra\n",
      "Read 1132781 spots for empirical_9/fastq/DRR021961.sra\n",
      "Written 1132781 spots for empirical_9/fastq/DRR021961.sra\n",
      "Read 2609632 spots for empirical_9/fastq/DRR021962.sra\n",
      "Written 2609632 spots for empirical_9/fastq/DRR021962.sra\n",
      "Read 5077478 spots for empirical_9/fastq/DRR021963.sra\n",
      "Written 5077478 spots for empirical_9/fastq/DRR021963.sra\n",
      "Read 5173478 spots for empirical_9/fastq/DRR021964.sra\n",
      "Written 5173478 spots for empirical_9/fastq/DRR021964.sra\n",
      "Read 2077912 spots for empirical_9/fastq/DRR021965.sra\n",
      "Written 2077912 spots for empirical_9/fastq/DRR021965.sra\n",
      "Read 4930613 spots for empirical_9/fastq/DRR021966.sra\n",
      "Written 4930613 spots for empirical_9/fastq/DRR021966.sra\n",
      "Read 2494972 spots for empirical_9/fastq/DRR021967.sra\n",
      "Written 2494972 spots for empirical_9/fastq/DRR021967.sra\n",
      "Read 5276173 spots for empirical_9/fastq/DRR021968.sra\n",
      "Written 5276173 spots for empirical_9/fastq/DRR021968.sra\n",
      "Read 6316234 spots for empirical_9/fastq/DRR021969.sra\n",
      "Written 6316234 spots for empirical_9/fastq/DRR021969.sra\n",
      "Read 4871618 spots for empirical_9/fastq/DRR021970.sra\n",
      "Written 4871618 spots for empirical_9/fastq/DRR021970.sra\n",
      "Read 105160 spots for empirical_9/fastq/DRR021971.sra\n",
      "Written 105160 spots for empirical_9/fastq/DRR021971.sra\n",
      "Read 5521722 spots for empirical_9/fastq/DRR021972.sra\n",
      "Written 5521722 spots for empirical_9/fastq/DRR021972.sra\n",
      "Read 874466 spots for empirical_9/fastq/DRR021973.sra\n",
      "Written 874466 spots for empirical_9/fastq/DRR021973.sra\n",
      "Read 5376366 spots for empirical_9/fastq/DRR021974.sra\n",
      "Written 5376366 spots for empirical_9/fastq/DRR021974.sra\n",
      "Read 4715894 spots for empirical_9/fastq/DRR021975.sra\n",
      "Written 4715894 spots for empirical_9/fastq/DRR021975.sra\n",
      "Read 9091972 spots for empirical_9/fastq/DRR021976.sra\n",
      "Written 9091972 spots for empirical_9/fastq/DRR021976.sra\n",
      "Read 6609431 spots for empirical_9/fastq/DRR021977.sra\n",
      "Written 6609431 spots for empirical_9/fastq/DRR021977.sra\n",
      "Read 5827960 spots for empirical_9/fastq/DRR021978.sra\n",
      "Written 5827960 spots for empirical_9/fastq/DRR021978.sra\n",
      "Read 4742805 spots for empirical_9/fastq/DRR021979.sra\n",
      "Written 4742805 spots for empirical_9/fastq/DRR021979.sra\n",
      "Read 2231410 spots for empirical_9/fastq/DRR021980.sra\n",
      "Written 2231410 spots for empirical_9/fastq/DRR021980.sra\n",
      "Read 166474 spots for empirical_9/fastq/DRR021981.sra\n",
      "Written 166474 spots for empirical_9/fastq/DRR021981.sra\n",
      "Read 9263783 spots for empirical_9/fastq/DRR021982.sra\n",
      "Written 9263783 spots for empirical_9/fastq/DRR021982.sra\n",
      "Read 7912300 spots for empirical_9/fastq/DRR021983.sra\n",
      "Written 7912300 spots for empirical_9/fastq/DRR021983.sra\n",
      "Read 8731338 spots for empirical_9/fastq/DRR021984.sra\n",
      "Written 8731338 spots for empirical_9/fastq/DRR021984.sra\n",
      "Read 752632 spots for empirical_9/fastq/DRR021985.sra\n",
      "Written 752632 spots for empirical_9/fastq/DRR021985.sra\n",
      "Read 1482551 spots for empirical_9/fastq/DRR021986.sra\n",
      "Written 1482551 spots for empirical_9/fastq/DRR021986.sra\n",
      "Read 147164 spots for empirical_9/fastq/DRR021987.sra\n",
      "Written 147164 spots for empirical_9/fastq/DRR021987.sra\n",
      "Read 337046 spots for empirical_9/fastq/DRR021988.sra\n",
      "Written 337046 spots for empirical_9/fastq/DRR021988.sra\n",
      "Read 129310 spots for empirical_9/fastq/DRR021989.sra\n",
      "Written 129310 spots for empirical_9/fastq/DRR021989.sra\n",
      "Read 800590 spots for empirical_9/fastq/DRR021990.sra\n",
      "Written 800590 spots for empirical_9/fastq/DRR021990.sra\n",
      "Read 132868497 spots total\n",
      "Written 132868497 spots total\n"
     ]
    }
   ],
   "source": [
    "%%bash\n",
    "## convert sra files to fastq using fastq-dump tool\n",
    "## output as gzipped into the fastq directory\n",
    "fastq-dump --gzip -O empirical_9/fastq/ empirical_9/fastq/*.sra\n",
    "\n",
    "## remove .sra files\n",
    "rm empirical_9/fastq/*.sra"
   ]
  },
  {
   "cell_type": "code",
   "execution_count": 22,
   "metadata": {
    "collapsed": false
   },
   "outputs": [
    {
     "name": "stdout",
     "output_type": "stream",
     "text": [
      "total 11G\n",
      "-rw-rw-r-- 1 deren deren 801M Nov 28 18:32 DRR021959.fastq.gz\n",
      "-rw-rw-r-- 1 deren deren 618M Nov 28 18:32 DRR021960.fastq.gz\n",
      "-rw-rw-r-- 1 deren deren  91M Nov 28 18:32 DRR021961.fastq.gz\n",
      "-rw-rw-r-- 1 deren deren 206M Nov 28 18:32 DRR021962.fastq.gz\n",
      "-rw-rw-r-- 1 deren deren 399M Nov 28 18:32 DRR021963.fastq.gz\n",
      "-rw-rw-r-- 1 deren deren 408M Nov 28 18:32 DRR021964.fastq.gz\n",
      "-rw-rw-r-- 1 deren deren 167M Nov 28 18:32 DRR021965.fastq.gz\n",
      "-rw-rw-r-- 1 deren deren 387M Nov 28 18:32 DRR021966.fastq.gz\n",
      "-rw-rw-r-- 1 deren deren 197M Nov 28 18:32 DRR021967.fastq.gz\n",
      "-rw-rw-r-- 1 deren deren 418M Nov 28 18:32 DRR021968.fastq.gz\n",
      "-rw-rw-r-- 1 deren deren 499M Nov 28 18:32 DRR021969.fastq.gz\n",
      "-rw-rw-r-- 1 deren deren 386M Nov 28 18:32 DRR021970.fastq.gz\n",
      "-rw-rw-r-- 1 deren deren 8.4M Nov 28 18:32 DRR021971.fastq.gz\n",
      "-rw-rw-r-- 1 deren deren 439M Nov 28 18:32 DRR021972.fastq.gz\n",
      "-rw-rw-r-- 1 deren deren  70M Nov 28 18:32 DRR021973.fastq.gz\n",
      "-rw-rw-r-- 1 deren deren 434M Nov 28 18:32 DRR021974.fastq.gz\n",
      "-rw-rw-r-- 1 deren deren 375M Nov 28 18:32 DRR021975.fastq.gz\n",
      "-rw-rw-r-- 1 deren deren 713M Nov 28 18:32 DRR021976.fastq.gz\n",
      "-rw-rw-r-- 1 deren deren 520M Nov 28 18:32 DRR021977.fastq.gz\n",
      "-rw-rw-r-- 1 deren deren 473M Nov 28 18:32 DRR021978.fastq.gz\n",
      "-rw-rw-r-- 1 deren deren 373M Nov 28 18:32 DRR021979.fastq.gz\n",
      "-rw-rw-r-- 1 deren deren 179M Nov 28 18:32 DRR021980.fastq.gz\n",
      "-rw-rw-r-- 1 deren deren  14M Nov 28 18:32 DRR021981.fastq.gz\n",
      "-rw-rw-r-- 1 deren deren 727M Nov 28 18:32 DRR021982.fastq.gz\n",
      "-rw-rw-r-- 1 deren deren 625M Nov 28 18:32 DRR021983.fastq.gz\n",
      "-rw-rw-r-- 1 deren deren 697M Nov 28 18:32 DRR021984.fastq.gz\n",
      "-rw-rw-r-- 1 deren deren  60M Nov 28 18:32 DRR021985.fastq.gz\n",
      "-rw-rw-r-- 1 deren deren 118M Nov 28 18:32 DRR021986.fastq.gz\n",
      "-rw-rw-r-- 1 deren deren  13M Nov 28 18:32 DRR021987.fastq.gz\n",
      "-rw-rw-r-- 1 deren deren  28M Nov 28 18:32 DRR021988.fastq.gz\n",
      "-rw-rw-r-- 1 deren deren  11M Nov 28 18:32 DRR021989.fastq.gz\n",
      "-rw-rw-r-- 1 deren deren  63M Nov 28 18:32 DRR021990.fastq.gz\n"
     ]
    }
   ],
   "source": [
    "%%bash\n",
    "ls -lh empirical_9/fastq/"
   ]
  },
  {
   "cell_type": "markdown",
   "metadata": {},
   "source": [
    "## Make a params file"
   ]
  },
  {
   "cell_type": "code",
   "execution_count": 23,
   "metadata": {
    "collapsed": false
   },
   "outputs": [
    {
     "name": "stdout",
     "output_type": "stream",
     "text": [
      "pyRAD 3.0.63\n"
     ]
    }
   ],
   "source": [
    "%%bash\n",
    "pyrad --version"
   ]
  },
  {
   "cell_type": "code",
   "execution_count": 24,
   "metadata": {
    "collapsed": false
   },
   "outputs": [
    {
     "name": "stderr",
     "output_type": "stream",
     "text": [
      "\tnew params.txt file created\n"
     ]
    }
   ],
   "source": [
    "%%bash\n",
    "## remove old params file if it exists\n",
    "rm params.txt \n",
    "\n",
    "## create a new default params file\n",
    "pyrad -n "
   ]
  },
  {
   "cell_type": "markdown",
   "metadata": {},
   "source": [
    "#### Note: \n",
    "The data here are from Illumina Casava <1.8, so the phred scores are offset by 64 instead of 33, so we use that in the params file below."
   ]
  },
  {
   "cell_type": "code",
   "execution_count": 25,
   "metadata": {
    "collapsed": false
   },
   "outputs": [],
   "source": [
    "%%bash\n",
    "## substitute new parameters into file\n",
    "sed -i '/## 1. /c\\empirical_9/           ## 1. working directory ' params.txt\n",
    "sed -i '/## 6. /c\\TGCAG                  ## 6. cutters ' params.txt\n",
    "sed -i '/## 7. /c\\20                     ## 7. N processors      ' params.txt\n",
    "sed -i '/## 9. /c\\6                      ## 9. NQual             ' params.txt\n",
    "sed -i '/## 10./c\\.85                    ## 10. clust threshold  ' params.txt\n",
    "sed -i '/## 12./c\\4                      ## 12. MinCov           ' params.txt\n",
    "sed -i '/## 13./c\\10                     ## 13. maxSH            ' params.txt\n",
    "sed -i '/## 14./c\\empirical_9_m4          ## 14. output name      ' params.txt\n",
    "sed -i '/## 18./c\\empirical_9/fastq/*.gz ## 18. data location    ' params.txt\n",
    "sed -i '/## 29./c\\2,2                    ## 29. trim overhang    ' params.txt\n",
    "sed -i '/## 30./c\\p,n,s                  ## 30. output formats   ' params.txt"
   ]
  },
  {
   "cell_type": "code",
   "execution_count": 26,
   "metadata": {
    "collapsed": false
   },
   "outputs": [
    {
     "name": "stdout",
     "output_type": "stream",
     "text": [
      "==** parameter inputs for pyRAD version 3.0.63  **======================== affected step ==\r\n",
      "empirical_9/           ## 1. working directory \r\n",
      "./*.fastq.gz              ## 2. Loc. of non-demultiplexed files (if not line 18)  (s1)\r\n",
      "./*.barcodes              ## 3. Loc. of barcode file (if not line 18)             (s1)\r\n",
      "vsearch                   ## 4. command (or path) to call vsearch (or usearch)    (s3,s6)\r\n",
      "muscle                    ## 5. command (or path) to call muscle                  (s3,s7)\r\n",
      "TGCAG                  ## 6. cutters \r\n",
      "20                     ## 7. N processors      \r\n",
      "6                         ## 8. Mindepth: min coverage for a cluster              (s4,s5)\r\n",
      "6                      ## 9. NQual             \r\n",
      ".85                    ## 10. clust threshold  \r\n",
      "rad                       ## 11. Datatype: rad,gbs,pairgbs,pairddrad,(others:see docs)(all)\r\n",
      "4                      ## 12. MinCov           \r\n",
      "10                     ## 13. maxSH            \r\n",
      "empirical_9_m4          ## 14. output name      \r\n",
      "==== optional params below this line ===================================  affected step ==\r\n",
      "                       ## 15.opt.: select subset (prefix* only selector)            (s2-s7)\r\n",
      "                       ## 16.opt.: add-on (outgroup) taxa (list or prefix*)         (s6,s7)\r\n",
      "                       ## 17.opt.: exclude taxa (list or prefix*)                   (s7)\r\n",
      "empirical_9/fastq/*.gz ## 18. data location    \r\n",
      "                       ## 19.opt.: maxM: N mismatches in barcodes (def= 1)          (s1)\r\n",
      "                       ## 20.opt.: phred Qscore offset (def= 33)                    (s2)\r\n",
      "                       ## 21.opt.: filter: def=0=NQual 1=NQual+adapters. 2=strict   (s2)\r\n",
      "                       ## 22.opt.: a priori E,H (def= 0.001,0.01, if not estimated) (s5)\r\n",
      "                       ## 23.opt.: maxN: max Ns in a cons seq (def=5)               (s5)\r\n",
      "                       ## 24.opt.: maxH: max heterozyg. sites in cons seq (def=5)   (s5)\r\n",
      "                       ## 25.opt.: ploidy: max alleles in cons seq (def=2;see docs) (s4,s5)\r\n",
      "                       ## 26.opt.: maxSNPs: (def=100). Paired (def=100,100)         (s7)\r\n",
      "                       ## 27.opt.: maxIndels: within-clust,across-clust (def. 3,99) (s3,s7)\r\n",
      "                       ## 28.opt.: random number seed (def. 112233)              (s3,s6,s7)\r\n",
      "2,2                    ## 29. trim overhang    \r\n",
      "p,n,s                  ## 30. output formats   \r\n",
      "                       ## 31.opt.: maj. base call at depth>x<mindepth (def.x=mindepth) (s5)\r\n",
      "                       ## 32.opt.: keep trimmed reads (def=0). Enter min length.    (s2)\r\n",
      "                       ## 33.opt.: max stack size (int), def= max(500,mean+2*SD)    (s3)\r\n",
      "                       ## 34.opt.: minDerep: exclude dereps with <= N copies, def=1 (s3)\r\n",
      "                       ## 35.opt.: use hierarchical clustering (def.=0, 1=yes)      (s6)\r\n",
      "                       ## 36.opt.: repeat masking (def.=1='dust' method, 0=no)      (s3,s6)\r\n",
      "                       ## 37.opt.: vsearch max threads per job (def.=6; see docs)   (s3,s6)\r\n",
      "==== optional: list group/clade assignments below this line (see docs) ==================\r\n"
     ]
    }
   ],
   "source": [
    "cat params.txt"
   ]
  },
  {
   "cell_type": "markdown",
   "metadata": {},
   "source": [
    "### Trimming the barcode\n",
    "In this data set the data were uploaded separated by sample, but with the barcode still attached to the sequences. The python code below will remove the 5bp barcode from each sequence. "
   ]
  },
  {
   "cell_type": "code",
   "execution_count": 9,
   "metadata": {
    "collapsed": false
   },
   "outputs": [
    {
     "data": {
      "text/plain": [
       "('DRR021982.fastq', '.gz')"
      ]
     },
     "execution_count": 9,
     "metadata": {},
     "output_type": "execute_result"
    }
   ],
   "source": [
    "os.path.splitext(fil)"
   ]
  },
  {
   "cell_type": "code",
   "execution_count": 12,
   "metadata": {
    "collapsed": false
   },
   "outputs": [],
   "source": [
    "import glob\n",
    "import itertools\n",
    "import gzip\n",
    "import os\n",
    "\n",
    "\n",
    "for infile in glob.glob(\"empirical_9/fastq/DRR*\"):\n",
    "    iofile = gzip.open(infile, 'rb')\n",
    "    dire, fil = os.path.split(infile)\n",
    "    fastq = os.path.splitext(fil)[0]\n",
    "    outhandle = os.path.join(dire, \"T_\"+fastq)\n",
    "    outfile = open(outhandle, 'wb')\n",
    "    \n",
    "    data = iter(iofile)\n",
    "    store = []\n",
    "    while 1:\n",
    "        try:\n",
    "            line = data.next()\n",
    "        except StopIteration:\n",
    "            break\n",
    "        if len(line) < 80:\n",
    "            store.append(line)\n",
    "        else:\n",
    "            store.append(line[5:])\n",
    "            \n",
    "        if len(store) == 10000:\n",
    "            outfile.write(\"\".join(store))\n",
    "            store = []\n",
    "            \n",
    "    iofile.close()\n",
    "    outfile.close()        \n",
    "    ! gzip $outhandle"
   ]
  },
  {
   "cell_type": "markdown",
   "metadata": {
    "collapsed": true
   },
   "source": [
    "## Assemble in _pyrad_\n"
   ]
  },
  {
   "cell_type": "code",
   "execution_count": null,
   "metadata": {
    "collapsed": true
   },
   "outputs": [],
   "source": [
    "%%bash\n",
    "pyrad -p params.txt -s 234567 >> log.txt 2>&1  "
   ]
  },
  {
   "cell_type": "code",
   "execution_count": 13,
   "metadata": {
    "collapsed": true
   },
   "outputs": [],
   "source": [
    "%%bash\n",
    "sed -i '/## 12./c\\2                    ## 12. MinCov           ' params.txt\n",
    "sed -i '/## 14./c\\empirical_9_m2       ## 14. output name      ' params.txt"
   ]
  },
  {
   "cell_type": "code",
   "execution_count": 47,
   "metadata": {
    "collapsed": false
   },
   "outputs": [],
   "source": [
    "%%bash\n",
    "pyrad -p params.txt -s 7 >> log.txt 2>&1  "
   ]
  },
  {
   "cell_type": "markdown",
   "metadata": {},
   "source": [
    "## Results\n",
    "We are interested in the relationship between the amount of input (raw) data between any two samples, the average coverage they recover when clustered together, and the phylogenetic distances separating samples.  "
   ]
  },
  {
   "cell_type": "markdown",
   "metadata": {},
   "source": [
    "#### Raw data amounts\n",
    "The average number of raw reads per sample is 1.36M."
   ]
  },
  {
   "cell_type": "code",
   "execution_count": 1,
   "metadata": {
    "collapsed": false
   },
   "outputs": [
    {
     "name": "stdout",
     "output_type": "stream",
     "text": [
      "count         32.000000\n",
      "mean     3888871.375000\n",
      "std      2913183.441258\n",
      "min        98285.000000\n",
      "25%      1000709.500000\n",
      "50%      4518550.000000\n",
      "75%      5558420.000000\n",
      "max      9568142.000000\n",
      "Name: passed.total, dtype: float64\n",
      "\n",
      "most raw data in sample:\n",
      "0    T_DRR021959\n",
      "Name: sample , dtype: object\n"
     ]
    }
   ],
   "source": [
    "import pandas as pd\n",
    "import numpy as np\n",
    "\n",
    "## read in the data\n",
    "s2dat = pd.read_table(\"empirical_9/stats/s2.rawedit.txt\", header=0, nrows=32)\n",
    "\n",
    "## print summary stats\n",
    "print s2dat[\"passed.total\"].describe()\n",
    "\n",
    "## find which sample has the most raw data\n",
    "maxraw = s2dat[\"passed.total\"].max()\n",
    "print \"\\nmost raw data in sample:\"\n",
    "print s2dat['sample '][s2dat['passed.total']==maxraw]"
   ]
  },
  {
   "cell_type": "markdown",
   "metadata": {},
   "source": [
    "### Look at distributions of coverage\n",
    "pyrad v.3.0.63 outputs depth information for each sample which I read in here and plot. First let's ask which sample has the highest depth of coverage. The std of coverages is pretty low in this data set compared to several others. "
   ]
  },
  {
   "cell_type": "code",
   "execution_count": 3,
   "metadata": {
    "collapsed": false
   },
   "outputs": [
    {
     "name": "stdout",
     "output_type": "stream",
     "text": [
      "summary of means\n",
      "==================\n",
      "count     32.000000\n",
      "mean      57.046781\n",
      "std       37.276956\n",
      "min        5.436000\n",
      "25%       23.110250\n",
      "50%       65.631000\n",
      "75%       77.041000\n",
      "max      135.646000\n",
      "Name: dpt.me, dtype: float64\n",
      "\n",
      "summary of std\n",
      "==================\n",
      "count     32.000000\n",
      "mean     272.580687\n",
      "std      201.847071\n",
      "min       16.346000\n",
      "25%       94.865750\n",
      "50%      258.018000\n",
      "75%      399.662500\n",
      "max      690.205000\n",
      "Name: dpt.sd, dtype: float64\n",
      "\n",
      "summary of proportion lowdepth\n",
      "==================\n",
      "count    32.000000\n",
      "mean      0.188730\n",
      "std       0.161401\n",
      "min       0.074257\n",
      "25%       0.085030\n",
      "50%       0.114366\n",
      "75%       0.210204\n",
      "max       0.655746\n",
      "dtype: float64\n",
      "\n",
      "highest coverage in sample:\n",
      "7    T_DRR021966\n",
      "Name: taxa, dtype: object\n"
     ]
    }
   ],
   "source": [
    "## read in the s3 results\n",
    "s9dat = pd.read_table(\"empirical_9/stats/s3.clusters.txt\", header=0, nrows=33)\n",
    "\n",
    "## print summary stats\n",
    "print \"summary of means\\n==================\"\n",
    "print s9dat['dpt.me'].describe()\n",
    "\n",
    "## print summary stats\n",
    "print \"\\nsummary of std\\n==================\"\n",
    "print s9dat['dpt.sd'].describe()\n",
    "\n",
    "## print summary stats\n",
    "print \"\\nsummary of proportion lowdepth\\n==================\"\n",
    "print pd.Series(1-s9dat['d>5.tot']/s9dat[\"total\"]).describe()\n",
    "\n",
    "## find which sample has the greatest depth of retained loci\n",
    "max_hiprop = (s9dat[\"d>5.tot\"]/s9dat[\"total\"]).max()\n",
    "print \"\\nhighest coverage in sample:\"\n",
    "print s9dat['taxa'][s9dat['d>5.tot']/s9dat[\"total\"]==max_hiprop]"
   ]
  },
  {
   "cell_type": "code",
   "execution_count": 4,
   "metadata": {
    "collapsed": false
   },
   "outputs": [
    {
     "name": "stdout",
     "output_type": "stream",
     "text": [
      "\n",
      "highest prop coverage in sample:\n",
      "7    T_DRR021966\n",
      "Name: taxa, dtype: object\n"
     ]
    }
   ],
   "source": [
    "maxprop =(s9dat['d>5.tot']/s9dat['total']).max()\n",
    "print \"\\nhighest prop coverage in sample:\"\n",
    "print s9dat['taxa'][s9dat['d>5.tot']/s9dat['total']==maxprop]"
   ]
  },
  {
   "cell_type": "code",
   "execution_count": 5,
   "metadata": {
    "collapsed": false
   },
   "outputs": [
    {
     "name": "stdout",
     "output_type": "stream",
     "text": [
      "Means for sample T_DRR021966\n",
      "72.1266330292 439.779736427\n",
      "77.7021948176 456.619346077\n"
     ]
    }
   ],
   "source": [
    "## print mean and std of coverage for the highest coverage sample\n",
    "with open(\"empirical_9/clust.85/T_DRR021966.depths\", 'rb') as indat:\n",
    "    depths = np.array(indat.read().strip().split(\",\"), dtype=int)\n",
    "    \n",
    "print \"Means for sample T_DRR021966\"\n",
    "print depths.mean(), depths.std()\n",
    "print depths[depths>5].mean(), depths[depths>5].std()"
   ]
  },
  {
   "cell_type": "markdown",
   "metadata": {},
   "source": [
    "#### Plot the coverage for the sample with highest mean coverage\n",
    "Green shows the loci that were discarded and orange the loci that were retained. The majority of data were discarded for being too low of coverage. "
   ]
  },
  {
   "cell_type": "code",
   "execution_count": 8,
   "metadata": {
    "collapsed": false
   },
   "outputs": [
    {
     "data": {
      "text/plain": [
       "<toyplot.mark.BarMagnitudes at 0x7f91f2120590>"
      ]
     },
     "execution_count": 8,
     "metadata": {},
     "output_type": "execute_result"
    },
    {
     "data": {
      "text/html": [
       "<div align=\"center\" class=\"toyplot\" id=\"t382d4c24fae44dbeada08f732e68913a\"><svg height=\"300.0px\" id=\"t624c44228135453ba250a67dcd056f0b\" preserveAspectRatio=\"xMidyMid meet\" style=\"background-color:transparent;fill:rgb(16.1%,15.3%,14.1%);fill-opacity:1.0;font-family:helvetica;font-size:12px;opacity:1.0;stroke:rgb(16.1%,15.3%,14.1%);stroke-opacity:1.0;stroke-width:1.0\" viewBox=\"0 0 350.0 300.0\" width=\"350.0px\" xmlns=\"http://www.w3.org/2000/svg\" xmlns:toyplot=\"http://www.sandia.gov/toyplot\"><g class=\"toyplot-axes-Cartesian\" id=\"t9bdb5009d98142b7b42c6fd3adbbd86e\"><clipPath id=\"t4a12d50c63384d3391438bc89429d2e4\"><rect height=\"200.0\" width=\"250.0\" x=\"50.0\" y=\"50.0\"></rect></clipPath><g class=\"toyplot-coordinate-events\" clip-path=\"url(#t4a12d50c63384d3391438bc89429d2e4)\" style=\"cursor:crosshair\"><rect height=\"200.0\" style=\"pointer-events:all;visibility:hidden\" width=\"250.0\" x=\"50.0\" y=\"50.0\"></rect><g class=\"toyplot-mark-BarMagnitudes\" id=\"t55f33aa7e50847d89482cd57d0d64169\" style=\"stroke:rgb(100%,100%,100%);stroke-opacity:1.0;stroke-width:1.0\"><g class=\"toyplot-Series\"><rect class=\"toyplot-Datum\" height=\"0.0\" style=\"fill:rgb(40%,76.1%,64.7%);fill-opacity:1.0;opacity:1.0;stroke:rgb(100%,100%,100%);stroke-opacity:1.0;stroke-width:1.0\" width=\"7.6666666666666714\" x=\"60.0\" y=\"240.0\"></rect><rect class=\"toyplot-Datum\" height=\"163.31999999999999\" style=\"fill:rgb(40%,76.1%,64.7%);fill-opacity:1.0;opacity:1.0;stroke:rgb(100%,100%,100%);stroke-opacity:1.0;stroke-width:1.0\" width=\"7.6666666666666572\" x=\"67.666666666666671\" y=\"76.680000000000007\"></rect><rect class=\"toyplot-Datum\" height=\"106.68000000000001\" style=\"fill:rgb(40%,76.1%,64.7%);fill-opacity:1.0;opacity:1.0;stroke:rgb(100%,100%,100%);stroke-opacity:1.0;stroke-width:1.0\" width=\"7.6666666666666714\" x=\"75.333333333333329\" y=\"133.31999999999999\"></rect><rect class=\"toyplot-Datum\" height=\"92.879999999999995\" style=\"fill:rgb(40%,76.1%,64.7%);fill-opacity:1.0;opacity:1.0;stroke:rgb(100%,100%,100%);stroke-opacity:1.0;stroke-width:1.0\" width=\"7.6666666666666572\" x=\"83.0\" y=\"147.12\"></rect><rect class=\"toyplot-Datum\" height=\"90.480000000000018\" style=\"fill:rgb(40%,76.1%,64.7%);fill-opacity:1.0;opacity:1.0;stroke:rgb(100%,100%,100%);stroke-opacity:1.0;stroke-width:1.0\" width=\"7.6666666666666714\" x=\"90.666666666666657\" y=\"149.51999999999998\"></rect><rect class=\"toyplot-Datum\" height=\"71.159999999999997\" style=\"fill:rgb(40%,76.1%,64.7%);fill-opacity:1.0;opacity:1.0;stroke:rgb(100%,100%,100%);stroke-opacity:1.0;stroke-width:1.0\" width=\"7.6666666666666714\" x=\"98.333333333333329\" y=\"168.84\"></rect><rect class=\"toyplot-Datum\" height=\"70.800000000000011\" style=\"fill:rgb(40%,76.1%,64.7%);fill-opacity:1.0;opacity:1.0;stroke:rgb(100%,100%,100%);stroke-opacity:1.0;stroke-width:1.0\" width=\"7.6666666666666714\" x=\"106.0\" y=\"169.19999999999999\"></rect><rect class=\"toyplot-Datum\" height=\"73.680000000000007\" style=\"fill:rgb(40%,76.1%,64.7%);fill-opacity:1.0;opacity:1.0;stroke:rgb(100%,100%,100%);stroke-opacity:1.0;stroke-width:1.0\" width=\"7.6666666666666572\" x=\"113.66666666666667\" y=\"166.31999999999999\"></rect><rect class=\"toyplot-Datum\" height=\"70.800000000000011\" style=\"fill:rgb(40%,76.1%,64.7%);fill-opacity:1.0;opacity:1.0;stroke:rgb(100%,100%,100%);stroke-opacity:1.0;stroke-width:1.0\" width=\"7.6666666666666714\" x=\"121.33333333333333\" y=\"169.19999999999999\"></rect><rect class=\"toyplot-Datum\" height=\"59.759999999999991\" style=\"fill:rgb(40%,76.1%,64.7%);fill-opacity:1.0;opacity:1.0;stroke:rgb(100%,100%,100%);stroke-opacity:1.0;stroke-width:1.0\" width=\"7.6666666666666572\" x=\"129.0\" y=\"180.24000000000001\"></rect><rect class=\"toyplot-Datum\" height=\"57.359999999999985\" style=\"fill:rgb(40%,76.1%,64.7%);fill-opacity:1.0;opacity:1.0;stroke:rgb(100%,100%,100%);stroke-opacity:1.0;stroke-width:1.0\" width=\"7.6666666666666572\" x=\"136.66666666666666\" y=\"182.64000000000001\"></rect><rect class=\"toyplot-Datum\" height=\"52.920000000000016\" style=\"fill:rgb(40%,76.1%,64.7%);fill-opacity:1.0;opacity:1.0;stroke:rgb(100%,100%,100%);stroke-opacity:1.0;stroke-width:1.0\" width=\"7.6666666666666856\" x=\"144.33333333333331\" y=\"187.07999999999998\"></rect><rect class=\"toyplot-Datum\" height=\"55.680000000000007\" style=\"fill:rgb(40%,76.1%,64.7%);fill-opacity:1.0;opacity:1.0;stroke:rgb(100%,100%,100%);stroke-opacity:1.0;stroke-width:1.0\" width=\"7.6666666666666856\" x=\"152.0\" y=\"184.31999999999999\"></rect><rect class=\"toyplot-Datum\" height=\"55.199999999999989\" style=\"fill:rgb(40%,76.1%,64.7%);fill-opacity:1.0;opacity:1.0;stroke:rgb(100%,100%,100%);stroke-opacity:1.0;stroke-width:1.0\" width=\"7.6666666666666572\" x=\"159.66666666666669\" y=\"184.80000000000001\"></rect><rect class=\"toyplot-Datum\" height=\"51.960000000000008\" style=\"fill:rgb(40%,76.1%,64.7%);fill-opacity:1.0;opacity:1.0;stroke:rgb(100%,100%,100%);stroke-opacity:1.0;stroke-width:1.0\" width=\"7.6666666666666572\" x=\"167.33333333333334\" y=\"188.03999999999999\"></rect><rect class=\"toyplot-Datum\" height=\"51.719999999999999\" style=\"fill:rgb(40%,76.1%,64.7%);fill-opacity:1.0;opacity:1.0;stroke:rgb(100%,100%,100%);stroke-opacity:1.0;stroke-width:1.0\" width=\"7.6666666666666572\" x=\"175.0\" y=\"188.28\"></rect><rect class=\"toyplot-Datum\" height=\"54.360000000000014\" style=\"fill:rgb(40%,76.1%,64.7%);fill-opacity:1.0;opacity:1.0;stroke:rgb(100%,100%,100%);stroke-opacity:1.0;stroke-width:1.0\" width=\"7.6666666666666856\" x=\"182.66666666666666\" y=\"185.63999999999999\"></rect><rect class=\"toyplot-Datum\" height=\"54.960000000000008\" style=\"fill:rgb(40%,76.1%,64.7%);fill-opacity:1.0;opacity:1.0;stroke:rgb(100%,100%,100%);stroke-opacity:1.0;stroke-width:1.0\" width=\"7.6666666666666572\" x=\"190.33333333333334\" y=\"185.03999999999999\"></rect><rect class=\"toyplot-Datum\" height=\"51.719999999999999\" style=\"fill:rgb(40%,76.1%,64.7%);fill-opacity:1.0;opacity:1.0;stroke:rgb(100%,100%,100%);stroke-opacity:1.0;stroke-width:1.0\" width=\"7.6666666666666572\" x=\"198.0\" y=\"188.28\"></rect><rect class=\"toyplot-Datum\" height=\"54.360000000000014\" style=\"fill:rgb(40%,76.1%,64.7%);fill-opacity:1.0;opacity:1.0;stroke:rgb(100%,100%,100%);stroke-opacity:1.0;stroke-width:1.0\" width=\"7.6666666666666572\" x=\"205.66666666666666\" y=\"185.63999999999999\"></rect><rect class=\"toyplot-Datum\" height=\"58.439999999999998\" style=\"fill:rgb(40%,76.1%,64.7%);fill-opacity:1.0;opacity:1.0;stroke:rgb(100%,100%,100%);stroke-opacity:1.0;stroke-width:1.0\" width=\"7.6666666666666856\" x=\"213.33333333333331\" y=\"181.56\"></rect><rect class=\"toyplot-Datum\" height=\"57.0\" style=\"fill:rgb(40%,76.1%,64.7%);fill-opacity:1.0;opacity:1.0;stroke:rgb(100%,100%,100%);stroke-opacity:1.0;stroke-width:1.0\" width=\"7.6666666666666572\" x=\"221.0\" y=\"183.0\"></rect><rect class=\"toyplot-Datum\" height=\"58.680000000000007\" style=\"fill:rgb(40%,76.1%,64.7%);fill-opacity:1.0;opacity:1.0;stroke:rgb(100%,100%,100%);stroke-opacity:1.0;stroke-width:1.0\" width=\"7.6666666666666856\" x=\"228.66666666666666\" y=\"181.31999999999999\"></rect><rect class=\"toyplot-Datum\" height=\"61.920000000000016\" style=\"fill:rgb(40%,76.1%,64.7%);fill-opacity:1.0;opacity:1.0;stroke:rgb(100%,100%,100%);stroke-opacity:1.0;stroke-width:1.0\" width=\"7.6666666666666572\" x=\"236.33333333333334\" y=\"178.07999999999998\"></rect><rect class=\"toyplot-Datum\" height=\"59.879999999999995\" style=\"fill:rgb(40%,76.1%,64.7%);fill-opacity:1.0;opacity:1.0;stroke:rgb(100%,100%,100%);stroke-opacity:1.0;stroke-width:1.0\" width=\"7.6666666666666856\" x=\"244.0\" y=\"180.12\"></rect><rect class=\"toyplot-Datum\" height=\"60.600000000000023\" style=\"fill:rgb(40%,76.1%,64.7%);fill-opacity:1.0;opacity:1.0;stroke:rgb(100%,100%,100%);stroke-opacity:1.0;stroke-width:1.0\" width=\"7.6666666666666288\" x=\"251.66666666666669\" y=\"179.39999999999998\"></rect><rect class=\"toyplot-Datum\" height=\"67.559999999999974\" style=\"fill:rgb(40%,76.1%,64.7%);fill-opacity:1.0;opacity:1.0;stroke:rgb(100%,100%,100%);stroke-opacity:1.0;stroke-width:1.0\" width=\"7.6666666666666856\" x=\"259.33333333333331\" y=\"172.44000000000003\"></rect><rect class=\"toyplot-Datum\" height=\"61.439999999999998\" style=\"fill:rgb(40%,76.1%,64.7%);fill-opacity:1.0;opacity:1.0;stroke:rgb(100%,100%,100%);stroke-opacity:1.0;stroke-width:1.0\" width=\"7.6666666666666856\" x=\"267.0\" y=\"178.56\"></rect><rect class=\"toyplot-Datum\" height=\"126.48\" style=\"fill:rgb(40%,76.1%,64.7%);fill-opacity:1.0;opacity:1.0;stroke:rgb(100%,100%,100%);stroke-opacity:1.0;stroke-width:1.0\" width=\"7.6666666666666288\" x=\"274.66666666666669\" y=\"113.52\"></rect></g></g><g class=\"toyplot-mark-BarMagnitudes\" id=\"t00a50549ed9342edaf7a9d37bd3aa92e\" style=\"stroke:rgb(100%,100%,100%);stroke-opacity:1.0;stroke-width:1.0\"><g class=\"toyplot-Series\"><rect class=\"toyplot-Datum\" height=\"0.0\" style=\"fill:rgb(98.8%,55.3%,38.4%);fill-opacity:1.0;opacity:1.0;stroke:rgb(100%,100%,100%);stroke-opacity:1.0;stroke-width:1.0\" width=\"7.6666666666666714\" x=\"60.0\" y=\"240.0\"></rect><rect class=\"toyplot-Datum\" height=\"0.0\" style=\"fill:rgb(98.8%,55.3%,38.4%);fill-opacity:1.0;opacity:1.0;stroke:rgb(100%,100%,100%);stroke-opacity:1.0;stroke-width:1.0\" width=\"7.6666666666666572\" x=\"67.666666666666671\" y=\"240.0\"></rect><rect class=\"toyplot-Datum\" height=\"0.0\" style=\"fill:rgb(98.8%,55.3%,38.4%);fill-opacity:1.0;opacity:1.0;stroke:rgb(100%,100%,100%);stroke-opacity:1.0;stroke-width:1.0\" width=\"7.6666666666666714\" x=\"75.333333333333329\" y=\"240.0\"></rect><rect class=\"toyplot-Datum\" height=\"0.0\" style=\"fill:rgb(98.8%,55.3%,38.4%);fill-opacity:1.0;opacity:1.0;stroke:rgb(100%,100%,100%);stroke-opacity:1.0;stroke-width:1.0\" width=\"7.6666666666666572\" x=\"83.0\" y=\"240.0\"></rect><rect class=\"toyplot-Datum\" height=\"0.0\" style=\"fill:rgb(98.8%,55.3%,38.4%);fill-opacity:1.0;opacity:1.0;stroke:rgb(100%,100%,100%);stroke-opacity:1.0;stroke-width:1.0\" width=\"7.6666666666666714\" x=\"90.666666666666657\" y=\"240.0\"></rect><rect class=\"toyplot-Datum\" height=\"0.0\" style=\"fill:rgb(98.8%,55.3%,38.4%);fill-opacity:1.0;opacity:1.0;stroke:rgb(100%,100%,100%);stroke-opacity:1.0;stroke-width:1.0\" width=\"7.6666666666666714\" x=\"98.333333333333329\" y=\"240.0\"></rect><rect class=\"toyplot-Datum\" height=\"70.800000000000011\" style=\"fill:rgb(98.8%,55.3%,38.4%);fill-opacity:1.0;opacity:1.0;stroke:rgb(100%,100%,100%);stroke-opacity:1.0;stroke-width:1.0\" width=\"7.6666666666666714\" x=\"106.0\" y=\"169.19999999999999\"></rect><rect class=\"toyplot-Datum\" height=\"73.680000000000007\" style=\"fill:rgb(98.8%,55.3%,38.4%);fill-opacity:1.0;opacity:1.0;stroke:rgb(100%,100%,100%);stroke-opacity:1.0;stroke-width:1.0\" width=\"7.6666666666666572\" x=\"113.66666666666667\" y=\"166.31999999999999\"></rect><rect class=\"toyplot-Datum\" height=\"70.800000000000011\" style=\"fill:rgb(98.8%,55.3%,38.4%);fill-opacity:1.0;opacity:1.0;stroke:rgb(100%,100%,100%);stroke-opacity:1.0;stroke-width:1.0\" width=\"7.6666666666666714\" x=\"121.33333333333333\" y=\"169.19999999999999\"></rect><rect class=\"toyplot-Datum\" height=\"59.759999999999991\" style=\"fill:rgb(98.8%,55.3%,38.4%);fill-opacity:1.0;opacity:1.0;stroke:rgb(100%,100%,100%);stroke-opacity:1.0;stroke-width:1.0\" width=\"7.6666666666666572\" x=\"129.0\" y=\"180.24000000000001\"></rect><rect class=\"toyplot-Datum\" height=\"57.359999999999985\" style=\"fill:rgb(98.8%,55.3%,38.4%);fill-opacity:1.0;opacity:1.0;stroke:rgb(100%,100%,100%);stroke-opacity:1.0;stroke-width:1.0\" width=\"7.6666666666666572\" x=\"136.66666666666666\" y=\"182.64000000000001\"></rect><rect class=\"toyplot-Datum\" height=\"52.920000000000016\" style=\"fill:rgb(98.8%,55.3%,38.4%);fill-opacity:1.0;opacity:1.0;stroke:rgb(100%,100%,100%);stroke-opacity:1.0;stroke-width:1.0\" width=\"7.6666666666666856\" x=\"144.33333333333331\" y=\"187.07999999999998\"></rect><rect class=\"toyplot-Datum\" height=\"55.680000000000007\" style=\"fill:rgb(98.8%,55.3%,38.4%);fill-opacity:1.0;opacity:1.0;stroke:rgb(100%,100%,100%);stroke-opacity:1.0;stroke-width:1.0\" width=\"7.6666666666666856\" x=\"152.0\" y=\"184.31999999999999\"></rect><rect class=\"toyplot-Datum\" height=\"55.199999999999989\" style=\"fill:rgb(98.8%,55.3%,38.4%);fill-opacity:1.0;opacity:1.0;stroke:rgb(100%,100%,100%);stroke-opacity:1.0;stroke-width:1.0\" width=\"7.6666666666666572\" x=\"159.66666666666669\" y=\"184.80000000000001\"></rect><rect class=\"toyplot-Datum\" height=\"51.960000000000008\" style=\"fill:rgb(98.8%,55.3%,38.4%);fill-opacity:1.0;opacity:1.0;stroke:rgb(100%,100%,100%);stroke-opacity:1.0;stroke-width:1.0\" width=\"7.6666666666666572\" x=\"167.33333333333334\" y=\"188.03999999999999\"></rect><rect class=\"toyplot-Datum\" height=\"51.719999999999999\" style=\"fill:rgb(98.8%,55.3%,38.4%);fill-opacity:1.0;opacity:1.0;stroke:rgb(100%,100%,100%);stroke-opacity:1.0;stroke-width:1.0\" width=\"7.6666666666666572\" x=\"175.0\" y=\"188.28\"></rect><rect class=\"toyplot-Datum\" height=\"54.360000000000014\" style=\"fill:rgb(98.8%,55.3%,38.4%);fill-opacity:1.0;opacity:1.0;stroke:rgb(100%,100%,100%);stroke-opacity:1.0;stroke-width:1.0\" width=\"7.6666666666666856\" x=\"182.66666666666666\" y=\"185.63999999999999\"></rect><rect class=\"toyplot-Datum\" height=\"54.960000000000008\" style=\"fill:rgb(98.8%,55.3%,38.4%);fill-opacity:1.0;opacity:1.0;stroke:rgb(100%,100%,100%);stroke-opacity:1.0;stroke-width:1.0\" width=\"7.6666666666666572\" x=\"190.33333333333334\" y=\"185.03999999999999\"></rect><rect class=\"toyplot-Datum\" height=\"51.719999999999999\" style=\"fill:rgb(98.8%,55.3%,38.4%);fill-opacity:1.0;opacity:1.0;stroke:rgb(100%,100%,100%);stroke-opacity:1.0;stroke-width:1.0\" width=\"7.6666666666666572\" x=\"198.0\" y=\"188.28\"></rect><rect class=\"toyplot-Datum\" height=\"54.360000000000014\" style=\"fill:rgb(98.8%,55.3%,38.4%);fill-opacity:1.0;opacity:1.0;stroke:rgb(100%,100%,100%);stroke-opacity:1.0;stroke-width:1.0\" width=\"7.6666666666666572\" x=\"205.66666666666666\" y=\"185.63999999999999\"></rect><rect class=\"toyplot-Datum\" height=\"58.439999999999998\" style=\"fill:rgb(98.8%,55.3%,38.4%);fill-opacity:1.0;opacity:1.0;stroke:rgb(100%,100%,100%);stroke-opacity:1.0;stroke-width:1.0\" width=\"7.6666666666666856\" x=\"213.33333333333331\" y=\"181.56\"></rect><rect class=\"toyplot-Datum\" height=\"57.0\" style=\"fill:rgb(98.8%,55.3%,38.4%);fill-opacity:1.0;opacity:1.0;stroke:rgb(100%,100%,100%);stroke-opacity:1.0;stroke-width:1.0\" width=\"7.6666666666666572\" x=\"221.0\" y=\"183.0\"></rect><rect class=\"toyplot-Datum\" height=\"58.680000000000007\" style=\"fill:rgb(98.8%,55.3%,38.4%);fill-opacity:1.0;opacity:1.0;stroke:rgb(100%,100%,100%);stroke-opacity:1.0;stroke-width:1.0\" width=\"7.6666666666666856\" x=\"228.66666666666666\" y=\"181.31999999999999\"></rect><rect class=\"toyplot-Datum\" height=\"61.920000000000016\" style=\"fill:rgb(98.8%,55.3%,38.4%);fill-opacity:1.0;opacity:1.0;stroke:rgb(100%,100%,100%);stroke-opacity:1.0;stroke-width:1.0\" width=\"7.6666666666666572\" x=\"236.33333333333334\" y=\"178.07999999999998\"></rect><rect class=\"toyplot-Datum\" height=\"59.879999999999995\" style=\"fill:rgb(98.8%,55.3%,38.4%);fill-opacity:1.0;opacity:1.0;stroke:rgb(100%,100%,100%);stroke-opacity:1.0;stroke-width:1.0\" width=\"7.6666666666666856\" x=\"244.0\" y=\"180.12\"></rect><rect class=\"toyplot-Datum\" height=\"60.600000000000023\" style=\"fill:rgb(98.8%,55.3%,38.4%);fill-opacity:1.0;opacity:1.0;stroke:rgb(100%,100%,100%);stroke-opacity:1.0;stroke-width:1.0\" width=\"7.6666666666666288\" x=\"251.66666666666669\" y=\"179.39999999999998\"></rect><rect class=\"toyplot-Datum\" height=\"67.559999999999974\" style=\"fill:rgb(98.8%,55.3%,38.4%);fill-opacity:1.0;opacity:1.0;stroke:rgb(100%,100%,100%);stroke-opacity:1.0;stroke-width:1.0\" width=\"7.6666666666666856\" x=\"259.33333333333331\" y=\"172.44000000000003\"></rect><rect class=\"toyplot-Datum\" height=\"61.439999999999998\" style=\"fill:rgb(98.8%,55.3%,38.4%);fill-opacity:1.0;opacity:1.0;stroke:rgb(100%,100%,100%);stroke-opacity:1.0;stroke-width:1.0\" width=\"7.6666666666666856\" x=\"267.0\" y=\"178.56\"></rect><rect class=\"toyplot-Datum\" height=\"126.48\" style=\"fill:rgb(98.8%,55.3%,38.4%);fill-opacity:1.0;opacity:1.0;stroke:rgb(100%,100%,100%);stroke-opacity:1.0;stroke-width:1.0\" width=\"7.6666666666666288\" x=\"274.66666666666669\" y=\"113.52\"></rect></g></g></g><g class=\"toyplot-coordinates\" style=\"visibility:hidden\"><rect height=\"14.0\" style=\"fill:rgb(100%,100%,100%);fill-opacity:1.0;opacity:0.75;stroke:none\" width=\"90.0\" x=\"200.0\" y=\"60.0\"></rect><text style=\"alignment-baseline:middle;font-size:10px;font-weight:normal;stroke:none;text-anchor:middle\" x=\"245.0\" y=\"67.0\"></text></g><line style=\"\" x1=\"60.0\" x2=\"282.3333333333333\" y1=\"250.0\" y2=\"250.0\"></line><g><text style=\"alignment-baseline:middle;baseline-shift:-80%;font-size:10px;font-weight:normal;stroke:none;text-anchor:middle\" x=\"60.0\" y=\"250.0\">0</text><text style=\"alignment-baseline:middle;baseline-shift:-80%;font-size:10px;font-weight:normal;stroke:none;text-anchor:middle\" x=\"136.66666666666666\" y=\"250.0\">10</text><text style=\"alignment-baseline:middle;baseline-shift:-80%;font-size:10px;font-weight:normal;stroke:none;text-anchor:middle\" x=\"213.33333333333331\" y=\"250.0\">20</text><text style=\"alignment-baseline:middle;baseline-shift:-80%;font-size:10px;font-weight:normal;stroke:none;text-anchor:middle\" x=\"290.0\" y=\"250.0\">30</text></g><text style=\"alignment-baseline:middle;baseline-shift:-200%;font-weight:bold;stroke:none;text-anchor:middle\" x=\"175.0\" y=\"250.0\">Depth of coverage (N reads)</text><line style=\"\" x1=\"50.0\" x2=\"50.0\" y1=\"76.68\" y2=\"240.0\"></line><g><text style=\"alignment-baseline:middle;baseline-shift:80%;font-size:10px;font-weight:normal;stroke:none;text-anchor:middle\" transform=\"rotate(-90, 50.0, 240.0)\" x=\"50.0\" y=\"240.0\">0</text><text style=\"alignment-baseline:middle;baseline-shift:80%;font-size:10px;font-weight:normal;stroke:none;text-anchor:middle\" transform=\"rotate(-90, 50.0, 180.00000000000003)\" x=\"50.0\" y=\"180.00000000000003\">500</text><text style=\"alignment-baseline:middle;baseline-shift:80%;font-size:10px;font-weight:normal;stroke:none;text-anchor:middle\" transform=\"rotate(-90, 50.0, 120.00000000000001)\" x=\"50.0\" y=\"120.00000000000001\">1000</text><text style=\"alignment-baseline:middle;baseline-shift:80%;font-size:10px;font-weight:normal;stroke:none;text-anchor:middle\" transform=\"rotate(-90, 50.0, 60.0)\" x=\"50.0\" y=\"60.0\">1500</text></g><text style=\"alignment-baseline:middle;baseline-shift:200%;font-weight:bold;stroke:none;text-anchor:middle\" transform=\"rotate(-90, 50.0, 150.0)\" x=\"50.0\" y=\"150.0\">N loci</text><text style=\"alignment-baseline:middle;baseline-shift:100%;font-size:14px;font-weight:bold;stroke:none;text-anchor:middle\" x=\"175.0\" y=\"50.0\">dataset9/sample=T_DRR021966</text></g></svg><div class=\"toyplot-controls\"><ul class=\"toyplot-mark-popup\" onmouseleave=\"this.style.visibility='hidden'\" style=\"background:rgba(0%,0%,0%,0.75);border:0;border-radius:6px;color:white;cursor:default;list-style:none;margin:0;padding:5px;position:fixed;visibility:hidden\"><li class=\"toyplot-mark-popup-title\" style=\"color:lightgray;cursor:default;padding:5px;list-style:none;margin:0;\"></li><li class=\"toyplot-mark-popup-save-csv\" onmouseout=\"this.style.color='white';this.style.background='steelblue'\" onmouseover=\"this.style.color='steelblue';this.style.background='white'\" style=\"border-radius:3px;padding:5px;list-style:none;margin:0;\">Save as .csv</li></ul><script>\n",
       "(function()\n",
       "{\n",
       "  if(window.CSS !== undefined && window.CSS.supports !== undefined)\n",
       "  {\n",
       "    if(!window.CSS.supports(\"alignment-baseline\", \"middle\"))\n",
       "    {\n",
       "      var re = /\\s*alignment-baseline\\s*:\\s*([^;\\s]*)\\s*/;\n",
       "      var text = document.querySelectorAll(\"#t382d4c24fae44dbeada08f732e68913a text\");\n",
       "      for(var i = 0; i != text.length; ++i)\n",
       "      {\n",
       "        var match = re.exec(text[i].attributes.style.value);\n",
       "        if(match)\n",
       "        {\n",
       "          if(match[1] == \"middle\")\n",
       "          {\n",
       "            var style = getComputedStyle(text[i]);\n",
       "            var font_size = style.fontSize.substr(0, style.fontSize.length - 2);\n",
       "            var dy = text[i].dy.baseVal.length ? text[i].dy.baseVal[0].value : 0;\n",
       "            dy += 0.4 * font_size;\n",
       "            text[i].setAttribute(\"dy\", dy);\n",
       "          }\n",
       "        }\n",
       "      }\n",
       "    }\n",
       "    if(!window.CSS.supports(\"baseline-shift\", \"0\"))\n",
       "    {\n",
       "      var re = /\\s*baseline-shift\\s*:\\s*([^;\\s]*)\\s*/;\n",
       "      var text = document.querySelectorAll(\"#t382d4c24fae44dbeada08f732e68913a text\");\n",
       "      for(var i = 0; i != text.length; ++i)\n",
       "      {\n",
       "        var match = re.exec(text[i].attributes.style.value);\n",
       "        if(match)\n",
       "        {\n",
       "          var style = getComputedStyle(text[i]);\n",
       "          var font_size = style.fontSize.substr(0, style.fontSize.length - 2);\n",
       "          var percent = 0.01 * match[1].substr(0, match[1].length-1);\n",
       "          var dy = text[i].dy.baseVal.length ? text[i].dy.baseVal[0].value : 0;\n",
       "          dy -= percent * font_size\n",
       "          text[i].setAttribute(\"dy\", dy);\n",
       "        }\n",
       "      }\n",
       "    }\n",
       "  }\n",
       "})();\n",
       "</script><script>\n",
       "(function()\n",
       "{\n",
       "  var data_tables = [{\"data\": [[0, 1, 2, 3, 4, 5, 6, 7, 8, 9, 10, 11, 12, 13, 14, 15, 16, 17, 18, 19, 20, 21, 22, 23, 24, 25, 26, 27, 28], [1, 2, 3, 4, 5, 6, 7, 8, 9, 10, 11, 12, 13, 14, 15, 16, 17, 18, 19, 20, 21, 22, 23, 24, 25, 26, 27, 28, 29], [0.0, 0.0, 0.0, 0.0, 0.0, 0.0, 0.0, 0.0, 0.0, 0.0, 0.0, 0.0, 0.0, 0.0, 0.0, 0.0, 0.0, 0.0, 0.0, 0.0, 0.0, 0.0, 0.0, 0.0, 0.0, 0.0, 0.0, 0.0, 0.0], [0.0, 1361.0, 889.0, 774.0, 754.0, 593.0, 590.0, 614.0, 590.0, 498.0, 478.0, 441.0, 464.0, 460.0, 433.0, 431.0, 453.0, 458.0, 431.0, 453.0, 487.0, 475.0, 489.0, 516.0, 499.0, 505.0, 563.0, 512.0, 1054.0]], \"title\": \"Bar Data\", \"names\": [\"left\", \"right\", \"baseline\", \"magnitude0\"], \"id\": \"t55f33aa7e50847d89482cd57d0d64169\", \"filename\": \"toyplot\"}, {\"data\": [[0, 1, 2, 3, 4, 5, 6, 7, 8, 9, 10, 11, 12, 13, 14, 15, 16, 17, 18, 19, 20, 21, 22, 23, 24, 25, 26, 27, 28], [1, 2, 3, 4, 5, 6, 7, 8, 9, 10, 11, 12, 13, 14, 15, 16, 17, 18, 19, 20, 21, 22, 23, 24, 25, 26, 27, 28, 29], [0.0, 0.0, 0.0, 0.0, 0.0, 0.0, 0.0, 0.0, 0.0, 0.0, 0.0, 0.0, 0.0, 0.0, 0.0, 0.0, 0.0, 0.0, 0.0, 0.0, 0.0, 0.0, 0.0, 0.0, 0.0, 0.0, 0.0, 0.0, 0.0], [0.0, 0.0, 0.0, 0.0, 0.0, 0.0, 590.0, 614.0, 590.0, 498.0, 478.0, 441.0, 464.0, 460.0, 433.0, 431.0, 453.0, 458.0, 431.0, 453.0, 487.0, 475.0, 489.0, 516.0, 499.0, 505.0, 563.0, 512.0, 1054.0]], \"title\": \"Bar Data\", \"names\": [\"left\", \"right\", \"baseline\", \"magnitude0\"], \"id\": \"t00a50549ed9342edaf7a9d37bd3aa92e\", \"filename\": \"toyplot\"}];\n",
       "\n",
       "  function save_csv(data_table)\n",
       "  {\n",
       "    var uri = \"data:text/csv;charset=utf-8,\";\n",
       "    uri += data_table.names.join(\",\") + \"\\n\";\n",
       "    for(var i = 0; i != data_table.data[0].length; ++i)\n",
       "    {\n",
       "      for(var j = 0; j != data_table.data.length; ++j)\n",
       "      {\n",
       "        if(j)\n",
       "          uri += \",\";\n",
       "        uri += data_table.data[j][i];\n",
       "      }\n",
       "      uri += \"\\n\";\n",
       "    }\n",
       "    uri = encodeURI(uri);\n",
       "\n",
       "    var link = document.createElement(\"a\");\n",
       "    if(typeof link.download != \"undefined\")\n",
       "    {\n",
       "      link.href = uri;\n",
       "      link.style = \"visibility:hidden\";\n",
       "      link.download = data_table.filename + \".csv\";\n",
       "\n",
       "      document.body.appendChild(link);\n",
       "      link.click();\n",
       "      document.body.removeChild(link);\n",
       "    }\n",
       "    else\n",
       "    {\n",
       "      window.open(uri);\n",
       "    }\n",
       "  }\n",
       "\n",
       "  function open_popup(data_table)\n",
       "  {\n",
       "    return function(e)\n",
       "    {\n",
       "      var popup = document.querySelector(\"#t382d4c24fae44dbeada08f732e68913a .toyplot-mark-popup\");\n",
       "      popup.querySelector(\".toyplot-mark-popup-title\").innerHTML = data_table.title;\n",
       "      popup.querySelector(\".toyplot-mark-popup-save-csv\").onclick = function() { popup.style.visibility = \"hidden\"; save_csv(data_table); }\n",
       "      popup.style.left = (e.clientX - 50) + \"px\";\n",
       "      popup.style.top = (e.clientY - 20) + \"px\";\n",
       "      popup.style.visibility = \"visible\";\n",
       "      e.stopPropagation();\n",
       "      e.preventDefault();\n",
       "    }\n",
       "\n",
       "  }\n",
       "\n",
       "  for(var i = 0; i != data_tables.length; ++i)\n",
       "  {\n",
       "    var data_table = data_tables[i];\n",
       "    var event_target = document.querySelector(\"#\" + data_table.id);\n",
       "    event_target.oncontextmenu = open_popup(data_table);\n",
       "  }\n",
       "})();\n",
       "</script><script>\n",
       "(function()\n",
       "{\n",
       "  var axes = {\"t9bdb5009d98142b7b42c6fd3adbbd86e\": {\"x\": [{\"domain\": {\"bounds\": {\"max\": Infinity, \"min\": -Infinity}, \"max\": 30.0, \"min\": 0}, \"range\": {\"bounds\": {\"max\": Infinity, \"min\": -Infinity}, \"max\": 290.0, \"min\": 60.0}, \"scale\": \"linear\"}], \"y\": [{\"domain\": {\"bounds\": {\"max\": Infinity, \"min\": -Infinity}, \"max\": 1500.0, \"min\": 0.0}, \"range\": {\"bounds\": {\"max\": -Infinity, \"min\": Infinity}, \"max\": 60.0, \"min\": 240.0}, \"scale\": \"linear\"}]}};\n",
       "\n",
       "  function sign(x)\n",
       "  {\n",
       "    return x < 0 ? -1 : x > 0 ? 1 : 0;\n",
       "  }\n",
       "\n",
       "  function _mix(a, b, amount)\n",
       "  {\n",
       "    return ((1.0 - amount) * a) + (amount * b);\n",
       "  }\n",
       "\n",
       "  function _log(x, base)\n",
       "  {\n",
       "    return Math.log(Math.abs(x)) / Math.log(base);\n",
       "  }\n",
       "\n",
       "  function _in_range(a, x, b)\n",
       "  {\n",
       "    var left = Math.min(a, b);\n",
       "    var right = Math.max(a, b);\n",
       "    return left <= x && x <= right;\n",
       "  }\n",
       "\n",
       "  function to_domain(projection, range)\n",
       "  {\n",
       "    for(var i = 0; i != projection.length; ++i)\n",
       "    {\n",
       "      var segment = projection[i];\n",
       "      if(_in_range(segment.range.bounds.min, range, segment.range.bounds.max))\n",
       "      {\n",
       "        if(segment.scale == \"linear\")\n",
       "        {\n",
       "          var amount = (range - segment.range.min) / (segment.range.max - segment.range.min);\n",
       "          return _mix(segment.domain.min, segment.domain.max, amount)\n",
       "        }\n",
       "        else if(segment.scale[0] == \"log\")\n",
       "        {\n",
       "          var amount = (range - segment.range.min) / (segment.range.max - segment.range.min);\n",
       "          var base = segment.scale[1];\n",
       "          return sign(segment.domain.min) * Math.pow(base, _mix(_log(segment.domain.min, base), _log(segment.domain.max, base), amount));\n",
       "        }\n",
       "      }\n",
       "    }\n",
       "  }\n",
       "\n",
       "  // Compute mouse coordinates relative to a DOM object, with thanks to d3js.org, where this code originated.\n",
       "  function d3_mousePoint(container, e)\n",
       "  {\n",
       "    if (e.changedTouches) e = e.changedTouches[0];\n",
       "    var svg = container.ownerSVGElement || container;\n",
       "    if (svg.createSVGPoint) {\n",
       "      var point = svg.createSVGPoint();\n",
       "      point.x = e.clientX, point.y = e.clientY;\n",
       "      point = point.matrixTransform(container.getScreenCTM().inverse());\n",
       "      return [point.x, point.y];\n",
       "    }\n",
       "    var rect = container.getBoundingClientRect();\n",
       "    return [e.clientX - rect.left - container.clientLeft, e.clientY - rect.top - container.clientTop];\n",
       "  };\n",
       "\n",
       "  function display_coordinates(e)\n",
       "  {\n",
       "    var dom_axes = e.currentTarget.parentElement;\n",
       "    var data = axes[dom_axes.id];\n",
       "\n",
       "    point = d3_mousePoint(e.target, e);\n",
       "    var x = Number(to_domain(data[\"x\"], point[0])).toFixed(2);\n",
       "    var y = Number(to_domain(data[\"y\"], point[1])).toFixed(2);\n",
       "\n",
       "    var coordinates = dom_axes.querySelectorAll(\".toyplot-coordinates\");\n",
       "    for(var i = 0; i != coordinates.length; ++i)\n",
       "    {\n",
       "      coordinates[i].style.visibility = \"visible\";\n",
       "      coordinates[i].querySelector(\"text\").textContent = \"x=\" + x + \" y=\" + y;\n",
       "    }\n",
       "  }\n",
       "\n",
       "  function clear_coordinates(e)\n",
       "  {\n",
       "    var dom_axes = e.currentTarget.parentElement;\n",
       "    var coordinates = dom_axes.querySelectorAll(\".toyplot-coordinates\");\n",
       "    for(var i = 0; i != coordinates.length; ++i)\n",
       "      coordinates[i].style.visibility = \"hidden\";\n",
       "  }\n",
       "\n",
       "  for(var axes_id in axes)\n",
       "  {\n",
       "    var event_target = document.querySelector(\"#\" + axes_id + \" .toyplot-coordinate-events\");\n",
       "    event_target.onmousemove = display_coordinates;\n",
       "    event_target.onmouseout = clear_coordinates;\n",
       "  }\n",
       "})();\n",
       "</script></div></div>"
      ],
      "text/plain": [
       "<toyplot.canvas.Canvas at 0x7f91f2138050>"
      ]
     },
     "metadata": {},
     "output_type": "display_data"
    }
   ],
   "source": [
    "import toyplot\n",
    "import toyplot.svg\n",
    "import numpy as np\n",
    "\n",
    "## read in the depth information for this sample\n",
    "with open(\"empirical_9/clust.85/T_DRR021966.depths\", 'rb') as indat:\n",
    "    depths = np.array(indat.read().strip().split(\",\"), dtype=int)\n",
    "    \n",
    "## make a barplot in Toyplot\n",
    "canvas = toyplot.Canvas(width=350, height=300)\n",
    "axes = canvas.axes(xlabel=\"Depth of coverage (N reads)\", \n",
    "                   ylabel=\"N loci\", \n",
    "                   label=\"dataset9/sample=T_DRR021966\")\n",
    "\n",
    "## select the loci with depth > 5 (kept)\n",
    "keeps = depths[depths>5]\n",
    "\n",
    "## plot kept and discarded loci\n",
    "edat = np.histogram(depths, range(30)) # density=True)\n",
    "kdat = np.histogram(keeps, range(30)) #, density=True)\n",
    "axes.bars(edat)\n",
    "axes.bars(kdat)\n",
    "\n",
    "#toyplot.svg.render(canvas, \"empirical_9_depthplot.svg\")"
   ]
  },
  {
   "cell_type": "markdown",
   "metadata": {},
   "source": [
    "### Print final stats table"
   ]
  },
  {
   "cell_type": "code",
   "execution_count": 26,
   "metadata": {
    "collapsed": false,
    "scrolled": false
   },
   "outputs": [
    {
     "name": "stdout",
     "output_type": "stream",
     "text": [
      "\r\n",
      "\r\n",
      "76963       ## loci with > minsp containing data\r\n",
      "76778       ## loci with > minsp containing data & paralogs removed\r\n",
      "76778       ## loci with > minsp containing data & paralogs removed & final filtering\r\n",
      "\r\n",
      "## number of loci recovered in final data set for each taxon.\r\n",
      "taxon\tnloci\r\n",
      "T_DRR021959\t40272\r\n",
      "T_DRR021960\t39500\r\n",
      "T_DRR021961\t29626\r\n",
      "T_DRR021962\t38304\r\n",
      "T_DRR021963\t40251\r\n",
      "T_DRR021964\t40440\r\n",
      "T_DRR021965\t37187\r\n",
      "T_DRR021966\t41059\r\n",
      "T_DRR021967\t38884\r\n",
      "T_DRR021968\t42626\r\n",
      "T_DRR021969\t43490\r\n",
      "T_DRR021970\t43303\r\n",
      "T_DRR021971\t5249\r\n",
      "T_DRR021972\t46589\r\n",
      "T_DRR021973\t29939\r\n",
      "T_DRR021974\t47628\r\n",
      "T_DRR021975\t46705\r\n",
      "T_DRR021976\t47963\r\n",
      "T_DRR021977\t47881\r\n",
      "T_DRR021978\t46731\r\n",
      "T_DRR021979\t46386\r\n",
      "T_DRR021980\t41322\r\n",
      "T_DRR021981\t8509\r\n",
      "T_DRR021982\t48193\r\n",
      "T_DRR021983\t47548\r\n",
      "T_DRR021984\t47715\r\n",
      "T_DRR021985\t27186\r\n",
      "T_DRR021986\t36910\r\n",
      "T_DRR021987\t6636\r\n",
      "T_DRR021988\t14945\r\n",
      "T_DRR021989\t6640\r\n",
      "T_DRR021990\t7699\r\n",
      "\r\n",
      "\r\n",
      "## nloci = number of loci with data for exactly ntaxa\r\n",
      "## ntotal = number of loci for which at least ntaxa have data\r\n",
      "ntaxa\tnloci\tsaved\tntotal\r\n",
      "1\t-\r\n",
      "2\t-\t\t-\r\n",
      "3\t-\t\t-\r\n",
      "4\t8714\t*\t76778\r\n",
      "5\t5780\t*\t68064\r\n",
      "6\t4454\t*\t62284\r\n",
      "7\t3488\t*\t57830\r\n",
      "8\t3019\t*\t54342\r\n",
      "9\t2568\t*\t51323\r\n",
      "10\t2381\t*\t48755\r\n",
      "11\t2254\t*\t46374\r\n",
      "12\t2153\t*\t44120\r\n",
      "13\t2052\t*\t41967\r\n",
      "14\t1941\t*\t39915\r\n",
      "15\t1933\t*\t37974\r\n",
      "16\t1927\t*\t36041\r\n",
      "17\t1955\t*\t34114\r\n",
      "18\t2016\t*\t32159\r\n",
      "19\t2150\t*\t30143\r\n",
      "20\t2367\t*\t27993\r\n",
      "21\t2645\t*\t25626\r\n",
      "22\t3061\t*\t22981\r\n",
      "23\t3563\t*\t19920\r\n",
      "24\t3957\t*\t16357\r\n",
      "25\t4030\t*\t12400\r\n",
      "26\t3789\t*\t8370\r\n",
      "27\t2673\t*\t4581\r\n",
      "28\t1357\t*\t1908\r\n",
      "29\t450\t*\t551\r\n",
      "30\t91\t*\t101\r\n",
      "31\t9\t*\t10\r\n",
      "32\t1\t*\t1\r\n",
      "\r\n",
      "\r\n",
      "## nvar = number of loci containing n variable sites (pis+autapomorphies).\r\n",
      "## sumvar = sum of variable sites (SNPs).\r\n",
      "## pis = number of loci containing n parsimony informative sites.\r\n",
      "## sumpis = sum of parsimony informative sites.\r\n",
      "\tnvar\tsumvar\tPIS\tsumPIS\r\n",
      "0\t967\t0\t8521\t0\r\n",
      "1\t1685\t1685\t8479\t8479\r\n",
      "2\t2050\t5785\t8315\t25109\r\n",
      "3\t2519\t13342\t7439\t47426\r\n",
      "4\t2935\t25082\t7082\t75754\r\n",
      "5\t3112\t40642\t6307\t107289\r\n",
      "6\t3429\t61216\t5747\t141771\r\n",
      "7\t3555\t86101\t5016\t176883\r\n",
      "8\t3723\t115885\t4372\t211859\r\n",
      "9\t3846\t150499\t3823\t246266\r\n",
      "10\t3664\t187139\t3017\t276436\r\n",
      "11\t3684\t227663\t2471\t303617\r\n",
      "12\t3663\t271619\t1940\t326897\r\n",
      "13\t3536\t317587\t1360\t344577\r\n",
      "14\t3428\t365579\t1016\t358801\r\n",
      "15\t3317\t415334\t705\t369376\r\n",
      "16\t3081\t464630\t466\t376832\r\n",
      "17\t2976\t515222\t287\t381711\r\n",
      "18\t2775\t565172\t175\t384861\r\n",
      "19\t2600\t614572\t95\t386666\r\n",
      "20\t2356\t661692\t62\t387906\r\n",
      "21\t2165\t707157\t36\t388662\r\n",
      "22\t1888\t748693\t21\t389124\r\n",
      "23\t1679\t787310\t13\t389423\r\n",
      "24\t1444\t821966\t7\t389591\r\n",
      "25\t1289\t854191\t3\t389666\r\n",
      "26\t1099\t882765\t0\t389666\r\n",
      "27\t890\t906795\t1\t389693\r\n",
      "28\t763\t928159\t1\t389721\r\n",
      "29\t609\t945820\t1\t389750\r\n",
      "30\t511\t961150\t0\t389750\r\n",
      "31\t370\t972620\t0\t389750\r\n",
      "32\t293\t981996\t0\t389750\r\n",
      "33\t272\t990972\t0\t389750\r\n",
      "34\t186\t997296\t0\t389750\r\n",
      "35\t132\t1001916\t0\t389750\r\n",
      "36\t98\t1005444\t0\t389750\r\n",
      "37\t49\t1007257\t0\t389750\r\n",
      "38\t55\t1009347\t0\t389750\r\n",
      "39\t31\t1010556\t0\t389750\r\n",
      "40\t19\t1011316\t0\t389750\r\n",
      "41\t18\t1012054\t0\t389750\r\n",
      "42\t7\t1012348\t0\t389750\r\n",
      "43\t6\t1012606\t0\t389750\r\n",
      "44\t1\t1012650\t0\t389750\r\n",
      "45\t1\t1012695\t0\t389750\r\n",
      "46\t1\t1012741\t0\t389750\r\n",
      "47\t0\t1012741\t0\t389750\r\n",
      "48\t0\t1012741\t0\t389750\r\n",
      "49\t0\t1012741\t0\t389750\r\n",
      "50\t0\t1012741\t0\t389750\r\n",
      "51\t0\t1012741\t0\t389750\r\n",
      "52\t1\t1012793\t0\t389750\r\n",
      "total var= 1012793\r\n",
      "total pis= 389750\r\n",
      "sampled unlinked SNPs= 75811\r\n",
      "sampled unlinked bi-allelic SNPs= 73051\r\n"
     ]
    }
   ],
   "source": [
    "cat empirical_9/stats/empirical_9_m4.stats\n"
   ]
  },
  {
   "cell_type": "code",
   "execution_count": 9,
   "metadata": {
    "collapsed": false
   },
   "outputs": [
    {
     "name": "stdout",
     "output_type": "stream",
     "text": [
      "\n",
      "\n",
      "119626      ## loci with > minsp containing data\n",
      "119441      ## loci with > minsp containing data & paralogs removed\n",
      "119441      ## loci with > minsp containing data & paralogs removed & final filtering\n",
      "\n",
      "## number of loci recovered in final data set for each taxon.\n",
      "taxon\tnloci\n",
      "T_DRR021959\t45933\n",
      "T_DRR021960\t45128\n",
      "T_DRR021961\t33226\n",
      "T_DRR021962\t41997\n",
      "T_DRR021963\t45401\n",
      "T_DRR021964\t45882\n",
      "T_DRR021965\t40633\n",
      "T_DRR021966\t46239\n",
      "T_DRR021967\t43330\n",
      "T_DRR021968\t47995\n",
      "T_DRR021969\t47919\n",
      "T_DRR021970\t47490\n"
     ]
    }
   ],
   "source": [
    "%%bash\n",
    "head -n 20 empirical_9/stats/empirical_9_m2.stats"
   ]
  },
  {
   "cell_type": "markdown",
   "metadata": {},
   "source": [
    "## Infer ML phylogeny in _raxml_ as an unrooted tree"
   ]
  },
  {
   "cell_type": "code",
   "execution_count": null,
   "metadata": {
    "collapsed": true
   },
   "outputs": [],
   "source": [
    "%%bash\n",
    "## raxml argumement w/ ...\n",
    "raxmlHPC-PTHREADS-AVX -f a -m GTRGAMMA -N 100 -x 12345 -p 12345 -T 20 \\\n",
    "                      -w /home/deren/Documents/RADmissing/empirical_9/ \\\n",
    "                      -n empirical_9_m4 -s empirical_9/outfiles/empirical_9_m4.phy\n",
    "                      "
   ]
  },
  {
   "cell_type": "code",
   "execution_count": null,
   "metadata": {
    "collapsed": true
   },
   "outputs": [],
   "source": [
    "%%bash\n",
    "## raxml argumement w/ ...\n",
    "raxmlHPC-PTHREADS-AVX -f a -m GTRGAMMA -N 100 -x 12345 -p 12345 -T 20 \\\n",
    "                      -w /home/deren/Documents/RADmissing/empirical_9/ \\\n",
    "                      -n empirical_9_m2 -s empirical_9/outfiles/empirical_9_m2.phy\n",
    "                      "
   ]
  },
  {
   "cell_type": "code",
   "execution_count": 28,
   "metadata": {
    "collapsed": false
   },
   "outputs": [
    {
     "name": "stdout",
     "output_type": "stream",
     "text": [
      "\n",
      "\n",
      "This is RAxML version 8.0.16 released by Alexandros Stamatakis on March 21 2014.\n",
      "\n",
      "With greatly appreciated code contributions by:\n",
      "Andre Aberer      (HITS)\n",
      "Simon Berger      (HITS)\n",
      "Alexey Kozlov     (HITS)\n",
      "Nick Pattengale   (Sandia)\n",
      "Wayne Pfeiffer    (SDSC)\n",
      "Akifumi S. Tanabe (NRIFS)\n",
      "David Dao         (KIT)\n",
      "Charlie Taylor    (UF)\n",
      "\n",
      "\n",
      "Alignment has 818110 distinct alignment patterns\n",
      "\n",
      "Proportion of gaps and completely undetermined characters in this alignment: 54.64%\n",
      "\n",
      "RAxML rapid bootstrapping and subsequent ML search\n"
     ]
    }
   ],
   "source": [
    "%%bash \n",
    "head -n 20 empirical_9/RAxML_info.empirical_9_m4"
   ]
  },
  {
   "cell_type": "code",
   "execution_count": null,
   "metadata": {
    "collapsed": true
   },
   "outputs": [],
   "source": [
    "%%bash \n",
    "head -n 20 empirical_9/RAxML_info.empirical_9_m2"
   ]
  },
  {
   "cell_type": "markdown",
   "metadata": {},
   "source": [
    "### Plot the tree in R using `ape`\n"
   ]
  },
  {
   "cell_type": "code",
   "execution_count": 10,
   "metadata": {
    "collapsed": true
   },
   "outputs": [],
   "source": [
    "%load_ext rpy2.ipython"
   ]
  },
  {
   "cell_type": "code",
   "execution_count": 12,
   "metadata": {
    "collapsed": false
   },
   "outputs": [
    {
     "data": {
      "image/png": "[encoded data removed]"
     },
     "metadata": {},
     "output_type": "display_data"
    }
   ],
   "source": [
    "%%R -h 800 -w 800\n",
    "library(ape)\n",
    "tre <- read.tree(\"empirical_9/RAxML_bipartitions.empirical_9\")\n",
    "ltre <- ladderize(tre)\n",
    "\n",
    "par(mfrow=c(1,2))\n",
    "plot(ltre, use.edge.length=F)\n",
    "nodelabels(ltre$node.label)\n",
    "\n",
    "plot(ltre, type='u')"
   ]
  },
  {
   "cell_type": "markdown",
   "metadata": {},
   "source": [
    "### Get phylo distances (GTRgamma dist)"
   ]
  },
  {
   "cell_type": "code",
   "execution_count": 13,
   "metadata": {
    "collapsed": false
   },
   "outputs": [
    {
     "data": {
      "text/plain": [
       "[1] 0.04027079\n"
      ]
     },
     "metadata": {},
     "output_type": "display_data"
    }
   ],
   "source": [
    "%%R\n",
    "mean(cophenetic.phylo(ltre))"
   ]
  }
 ],
 "metadata": {
  "kernelspec": {
   "display_name": "Python 2",
   "language": "python",
   "name": "python2"
  },
  "language_info": {
   "codemirror_mode": {
    "name": "ipython",
    "version": 2
   },
   "file_extension": ".py",
   "mimetype": "text/x-python",
   "name": "python",
   "nbconvert_exporter": "python",
   "pygments_lexer": "ipython2",
   "version": "2.7.12"
  }
 },
 "nbformat": 4,
 "nbformat_minor": 0
}
