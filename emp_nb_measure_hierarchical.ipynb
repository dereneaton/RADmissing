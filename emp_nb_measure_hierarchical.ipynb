{
 "cells": [
  {
   "cell_type": "code",
   "execution_count": 6,
   "metadata": {
    "collapsed": true
   },
   "outputs": [],
   "source": [
    "import numpy as np\n",
    "import ete3 as ete"
   ]
  },
  {
   "cell_type": "code",
   "execution_count": 146,
   "metadata": {
    "collapsed": true
   },
   "outputs": [],
   "source": [
    "%load_ext rpy2.ipython"
   ]
  },
  {
   "cell_type": "code",
   "execution_count": 1,
   "metadata": {
    "collapsed": true
   },
   "outputs": [],
   "source": [
    "def getarray(locifile, tree, split1=0, split2=0):\n",
    "    \"\"\" parse the loci list and return a presence/absence matrix ordered by \n",
    "        the tips on the tree\"\"\"\n",
    "    ## parse the loci file\n",
    "    loci = open(locifile).read().split(\"\\n//\")[:-1]\n",
    "    ## order (ladderize) the tree\n",
    "    tree.ladderize()\n",
    "    \n",
    "    ## get tip names\n",
    "    names = tree.get_leaf_names()\n",
    "    if split1:\n",
    "        snames = [i.split(\"_\", 1)[0] for i in names]\n",
    "    else:\n",
    "        snames = names\n",
    "    \n",
    "    ## make empty matrix\n",
    "    lxs = np.zeros((len(snames), len(loci)))\n",
    "    \n",
    "    ## fill the matrix\n",
    "    for loc in xrange(len(loci)):\n",
    "        for seq in loci[loc].split(\"\\n\"):\n",
    "            if \">\" in seq:\n",
    "                if split2:\n",
    "                    lxs[snames.index(seq.split()[0][1:].rsplit(\"_\", 1)[0]), loc] += 1\n",
    "                else:\n",
    "                    lxs[snames.index(seq.split()[0][1:]), loc] += 1\n",
    "\n",
    "    return lxs"
   ]
  },
  {
   "cell_type": "code",
   "execution_count": 2,
   "metadata": {
    "collapsed": true
   },
   "outputs": [],
   "source": [
    "def countmatrix(lxsabove, lxsbelow, max=0):\n",
    "    \"\"\" fill a matrix with pairwise data sharing\n",
    "        between each pair of samples. You could put\n",
    "        in two different 'share' matrices to have\n",
    "        different results above and below the diagonal.\n",
    "        Can enter a max value to limit fill along diagonal.\n",
    "        \"\"\"\n",
    "    share = np.zeros((lxsabove.shape[0], \n",
    "                      lxsbelow.shape[0]))\n",
    "    ## fill above\n",
    "    names = range(lxsabove.shape[0])\n",
    "    for row in lxsabove:\n",
    "        for samp1,samp2 in itertools.combinations(names,2):\n",
    "            shared = lxsabove[samp1, lxsabove[samp2,]>0].sum()\n",
    "            share[samp1,samp2] = shared\n",
    "    ## fill below\n",
    "    for row in lxsbelow:\n",
    "        for samp2,samp1 in itertools.combinations(names,2):\n",
    "            shared = lxsabove[samp1, lxsabove[samp2,]>0].sum()\n",
    "            share[samp1,samp2] = shared\n",
    "    ## fill diagonal\n",
    "    if not max:\n",
    "        for row in range(len(names)):\n",
    "            share[row,row] = lxsabove[row,].sum()\n",
    "    else:\n",
    "        for row in range(len(names)):\n",
    "            share[row,row] = max\n",
    "    return share"
   ]
  },
  {
   "cell_type": "code",
   "execution_count": 3,
   "metadata": {
    "collapsed": true
   },
   "outputs": [],
   "source": [
    "def count_inf4(tree, matrix, node):\n",
    "    \"\"\" count the number of loci with data spanning \n",
    "    a given node in the tree \"\"\"\n",
    "    \n",
    "    ## get children of selected node\n",
    "    a, b = node.get_children()\n",
    "    \n",
    "    ## get tip descendents of a and b\n",
    "    tips_a = set(a.get_leaf_names())\n",
    "    tips_b = set(b.get_leaf_names())\n",
    "    \n",
    "    ## get every other tip (outgroups)\n",
    "    upone = node.up\n",
    "    if upone.is_root():\n",
    "        ch = upone.children\n",
    "        sis = [i for i in ch if i != node][0]\n",
    "        if sis.children:\n",
    "            tips_c = sis.children[0].get_leaf_names()\n",
    "            tips_d = sis.children[1].get_leaf_names()\n",
    "        else:\n",
    "            return 0\n",
    "    else:\n",
    "        upone = set(node.up.get_leaf_names())\n",
    "        tips_c = upone - tips_a - tips_b\n",
    "        tips_all = set(tree.get_leaf_names())\n",
    "        tips_d = tips_all - tips_a - tips_b - tips_c\n",
    "    \n",
    "    ## get indices in matrix for leaf tips\n",
    "    names = tree.get_leaf_names()\n",
    "    index_a = [names.index(i) for i in tips_a]\n",
    "    index_b = [names.index(i) for i in tips_b]\n",
    "    index_c = [names.index(i) for i in tips_c]\n",
    "    index_d = [names.index(i) for i in tips_d]\n",
    "   \n",
    "    ## how man loci are \"informative\"\n",
    "    inf = 0\n",
    "    for col in matrix.T:\n",
    "        hits_a = sum([col[i] for i in index_a])\n",
    "        hits_b = sum([col[i] for i in index_b])\n",
    "        hits_c = sum([col[i] for i in index_c])\n",
    "        hits_d = sum([col[i] for i in index_d])\n",
    "\n",
    "        if all([hits_a, hits_b, hits_c, hits_d]):\n",
    "                inf += 1 \n",
    "    return inf    "
   ]
  },
  {
   "cell_type": "code",
   "execution_count": null,
   "metadata": {
    "collapsed": true
   },
   "outputs": [],
   "source": [
    "def count_hier(tree, node):\n",
    "    ## get children of selected node\n",
    "    a, b = node.get_children()\n",
    "    \n",
    "    ## get tip descendents of a and b\n",
    "    tips_a = set(a.get_leaf_names())\n",
    "    tips_b = set(b.get_leaf_names())\n",
    "    \n",
    "    ## get every other tip (outgroups)\n",
    "    upone = node.up\n",
    "    if upone.is_root():\n",
    "        ch = upone.children\n",
    "        sis = [i for i in ch if i != node][0]\n",
    "        if sis.children:\n",
    "            tips_c = sis.children[0].get_leaf_names()\n",
    "            tips_d = sis.children[1].get_leaf_names()\n",
    "        else:\n",
    "            return 0\n",
    "    else:\n",
    "        upone = set(node.up.get_leaf_names())\n",
    "        tips_c = upone - tips_a - tips_b\n",
    "        tips_all = set(tree.get_leaf_names())\n",
    "        tips_d = tips_all - tips_a - tips_b - tips_c\n",
    "    \n",
    "    ## get indices in matrix for leaf tips\n",
    "    names = tree.get_leaf_names()\n",
    "    index_a = [names.index(i) for i in tips_a]\n",
    "    index_b = [names.index(i) for i in tips_b]\n",
    "    index_c = [names.index(i) for i in tips_c]\n",
    "    index_d = [names.index(i) for i in tips_d]\n",
    "   \n",
    "    ## avg. tips per quartet edge\n",
    "    meanhier = np.median([len(i) for i in [index_a, index_b, index_c, index_d]])\n",
    "    minhier = min([len(i) for i in [index_a, index_b, index_c, index_d]])\n",
    "    \n",
    "    return medianhier, minhier"
   ]
  },
  {
   "cell_type": "code",
   "execution_count": 167,
   "metadata": {
    "collapsed": true
   },
   "outputs": [],
   "source": [
    "def count_nest(tree, node):\n",
    "    ## get children of selected node\n",
    "    leaves_down = tree.get_leaf_names()\n",
    "    ## get all other tips\n",
    "    leaves_up = list(set(tree.get_leaf_names()) - set(leaves_down))\n",
    "\n",
    "    ## get distances to leaves below (+1 because we aren't counting closest node)\n",
    "    n1 = [node.get_distance(tree.get_leaves_by_name(name)[0], topology_only=True)+1 for name in leaves_down]\n",
    "    n2 = [node.get_distance(tree.get_leaves_by_name(name)[0], topology_only=True) for name in leaves_up]\n",
    "   \n",
    "    return np.mean(n1+n2), np.min(n1+n2)"
   ]
  },
  {
   "cell_type": "markdown",
   "metadata": {},
   "source": [
    "### Calculation"
   ]
  },
  {
   "cell_type": "code",
   "execution_count": 182,
   "metadata": {
    "collapsed": false
   },
   "outputs": [
    {
     "data": {
      "text/plain": [
       "array([[ 0.,  1.,  0., ...,  0.,  0.,  0.],\n",
       "       [ 0.,  0.,  0., ...,  0.,  0.,  1.],\n",
       "       [ 0.,  0.,  0., ...,  0.,  0.,  0.],\n",
       "       ..., \n",
       "       [ 0.,  1.,  1., ...,  0.,  0.,  0.],\n",
       "       [ 0.,  1.,  0., ...,  1.,  0.,  0.],\n",
       "       [ 0.,  0.,  0., ...,  0.,  0.,  0.]])"
      ]
     },
     "execution_count": 182,
     "metadata": {},
     "output_type": "execute_result"
    }
   ],
   "source": [
    "## Viburnum\n",
    "loci_vib = \"empirical_1/fullrun/outfiles/empirical_1_full_m4.loci\"\n",
    "tree_vib = ete.Tree(\"empirical_1/fullrun/RAxML_bestTree.empirical_1_fullrun\")\n",
    "lxs_vib = getarray(loci_vib, tree_vib)\n",
    "lxs_vib"
   ]
  },
  {
   "cell_type": "code",
   "execution_count": 38,
   "metadata": {
    "collapsed": false
   },
   "outputs": [
    {
     "data": {
      "text/plain": [
       "array([[ 1.,  1.,  0., ...,  1.,  1.,  0.],\n",
       "       [ 0.,  0.,  1., ...,  1.,  1.,  1.],\n",
       "       [ 1.,  1.,  1., ...,  1.,  1.,  1.],\n",
       "       ..., \n",
       "       [ 1.,  0.,  0., ...,  1.,  1.,  1.],\n",
       "       [ 1.,  1.,  1., ...,  0.,  1.,  1.],\n",
       "       [ 1.,  0.,  1., ...,  1.,  1.,  1.]])"
      ]
     },
     "execution_count": 38,
     "metadata": {},
     "output_type": "execute_result"
    }
   ],
   "source": [
    "## Quercus\n",
    "loci_que = \"empirical_3/outfiles/empirical_3_m4.loci\"\n",
    "tree_que = ete.Tree(\"empirical_3/RAxML_bestTree.empirical_3\")\n",
    "lxs_que = getarray(loci_que, tree_que)\n",
    "lxs_que"
   ]
  },
  {
   "cell_type": "code",
   "execution_count": 180,
   "metadata": {
    "collapsed": false
   },
   "outputs": [
    {
     "data": {
      "text/plain": [
       "array([[ 0.,  0.,  1., ...,  1.,  1.,  0.],\n",
       "       [ 1.,  0.,  1., ...,  1.,  1.,  0.],\n",
       "       [ 0.,  0.,  0., ...,  0.,  0.,  0.],\n",
       "       ..., \n",
       "       [ 0.,  0.,  0., ...,  0.,  1.,  1.],\n",
       "       [ 0.,  0.,  0., ...,  0.,  1.,  0.],\n",
       "       [ 0.,  0.,  0., ...,  0.,  1.,  0.]])"
      ]
     },
     "execution_count": 180,
     "metadata": {},
     "output_type": "execute_result"
    }
   ],
   "source": [
    "## Orestias\n",
    "loci_ore = \"empirical_4/outfiles/empirical_4.loci\"\n",
    "tree_ore = ete.Tree(\"empirical_4/RAxML_bestTree.empirical_4\")\n",
    "lxs_ore = getarray(loci_ore, tree_ore)\n",
    "lxs_ore"
   ]
  },
  {
   "cell_type": "code",
   "execution_count": 183,
   "metadata": {
    "collapsed": false,
    "scrolled": true
   },
   "outputs": [],
   "source": [
    "def get_data(tree, lxs):\n",
    "    data = []\n",
    "    for node in tree.traverse():\n",
    "        if not (node.is_leaf() or node.is_root() or node.up.is_root()):\n",
    "            ## get number of quartet loci at this split\n",
    "            a = count_inf4(tree, lxs, node)\n",
    "            ## get closest leaf at this split\n",
    "            bmean, bmin = count_nest(tree, node)\n",
    "            ## get hierarch. (min N descendants) at split\n",
    "            cmedian, cmin = count_hier(tree, node)\n",
    "            ## save\n",
    "            data.append([a, bmean, bmin, cmedian, cmin])\n",
    "            #print \"{:<6} {:<.3f} {:<.1f} {:<.3f} {:<.1f}\".format(a, bmean, bmin, cmedian, cmin)\n",
    "    data = np.array(data)\n",
    "    return data"
   ]
  },
  {
   "cell_type": "code",
   "execution_count": 195,
   "metadata": {
    "collapsed": true
   },
   "outputs": [],
   "source": [
    "## get Vib data\n",
    "data_vib = get_data(tree_vib, lxs_vib)\n",
    "\n",
    "## get Quercus data\n",
    "data_que = get_data(tree_que, lxs_que)\n",
    "\n",
    "## get Orestias data\n",
    "data_ore = get_data(tree_ore, lxs_ore)\n"
   ]
  },
  {
   "cell_type": "code",
   "execution_count": 196,
   "metadata": {
    "collapsed": false
   },
   "outputs": [],
   "source": [
    "dat = np.array(data)\n",
    "%R -i data_vib\n",
    "%R -i data_que\n",
    "%R -i data_ore"
   ]
  },
  {
   "cell_type": "code",
   "execution_count": 216,
   "metadata": {
    "collapsed": false
   },
   "outputs": [
    {
     "data": {
      "text/plain": [
       "\n",
       "\tSpearman's rank correlation rho\n",
       "\n",
       "data:  data_vib[, 5] and data_vib[, 1]\n",
       "S = 14952, p-value = 6.206e-08\n",
       "alternative hypothesis: true rho is not equal to 0\n",
       "sample estimates:\n",
       "      rho \n",
       "0.6234835 \n",
       "\n",
       "\n",
       "\tSpearman's rank correlation rho\n",
       "\n",
       "data:  data_que[, 5] and data_que[, 1]\n",
       "S = 1573.7, p-value = 4.976e-06\n",
       "alternative hypothesis: true rho is not equal to 0\n",
       "sample estimates:\n",
       "     rho \n",
       "0.711559 \n",
       "\n",
       "\n",
       "\tSpearman's rank correlation rho\n",
       "\n",
       "data:  data_ore[, 5] and data_ore[, 1]\n",
       "S = 5324.3, p-value < 2.2e-16\n",
       "alternative hypothesis: true rho is not equal to 0\n",
       "sample estimates:\n",
       "      rho \n",
       "0.8520608 \n",
       "\n"
      ]
     },
     "metadata": {},
     "output_type": "display_data"
    },
    {
     "data": {
      "image/png": "[encoded data removed]"
     },
     "metadata": {},
     "output_type": "display_data"
    },
    {
     "data": {
      "image/png": "[encoded data removed]"
     },
     "metadata": {},
     "output_type": "display_data"
    },
    {
     "data": {
      "image/png": "[encoded data removed]"
     },
     "metadata": {},
     "output_type": "display_data"
    }
   ],
   "source": [
    "%%R -w 300 -h 300\n",
    "\n",
    "#pdf(\"hierplots.pdf\", width=4, height=12, pointsize=16)\n",
    "#par(mfrow=c(3, 1))\n",
    "\n",
    "boxplot(data_vib[,1] ~ data_vib[,5], col='gray', main=\"Viburnum\", cex=2)\n",
    "print(cor.test(data_vib[,5], data_vib[,1], method='s'))\n",
    "\n",
    "boxplot(data_que[,1] ~ data_que[,5], col='gray', main=\"Quercus\")\n",
    "print(cor.test(data_que[,5], data_que[,1], method='s'))\n",
    "\n",
    "boxplot(data_ore[,1] ~ data_ore[,5], col='gray', main=\"Orestias\")\n",
    "cor.test(data_ore[,5], data_ore[,1], method='s')\n",
    "\n",
    "#dev.off()\n"
   ]
  },
  {
   "cell_type": "code",
   "execution_count": null,
   "metadata": {
    "collapsed": true
   },
   "outputs": [],
   "source": [
    "\n"
   ]
  }
 ],
 "metadata": {
  "kernelspec": {
   "display_name": "Python 2",
   "language": "python",
   "name": "python2"
  },
  "language_info": {
   "codemirror_mode": {
    "name": "ipython",
    "version": 2
   },
   "file_extension": ".py",
   "mimetype": "text/x-python",
   "name": "python",
   "nbconvert_exporter": "python",
   "pygments_lexer": "ipython2",
   "version": "2.7.12"
  }
 },
 "nbformat": 4,
 "nbformat_minor": 0
}
