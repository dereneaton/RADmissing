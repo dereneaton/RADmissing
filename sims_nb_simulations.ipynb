{
 "cells": [
  {
   "cell_type": "markdown",
   "metadata": {
    "collapsed": true
   },
   "source": [
    "# RADseq data simulations"
   ]
  },
  {
   "cell_type": "markdown",
   "metadata": {},
   "source": [
    "I simulated two trees to work with. One that is completely imbalanced (ladder-like) and one that is balanced (equal number tips descended from each node). I'm using the Python package `ete2` for most of the tree manipulations. This notebook was run in Python 2.7. You will also need the package rpy2 installed, as well as a working version of R with the package 'ape' to make tree plots later in the notebook. "
   ]
  },
  {
   "cell_type": "code",
   "execution_count": 28,
   "metadata": {
    "collapsed": false
   },
   "outputs": [],
   "source": [
    "## standard Python imports\n",
    "import glob\n",
    "import itertools\n",
    "from collections import OrderedDict, Counter\n",
    "\n",
    "## extra Python imports\n",
    "import rpy2              ## required for tree plotting\n",
    "import ete2              ## used for tree manipulation\n",
    "import egglib            ## used for coalescent simulations\n",
    "import numpy as np\n",
    "import pandas as pd\n",
    "import matplotlib\n",
    "import matplotlib.pyplot as plt\n",
    "%matplotlib inline"
   ]
  },
  {
   "cell_type": "code",
   "execution_count": 29,
   "metadata": {
    "collapsed": false
   },
   "outputs": [
    {
     "name": "stdout",
     "output_type": "stream",
     "text": [
      "matplotlib\t1.5.1     \n",
      "numpy     \t1.11.0    \n",
      "pandas    \t0.18.0    \n",
      "ete2      \t2.3.10    \n",
      "rpy2      \t2.8.2     \n"
     ]
    }
   ],
   "source": [
    "## print versions\n",
    "for pkg in [matplotlib, np, pd, ete2, rpy2]:\n",
    "    print \"{:<10}\\t{:<10}\".\\\n",
    "    format(pkg.__name__, pkg.__version__)"
   ]
  },
  {
   "cell_type": "markdown",
   "metadata": {},
   "source": [
    "### Simulation software\n",
    "I wrote a program to simulate RAD-seq like sequence data which uses the python package egglib for coalescent simulations. Below will check that you have the relevant software installed. See here for simrrls installation: https://github.com/dereneaton/simrrls\n"
   ]
  },
  {
   "cell_type": "code",
   "execution_count": 20,
   "metadata": {
    "collapsed": false
   },
   "outputs": [],
   "source": [
    "## check simrrls package and requirements\n",
    "import egglib\n",
    "import simrrls\n"
   ]
  },
  {
   "cell_type": "code",
   "execution_count": 21,
   "metadata": {
    "collapsed": false
   },
   "outputs": [
    {
     "name": "stdout",
     "output_type": "stream",
     "text": [
      "egglib 2.1.11\n",
      "simrrls 0.0.11\n"
     ]
    }
   ],
   "source": [
    "## print versions\n",
    "print 'egglib', egglib.version\n",
    "print 'simrrls', simrrls.__version__"
   ]
  },
  {
   "cell_type": "markdown",
   "metadata": {},
   "source": [
    "# Generate trees for simulations\n",
    "\n",
    "### Make a balanced tree with 64 tips and tree length = 6"
   ]
  },
  {
   "cell_type": "code",
   "execution_count": 5,
   "metadata": {
    "collapsed": false
   },
   "outputs": [],
   "source": [
    "## base tree\n",
    "Tbal = ete2.Tree()\n",
    "\n",
    "## branch lengths\n",
    "bls = 1.\n",
    "\n",
    "## namer\n",
    "n = iter(('s'+str(i) for i in xrange(1,1500)))\n",
    "\n",
    "## first nodes\n",
    "n1 = Tbal.add_child(name=n.next(), dist=bls)\n",
    "n2 = Tbal.add_child(name=n.next(), dist=bls)\n",
    "\n",
    "## make balanced tree\n",
    "while len(Tbal.get_leaves()) < 64:\n",
    "    thisrep = Tbal.get_descendants()\n",
    "    for node in thisrep:\n",
    "        if len(node.get_children()) < 1:\n",
    "            node.add_child(name=n.next(), dist=bls)\n",
    "            node.add_child(name=n.next(), dist=bls)\n",
    "\n",
    "## Save newick string to file\n",
    "Tbal.write(outfile=\"Tbal.tre\", format=3)"
   ]
  },
  {
   "cell_type": "markdown",
   "metadata": {},
   "source": [
    "String representation"
   ]
  },
  {
   "cell_type": "code",
   "execution_count": 6,
   "metadata": {
    "collapsed": false
   },
   "outputs": [
    {
     "name": "stdout",
     "output_type": "stream",
     "text": [
      "((((((s63:1,s64:1)s31:1,(s65:1,s66:1)s32:1)s15:1,((s67:1,s68:1)s33:1,(s69:1,s70:1)s34:1)s16:1)s7:1,(((s71:1,s72:1)s35:1,(s73:1,s74:1)s36:1)s17:1,((s75:1,s76:1)s37:1,(s77:1,s78:1)s38:1)s18:1)s8:1)s3:1,((((s79:1,s80:1)s39:1,(s81:1,s82:1)s40:1)s19:1,((s83:1,s84:1)s41:1,(s85:1,s86:1)s42:1)s20:1)s9:1,(((s87:1,s88:1)s43:1,(s89:1,s90:1)s44:1)s21:1,((s91:1,s92:1)s45:1,(s93:1,s94:1)s46:1)s22:1)s10:1)s4:1)s1:1,(((((s95:1,s96:1)s47:1,(s97:1,s98:1)s48:1)s23:1,((s99:1,s100:1)s49:1,(s101:1,s102:1)s50:1)s24:1)s11:1,(((s103:1,s104:1)s51:1,(s105:1,s106:1)s52:1)s25:1,((s107:1,s108:1)s53:1,(s109:1,s110:1)s54:1)s26:1)s12:1)s5:1,((((s111:1,s112:1)s55:1,(s113:1,s114:1)s56:1)s27:1,((s115:1,s116:1)s57:1,(s117:1,s118:1)s58:1)s28:1)s13:1,(((s119:1,s120:1)s59:1,(s121:1,s122:1)s60:1)s29:1,((s123:1,s124:1)s61:1,(s125:1,s126:1)s62:1)s30:1)s14:1)s6:1)s2:1);"
     ]
    }
   ],
   "source": [
    "## newick string\n",
    "! cat Tbal.tre"
   ]
  },
  {
   "cell_type": "code",
   "execution_count": 7,
   "metadata": {
    "collapsed": false,
    "scrolled": false
   },
   "outputs": [],
   "source": [
    "## show tree, remove node circles\n",
    "#for node in Tbal.traverse():\n",
    "#    node.img_style[\"size\"] = 0\n",
    "#Tbal.render(\"%%inline\", h=500)"
   ]
  },
  {
   "cell_type": "markdown",
   "metadata": {},
   "source": [
    "## Make an imbalanced tree of same treelength with 64 tips"
   ]
  },
  {
   "cell_type": "code",
   "execution_count": 8,
   "metadata": {
    "collapsed": false,
    "scrolled": false
   },
   "outputs": [],
   "source": [
    "## base tree\n",
    "Timb = ete2.Tree()\n",
    "\n",
    "## namer\n",
    "n = iter(('s'+str(i) for i in range(1,5000)))\n",
    "\n",
    "## scale branches to match balanced treelength\n",
    "brlen = (bls*6.)/63\n",
    "\n",
    "## first nodes\n",
    "n1 = Timb.add_child(name=n.next(), dist=brlen)\n",
    "n2 = Timb.add_child(name=n.next(), dist=brlen)\n",
    "\n",
    "while len(Timb.get_leaves()) < 64:  \n",
    "    ## extend others\n",
    "    for tip in Timb.get_leaves()[:-1]:\n",
    "        tip.dist += brlen\n",
    "    ## extend the last node\n",
    "    Timb.get_leaves()[-1].add_child(name=n.next(), dist=brlen)\n",
    "    Timb.get_leaves()[-1].add_sister(name=n.next(), dist=brlen)\n",
    "\n",
    "## write to file\n",
    "Timb.write(outfile=\"Timb.tre\", format=3)"
   ]
  },
  {
   "cell_type": "markdown",
   "metadata": {},
   "source": [
    "Or copy the following string to a file:"
   ]
  },
  {
   "cell_type": "code",
   "execution_count": 9,
   "metadata": {
    "collapsed": false
   },
   "outputs": [
    {
     "name": "stdout",
     "output_type": "stream",
     "text": [
      "(s1:6,(s3:5.90476,(s5:5.80952,(s7:5.71429,(s9:5.61905,(s11:5.52381,(s13:5.42857,(s15:5.33333,(s17:5.2381,(s19:5.14286,(s21:5.04762,(s23:4.95238,(s25:4.85714,(s27:4.7619,(s29:4.66667,(s31:4.57143,(s33:4.47619,(s35:4.38095,(s37:4.28571,(s39:4.19048,(s41:4.09524,(s43:4,(s45:3.90476,(s47:3.80952,(s49:3.71429,(s51:3.61905,(s53:3.52381,(s55:3.42857,(s57:3.33333,(s59:3.2381,(s61:3.14286,(s63:3.04762,(s65:2.95238,(s67:2.85714,(s69:2.7619,(s71:2.66667,(s73:2.57143,(s75:2.47619,(s77:2.38095,(s79:2.28571,(s81:2.19048,(s83:2.09524,(s85:2,(s87:1.90476,(s89:1.80952,(s91:1.71429,(s93:1.61905,(s95:1.52381,(s97:1.42857,(s99:1.33333,(s101:1.2381,(s103:1.14286,(s105:1.04762,(s107:0.952381,(s109:0.857143,(s111:0.761905,(s113:0.666667,(s115:0.571429,(s117:0.47619,(s119:0.380952,(s121:0.285714,(s123:0.190476,(s125:0.0952381,s126:0.0952381)s124:0.0952381)s122:0.0952381)s120:0.0952381)s118:0.0952381)s116:0.0952381)s114:0.0952381)s112:0.0952381)s110:0.0952381)s108:0.0952381)s106:0.0952381)s104:0.0952381)s102:0.0952381)s100:0.0952381)s98:0.0952381)s96:0.0952381)s94:0.0952381)s92:0.0952381)s90:0.0952381)s88:0.0952381)s86:0.0952381)s84:0.0952381)s82:0.0952381)s80:0.0952381)s78:0.0952381)s76:0.0952381)s74:0.0952381)s72:0.0952381)s70:0.0952381)s68:0.0952381)s66:0.0952381)s64:0.0952381)s62:0.0952381)s60:0.0952381)s58:0.0952381)s56:0.0952381)s54:0.0952381)s52:0.0952381)s50:0.0952381)s48:0.0952381)s46:0.0952381)s44:0.0952381)s42:0.0952381)s40:0.0952381)s38:0.0952381)s36:0.0952381)s34:0.0952381)s32:0.0952381)s30:0.0952381)s28:0.0952381)s26:0.0952381)s24:0.0952381)s22:0.0952381)s20:0.0952381)s18:0.0952381)s16:0.0952381)s14:0.0952381)s12:0.0952381)s10:0.0952381)s8:0.0952381)s6:0.0952381)s4:0.0952381)s2:0.0952381);"
     ]
    }
   ],
   "source": [
    "! cat Timb.tre"
   ]
  },
  {
   "cell_type": "code",
   "execution_count": 10,
   "metadata": {
    "collapsed": false,
    "scrolled": false
   },
   "outputs": [],
   "source": [
    "## show tree, remove node circles\n",
    "#for node in Timb.traverse():\n",
    "#    node.img_style[\"size\"] = 0\n",
    "#Timb.render(\"%%inline\", h=500)"
   ]
  },
  {
   "cell_type": "markdown",
   "metadata": {},
   "source": [
    "Check that the trees are the same length (close enough)."
   ]
  },
  {
   "cell_type": "code",
   "execution_count": 11,
   "metadata": {
    "collapsed": false
   },
   "outputs": [
    {
     "name": "stdout",
     "output_type": "stream",
     "text": [
      "set([6.0]) treelength\n",
      "64 tips\n",
      "set([5.999999999999996]) treelength\n",
      "64 tips\n"
     ]
    }
   ],
   "source": [
    "print set([i.get_distance(Tbal) for i in Tbal]), 'treelength'\n",
    "print len(Tbal), 'tips'\n",
    "\n",
    "print set([i.get_distance(Timb) for i in Timb]), 'treelength'\n",
    "print len(Timb), 'tips'"
   ]
  },
  {
   "cell_type": "markdown",
   "metadata": {},
   "source": [
    "## An ultrametric topology of Viburnum w/ 64 tips\n",
    "This tree is inferred in notebook 3, and here it is scaled with penalized likelihood to be ultrametric."
   ]
  },
  {
   "cell_type": "code",
   "execution_count": 12,
   "metadata": {
    "collapsed": false
   },
   "outputs": [],
   "source": [
    "%load_ext rpy2.ipython"
   ]
  },
  {
   "cell_type": "code",
   "execution_count": 13,
   "metadata": {
    "collapsed": false
   },
   "outputs": [
    {
     "data": {
      "image/png": "[encoded data removed]"
     },
     "metadata": {},
     "output_type": "display_data"
    }
   ],
   "source": [
    "%%R -w 400 -h 600\n",
    "library(ape)\n",
    "\n",
    "## make tree ultrametric using penalized likelihood\n",
    "Vtree <- read.tree(\"~/Dropbox/RAxML_bestTree.VIB_small_c85d6m4p99\")\n",
    "Utree <- drop.tip(Vtree, \"clemensiae_DRY6_PWS_2135\")\n",
    "Utree <- ladderize(chronopl(Utree, 0.5))\n",
    "\n",
    "## multiply bls so tree length=6 after dropping outgroup\n",
    "Utree$edge.length <- Utree$edge.length*6\n",
    "\n",
    "## save the new tree\n",
    "write.tree(Utree, \"Tvib.tre\")\n",
    "plot(Utree, cex=0.7, edge.width=2)\n",
    "add.scale.bar()\n",
    "#edgelabels(round(Utree$edge.length,3))"
   ]
  },
  {
   "cell_type": "code",
   "execution_count": 14,
   "metadata": {
    "collapsed": false
   },
   "outputs": [
    {
     "name": "stdout",
     "output_type": "stream",
     "text": [
      "(((((((((((((anamensis_C6_PWS_2094:0.7975737351,sempervirens_combined:0.7975737351):0.38788117,setigerum:1.185454905):0.1159036148,((tashiori_D30_TET_YAH:0.9508943617,luzonicum_D27_9M_2005:0.9508943617):0.2224344758,erosum_D23_MJDJP_4:1.173328837):0.1280296823):0.1966874261,((parvifolium_D29_KFC_1953:0.9280851365,dilitatum_ELS45:0.9280851365):0.3392240969,wrightii_D31_MJDJP_1:1.267309233):0.2307367125):0.1683708168,japonicum_D26_WC_273:1.666416763):0.2285748893,integrifolium_D25_KFC_1946:1.894991652):0.8552902281,((betulifolium:1.406180911,muhalla_D28_WC_274:1.406180911):0.2814444291,foetidum_D24_KFC_1942:1.68762534):1.06265654):0.4191560518,(acerfolium_ELS88:2.103542008,orientale_DRY2_MJD_GEORGIA:2.103542008):1.065895924):0.2536372853,((((glaberrimum_D34_PWS_2323:1.145733296,vernicosum_D21_PWS_2123:1.145733296):0.4959207291,beccarii_combinedX:1.641654025):0.6376473347,sambucina_D20_PWS_2100:2.27930136):0.3829119791,(cylindricum_DRY1_WC_268:0.8292472406,coriaceum_combined:0.8292472406):1.832966098):0.7608618785):0.8509283234,(sargentii_RCW19:1.145837138,opulus_D6_WC_250:1.145837138):3.128166403):0.1755491402,(((acutifolium_DRY3_MEX_006:1.055259441,sulcatum_D9_MEX_003:1.055259441):0.3022564037,(triphyllum_D13_PWS_1783:0.6956223643,jamesonii_D12_PWS_1636:0.6956223643):0.6618934804):0.7545581918,(dentatum_ELS4:1.379325329,recognitum_AA_1471_83B:1.379325329):0.7327487076):2.337478644):0.1834757395,(((cinnamomifolium_PWS2105X:0.9443909619,propinquum_DRY4_WC_276:0.9443909619):0.1859467029,davidii_D32_WC_269:1.130337665):1.715940815,tinus_D33_WC_277:2.84627848):1.78674994):1.36697158,(((((((prunifolium_ELS57:0.4605954259,prunifolium_AA_22586A:0.4605954259):0.4436690703,rufidulum_ELS25:0.9042644962):0.525530087,lentago_ELS85:1.429794583):2.029772371,(cassinoides_ELS2:3.287159629,punctatum_D19_PWS_2097:3.287159629):0.1724073248):0.6538743879,(((veitchii:0.6523403244,rhytidophyllum:0.6523403244):1.024743851,lantan_combined:1.677084175):0.4005599057,((carlesii_D1_BP_001:0.4336007225,bitchuense_combined:0.4336007225):1.376780113,macrocephalum_D2_WC_284:1.810380836):0.2672632448):2.035797261):1.439283941,((((((((foetens_ERAD10:0.8212355504,grandiflorum_ERAD11_Wendy:0.8212355504):0.3328646861,farreri_RCW21:1.154100236):0.4228107657,suspensum_C5_MJD_111711:1.576911002):0.8113023509,erubescens_RCW36:2.388213353):0.3038880768,henryi_D22_WC_272:2.69210143):0.4106409896,(sieboldii_AA_616_6B:2.627864544,odoratissimum_combined:2.627864544):0.4748778756):0.7034334346,((plicatum_C1_MJDJP_12:1.677317667,hanceanum_D4_PWS_2195:1.677317667):0.4205302257,lutescens_D35_PWS_2077:2.097847893):1.708327961):0.9654371248,amplificatum_D3_SAN_156003:4.771612979):0.7811123034):0.1965029727,((((furcatum_combined:1.183437734,sympodiale_D18_KFC_1932:1.183437734):0.554269789,lantanoides_D15_Beartown_2:1.737707523):0.3948362082,nervosum_C4_PWS_2298:2.132543731):3.301651155,(taiwanianum_TW1_KFC_1952:1.319017626,urceolatum_MJD_Japan_8:1.319017626):4.11517726):0.3150333693):0.2507717451);\r\n"
     ]
    }
   ],
   "source": [
    "#### load TVib tree into Python and print newick string\n",
    "Tvib = ete2.Tree(\"Tvib.tre\")\n",
    "! cat Tvib.tre"
   ]
  },
  {
   "cell_type": "markdown",
   "metadata": {},
   "source": [
    "# Simulate sequence data on each tree\n",
    "Here I use the _simrrls_ program to simulate RADseq data on each input topology with locus dropout occurring with respect to phylogenetic distances. Find simrrls in my github profile."
   ]
  },
  {
   "cell_type": "markdown",
   "metadata": {},
   "source": [
    "## Comparing tree shapes and sources of missing data"
   ]
  },
  {
   "cell_type": "code",
   "execution_count": 15,
   "metadata": {
    "collapsed": false
   },
   "outputs": [],
   "source": [
    "%%bash\n",
    "## balanced tree \n",
    "mkdir -p Tbal_rad_drop/\n",
    "mkdir -p Tbal_ddrad_drop/\n",
    "mkdir -p Tbal_rad_covfull/\n",
    "mkdir -p Tbal_rad_covlow/\n",
    "mkdir -p Tbal_rad_covmed/\n",
    "\n",
    "## imbalanced tree\n",
    "mkdir -p Timb_rad_drop/\n",
    "mkdir -p Timb_ddrad_drop/\n",
    "mkdir -p Timb_rad_covfull/\n",
    "mkdir -p Timb_rad_covlow/\n",
    "mkdir -p Timb_rad_covmed/\n",
    "\n",
    "## sims on empirical Viburnum topo\n",
    "mkdir -p Tvib_rad_drop/\n",
    "mkdir -p Tvib_ddrad_drop/\n",
    "mkdir -p Tvib_rad_covfull/\n",
    "mkdir -p Tvib_rad_covlow/\n",
    "mkdir -p Tvib_rad_covmed"
   ]
  },
  {
   "cell_type": "markdown",
   "metadata": {},
   "source": [
    "#### Show simrrls options"
   ]
  },
  {
   "cell_type": "code",
   "execution_count": 16,
   "metadata": {
    "collapsed": false
   },
   "outputs": [
    {
     "name": "stdout",
     "output_type": "stream",
     "text": [
      "usage: simrrls [-h] [--version] [-o outname] [-mc dropout] [-ms dropout]\n",
      "               [-e error] [-f datatype] [-I indels] [-l length] [-L nLoci]\n",
      "               [-n Ninds] [-N Ne] [-t tree] [-u mu] [-df depthfunc]\n",
      "               [-dm depthmean] [-ds depthstd] [-c1 cut_1] [-c2 cut_2]\n",
      "               [-i1 min_insert] [-i2 max_insert] [-r1 seed_1] [-r2 seed_2]\n",
      "\n",
      "optional arguments:\n",
      "  -h, --help      show this help message and exit\n",
      "  --version       show program's version number and exit\n",
      "  -o outname      [str] output file name prefix (default 'out')\n",
      "  -mc dropout     [0/1] allelic dropout from mutation to cut sites (default 0)\n",
      "  -ms dropout     [0/1] allelic dropout from new cut sites in seq (default 0)\n",
      "  -e error        [float] sequencing error rate (default 0.0005)\n",
      "  -f datatype     [str] datatype (default rad) (options: rad, gbs, ddrad,\n",
      "                  pairddrad, pairgbs)\n",
      "  -I indels       [float] rate of indel mutations (default 0) ex: 0.001\n",
      "  -l length       [int] length of simulated sequences (default 100)\n",
      "  -L nLoci        [int] number of loci to simulate (default 100)\n",
      "  -n Ninds        [int] N individuals from each taxon (default 1)\n",
      "  -N Ne           [int] pop size (Ne for all lineages; default 5e5)\n",
      "  -t tree         [str] file name or newick string of ultrametric tree\n",
      "                  (default 12 taxon balanced tree w/ bls=1)\n",
      "  -u mu           [float] per site mutation rate (default 1e-9)\n",
      "  -df depthfunc   [str] model for sampling copies (default norm, other=exp)\n",
      "  -dm depthmean   [int] mean sampled copies in norm, 1/m for exp (default 10)\n",
      "  -ds depthstd    [int] stdev sampled copies, used with norm model (default 0)\n",
      "  -c1 cut_1       [str] restriction site 1 (default CTGCAG)\n",
      "  -c2 cut_2       [str] restriction site 1 (default CCGG)\n",
      "  -i1 min_insert  [int] total frag len = (2*l)+insert (default 200)\n",
      "  -i2 max_insert  [int] total frag len = (2*l)+insert (default 400)\n",
      "  -r1 seed_1      [int] random seed 1 (default 1234567)\n",
      "  -r2 seed_2      [int] random seed 2 (default 7654321)\n",
      "\n",
      "  Example usage: \n",
      "\n",
      "  simrrls -o test1 -N 1e6 -n 4 -L 1000       \n",
      "  simrrls -o test2 -f ddrad -c1 CCTGCAGG -c2 CCGG \n",
      "  simrrls -o test3 -f pairgbs -c1 CTGCAG -D 1 -i1 100 -i2 400 \n",
      "  echo \"((a:1,b:1):1,c:2);\" > treefile \n",
      "  simrrls -o test4 -t treefile -df norm -dm 5 -ds 1\n",
      "        \n"
     ]
    }
   ],
   "source": [
    "%%bash\n",
    "simrrls -h"
   ]
  },
  {
   "cell_type": "markdown",
   "metadata": {},
   "source": [
    "## Simulate RAD data on different trees and with sampling\n",
    "Here I simulate 1000 loci on each tree. For each tree data are simulated in 5 ways. With and without data loss from mutation-disruption or low sequencing coverage, and as a rad data type (one cutter) and ddrad (two cutters). This will take about 10 minutes to run probably."
   ]
  },
  {
   "cell_type": "code",
   "execution_count": 18,
   "metadata": {
    "collapsed": false
   },
   "outputs": [],
   "source": [
    "%%bash\n",
    "for tree in Tbal Timb Tvib;\n",
    "  do \n",
    "    simrrls -mc 1 -ms 1 -t $tree.tre \\\n",
    "            -L 1000 -l 100 \\\n",
    "            -u 1e-9 -N 1e6 \\\n",
    "            -f rad -c1 CTGCAG \\\n",
    "            -o $tree\\_rad_drop/$tree\n",
    "            \n",
    "    simrrls -mc 1 -ms 1 -t $tree.tre \\\n",
    "            -L 1000 -l 100 \\\n",
    "            -u 1e-9 -N 1e6 \\\n",
    "            -f ddrad -c1 CTGCAG -c2 AATT \\\n",
    "            -o $tree\\_ddrad_drop/$tree        \n",
    "    \n",
    "    simrrls -mc 0 -ms 0 -t $tree.tre \\\n",
    "            -L 1000 -l 100 \\\n",
    "            -u 1e-9 -N 1e6 \\\n",
    "            -f rad -c1 CTGCAG \\\n",
    "            -o $tree\\_rad_covfull/$tree\n",
    "\n",
    "    simrrls -mc 0 -ms 0 -t $tree.tre \\\n",
    "            -L 1000 -l 100 \\\n",
    "            -u 1e-9 -N 1e6 \\\n",
    "            -f rad -c1 CTGCAG \\\n",
    "            -dm 5 -ds 5 \\\n",
    "            -o $tree\\_rad_covmed/$tree\n",
    "            \n",
    "    simrrls -mc 0 -ms 0 -t $tree.tre \\\n",
    "            -L 1000 -l 100 \\\n",
    "            -u 1e-9 -N 1e6 \\\n",
    "            -f rad -c1 CTGCAG \\\n",
    "            -dm 2 -ds 5 \\\n",
    "            -o $tree\\_rad_covlow/$tree\n",
    "done"
   ]
  },
  {
   "cell_type": "markdown",
   "metadata": {},
   "source": [
    "# Assemble data sets in _pyRAD_"
   ]
  },
  {
   "cell_type": "code",
   "execution_count": 22,
   "metadata": {
    "collapsed": false
   },
   "outputs": [
    {
     "name": "stdout",
     "output_type": "stream",
     "text": [
      "pyRAD 3.0.66\n"
     ]
    }
   ],
   "source": [
    "%%bash\n",
    "pyrad --version"
   ]
  },
  {
   "cell_type": "code",
   "execution_count": 25,
   "metadata": {
    "collapsed": false
   },
   "outputs": [
    {
     "name": "stderr",
     "output_type": "stream",
     "text": [
      "\tnew params.txt file created\n"
     ]
    }
   ],
   "source": [
    "%%bash\n",
    "## new params file (remove existing file if present)\n",
    "rm params.txt\n",
    "pyrad -n"
   ]
  },
  {
   "cell_type": "code",
   "execution_count": 26,
   "metadata": {
    "collapsed": true
   },
   "outputs": [],
   "source": [
    "%%bash\n",
    "## enter parameters into params file using sed\n",
    "sed -i '/## 1. /c\\Tbal_rad_drop       ## 1. working dir ' params.txt\n",
    "sed -i '/## 2. /c\\Tbal_rad_drop/*.gz  ## 2. data loc ' params.txt\n",
    "sed -i '/## 3. /c\\Tbal_rad_drop/*barcodes.txt  ## 3. Bcode ' params.txt\n",
    "sed -i '/## 6. /c\\TGCAG,AATT          ## 6. cutters ' params.txt\n",
    "sed -i '/## 7. /c\\20                  ## 7. Nproc ' params.txt\n",
    "sed -i '/## 10. /c\\.82                ## 10. clust thresh' params.txt\n",
    "sed -i '/## 11. /c\\rad                ## 11. datatype ' params.txt\n",
    "sed -i '/## 12. /c\\2                  ## 12. minCov ' params.txt\n",
    "sed -i '/## 13. /c\\10                  ## 13. maxSH' params.txt\n",
    "sed -i '/## 14. /c\\Tbal               ## 14. outname' params.txt\n",
    "sed -i '/## 24./c\\99                  ## 24. maxH' params.txt\n",
    "sed -i '/## 30./c\\n,p,s               ## 30. out format' params.txt"
   ]
  },
  {
   "cell_type": "code",
   "execution_count": null,
   "metadata": {
    "collapsed": false
   },
   "outputs": [],
   "source": [
    "## IPython code to iterate over trees and coverages and run pyrad\n",
    "## sometimes this freezes when run in a jupyter notebook due \n",
    "## to problems with multiprocessing in notebooks. This is why my new\n",
    "## work with ipyrad uses ipyparallel instead of multiprocessing. \n",
    "\n",
    "for tree in ['Tbal', 'Timb', 'Tvib']:\n",
    "    for dtype in ['rad', 'ddrad']:\n",
    "        with open('params.txt', 'rb') as params:\n",
    "            pp = params.readlines()\n",
    "            pp[1] = \"{}_{}_drop                 ## 1. \\n\".format(tree, dtype)\n",
    "            pp[2] = \"{}_{}_drop/*.gz            ## 2. \\n\".format(tree, dtype)\n",
    "            pp[3] = \"{}_{}_drop/*barcodes.txt   ## 3. \\n\".format(tree, dtype)\n",
    "            pp[14] = \"{}                        ## 14. \\n\".format(tree)\n",
    "        with open('params.txt', 'wb') as params:\n",
    "            params.write(\"\".join(pp))\n",
    "        ## this calls pyrad as a bash script\n",
    "        ! pyrad -p params.txt >> log.txt 2>&1  \n",
    "          \n",
    "    for cov in ['full', 'med', 'low']:\n",
    "        with open('params.txt', 'rb') as params:\n",
    "            pp = params.readlines()\n",
    "            pp[1] = \"{}_rad_cov{}                ## 1. \\n\".format(tree, cov)\n",
    "            pp[2] = \"{}_rad_cov{}/*.gz           ## 2. \\n\".format(tree, cov)\n",
    "            pp[3] = \"{}_rad_cov{}/*barcodes.txt  ## 3. \\n\".format(tree, cov)\n",
    "            pp[14] = \"{}                         ## 14. \\n\".format(tree)     \n",
    "        with open('params.txt', 'wb') as params:\n",
    "            params.write(\"\".join(pp))    \n",
    "        ## this calls pyrad as a bash script            \n",
    "        ! pyrad -p params.txt >> log.txt 2>&1  "
   ]
  },
  {
   "cell_type": "markdown",
   "metadata": {},
   "source": [
    "# Visualize data sharing on these trees"
   ]
  },
  {
   "cell_type": "code",
   "execution_count": 30,
   "metadata": {
    "collapsed": false
   },
   "outputs": [],
   "source": [
    "def getarray(locifile, tree):\n",
    "    \"\"\" parse the loci list and return a \n",
    "        presence/absence matrix ordered by \n",
    "        the tips on the tree\"\"\"\n",
    "    ## parse the loci file\n",
    "    loci = open(locifile).read().split(\"\\n//\")[:-1]\n",
    "    ## order (ladderize) the tree\n",
    "    tree.ladderize()\n",
    "    ## get tip names\n",
    "    names = tree.get_leaf_names()\n",
    "    ## make empty matrix\n",
    "    lxs = np.zeros((len(names), len(loci)))\n",
    "    ## fill the matrix\n",
    "    for loc in xrange(len(loci)):\n",
    "        for seq in loci[loc].split(\"\\n\"):\n",
    "            if \">\" in seq:\n",
    "                lxs[names.index(seq.split()[0][1:].rsplit(\"_\", 1)[0]),loc] += 1\n",
    "    return lxs"
   ]
  },
  {
   "cell_type": "code",
   "execution_count": 31,
   "metadata": {
    "collapsed": true
   },
   "outputs": [],
   "source": [
    "def countmatrix(lxsabove, lxsbelow, max=0):\n",
    "    \"\"\" fill a matrix with pairwise data sharing\n",
    "        between each pair of samples. You could put\n",
    "        in two different 'share' matrices to have\n",
    "        different results above and below the diagonal.\n",
    "        Can enter a max value to limit fill along diagonal.\n",
    "        \"\"\"\n",
    "    share = np.zeros((lxsabove.shape[0], \n",
    "                      lxsbelow.shape[0]))\n",
    "    ## fill above\n",
    "    names = range(lxsabove.shape[0])\n",
    "    for row in lxsabove:\n",
    "        for samp1,samp2 in itertools.combinations(names,2):\n",
    "            shared = lxsabove[samp1, lxsabove[samp2,]>0].sum()\n",
    "            share[samp1,samp2] = shared\n",
    "    ## fill below\n",
    "    for row in lxsbelow:\n",
    "        for samp2,samp1 in itertools.combinations(names,2):\n",
    "            shared = lxsabove[samp1, lxsabove[samp2,]>0].sum()\n",
    "            share[samp1,samp2] = shared\n",
    "    ## fill diagonal\n",
    "    if not max:\n",
    "        for row in range(len(names)):\n",
    "            share[row,row] = lxsabove[row,].sum()\n",
    "    else:\n",
    "        for row in range(len(names)):\n",
    "            share[row,row] = max\n",
    "    return share"
   ]
  },
  {
   "cell_type": "code",
   "execution_count": 32,
   "metadata": {
    "collapsed": true
   },
   "outputs": [],
   "source": [
    "def plotSVGmatrix(share, outname):\n",
    "    surf = plt.pcolormesh(share, cmap=\"gist_yarg\")\n",
    "    dims = plt.axis('image')\n",
    "    surf.axes.get_xaxis().set_ticklabels([])\n",
    "    surf.axes.get_xaxis().set_ticks([])\n",
    "    surf.axes.get_yaxis().set_ticklabels([])\n",
    "    surf.axes.get_yaxis().set_ticks([])\n",
    "    ax = plt.gca()\n",
    "    ax.invert_yaxis()\n",
    "    plt.colorbar(surf, aspect=15)\n",
    "    if outname:\n",
    "        plt.savefig(outname+\".svg\")\n",
    "    \n",
    "    \n",
    "def fullplot(locifile, tree, outname=None):\n",
    "    lxsB = getarray(locifile, tree)\n",
    "    share = countmatrix(lxsB, lxsB)\n",
    "    plotSVGmatrix(share, outname)"
   ]
  },
  {
   "cell_type": "code",
   "execution_count": 41,
   "metadata": {
    "collapsed": false
   },
   "outputs": [
    {
     "data": {
      "image/png": "[encoded data removed]",
      "text/plain": [
       "<matplotlib.figure.Figure at 0x7f6cec584090>"
      ]
     },
     "metadata": {},
     "output_type": "display_data"
    }
   ],
   "source": [
    "fullplot('Tbal_rad_drop/outfiles/Tbal.loci', Tbal, 'Tbal_drop')"
   ]
  },
  {
   "cell_type": "code",
   "execution_count": 42,
   "metadata": {
    "collapsed": false
   },
   "outputs": [
    {
     "data": {
      "image/png": "[encoded data removed]",
      "text/plain": [
       "<matplotlib.figure.Figure at 0x7f6cec448350>"
      ]
     },
     "metadata": {},
     "output_type": "display_data"
    }
   ],
   "source": [
    "fullplot('Tbal_rad_covlow/outfiles/Tbal.loci', Tbal, 'Tbal_covlow')"
   ]
  },
  {
   "cell_type": "code",
   "execution_count": 43,
   "metadata": {
    "collapsed": false
   },
   "outputs": [
    {
     "data": {
      "image/png": "[encoded data removed]",
      "text/plain": [
       "<matplotlib.figure.Figure at 0x7f6cec6be910>"
      ]
     },
     "metadata": {},
     "output_type": "display_data"
    }
   ],
   "source": [
    "fullplot('Tbal_rad_covmed/outfiles/Tbal.loci', Tbal, 'Tbal_covmed')"
   ]
  },
  {
   "cell_type": "code",
   "execution_count": 44,
   "metadata": {
    "collapsed": false
   },
   "outputs": [
    {
     "data": {
      "image/png": "[encoded data removed]",
      "text/plain": [
       "<matplotlib.figure.Figure at 0x7f6cebc92790>"
      ]
     },
     "metadata": {},
     "output_type": "display_data"
    }
   ],
   "source": [
    "fullplot('Tbal_rad_covfull/outfiles/Tbal.loci', Tbal, 'Tbal_covfull')"
   ]
  },
  {
   "cell_type": "code",
   "execution_count": 45,
   "metadata": {
    "collapsed": false
   },
   "outputs": [
    {
     "data": {
      "image/png": "[encoded data removed]",
      "text/plain": [
       "<matplotlib.figure.Figure at 0x7f6cec51ef10>"
      ]
     },
     "metadata": {},
     "output_type": "display_data"
    }
   ],
   "source": [
    "fullplot('Timb_rad_drop/outfiles/Timb.loci', Timb, 'Timb_drop')"
   ]
  },
  {
   "cell_type": "code",
   "execution_count": 46,
   "metadata": {
    "collapsed": false
   },
   "outputs": [
    {
     "data": {
      "image/png": "[encoded data removed]",
      "text/plain": [
       "<matplotlib.figure.Figure at 0x7f6cebf3aa50>"
      ]
     },
     "metadata": {},
     "output_type": "display_data"
    }
   ],
   "source": [
    "fullplot('Tvib_rad_drop/outfiles/Tvib.loci', Tvib, 'Tvib_drop')"
   ]
  },
  {
   "cell_type": "code",
   "execution_count": 47,
   "metadata": {
    "collapsed": false
   },
   "outputs": [
    {
     "data": {
      "image/png": "[encoded data removed]",
      "text/plain": [
       "<matplotlib.figure.Figure at 0x7f6cebf2e410>"
      ]
     },
     "metadata": {},
     "output_type": "display_data"
    }
   ],
   "source": [
    "fullplot('Tvib_rad_covlow/outfiles/Tvib.loci', Tvib, 'Tvib_covlow')"
   ]
  },
  {
   "cell_type": "markdown",
   "metadata": {},
   "source": [
    "# The hierarchical distribution of informative sites\n",
    "First we re-calculate the pair-wise data sharing matrices for all species in each data set. "
   ]
  },
  {
   "cell_type": "code",
   "execution_count": 49,
   "metadata": {
    "collapsed": false
   },
   "outputs": [],
   "source": [
    "lxs_Tbal_droprad = getarray(\"Tbal_rad_drop/outfiles/Tbal.loci\", Tbal)\n",
    "lxs_Tbal_dropddrad = getarray(\"Tbal_ddrad_drop/outfiles/Tbal.loci\", Tbal)\n",
    "lxs_Tbal_covlow = getarray(\"Tbal_rad_covlow/outfiles/Tbal.loci\", Tbal)\n",
    "lxs_Tbal_covmed = getarray(\"Tbal_rad_covmed/outfiles/Tbal.loci\", Tbal)\n",
    "lxs_Tbal_covfull = getarray(\"Tbal_rad_covfull/outfiles/Tbal.loci\", Tbal)\n",
    "\n",
    "lxs_Timb_droprad = getarray(\"Timb_rad_drop/outfiles/Timb.loci\", Timb)\n",
    "lxs_Timb_dropddrad = getarray(\"Timb_ddrad_drop/outfiles/Timb.loci\", Timb)\n",
    "lxs_Timb_covlow = getarray(\"Timb_rad_covlow/outfiles/Timb.loci\", Timb)\n",
    "lxs_Timb_covmed = getarray(\"Timb_rad_covmed/outfiles/Timb.loci\", Timb)\n",
    "lxs_Timb_covfull = getarray(\"Timb_rad_covfull/outfiles/Timb.loci\", Timb)\n",
    "\n",
    "lxs_Tvib_droprad = getarray(\"Tvib_rad_drop/outfiles/Tvib.loci\", Tvib)\n",
    "lxs_Tvib_dropddrad = getarray(\"Tvib_ddrad_drop/outfiles/Tvib.loci\", Tvib)\n",
    "lxs_Tvib_covlow = getarray(\"Tvib_rad_covlow/outfiles/Tvib.loci\", Tvib)\n",
    "lxs_Tvib_covmed = getarray(\"Tvib_rad_covmed/outfiles/Tvib.loci\", Tvib)\n",
    "lxs_Tvib_covfull = getarray(\"Tvib_rad_covfull/outfiles/Tvib.loci\", Tvib)"
   ]
  },
  {
   "cell_type": "markdown",
   "metadata": {},
   "source": [
    "#### A function to count loci for each bipartition (quartet-style)"
   ]
  },
  {
   "cell_type": "code",
   "execution_count": 50,
   "metadata": {
    "collapsed": false
   },
   "outputs": [],
   "source": [
    "def count_inf4(tree, matrix, node):\n",
    "    \"\"\" count the number of loci with data spanning \n",
    "    a given node in the tree \"\"\"\n",
    "    \n",
    "    ## get children of selected node\n",
    "    a, b = node.get_children()\n",
    "    \n",
    "    ## get tip descendents of a and b\n",
    "    tips_a = set(a.get_leaf_names())\n",
    "    tips_b = set(b.get_leaf_names())\n",
    "    \n",
    "    ## get every other tip (outgroups)\n",
    "    upone = node.up\n",
    "    if upone.is_root():\n",
    "        ch = upone.children\n",
    "        sis = [i for i in ch if i != node][0]\n",
    "        if sis.children:\n",
    "            tips_c = sis.children[0].get_leaf_names()\n",
    "            tips_d = sis.children[1].get_leaf_names()\n",
    "        else:\n",
    "            return 0\n",
    "    else:\n",
    "        upone = set(node.up.get_leaf_names())\n",
    "        tips_c = upone - tips_a - tips_b\n",
    "        tips_all = set(tree.get_leaf_names())\n",
    "        tips_d = tips_all - tips_a - tips_b - tips_c\n",
    "    \n",
    "    ## get indices in matrix for leaf tips\n",
    "    names = tree.get_leaf_names()\n",
    "    index_a = [names.index(i) for i in tips_a]\n",
    "    index_b = [names.index(i) for i in tips_b]\n",
    "    index_c = [names.index(i) for i in tips_c]\n",
    "    index_d = [names.index(i) for i in tips_d]\n",
    "   \n",
    "    ## how man loci are \"informative\"\n",
    "    inf = 0\n",
    "    for col in matrix.T:\n",
    "        hits_a = sum([col[i] for i in index_a])\n",
    "        hits_b = sum([col[i] for i in index_b])\n",
    "        hits_c = sum([col[i] for i in index_c])\n",
    "        hits_d = sum([col[i] for i in index_d])\n",
    "\n",
    "        if all([hits_a, hits_b, hits_c, hits_d]):\n",
    "                inf += 1 \n",
    "    return inf    "
   ]
  },
  {
   "cell_type": "markdown",
   "metadata": {},
   "source": [
    "#### A function to write data to file for plotting\n",
    "Here I iterate over each node and apply _count\\_inf4_ which returns the number of loci that are informative for the subtending bipartition, and _count\\_snps_ which counts snps segregating at that bipartition. This takes a few minutes to run."
   ]
  },
  {
   "cell_type": "code",
   "execution_count": 51,
   "metadata": {
    "collapsed": false
   },
   "outputs": [],
   "source": [
    "def nodes_dat(tree, lxs, datfilename):\n",
    "    dat = []\n",
    "    for node in tree.traverse():\n",
    "        if not (node.is_leaf() or node.is_root()):\n",
    "            loci = count_inf4(tree, lxs, node)\n",
    "            dist = round(tree.get_distance(node),2)\n",
    "            dat.append([dist, loci])\n",
    "            node.name = \"%d\" % loci\n",
    "    \n",
    "    ## print tree with bls & node labels\n",
    "    tree.write(format=3,outfile=datfilename+\".tre\")\n",
    "    \n",
    "    ## print data to file\n",
    "    with open(datfilename, 'w') as outfile:\n",
    "        np.savetxt(outfile, np.array(dat), fmt=\"%.2f\")"
   ]
  },
  {
   "cell_type": "markdown",
   "metadata": {},
   "source": [
    "## Make data files"
   ]
  },
  {
   "cell_type": "code",
   "execution_count": 52,
   "metadata": {
    "collapsed": true
   },
   "outputs": [],
   "source": [
    "%%bash\n",
    "## a new directory to store the data in\n",
    "mkdir -p analysis_counts2"
   ]
  },
  {
   "cell_type": "code",
   "execution_count": 53,
   "metadata": {
    "collapsed": false,
    "scrolled": false
   },
   "outputs": [],
   "source": [
    "nodes_dat(Tbal, lxs_Tbal_droprad, \n",
    "          \"analysis_counts2/Tbal_droprad.dat3\")\n",
    "nodes_dat(Tbal, lxs_Tbal_dropddrad, \n",
    "          \"analysis_counts2/Tbal_dropddrad.dat3\")\n",
    "nodes_dat(Tbal, lxs_Tbal_covlow, \n",
    "          \"analysis_counts2/Tbal_covlow.dat3\")    \n",
    "nodes_dat(Tbal, lxs_Tbal_covmed, \n",
    "          \"analysis_counts2/Tbal_covmed.dat3\")\n",
    "nodes_dat(Tbal, lxs_Tbal_covfull,\n",
    "          \"analysis_counts2/Tbal_covfull.dat3\")"
   ]
  },
  {
   "cell_type": "code",
   "execution_count": 54,
   "metadata": {
    "collapsed": false
   },
   "outputs": [],
   "source": [
    "nodes_dat(Timb, lxs_Timb_droprad, \n",
    "          \"analysis_counts2/Timb_droprad.dat3\")\n",
    "nodes_dat(Timb, lxs_Timb_dropddrad, \n",
    "          \"analysis_counts2/Timb_dropddrad.dat3\")\n",
    "nodes_dat(Timb, lxs_Timb_covlow, \n",
    "          \"analysis_counts2/Timb_covlow.dat3\")    \n",
    "nodes_dat(Timb, lxs_Timb_covmed, \n",
    "          \"analysis_counts2/Timb_covmed.dat3\")\n",
    "nodes_dat(Timb, lxs_Timb_covfull,\n",
    "          \"analysis_counts2/Timb_covfull.dat3\")"
   ]
  },
  {
   "cell_type": "code",
   "execution_count": 55,
   "metadata": {
    "collapsed": false
   },
   "outputs": [],
   "source": [
    "nodes_dat(Tvib, lxs_Tvib_droprad, \n",
    "          \"analysis_counts2/Tvib_droprad.dat3\")  \n",
    "nodes_dat(Tvib, lxs_Tvib_dropddrad, \n",
    "          \"analysis_counts2/Tvib_dropddrad.dat3\")    \n",
    "nodes_dat(Tvib, lxs_Tvib_covlow, \n",
    "          \"analysis_counts2/Tvib_covlow.dat3\")    \n",
    "nodes_dat(Tvib, lxs_Tvib_covmed, \n",
    "          \"analysis_counts2/Tvib_covmed.dat3\")\n",
    "nodes_dat(Tvib, lxs_Tvib_covfull,\n",
    "          \"analysis_counts2/Tvib_covfull.dat3\")"
   ]
  },
  {
   "cell_type": "markdown",
   "metadata": {},
   "source": [
    "# Plot the hierarchical distribution with the trees"
   ]
  },
  {
   "cell_type": "code",
   "execution_count": 5,
   "metadata": {
    "collapsed": false
   },
   "outputs": [],
   "source": [
    "%load_ext rpy2.ipython"
   ]
  },
  {
   "cell_type": "code",
   "execution_count": 6,
   "metadata": {
    "collapsed": false
   },
   "outputs": [],
   "source": [
    "%%R\n",
    "library(ape)"
   ]
  },
  {
   "cell_type": "markdown",
   "metadata": {},
   "source": [
    "### Load in the data to R"
   ]
  },
  {
   "cell_type": "code",
   "execution_count": 56,
   "metadata": {
    "collapsed": false
   },
   "outputs": [],
   "source": [
    "%%R\n",
    "## read in the data and factor results\n",
    "dat <- read.table(\"analysis_counts2/Tbal_droprad.dat3\", \n",
    "                  header=F, col.names=c('depth','loci'))\n",
    "dat[,1] <- as.factor(dat[,1])\n",
    "Tbal_droprad_Lme <- with(dat, tapply(loci, depth, mean))\n",
    "\n",
    "dat <- read.table(\"analysis_counts2/Tbal_dropddrad.dat3\", \n",
    "                  header=F, col.names=c('depth','loci'))\n",
    "dat[,1] <- as.factor(dat[,1])\n",
    "Tbal_dropddrad_Lme <- with(dat, tapply(loci, depth, mean))\n",
    "\n",
    "dat <- read.table(\"analysis_counts2/Tbal_covlow.dat3\", \n",
    "                  header=F, col.names=c('depth','loci'))\n",
    "dat[,1] <- as.factor(dat[,1])\n",
    "Tbal_covlow_Lme <- with(dat, tapply(loci, depth, mean))\n",
    "\n",
    "dat <- read.table(\"analysis_counts2/Tbal_covmed.dat3\", \n",
    "                  header=F, col.names=c('depth','loci'))\n",
    "dat[,1] <- as.factor(dat[,1])\n",
    "Tbal_covmed_Lme <- with(dat, tapply(loci, depth, mean))\n",
    "\n",
    "dat <- read.table(\"analysis_counts2/Tbal_covfull.dat3\", \n",
    "                  header=F, col.names=c('depth','loci'))\n",
    "dat[,1] <- as.factor(dat[,1])\n",
    "Tbal_covfull_Lme <- with(dat, tapply(loci, depth, mean))"
   ]
  },
  {
   "cell_type": "code",
   "execution_count": 57,
   "metadata": {
    "collapsed": false
   },
   "outputs": [],
   "source": [
    "%%R\n",
    "## read in the data and factor results\n",
    "dat <- read.table(\"analysis_counts2/Timb_droprad.dat3\", \n",
    "                  header=F, col.names=c('depth','loci'))\n",
    "dat[,1] <- as.factor(dat[,1])\n",
    "Timb_droprad_Lme <- with(dat, tapply(loci, depth, mean))\n",
    "\n",
    "dat <- read.table(\"analysis_counts2/Timb_dropddrad.dat3\", \n",
    "                  header=F, col.names=c('depth','loci'))\n",
    "dat[,1] <- as.factor(dat[,1])\n",
    "Timb_dropddrad_Lme <- with(dat, tapply(loci, depth, mean))\n",
    "\n",
    "dat <- read.table(\"analysis_counts2/Timb_covlow.dat3\", \n",
    "                  header=F, col.names=c('depth','loci'))\n",
    "dat[,1] <- as.factor(dat[,1])\n",
    "Timb_covlow_Lme <- with(dat, tapply(loci, depth, mean))\n",
    "\n",
    "dat <- read.table(\"analysis_counts2/Timb_covmed.dat3\", \n",
    "                  header=F, col.names=c('depth','loci'))\n",
    "dat[,1] <- as.factor(dat[,1])\n",
    "Timb_covmed_Lme <- with(dat, tapply(loci, depth, mean))\n",
    "\n",
    "dat <- read.table(\"analysis_counts2/Timb_covfull.dat3\", \n",
    "                  header=F, col.names=c('depth','loci'))\n",
    "dat[,1] <- as.factor(dat[,1])\n",
    "Timb_covfull_Lme <- with(dat, tapply(loci, depth, mean))"
   ]
  },
  {
   "cell_type": "code",
   "execution_count": 58,
   "metadata": {
    "collapsed": false
   },
   "outputs": [],
   "source": [
    "%%R\n",
    "## read in the data and factor results\n",
    "dat <- read.table(\"analysis_counts2/Tvib_droprad.dat3\", \n",
    "                  header=F, col.names=c('depth','loci'))\n",
    "dat[,1] <- as.factor(dat[,1])\n",
    "Tvib_droprad_Lme <- with(dat, tapply(loci, depth, mean))\n",
    "\n",
    "dat <- read.table(\"analysis_counts2/Tvib_dropddrad.dat3\", \n",
    "                  header=F, col.names=c('depth','loci'))\n",
    "dat[,1] <- as.factor(dat[,1])\n",
    "Tvib_dropddrad_Lme <- with(dat, tapply(loci, depth, mean))\n",
    "\n",
    "dat <- read.table(\"analysis_counts2/Tvib_covlow.dat3\", \n",
    "                  header=F, col.names=c('depth','loci'))\n",
    "dat[,1] <- as.factor(dat[,1])\n",
    "Tvib_covlow_Lme <- with(dat, tapply(loci, depth, mean))\n",
    "\n",
    "dat <- read.table(\"analysis_counts2/Tvib_covmed.dat3\", \n",
    "                  header=F, col.names=c('depth','loci'))\n",
    "dat[,1] <- as.factor(dat[,1])\n",
    "Tvib_covmed_Lme <- with(dat, tapply(loci, depth, mean))\n",
    "\n",
    "dat <- read.table(\"analysis_counts2/Tvib_covfull.dat3\", \n",
    "                  header=F, col.names=c('depth','loci'))\n",
    "dat[,1] <- as.factor(dat[,1])\n",
    "Tvib_covfull_Lme <- with(dat, tapply(loci, depth, mean))"
   ]
  },
  {
   "cell_type": "markdown",
   "metadata": {},
   "source": [
    "### Plots"
   ]
  },
  {
   "cell_type": "code",
   "execution_count": 59,
   "metadata": {
    "collapsed": false
   },
   "outputs": [
    {
     "data": {
      "image/png": "[encoded data removed]"
     },
     "metadata": {},
     "output_type": "display_data"
    }
   ],
   "source": [
    "%%R -w 400 -h 400\n",
    "\n",
    "#svg(\"box1.svg\", width=4, height=5)\n",
    "\n",
    "L = Tbal_droprad_Lme\n",
    "plot(L, xlim=c(0,6), ylim=c(575,1025), \n",
    "     cex.axis=1.25, type='n', xaxt=\"n\")\n",
    "#abline(h=1000, lwd=2, col=\"#6E6E6E\", lty=\"dotted\")\n",
    "\n",
    "L = Tbal_covfull_Lme\n",
    "df1 = data.frame(as.numeric(names(L)),as.numeric(L))\n",
    "lines(df1, type='l', lwd=2, lty=2)\n",
    "points(df1, cex=2.5, pch=21, col=\"#262626\", bg=\"#262626\", lwd=0.75)\n",
    "\n",
    "L = Tbal_droprad_Lme\n",
    "df1 = data.frame(as.numeric(names(L)),as.numeric(L))\n",
    "lines(df1, type='l', lwd=2, lty=2)\n",
    "points(df1, cex=2.5, pch=21, col=\"#6E6E6E\", bg=\"#6E6E6E\", lwd=0.75)\n",
    "\n",
    "#L = Tbal_dropddrad_Lme \n",
    "#df1 = data.frame(as.numeric(names(L)),as.numeric(L))\n",
    "#points(df1, cex=3.5, pch=21, col=\"#6E6E6E\", bg=\"#D3D3D3\", lwd=0.75)\n",
    "\n",
    "box()\n",
    "\n",
    "axis(side=1, at=seq(0,6,0.5), \n",
    "     labels=as.character(seq(6,0,by=-0.5)), cex.axis=1.25)\n",
    "\n",
    "#dev.off()"
   ]
  },
  {
   "cell_type": "code",
   "execution_count": 60,
   "metadata": {
    "collapsed": false
   },
   "outputs": [
    {
     "data": {
      "image/png": "[encoded data removed]"
     },
     "metadata": {},
     "output_type": "display_data"
    }
   ],
   "source": [
    "%%R -w 400 -h 400\n",
    "\n",
    "#svg(\"box2.svg\", width=4, height=5)\n",
    "\n",
    "L = Tbal_covlow_Lme\n",
    "plot(L, xlim=c(0,6), ylim=c(575,1025), \n",
    "     cex.axis=1.25, type='n', xaxt=\"n\")\n",
    "abline(h=1000, lwd=2, col=\"#6E6E6E\", lty=\"dotted\")\n",
    "\n",
    "L = Tbal_covfull_Lme\n",
    "df1 = data.frame(as.numeric(names(L)),as.numeric(L))\n",
    "lines(df1, type='l', lwd=2, lty=2)\n",
    "points(df1, cex=2.5, pch=21, col=\"#262626\", bg=\"#262626\", lwd=0.75)\n",
    "\n",
    "L = Tbal_covmed_Lme \n",
    "df1 = data.frame(as.numeric(names(L)),as.numeric(L))\n",
    "lines(df1, type='l', lwd=2, lty=2)\n",
    "points(df1, cex=2.5, pch=21, col=\"#262626\", bg=\"#6E6E6E\", lwd=0.75)\n",
    "\n",
    "\n",
    "#L = Tbal_covlow_Lme\n",
    "#df1 = data.frame(as.numeric(names(L)),as.numeric(L))\n",
    "#points(df1, cex=3.5, pch=21, col=\"#262626\", bg=\"#D3D3D3\", lwd=0.75)\n",
    "\n",
    "box()\n",
    "\n",
    "axis(side=1, at=seq(0,6,0.5), \n",
    "     labels=as.character(seq(6,0,by=-0.5)), cex.axis=1.25)\n",
    "\n",
    "#dev.off()"
   ]
  },
  {
   "cell_type": "code",
   "execution_count": 61,
   "metadata": {
    "collapsed": false
   },
   "outputs": [
    {
     "data": {
      "image/png": "[encoded data removed]"
     },
     "metadata": {},
     "output_type": "display_data"
    }
   ],
   "source": [
    "%%R -w 400 -h 400\n",
    "\n",
    "#svg(\"box3.svg\", width=4, height=5)\n",
    "\n",
    "## samples every 6th to make plot more readable\n",
    "\n",
    "L = Timb_droprad_Lme[c(3:62)]\n",
    "plot(L, xlim=c(0,6), ylim=c(575, 1025), \n",
    "     cex.axis=1.25, type='n', xaxt=\"n\")#, yaxt=\"n\")\n",
    "#abline(h=1000, lwd=2, col=\"#6E6E6E\", lty=\"dotted\")\n",
    "\n",
    "L = Timb_covfull_Lme[seq(3, 65, 6)]\n",
    "df1 = data.frame(as.numeric(names(L)),as.numeric(L))\n",
    "lines(df1, type='l', lwd=2, lty=2)\n",
    "points(df1, cex=2.5, pch=21, col=\"#262626\", bg=\"#262626\", lwd=0.75)\n",
    "\n",
    "L = Timb_droprad_Lme[seq(3, 65, 6)]\n",
    "df1 = data.frame(as.numeric(names(L)),as.numeric(L))\n",
    "lines(df1, type='l', lwd=2, lty=2)\n",
    "points(df1, cex=2.5, pch=21, col=\"#262626\", bg=\"#6E6E6E\", lwd=0.75)\n",
    "\n",
    "box()\n",
    "\n",
    "axis(side=1, at=seq(0,6, 0.5), \n",
    "     labels=as.character(seq(6,0,by=-0.5)), cex.axis=1.25)\n",
    "\n",
    "#dev.off()"
   ]
  },
  {
   "cell_type": "code",
   "execution_count": 62,
   "metadata": {
    "collapsed": false
   },
   "outputs": [
    {
     "data": {
      "image/png": "[encoded data removed]"
     },
     "metadata": {},
     "output_type": "display_data"
    }
   ],
   "source": [
    "%%R -w 400 -h 400\n",
    "\n",
    "## samples every 6th to make plot more readable\n",
    "\n",
    "#svg(\"box4.svg\", width=4, height=5)\n",
    "L = Timb_droprad_Lme[c(3:62)]\n",
    "plot(L, xlim=c(0,6), ylim=c(575, 1025), \n",
    "     cex.axis=1.25, type='n', xaxt=\"n\")#, yaxt=\"n\")\n",
    "#abline(h=1000, lwd=2, col=\"#6E6E6E\", lty=\"dotted\")\n",
    "\n",
    "L = Timb_covfull_Lme[seq(3, 65, 6)]\n",
    "df1 = data.frame(as.numeric(names(L)),as.numeric(L))\n",
    "lines(df1, type='l', lwd=2, lty=2)\n",
    "points(df1, cex=2.5, pch=21, col=\"#262626\", bg=\"#262626\", lwd=0.75)\n",
    "\n",
    "L = Timb_covmed_Lme[seq(3, 65, 6)]\n",
    "df1 = data.frame(as.numeric(names(L)),as.numeric(L))\n",
    "lines(df1, type='l', lwd=2, lty=2)\n",
    "points(df1, cex=2.5, pch=21, col=\"#262626\", bg=\"#6E6E6E\", lwd=0.75)\n",
    "\n",
    "box()\n",
    "\n",
    "axis(side=1, at=seq(0,6, 0.5), \n",
    "     labels=as.character(seq(6,0,by=-0.5)), cex.axis=1.25)\n",
    "#dev.off()"
   ]
  },
  {
   "cell_type": "code",
   "execution_count": 63,
   "metadata": {
    "collapsed": false
   },
   "outputs": [
    {
     "data": {
      "image/png": "[encoded data removed]"
     },
     "metadata": {},
     "output_type": "display_data"
    }
   ],
   "source": [
    "%%R -w 400 -h 500\n",
    "\n",
    "#svg(\"Sourcemissing.svg\", height=10, width=8)\n",
    "#svg(\"Sourcemissing.svg\", height=7, width=5.33)\n",
    "\n",
    "mat2 = matrix(c(1,1,1,4,4,4,7,7,7,  \n",
    "                1,1,1,4,4,4,7,7,7,\n",
    "                2,2,2,5,5,5,8,8,8,\n",
    "                3,3,3,6,6,6,9,9,9),\n",
    "                4,9, byrow=TRUE)\n",
    "layout(mat2)\n",
    "par(mar=c(1,1,0,1), \n",
    "    oma=c(2,2,1,0))\n",
    "\n",
    "#########################################################\n",
    "tre <- read.tree(\"Tbal.tre\")\n",
    "plot(tre, show.tip.label=F,\n",
    "     edge.width=2.5, type='p', \n",
    "     x.lim=c(0,6))\n",
    "\n",
    "####  \n",
    "L = Tbal_droprad_Lme\n",
    "plot(L, xlim=c(0,6), ylim=c(-25,1200), \n",
    "     cex.axis=1.25, type='n', xaxt=\"n\")\n",
    "abline(h=1000, lwd=2, col=\"#6E6E6E\", lty=\"dotted\")\n",
    "\n",
    "L = Tbal_covfull_Lme\n",
    "df1 = data.frame(as.numeric(names(L)),as.numeric(L))\n",
    "points(df1, cex=1.5, pch=21, col=\"#262626\", bg=\"#262626\", lwd=0.75)\n",
    "\n",
    "L = Tbal_droprad_Lme\n",
    "df1 = data.frame(as.numeric(names(L)),as.numeric(L))\n",
    "points(df1, cex=1.5, pch=21, col=\"#262626\", bg=\"#6E6E6E\", lwd=0.75)\n",
    "\n",
    "L = Tbal_dropddrad_Lme \n",
    "df1 = data.frame(as.numeric(names(L)),as.numeric(L))\n",
    "points(df1, cex=1.5, pch=21, col=\"#262626\", bg=\"#D3D3D3\", lwd=0.75)\n",
    "\n",
    "box()\n",
    "\n",
    "####\n",
    "L = Tbal_covlow_Lme\n",
    "plot(L, xlim=c(0,6), ylim=c(-25,1200), \n",
    "     cex.axis=1.25, type='n', xaxt=\"n\")\n",
    "abline(h=1000, lwd=2, col=\"#6E6E6E\", lty=\"dotted\")\n",
    "\n",
    "L = Tbal_covfull_Lme\n",
    "df1 = data.frame(as.numeric(names(L)),as.numeric(L))\n",
    "points(df1, cex=1.5, pch=21, col=\"#262626\", bg=\"#262626\", lwd=0.75)\n",
    "\n",
    "L = Tbal_covmed_Lme \n",
    "df1 = data.frame(as.numeric(names(L)),as.numeric(L))\n",
    "points(df1, cex=1.5, pch=21, col=\"#262626\", bg=\"#6E6E6E\", lwd=0.75)\n",
    "\n",
    "L = Tbal_covlow_Lme\n",
    "df1 = data.frame(as.numeric(names(L)),as.numeric(L))\n",
    "points(df1, cex=1.5, pch=21, col=\"#262626\", bg=\"#D3D3D3\", lwd=0.75)\n",
    "\n",
    "axis(side=1, at=seq(0,6,0.5), \n",
    "     labels=as.character(seq(6,0,by=-0.5)), cex.axis=1.25)\n",
    "\n",
    "box()\n",
    "\n",
    "##########################################################\n",
    "tre <- read.tree(\"Timb.tre\")\n",
    "plot(tre, show.tip.label=F,\n",
    "     edge.width=2.5, type='p', \n",
    "     x.lim=c(0,6))\n",
    "\n",
    "####\n",
    "L = Timb_droprad_Lme[c(3:62)]\n",
    "plot(L, xlim=c(0,6), ylim=c(-25,1200), \n",
    "     cex.axis=1.25, type='n', xaxt=\"n\", yaxt=\"n\")\n",
    "abline(h=1000, lwd=2, col=\"#6E6E6E\", lty=\"dotted\")\n",
    "\n",
    "L = Timb_covfull_Lme[c(3:62)]\n",
    "df1 = data.frame(as.numeric(names(L)),as.numeric(L))\n",
    "points(df1, cex=1.5, pch=21, col=\"#262626\", bg=\"#262626\", lwd=0.75)\n",
    "\n",
    "L = Timb_droprad_Lme[c(3:62)]\n",
    "df1 = data.frame(as.numeric(names(L)),as.numeric(L))\n",
    "points(df1, cex=1.5, pch=21, col=\"#262626\", bg=\"#6E6E6E\", lwd=0.75)\n",
    "\n",
    "L = Timb_dropddrad_Lme[c(3:62)]\n",
    "df1 = data.frame(as.numeric(names(L)),as.numeric(L))\n",
    "points(df1, cex=1.5, pch=21, col=\"#262626\", bg=\"#D3D3D3\", lwd=0.75)\n",
    "\n",
    "box()\n",
    "\n",
    "####\n",
    "L = Timb_covlow_Lme[c(3:62)] \n",
    "plot(L, xlim=c(0,6), ylim=c(-25,1200), \n",
    "     cex.axis=1.25, type='n', xaxt=\"n\", yaxt=\"n\")\n",
    "abline(h=1000, lwd=2, col=\"#6E6E6E\", lty=\"dotted\")\n",
    "\n",
    "L = Timb_covfull_Lme[c(3:62)]\n",
    "df1 = data.frame(as.numeric(names(L)),as.numeric(L))\n",
    "points(df1, cex=1.5, pch=21, col=\"#262626\", bg=\"#262626\", lwd=0.75)\n",
    "\n",
    "L = Timb_covmed_Lme[c(3:62)]\n",
    "df1 = data.frame(as.numeric(names(L)),as.numeric(L))\n",
    "points(df1, cex=1.5, pch=21, col=\"#262626\", bg=\"#6E6E6E\", lwd=0.75)\n",
    "\n",
    "L = Timb_covlow_Lme[c(3:62)] \n",
    "df1 = data.frame(as.numeric(names(L)),as.numeric(L))\n",
    "points(df1, cex=1.5, pch=21, col=\"#262626\", bg=\"#D3D3D3\", lwd=0.75)\n",
    "\n",
    "box()\n",
    "\n",
    "##\n",
    "axis(side=1, at=seq(0,6,0.5), \n",
    "     labels=as.character(seq(6,0,by=-0.5)), cex.axis=1.25)\n",
    "\n",
    "#########################################################\n",
    "tre <- read.tree(\"Tvib.tre\")\n",
    "plot(tre, show.tip.label=F,\n",
    "     edge.width=2.5, type='p', \n",
    "     x.lim=c(0,6))\n",
    "\n",
    "####\n",
    "L = Tvib_droprad_Lme\n",
    "plot(L, xlim=c(0,6.25), ylim=c(-25,1200), \n",
    "     cex.axis=1.25, type='n', xaxt=\"n\", yaxt=\"n\")\n",
    "abline(h=1000, lwd=2, col=\"#6E6E6E\", lty=\"dotted\")\n",
    "\n",
    "L = Tvib_covfull_Lme \n",
    "df1 = data.frame(as.numeric(names(L)),as.numeric(L))\n",
    "points(df1, cex=1.5, pch=21, col=\"#262626\", bg=\"#262626\", lwd=0.75)\n",
    "\n",
    "L = Tvib_droprad_Lme\n",
    "df1 = data.frame(as.numeric(names(L)),as.numeric(L))\n",
    "points(df1, cex=1.5, pch=21, col=\"#262626\", bg=\"#6E6E6E\", lwd=0.75)\n",
    "\n",
    "L = Tvib_dropddrad_Lme \n",
    "df1 = data.frame(as.numeric(names(L)),as.numeric(L))\n",
    "points(df1, cex=1.5, pch=21, col=\"#262626\", bg=\"#D3D3D3\", lwd=0.75)\n",
    "\n",
    "box()\n",
    "####\n",
    "\n",
    "plot(L, xlim=c(0,6.25), ylim=c(-25,1200), \n",
    "     cex.axis=1.25, type='n', xaxt=\"n\", yaxt=\"n\")\n",
    "abline(h=1000, lwd=2, col=\"#6E6E6E\", lty=\"dotted\")\n",
    "\n",
    "L = Tvib_covfull_Lme \n",
    "df1 = data.frame(as.numeric(names(L)),as.numeric(L))\n",
    "points(df1, cex=1.5, pch=21, col=\"#262626\", bg=\"#262626\", lwd=0.75)\n",
    "\n",
    "L = Tvib_covmed_Lme \n",
    "df1 = data.frame(as.numeric(names(L)),as.numeric(L))\n",
    "points(df1, cex=1.5, pch=21, col=\"#262626\", bg=\"#6E6E6E\", lwd=0.75)\n",
    "\n",
    "L = Tvib_covlow_Lme\n",
    "df1 = data.frame(as.numeric(names(L)),as.numeric(L))\n",
    "points(df1, cex=1.5, pch=21, col=\"#262626\", bg=\"#D3D3D3\", lwd=0.75)\n",
    "\n",
    "box()\n",
    "##\n",
    "axis(side=1, at=seq(0,6,1), \n",
    "     labels=as.character(seq(6,0,by=-1)), cex.axis=1.25)\n",
    "\n",
    "#dev.off()"
   ]
  },
  {
   "cell_type": "markdown",
   "metadata": {},
   "source": [
    "## Empirical data (full & half depth)\n",
    "Here I am grabbing the assembled empirical data from notebook_1 (Viburnum) to compare the effect of sequencing coverage with the results we see when simulating data on that tree. "
   ]
  },
  {
   "cell_type": "code",
   "execution_count": 64,
   "metadata": {
    "collapsed": false
   },
   "outputs": [],
   "source": [
    "Tvib2 = Tvib.copy()\n",
    "for node in Tvib2:\n",
    "    node.name = node.name+\"_0\""
   ]
  },
  {
   "cell_type": "code",
   "execution_count": 70,
   "metadata": {
    "collapsed": false
   },
   "outputs": [
    {
     "ename": "ValueError",
     "evalue": "'acutifolium_DRY3_MEX' is not in list",
     "output_type": "error",
     "traceback": [
      "\u001b[0;31m---------------------------------------------------------------------------\u001b[0m",
      "\u001b[0;31mValueError\u001b[0m                                Traceback (most recent call last)",
      "\u001b[0;32m<ipython-input-70-59562b793f2b>\u001b[0m in \u001b[0;36m<module>\u001b[0;34m()\u001b[0m\n\u001b[1;32m      1\u001b[0m \u001b[0;31m## full size data\u001b[0m\u001b[0;34m\u001b[0m\u001b[0;34m\u001b[0m\u001b[0m\n\u001b[1;32m      2\u001b[0m \u001b[0;31m#lxs_EmpVib_full = getarray(\"/home/deren/Dropbox/RADexplore/EmpVib/vib_full_64tip_c85d6m4p99.loci\", Tvib)#, dropind=1)\u001b[0m\u001b[0;34m\u001b[0m\u001b[0;34m\u001b[0m\u001b[0m\n\u001b[0;32m----> 3\u001b[0;31m \u001b[0mlxs_EmpVib_half\u001b[0m \u001b[0;34m=\u001b[0m \u001b[0mgetarray\u001b[0m\u001b[0;34m(\u001b[0m\u001b[0;34m\"/home/deren/Dropbox/RADexplore/EmpVib/vib_half_64tip_c85d6m4p99.loci\"\u001b[0m\u001b[0;34m,\u001b[0m \u001b[0mTvib\u001b[0m\u001b[0;34m)\u001b[0m\u001b[0;31m#, dropind=1)\u001b[0m\u001b[0;34m\u001b[0m\u001b[0m\n\u001b[0m",
      "\u001b[0;32m<ipython-input-30-282cdcd80fbf>\u001b[0m in \u001b[0;36mgetarray\u001b[0;34m(locifile, tree)\u001b[0m\n\u001b[1;32m     15\u001b[0m         \u001b[0;32mfor\u001b[0m \u001b[0mseq\u001b[0m \u001b[0;32min\u001b[0m \u001b[0mloci\u001b[0m\u001b[0;34m[\u001b[0m\u001b[0mloc\u001b[0m\u001b[0;34m]\u001b[0m\u001b[0;34m.\u001b[0m\u001b[0msplit\u001b[0m\u001b[0;34m(\u001b[0m\u001b[0;34m\"\\n\"\u001b[0m\u001b[0;34m)\u001b[0m\u001b[0;34m:\u001b[0m\u001b[0;34m\u001b[0m\u001b[0m\n\u001b[1;32m     16\u001b[0m             \u001b[0;32mif\u001b[0m \u001b[0;34m\">\"\u001b[0m \u001b[0;32min\u001b[0m \u001b[0mseq\u001b[0m\u001b[0;34m:\u001b[0m\u001b[0;34m\u001b[0m\u001b[0m\n\u001b[0;32m---> 17\u001b[0;31m                 \u001b[0mlxs\u001b[0m\u001b[0;34m[\u001b[0m\u001b[0mnames\u001b[0m\u001b[0;34m.\u001b[0m\u001b[0mindex\u001b[0m\u001b[0;34m(\u001b[0m\u001b[0mseq\u001b[0m\u001b[0;34m.\u001b[0m\u001b[0msplit\u001b[0m\u001b[0;34m(\u001b[0m\u001b[0;34m)\u001b[0m\u001b[0;34m[\u001b[0m\u001b[0;36m0\u001b[0m\u001b[0;34m]\u001b[0m\u001b[0;34m[\u001b[0m\u001b[0;36m1\u001b[0m\u001b[0;34m:\u001b[0m\u001b[0;34m]\u001b[0m\u001b[0;34m.\u001b[0m\u001b[0mrsplit\u001b[0m\u001b[0;34m(\u001b[0m\u001b[0;34m\"_\"\u001b[0m\u001b[0;34m,\u001b[0m \u001b[0;36m1\u001b[0m\u001b[0;34m)\u001b[0m\u001b[0;34m[\u001b[0m\u001b[0;36m0\u001b[0m\u001b[0;34m]\u001b[0m\u001b[0;34m)\u001b[0m\u001b[0;34m,\u001b[0m\u001b[0mloc\u001b[0m\u001b[0;34m]\u001b[0m \u001b[0;34m+=\u001b[0m \u001b[0;36m1\u001b[0m\u001b[0;34m\u001b[0m\u001b[0m\n\u001b[0m\u001b[1;32m     18\u001b[0m     \u001b[0;32mreturn\u001b[0m \u001b[0mlxs\u001b[0m\u001b[0;34m\u001b[0m\u001b[0m\n",
      "\u001b[0;31mValueError\u001b[0m: 'acutifolium_DRY3_MEX' is not in list"
     ]
    }
   ],
   "source": [
    "## full size data\n",
    "lxs_EmpVib_full = getarray(\"/home/deren/Dropbox/RADexplore/EmpVib/vib_full_64tip_c85d6m4p99.loci\", Tvib)#, dropind=1)\n",
    "lxs_EmpVib_half = getarray(\"/home/deren/Dropbox/RADexplore/EmpVib/vib_half_64tip_c85d6m4p99.loci\", Tvib)#, dropind=1)"
   ]
  },
  {
   "cell_type": "code",
   "execution_count": null,
   "metadata": {
    "collapsed": false
   },
   "outputs": [],
   "source": [
    "share_full = countmatrix(lxs_EmpVib_full,lxs_EmpVib_full)\n",
    "plotSVGmatrix(share_full, \"EmpVib_full\")"
   ]
  },
  {
   "cell_type": "code",
   "execution_count": null,
   "metadata": {
    "collapsed": false
   },
   "outputs": [],
   "source": [
    "share_half = countmatrix(lxs_EmpVib_half,lxs_EmpVib_half)\n",
    "plotSVGmatrix(share_half, \"EmpVib_half\")"
   ]
  },
  {
   "cell_type": "code",
   "execution_count": null,
   "metadata": {
    "collapsed": false
   },
   "outputs": [],
   "source": [
    "nodes_dat(Tvib, lxs_EmpVib_half, \n",
    "          \"analysis_counts/Tvib_Emp_half.dat3\")\n",
    "nodes_dat(Tvib, lxs_EmpVib_full, \n",
    "          \"analysis_counts/Tvib_Emp_full.dat3\")"
   ]
  },
  {
   "cell_type": "code",
   "execution_count": null,
   "metadata": {
    "collapsed": true
   },
   "outputs": [],
   "source": [
    "%%R\n",
    "## read in the data and factor results\n",
    "dat <- read.table(\"analysis_counts/Tvib_Emp_full.dat3\", \n",
    "                  header=F, col.names=c('depth','loci'))\n",
    "dat[,1] <- as.factor(dat[,1])\n",
    "EmpVib_full_Lme <- with(dat, tapply(loci, depth, mean))\n",
    "\n",
    "## read in the data and factor results\n",
    "dat <- read.table(\"analysis_counts/Tvib_Emp_half.dat3\", \n",
    "                  header=F, col.names=c('depth','loci'))\n",
    "dat[,1] <- as.factor(dat[,1])\n",
    "EmpVib_half_Lme <- with(dat, tapply(loci, depth, mean))"
   ]
  },
  {
   "cell_type": "code",
   "execution_count": null,
   "metadata": {
    "collapsed": false
   },
   "outputs": [],
   "source": [
    "%%R\n",
    "EmpVib_half_Lme"
   ]
  },
  {
   "cell_type": "code",
   "execution_count": null,
   "metadata": {
    "collapsed": false
   },
   "outputs": [],
   "source": [
    "%%R -w 200 -h 400\n",
    "\n",
    "#svg(\"EmpVib_fullvhalf3.svg\", height=6, width=2.5)\n",
    "\n",
    "mat2 <- matrix(c(1,1,1,2),byrow=TRUE)\n",
    "layout(mat2)\n",
    "par(mar=c(1,1,0,1), \n",
    "    oma=c(2,2,1,0))\n",
    "\n",
    "#########################################################\n",
    "#tre <- read.tree(\"Tvib.tre\")\n",
    "#plot(tre, show.tip.label=F,\n",
    "#     edge.width=2.5, type='p', \n",
    "#     x.lim=c(0,2.25))\n",
    "Vtre <- read.tree(\"analysis_counts/EmpVib_full.dat3.tre\")\n",
    "plot(Vtre, cex=0.6, adj=0.05, x.lim=c(0,2.25),\n",
    "     edge.width=2.5, type='p',show.tip.label=FALSE)\n",
    "nodelabels(pch=20, col=\"black\",\n",
    "           cex=as.integer(Vtre$node.label)/7500)\n",
    "\n",
    "####\n",
    "L = EmpVib_half_Lme\n",
    "plot(L, xlim=c(0,2.25), ylim=c(-25,50200), \n",
    "     cex.axis=1.25, type='n', xaxt=\"n\")\n",
    "df1 = data.frame(as.numeric(names(L)),\n",
    "                 as.numeric(L))\n",
    "points(df1, cex=1.25, pch=21, col=\"red\", bg=\"red\")\n",
    "\n",
    "####\n",
    "L = EmpVib_full_Lme\n",
    "#plot(L, xlim=c(0,2.25), ylim=c(-25,50200), \n",
    "#     cex.axis=1.25, type='n', xaxt=\"n\")\n",
    "abline(h=0, lwd=2, col=\"gray\", lty=\"dotted\")\n",
    "df1 = data.frame(as.numeric(names(L)),\n",
    "                 as.numeric(L))\n",
    "points(df1, cex=1.25, pch=21, col=\"#262626\", bg=\"#262626\")\n",
    "\n",
    "#dev.off()"
   ]
  },
  {
   "cell_type": "code",
   "execution_count": null,
   "metadata": {
    "collapsed": false
   },
   "outputs": [],
   "source": [
    "%%R -w 200 -h 400\n",
    "\n",
    "#svg(\"fullvhalf3.svg\", height=4.5, width=4)\n",
    "\n",
    "####\n",
    "L = EmpVib_full_Lme\n",
    "plot(L, xlim=c(0,2.25), ylim=c(-25,50200), \n",
    "     cex.axis=1.25, type='n', xaxt=\"n\")\n",
    "abline(h=0, lwd=2, col=\"gray\", lty=\"dotted\")\n",
    "df1 = data.frame(as.numeric(names(L)),\n",
    "                 as.numeric(L))\n",
    "points(df1, cex=1.25, pch=21, col=\"#262626\", bg=\"#262626\")\n",
    "\n",
    "\n",
    "dev.off()\n",
    "\n",
    "svg(\"fullonly.svg\", height=4.5, width=4)\n",
    "####\n",
    "L = EmpVib_half_Lme\n",
    "plot(L, xlim=c(0,2.25), ylim=c(-25,50200), \n",
    "     cex.axis=1.25, type='n', xaxt=\"n\")\n",
    "df1 = data.frame(as.numeric(names(L)),\n",
    "                 as.numeric(L))\n",
    "points(df1, cex=1.25, pch=21, col=\"red\", bg=\"red\")\n",
    "\n",
    "####\n",
    "L = EmpVib_full_Lme\n",
    "abline(h=0, lwd=2, col=\"gray\", lty=\"dotted\")\n",
    "df1 = data.frame(as.numeric(names(L)),\n",
    "                 as.numeric(L))\n",
    "points(df1, cex=1.25, pch=21, col=\"#262626\", bg=\"#262626\")\n",
    "\n",
    "#dev.off()"
   ]
  },
  {
   "cell_type": "code",
   "execution_count": null,
   "metadata": {
    "collapsed": false
   },
   "outputs": [],
   "source": [
    "%%R\n",
    "data.frame(cbind(median(EmpVib_full_Lme),\n",
    "           median(EmpVib_half_Lme)),\n",
    "           cbind(mean(EmpVib_full_Lme),\n",
    "           mean(EmpVib_half_Lme)),\n",
    "     col.names=c(\"full\",\"half\"))"
   ]
  },
  {
   "cell_type": "code",
   "execution_count": null,
   "metadata": {
    "collapsed": false
   },
   "outputs": [],
   "source": [
    "%%R\n",
    "svg('hist.svg', width=4.25, height=4)\n",
    "hist(rnorm(10000), col=\"grey\")\n",
    "dev.off()"
   ]
  },
  {
   "cell_type": "code",
   "execution_count": null,
   "metadata": {
    "collapsed": false
   },
   "outputs": [],
   "source": [
    "%%R -w 300 -h 600\n",
    "\n",
    "Vtre <- read.tree(\"analysis_counts/EmpVib_full.dat3.tre\")\n",
    "svg(\"EmpVib_full_nodes.svg\", height=6, width=3)\n",
    "plot(Vtre, cex=0.6, adj=0.05,\n",
    "     edge.width=3, show.tip.label=FALSE)\n",
    "nodelabels(pch=20, col=\"black\",\n",
    "           cex=as.integer(Vtre$node.label)/10000)\n",
    "dev.off()"
   ]
  },
  {
   "cell_type": "code",
   "execution_count": null,
   "metadata": {
    "collapsed": true
   },
   "outputs": [],
   "source": []
  },
  {
   "cell_type": "markdown",
   "metadata": {},
   "source": [
    "### plOT"
   ]
  },
  {
   "cell_type": "code",
   "execution_count": null,
   "metadata": {
    "collapsed": false
   },
   "outputs": [],
   "source": [
    "%%R -w 300 -h 600\n",
    "\n",
    "#svg(\"locisnpsdepth.svg\", height=8, width=4)\n",
    "#pdf(\"locisnpsdepth.pdf\", height=8, width=4)\n",
    "\n",
    "mat2 <- matrix(c(1,1,1,5,5,5,\n",
    "                 1,1,1,5,5,5,\n",
    "                 2,2,2,6,6,6,\n",
    "                 3,3,3,7,7,7,\n",
    "                 4,4,4,8,8,8), \n",
    "                 5,6, byrow=TRUE)\n",
    "layout(mat2)\n",
    "par(mar=c(1,1,0,1), \n",
    "    oma=c(2,2,1,0))\n",
    "tre <- read.tree(\"Tbal.tre\")\n",
    "plot(tre, show.tip.label=F,\n",
    "     edge.width=2.5, type='p', \n",
    "     x.lim=c(-0.25,2.75))\n",
    "\n",
    "##-------------------------------\n",
    "## Plot full data locus sharing\n",
    "x = seq(1.5,5.5)\n",
    "y = Tbal_full_Lme#[1:6]\n",
    "s = Tbal_full_Lsd#[1:6]\n",
    "plot(x, y, xlim=c(1,7.2), ylim=c(-25,3100), \n",
    "     cex.axis=1.25, type='n', xaxt=\"n\")\n",
    "abline(h=(seq(0,1000,200)), lwd=1.5, col=\"gray\", lty=\"dotted\")\n",
    "points(x,y, cex=1.25, pch=21, col=\"#262626\", bg=\"#262626\")\n",
    "lines(x,y, lwd=2, col=\"#262626\")\n",
    "segments(x, y-s, x, y+s, col=\"#262626\")\n",
    "epsilon = 0.02\n",
    "segments(x-epsilon,y-s,x+epsilon,y-s)\n",
    "segments(x-epsilon,y+s,x+epsilon,y+s)\n",
    "\n",
    "x = seq(1.5,5.5)\n",
    "y = Tbal_full_Sme#[2:6]\n",
    "s = Tbal_full_Ssd#[2:6]\n",
    "lines(x, y, lwd=2, col=\"darkgrey\")\n",
    "points(x, y, cex=1.25, pch=21, col=\"darkgrey\", bg=\"darkgrey\")\n",
    "segments(x, y-s, x, y+s, col=\"darkgrey\")\n",
    "epsilon = 0.02\n",
    "segments(x-epsilon,y-s,x+epsilon,y-s)\n",
    "segments(x-epsilon,y+s,x+epsilon,y+s)\n",
    "\n",
    "##--------------------------------\n",
    "## Plot drop data locus sharing\n",
    "x = seq(1.5,5.5)\n",
    "y = Tbal_drop_Lme\n",
    "s = Tbal_drop_Lsd\n",
    "plot(x, y, xlim=c(1,7.2), ylim=c(-25,3100), \n",
    "     cex.axis=1.25, type='n', xaxt=\"n\")\n",
    "abline(h=(seq(0,1000,200)), lwd=1.5, col=\"gray\", lty=\"dotted\")\n",
    "points(x,y, cex=1.25, pch=21, col=\"#262626\", bg=\"#262626\")\n",
    "lines(x,y, lwd=2, col=\"#262626\")\n",
    "segments(x, y-s, x, y+s, col=\"#262626\")\n",
    "epsilon = 0.02\n",
    "segments(x-epsilon,y-s,x+epsilon,y-s)\n",
    "segments(x-epsilon,y+s,x+epsilon,y+s)\n",
    "\n",
    "x = seq(1.5,5.5)\n",
    "y = Tbal_drop_Sme\n",
    "s = Tbal_drop_Ssd\n",
    "lines(x, y, lwd=2, col=\"darkgrey\")\n",
    "points(x, y, cex=1.25, pch=21, col=\"darkgrey\", bg=\"darkgrey\")\n",
    "segments(x, y-s, x, y+s, col=\"darkgrey\")\n",
    "epsilon = 0.02\n",
    "segments(x-epsilon,y-s,x+epsilon,y-s)\n",
    "segments(x-epsilon,y+s,x+epsilon,y+s)\n",
    "\n",
    "##------------------------------\n",
    "## Plot cov data locus sharing\n",
    "x = seq(1.5,5.5)\n",
    "y = Tbal_cov_Lme\n",
    "s = Tbal_cov_Lsd\n",
    "plot(x, y, xlim=c(1,7.2), ylim=c(-25,3100), \n",
    "     cex.axis=1.25, type='n', xaxt=\"n\")\n",
    "abline(h=(seq(0,1000,200)), lwd=1.5, col=\"gray\", lty=\"dotted\")\n",
    "points(x,y, cex=1.25, pch=21, col=\"#262626\", bg=\"#262626\")\n",
    "lines(x,y, lwd=2, col=\"#262626\")\n",
    "segments(x, y-s, x, y+s, col=\"#262626\")\n",
    "epsilon = 0.02\n",
    "segments(x-epsilon,y-s,x+epsilon,y-s)\n",
    "segments(x-epsilon,y+s,x+epsilon,y+s)\n",
    "\n",
    "x = seq(1.5,5.5)\n",
    "y = Tbal_cov_Sme\n",
    "s = Tbal_cov_Ssd\n",
    "lines(x, y, lwd=2, col=\"darkgrey\")\n",
    "points(x, y, cex=1.25, pch=21, col=\"darkgrey\", bg=\"darkgrey\")\n",
    "segments(x, y-s, x, y+s, col=\"darkgrey\")\n",
    "epsilon = 0.02\n",
    "segments(x-epsilon,y-s,x+epsilon,y-s)\n",
    "segments(x-epsilon,y+s,x+epsilon,y+s)\n",
    "axis(side=1, at=seq(1.1,8.1,1), \n",
    "     labels=as.character(seq(3,-0.5,by=-0.5)), cex.axis=1.25)\n",
    "\n",
    "###########################################\n",
    "###########################################\n",
    "tre <- read.tree(\"Timb.tre\")\n",
    "plot(tre, show.tip.label=F, \n",
    "     edge.width=2, type='p')\n",
    "##------------------------------------\n",
    "## Plot full data locus sharing\n",
    "x = seq(2,62)\n",
    "y = Timb_full_Lme[2:62]\n",
    "s = Timb_full_Lsd[2:62]\n",
    "plot(x, y, xlim=c(1,65), ylim=c(-25,3100), \n",
    "     cex.axis=1.25, type='n', yaxt=\"n\", xaxt=\"n\")\n",
    "abline(h=(seq(0,1000,200)), lwd=1.5, col=\"gray\", lty=\"dotted\")\n",
    "points(x,y, cex=1, pch=21, col=\"#262626\", bg=\"#262626\")\n",
    "lines(x,y, lwd=2, col=\"#262626\")\n",
    "segments(x, y-s, x, y+s, col=\"#262626\")\n",
    "epsilon = 0.02\n",
    "segments(x-epsilon,y-s,x+epsilon,y-s)\n",
    "segments(x-epsilon,y+s,x+epsilon,y+s)\n",
    "\n",
    "y = Timb_full_Sme[2:62]\n",
    "s = Timb_full_Ssd[2:62]\n",
    "lines(x, y, lwd=2, col=\"darkgrey\")\n",
    "#points(x, y, cex=1, pch=21, col=\"darkgrey\", bg=\"darkgrey\")\n",
    "segments(x, y-s, x, y+s, col=\"darkgrey\")\n",
    "epsilon = 0.02\n",
    "segments(x-epsilon,y-s,x+epsilon,y-s)\n",
    "segments(x-epsilon,y+s,x+epsilon,y+s)\n",
    "\n",
    "##----------------------------------\n",
    "## Plot full data locus sharing\n",
    "x = seq(2,62)\n",
    "y = Timb_drop_Lme[2:62]\n",
    "s = Timb_drop_Lsd[2:62]\n",
    "plot(x, y, xlim=c(1,65), ylim=c(-25,3100), \n",
    "     cex.axis=1.25, type='n', yaxt=\"n\", xaxt=\"n\")\n",
    "abline(h=(seq(0,1000,200)), lwd=1.5, col=\"gray\", lty=\"dotted\")\n",
    "points(x,y, cex=1, pch=21, col=\"#262626\", bg=\"#262626\")\n",
    "lines(x,y, lwd=2, col=\"#262626\")\n",
    "segments(x, y-s, x, y+s, col=\"#262626\")\n",
    "epsilon = 0.02\n",
    "segments(x-epsilon,y-s,x+epsilon,y-s)\n",
    "segments(x-epsilon,y+s,x+epsilon,y+s)\n",
    "\n",
    "y = Timb_drop_Sme[2:62]\n",
    "s = Timb_drop_Ssd[2:62]\n",
    "lines(x, y, lwd=2, col=\"darkgrey\")\n",
    "#points(x, y, cex=1, pch=21, col=\"darkgrey\", bg=\"darkgrey\")\n",
    "segments(x, y-s, x, y+s)\n",
    "epsilon = 0.02\n",
    "segments(x-epsilon,y-s,x+epsilon,y-s)\n",
    "segments(x-epsilon,y+s,x+epsilon,y+s)\n",
    "\n",
    "##-----------------------------------\n",
    "## Plot drop data locus sharing\n",
    "x = seq(2,62)\n",
    "y = Timb_cov_Lme[2:62]\n",
    "s = Timb_cov_Lsd[2:62]\n",
    "plot(x, y,\n",
    "     xlim=c(1,65), ylim=c(-20,3100), \n",
    "     cex=1, cex.axis=1.25,\n",
    "     pch=21, bg=\"#262626\", xaxt=\"n\", yaxt=\"n\")\n",
    "abline(h=(seq(0,1000,200)), lwd=1.5, col=\"gray\", lty=\"dotted\")\n",
    "points(x,y, cex=1, pch=21, col=\"#262626\", bg=\"#262626\")\n",
    "lines(x,y, lwd=2, col=\"#262626\")\n",
    "segments(x, y-s, x, y+s, col=\"#262626\")\n",
    "epsilon = 0.02\n",
    "segments(x-epsilon,y-s,x+epsilon,y-s)\n",
    "segments(x-epsilon,y+s,x+epsilon,y+s)\n",
    "\n",
    "y = Timb_cov_Sme[2:62]\n",
    "s = Timb_cov_Ssd[2:62]\n",
    "lines(x, y, lwd=2, col=\"darkgrey\")\n",
    "#points(x, y, cex=1, pch=21, col=\"darkgrey\", bg=\"darkgrey\")\n",
    "segments(x, y-s, x, y+s, col=\"darkgrey\")\n",
    "epsilon = 0.02\n",
    "segments(x-epsilon,y-s,x+epsilon,y-s)\n",
    "segments(x-epsilon,y+s,x+epsilon,y+s)\n",
    "axis(side=1, at=seq(2.1,72,10), \n",
    "     labels=as.character(seq(3,0,by=-0.5)), cex.axis=1.25)\n",
    "\n",
    "#dev.off()"
   ]
  },
  {
   "cell_type": "markdown",
   "metadata": {},
   "source": [
    "### PLOt nodes on tree"
   ]
  },
  {
   "cell_type": "code",
   "execution_count": null,
   "metadata": {
    "collapsed": false
   },
   "outputs": [],
   "source": [
    "lxs_EmpVib_full"
   ]
  },
  {
   "cell_type": "code",
   "execution_count": null,
   "metadata": {
    "collapsed": true
   },
   "outputs": [],
   "source": [
    "def write_nodes_to_tree(tree,lxs,treefilename):\n",
    "    for node in tree.traverse():\n",
    "        if not node.is_leaf():\n",
    "            inf = count_inf4(tree, lxs, node)\n",
    "            node.name = \"%d\" % inf\n",
    "    \n",
    "    ## print tree with bls & node labels\n",
    "    tree.write(format=3,outfile=treefilename)"
   ]
  },
  {
   "cell_type": "code",
   "execution_count": null,
   "metadata": {
    "collapsed": false
   },
   "outputs": [],
   "source": [
    "write_nodes_to_tree(Tvib, lxs_EmpVib_full, \"Tvib_full_nodes.tre\")"
   ]
  },
  {
   "cell_type": "code",
   "execution_count": null,
   "metadata": {
    "collapsed": false
   },
   "outputs": [],
   "source": [
    "%%R -w 400 -h 500\n",
    "tre <- read.tree(\"loci_Tbal_cov\")\n",
    "plot(tre)#, show.tip.label=F, edge.width=2.5)\n",
    "#nodelabels(pch=21, \n",
    "#           bg=\"#262626\",\n",
    "#           cex=as.integer(tre$node.label)/150)\n",
    "nodelabels(tre$node.label, bg='grey', cex=1.5)"
   ]
  },
  {
   "cell_type": "markdown",
   "metadata": {},
   "source": [
    "## Data sharing by sub-sampling"
   ]
  },
  {
   "cell_type": "markdown",
   "metadata": {},
   "source": [
    "How much data are shared by a random N samples, and how much data are shared across the deepest bipartition for 2+N samples. _Also how many SNPs?_"
   ]
  },
  {
   "cell_type": "code",
   "execution_count": null,
   "metadata": {
    "collapsed": false
   },
   "outputs": [],
   "source": [
    "def counts(lxs, minr, maxr, maxi):\n",
    "    ## data store\n",
    "    data = np.zeros((maxr+1-minr,maxi))\n",
    "    \n",
    "    for sample in range(minr, maxr+1):\n",
    "        g = itertools.combinations(range(maxr), sample)\n",
    "        i = 0\n",
    "        while i<maxi:\n",
    "            try: \n",
    "                gsamp = g.next()\n",
    "            except StopIteration:\n",
    "                break\n",
    "            shared = sum(lxs[gsamp,:].sum(axis=0) == len(gsamp))\n",
    "            data[sample-minr,i] = shared\n",
    "            i += 1\n",
    "    return data"
   ]
  },
  {
   "cell_type": "code",
   "execution_count": null,
   "metadata": {
    "collapsed": false
   },
   "outputs": [],
   "source": [
    "Dbal = counts(lxs_Tbal_drop, 4, 32, 1000)\n",
    "Dimb = counts(lxs_Timb_drop, 4, 32, 1000)"
   ]
  },
  {
   "cell_type": "code",
   "execution_count": null,
   "metadata": {
    "collapsed": false
   },
   "outputs": [],
   "source": [
    "Dbal"
   ]
  },
  {
   "cell_type": "code",
   "execution_count": null,
   "metadata": {
    "collapsed": false
   },
   "outputs": [],
   "source": [
    "def counts2(lxs, minr, maxr, maxi):\n",
    "    ## data store\n",
    "    data = np.zeros(((maxr+1-minr)*maxi, 3))\n",
    "    count = 0\n",
    "    for sample in range(minr, maxr+1):\n",
    "        g = itertools.combinations(range(maxr), sample)\n",
    "        i = 0\n",
    "        while i<maxi:\n",
    "            try: \n",
    "                gsamp = g.next()\n",
    "            except StopIteration:\n",
    "                break\n",
    "            shared = sum(lxs[gsamp,:].sum(axis=0) == len(gsamp))\n",
    "            datum = [sample, float(shared), i+1]\n",
    "            data[count] = datum\n",
    "            i += 1\n",
    "            count += 1\n",
    "    return data"
   ]
  },
  {
   "cell_type": "code",
   "execution_count": null,
   "metadata": {
    "collapsed": false
   },
   "outputs": [],
   "source": [
    "Dimb1 = counts2(lxs_Timb_full, 4, 32, 100)\n",
    "Dimb2 = counts2(lxs_Timb_drop, 4, 32, 100)\n",
    "Dimb3 = counts2(lxs_Timb_cov, 4, 32, 100)"
   ]
  },
  {
   "cell_type": "code",
   "execution_count": null,
   "metadata": {
    "collapsed": false
   },
   "outputs": [],
   "source": [
    "Dbal1 = counts2(lxs_Tbal_full, 4, 32, 100)\n",
    "Dbal2 = counts2(lxs_Tbal_drop, 4, 32, 100)\n",
    "Dbal3 = counts2(lxs_Tbal_cov, 4, 32, 100)"
   ]
  },
  {
   "cell_type": "code",
   "execution_count": null,
   "metadata": {
    "collapsed": false
   },
   "outputs": [],
   "source": [
    "def saveto(D, outname):\n",
    "    dd = pd.DataFrame({\"time\":[i[0] for i in D],\n",
    "                       \"loci\":[i[1] for i in D],\n",
    "                       \"idx\":[i[2] for i in D],\n",
    "                       \"tree\":[\"Timb\" for _ in D]})\n",
    "    dd.to_csv(outname)"
   ]
  },
  {
   "cell_type": "code",
   "execution_count": null,
   "metadata": {
    "collapsed": true
   },
   "outputs": [],
   "source": [
    "saveto(Dimb1, \"Dimb1.dat\")\n",
    "saveto(Dimb2, \"Dimb2.dat\")\n",
    "saveto(Dimb3, \"Dimb3.dat\")\n",
    "saveto(Dbal1, \"Dbal1.dat\")\n",
    "saveto(Dbal2, \"Dbal2.dat\")\n",
    "saveto(Dbal3, \"Dbal3.dat\")"
   ]
  }
 ],
 "metadata": {
  "kernelspec": {
   "display_name": "Python 2",
   "language": "python",
   "name": "python2"
  },
  "language_info": {
   "codemirror_mode": {
    "name": "ipython",
    "version": 2
   },
   "file_extension": ".py",
   "mimetype": "text/x-python",
   "name": "python",
   "nbconvert_exporter": "python",
   "pygments_lexer": "ipython2",
   "version": "2.7.12"
  }
 },
 "nbformat": 4,
 "nbformat_minor": 0
}
